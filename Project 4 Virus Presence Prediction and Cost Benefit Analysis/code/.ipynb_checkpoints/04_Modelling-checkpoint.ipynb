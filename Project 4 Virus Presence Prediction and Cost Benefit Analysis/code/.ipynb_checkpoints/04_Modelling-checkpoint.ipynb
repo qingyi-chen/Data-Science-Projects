{
 "cells": [
  {
   "cell_type": "markdown",
   "id": "0b037de6-43f3-4150-b029-ee151f618fac",
   "metadata": {},
   "source": [
    "# Project 4 - West Nile Virus Prediction\n",
    "---\n",
    "Book 1: <br>\n",
    "Book 2: <br>\n",
    "Book 3: <br>\n",
    "Book 4: <br>\n",
    "Book 5: <br>\n",
    "Author: Ian, Wan Xian, Qingyi, Clare"
   ]
  },
  {
   "cell_type": "markdown",
   "id": "c2ca53ce-72ac-4d8a-9a14-0ffd3bf437ed",
   "metadata": {},
   "source": [
    "## Python Libraries"
   ]
  },
  {
   "cell_type": "code",
   "execution_count": 1,
   "id": "ab9b3e25-863c-48d5-97d7-9628c7376659",
   "metadata": {},
   "outputs": [],
   "source": [
    "import pandas as pd\n",
    "import numpy as np\n",
    "import matplotlib.pyplot as plt\n",
    "import seaborn as sns\n",
    "\n",
    "from imblearn.over_sampling import RandomOverSampler, SMOTE\n",
    "from imblearn.under_sampling import RandomUnderSampler\n",
    "from imblearn.pipeline import Pipeline\n",
    "\n",
    "from sklearn.preprocessing import StandardScaler\n",
    "from sklearn.compose import ColumnTransformer\n",
    "from sklearn.ensemble import RandomForestClassifier, GradientBoostingClassifier\n",
    "from sklearn.neighbors import KNeighborsClassifier\n",
    "from sklearn.naive_bayes import GaussianNB\n",
    "from sklearn.model_selection import train_test_split, GridSearchCV\n",
    "from sklearn.metrics import confusion_matrix, ConfusionMatrixDisplay, classification_report, roc_auc_score, RocCurveDisplay, PrecisionRecallDisplay"
   ]
  },
  {
   "cell_type": "code",
   "execution_count": 2,
   "id": "fee81ed3-a3eb-404f-b750-1267a9b5d633",
   "metadata": {},
   "outputs": [],
   "source": [
    "# this setting widens pandas column to fit 400 characters\n",
    "pd.options.display.max_colwidth = 400"
   ]
  },
  {
   "cell_type": "markdown",
   "id": "91fae8f7-3060-4283-b8c2-f740f5b0efa6",
   "metadata": {},
   "source": [
    "## Data Model Preparation"
   ]
  },
  {
   "cell_type": "code",
   "execution_count": 3,
   "id": "08f7f4ef-f190-49ac-a489-0eca540680c3",
   "metadata": {},
   "outputs": [],
   "source": [
    "# Import datasets for modelling\n",
    "df_train_model = pd.read_csv('../assets/train_merged_cleaned.csv')\n",
    "df_test_model = pd.read_csv('../assets/test_merged_cleaned.csv')\n",
    "df_test = pd.read_csv('../assets/test.csv')"
   ]
  },
  {
   "cell_type": "code",
   "execution_count": 4,
   "id": "cabfebab-513f-410a-aae5-935c54f9b8c4",
   "metadata": {
    "tags": []
   },
   "outputs": [
    {
     "data": {
      "text/plain": [
       "nummosquitos              0\n",
       "wnvpresent                0\n",
       "tavg                      0\n",
       "heat                      0\n",
       "precip_total              0\n",
       "result_dir                0\n",
       "avg_speed                 0\n",
       "daytime_min               0\n",
       "temp_diff                 0\n",
       "month                     0\n",
       "CULEX ERRATICUS           0\n",
       "CULEX PIPIENS             0\n",
       "CULEX PIPIENS/RESTUANS    0\n",
       "CULEX RESTUANS            0\n",
       "CULEX SALINARIUS          0\n",
       "CULEX TARSALIS            0\n",
       "CULEX TERRITANS           0\n",
       "trap_cluster              0\n",
       "dtype: int64"
      ]
     },
     "execution_count": 4,
     "metadata": {},
     "output_type": "execute_result"
    }
   ],
   "source": [
    "# Ensure that there are no missing values in both train dataframe\n",
    "df_train_model.isna().sum()"
   ]
  },
  {
   "cell_type": "code",
   "execution_count": 5,
   "id": "64d40b0c-fb49-4c0c-93f5-e8cf2fc77216",
   "metadata": {},
   "outputs": [
    {
     "name": "stdout",
     "output_type": "stream",
     "text": [
      "(10506, 18)\n"
     ]
    },
    {
     "data": {
      "text/html": [
       "<div>\n",
       "<style scoped>\n",
       "    .dataframe tbody tr th:only-of-type {\n",
       "        vertical-align: middle;\n",
       "    }\n",
       "\n",
       "    .dataframe tbody tr th {\n",
       "        vertical-align: top;\n",
       "    }\n",
       "\n",
       "    .dataframe thead th {\n",
       "        text-align: right;\n",
       "    }\n",
       "</style>\n",
       "<table border=\"1\" class=\"dataframe\">\n",
       "  <thead>\n",
       "    <tr style=\"text-align: right;\">\n",
       "      <th></th>\n",
       "      <th>nummosquitos</th>\n",
       "      <th>wnvpresent</th>\n",
       "      <th>tavg</th>\n",
       "      <th>heat</th>\n",
       "      <th>precip_total</th>\n",
       "      <th>result_dir</th>\n",
       "      <th>avg_speed</th>\n",
       "      <th>daytime_min</th>\n",
       "      <th>temp_diff</th>\n",
       "      <th>month</th>\n",
       "      <th>CULEX ERRATICUS</th>\n",
       "      <th>CULEX PIPIENS</th>\n",
       "      <th>CULEX PIPIENS/RESTUANS</th>\n",
       "      <th>CULEX RESTUANS</th>\n",
       "      <th>CULEX SALINARIUS</th>\n",
       "      <th>CULEX TARSALIS</th>\n",
       "      <th>CULEX TERRITANS</th>\n",
       "      <th>trap_cluster</th>\n",
       "    </tr>\n",
       "  </thead>\n",
       "  <tbody>\n",
       "    <tr>\n",
       "      <th>0</th>\n",
       "      <td>1</td>\n",
       "      <td>0</td>\n",
       "      <td>75.5</td>\n",
       "      <td>0.0</td>\n",
       "      <td>0.0</td>\n",
       "      <td>17.0</td>\n",
       "      <td>6.95</td>\n",
       "      <td>896.0</td>\n",
       "      <td>25.5</td>\n",
       "      <td>5</td>\n",
       "      <td>0</td>\n",
       "      <td>0</td>\n",
       "      <td>1</td>\n",
       "      <td>0</td>\n",
       "      <td>0</td>\n",
       "      <td>0</td>\n",
       "      <td>0</td>\n",
       "      <td>10</td>\n",
       "    </tr>\n",
       "    <tr>\n",
       "      <th>1</th>\n",
       "      <td>1</td>\n",
       "      <td>0</td>\n",
       "      <td>75.5</td>\n",
       "      <td>0.0</td>\n",
       "      <td>0.0</td>\n",
       "      <td>17.0</td>\n",
       "      <td>6.95</td>\n",
       "      <td>896.0</td>\n",
       "      <td>25.5</td>\n",
       "      <td>5</td>\n",
       "      <td>0</td>\n",
       "      <td>0</td>\n",
       "      <td>0</td>\n",
       "      <td>1</td>\n",
       "      <td>0</td>\n",
       "      <td>0</td>\n",
       "      <td>0</td>\n",
       "      <td>10</td>\n",
       "    </tr>\n",
       "    <tr>\n",
       "      <th>2</th>\n",
       "      <td>1</td>\n",
       "      <td>0</td>\n",
       "      <td>75.5</td>\n",
       "      <td>0.0</td>\n",
       "      <td>0.0</td>\n",
       "      <td>17.0</td>\n",
       "      <td>6.95</td>\n",
       "      <td>896.0</td>\n",
       "      <td>25.5</td>\n",
       "      <td>5</td>\n",
       "      <td>0</td>\n",
       "      <td>0</td>\n",
       "      <td>0</td>\n",
       "      <td>1</td>\n",
       "      <td>0</td>\n",
       "      <td>0</td>\n",
       "      <td>0</td>\n",
       "      <td>0</td>\n",
       "    </tr>\n",
       "    <tr>\n",
       "      <th>3</th>\n",
       "      <td>1</td>\n",
       "      <td>0</td>\n",
       "      <td>75.5</td>\n",
       "      <td>0.0</td>\n",
       "      <td>0.0</td>\n",
       "      <td>17.0</td>\n",
       "      <td>6.95</td>\n",
       "      <td>896.0</td>\n",
       "      <td>25.5</td>\n",
       "      <td>5</td>\n",
       "      <td>0</td>\n",
       "      <td>0</td>\n",
       "      <td>1</td>\n",
       "      <td>0</td>\n",
       "      <td>0</td>\n",
       "      <td>0</td>\n",
       "      <td>0</td>\n",
       "      <td>10</td>\n",
       "    </tr>\n",
       "    <tr>\n",
       "      <th>4</th>\n",
       "      <td>4</td>\n",
       "      <td>0</td>\n",
       "      <td>75.5</td>\n",
       "      <td>0.0</td>\n",
       "      <td>0.0</td>\n",
       "      <td>17.0</td>\n",
       "      <td>6.95</td>\n",
       "      <td>896.0</td>\n",
       "      <td>25.5</td>\n",
       "      <td>5</td>\n",
       "      <td>0</td>\n",
       "      <td>0</td>\n",
       "      <td>0</td>\n",
       "      <td>1</td>\n",
       "      <td>0</td>\n",
       "      <td>0</td>\n",
       "      <td>0</td>\n",
       "      <td>10</td>\n",
       "    </tr>\n",
       "  </tbody>\n",
       "</table>\n",
       "</div>"
      ],
      "text/plain": [
       "   nummosquitos  wnvpresent  tavg  heat  precip_total  result_dir  avg_speed  \\\n",
       "0             1           0  75.5   0.0           0.0        17.0       6.95   \n",
       "1             1           0  75.5   0.0           0.0        17.0       6.95   \n",
       "2             1           0  75.5   0.0           0.0        17.0       6.95   \n",
       "3             1           0  75.5   0.0           0.0        17.0       6.95   \n",
       "4             4           0  75.5   0.0           0.0        17.0       6.95   \n",
       "\n",
       "   daytime_min  temp_diff  month  CULEX ERRATICUS  CULEX PIPIENS  \\\n",
       "0        896.0       25.5      5                0              0   \n",
       "1        896.0       25.5      5                0              0   \n",
       "2        896.0       25.5      5                0              0   \n",
       "3        896.0       25.5      5                0              0   \n",
       "4        896.0       25.5      5                0              0   \n",
       "\n",
       "   CULEX PIPIENS/RESTUANS  CULEX RESTUANS  CULEX SALINARIUS  CULEX TARSALIS  \\\n",
       "0                       1               0                 0               0   \n",
       "1                       0               1                 0               0   \n",
       "2                       0               1                 0               0   \n",
       "3                       1               0                 0               0   \n",
       "4                       0               1                 0               0   \n",
       "\n",
       "   CULEX TERRITANS  trap_cluster  \n",
       "0                0            10  \n",
       "1                0            10  \n",
       "2                0             0  \n",
       "3                0            10  \n",
       "4                0            10  "
      ]
     },
     "execution_count": 5,
     "metadata": {},
     "output_type": "execute_result"
    }
   ],
   "source": [
    "print(df_train_model.shape)\n",
    "df_train_model.head()"
   ]
  },
  {
   "cell_type": "code",
   "execution_count": 6,
   "id": "7496e6fe-a3c1-41d2-bd40-579a3e171d98",
   "metadata": {},
   "outputs": [
    {
     "data": {
      "text/plain": [
       "tavg                      0\n",
       "heat                      0\n",
       "precip_total              0\n",
       "result_dir                0\n",
       "avg_speed                 0\n",
       "daytime_min               0\n",
       "temp_diff                 0\n",
       "month                     0\n",
       "CULEX ERRATICUS           0\n",
       "CULEX PIPIENS             0\n",
       "CULEX PIPIENS/RESTUANS    0\n",
       "CULEX RESTUANS            0\n",
       "CULEX SALINARIUS          0\n",
       "CULEX TARSALIS            0\n",
       "CULEX TERRITANS           0\n",
       "UNSPECIFIED CULEX         0\n",
       "trap_cluster              0\n",
       "dtype: int64"
      ]
     },
     "execution_count": 6,
     "metadata": {},
     "output_type": "execute_result"
    }
   ],
   "source": [
    "# Ensure that there are no missing values in both test dataframe\n",
    "df_test_model.isna().sum()"
   ]
  },
  {
   "cell_type": "code",
   "execution_count": 7,
   "id": "af08add3-a471-4b5d-848b-1ce4341f2a18",
   "metadata": {},
   "outputs": [
    {
     "name": "stdout",
     "output_type": "stream",
     "text": [
      "(116293, 17)\n"
     ]
    },
    {
     "data": {
      "text/html": [
       "<div>\n",
       "<style scoped>\n",
       "    .dataframe tbody tr th:only-of-type {\n",
       "        vertical-align: middle;\n",
       "    }\n",
       "\n",
       "    .dataframe tbody tr th {\n",
       "        vertical-align: top;\n",
       "    }\n",
       "\n",
       "    .dataframe thead th {\n",
       "        text-align: right;\n",
       "    }\n",
       "</style>\n",
       "<table border=\"1\" class=\"dataframe\">\n",
       "  <thead>\n",
       "    <tr style=\"text-align: right;\">\n",
       "      <th></th>\n",
       "      <th>tavg</th>\n",
       "      <th>heat</th>\n",
       "      <th>precip_total</th>\n",
       "      <th>result_dir</th>\n",
       "      <th>avg_speed</th>\n",
       "      <th>daytime_min</th>\n",
       "      <th>temp_diff</th>\n",
       "      <th>month</th>\n",
       "      <th>CULEX ERRATICUS</th>\n",
       "      <th>CULEX PIPIENS</th>\n",
       "      <th>CULEX PIPIENS/RESTUANS</th>\n",
       "      <th>CULEX RESTUANS</th>\n",
       "      <th>CULEX SALINARIUS</th>\n",
       "      <th>CULEX TARSALIS</th>\n",
       "      <th>CULEX TERRITANS</th>\n",
       "      <th>UNSPECIFIED CULEX</th>\n",
       "      <th>trap_cluster</th>\n",
       "    </tr>\n",
       "  </thead>\n",
       "  <tbody>\n",
       "    <tr>\n",
       "      <th>0</th>\n",
       "      <td>75.0</td>\n",
       "      <td>0.0</td>\n",
       "      <td>0.0</td>\n",
       "      <td>18.0</td>\n",
       "      <td>10.2</td>\n",
       "      <td>910.0</td>\n",
       "      <td>22.5</td>\n",
       "      <td>6</td>\n",
       "      <td>0</td>\n",
       "      <td>0</td>\n",
       "      <td>1</td>\n",
       "      <td>0</td>\n",
       "      <td>0</td>\n",
       "      <td>0</td>\n",
       "      <td>0</td>\n",
       "      <td>0</td>\n",
       "      <td>6</td>\n",
       "    </tr>\n",
       "    <tr>\n",
       "      <th>1</th>\n",
       "      <td>75.0</td>\n",
       "      <td>0.0</td>\n",
       "      <td>0.0</td>\n",
       "      <td>18.0</td>\n",
       "      <td>10.2</td>\n",
       "      <td>910.0</td>\n",
       "      <td>22.5</td>\n",
       "      <td>6</td>\n",
       "      <td>0</td>\n",
       "      <td>0</td>\n",
       "      <td>0</td>\n",
       "      <td>1</td>\n",
       "      <td>0</td>\n",
       "      <td>0</td>\n",
       "      <td>0</td>\n",
       "      <td>0</td>\n",
       "      <td>6</td>\n",
       "    </tr>\n",
       "    <tr>\n",
       "      <th>2</th>\n",
       "      <td>75.0</td>\n",
       "      <td>0.0</td>\n",
       "      <td>0.0</td>\n",
       "      <td>18.0</td>\n",
       "      <td>10.2</td>\n",
       "      <td>910.0</td>\n",
       "      <td>22.5</td>\n",
       "      <td>6</td>\n",
       "      <td>0</td>\n",
       "      <td>1</td>\n",
       "      <td>0</td>\n",
       "      <td>0</td>\n",
       "      <td>0</td>\n",
       "      <td>0</td>\n",
       "      <td>0</td>\n",
       "      <td>0</td>\n",
       "      <td>6</td>\n",
       "    </tr>\n",
       "    <tr>\n",
       "      <th>3</th>\n",
       "      <td>75.0</td>\n",
       "      <td>0.0</td>\n",
       "      <td>0.0</td>\n",
       "      <td>18.0</td>\n",
       "      <td>10.2</td>\n",
       "      <td>910.0</td>\n",
       "      <td>22.5</td>\n",
       "      <td>6</td>\n",
       "      <td>0</td>\n",
       "      <td>0</td>\n",
       "      <td>0</td>\n",
       "      <td>0</td>\n",
       "      <td>1</td>\n",
       "      <td>0</td>\n",
       "      <td>0</td>\n",
       "      <td>0</td>\n",
       "      <td>6</td>\n",
       "    </tr>\n",
       "    <tr>\n",
       "      <th>4</th>\n",
       "      <td>75.0</td>\n",
       "      <td>0.0</td>\n",
       "      <td>0.0</td>\n",
       "      <td>18.0</td>\n",
       "      <td>10.2</td>\n",
       "      <td>910.0</td>\n",
       "      <td>22.5</td>\n",
       "      <td>6</td>\n",
       "      <td>0</td>\n",
       "      <td>0</td>\n",
       "      <td>0</td>\n",
       "      <td>0</td>\n",
       "      <td>0</td>\n",
       "      <td>0</td>\n",
       "      <td>1</td>\n",
       "      <td>0</td>\n",
       "      <td>6</td>\n",
       "    </tr>\n",
       "  </tbody>\n",
       "</table>\n",
       "</div>"
      ],
      "text/plain": [
       "   tavg  heat  precip_total  result_dir  avg_speed  daytime_min  temp_diff  \\\n",
       "0  75.0   0.0           0.0        18.0       10.2        910.0       22.5   \n",
       "1  75.0   0.0           0.0        18.0       10.2        910.0       22.5   \n",
       "2  75.0   0.0           0.0        18.0       10.2        910.0       22.5   \n",
       "3  75.0   0.0           0.0        18.0       10.2        910.0       22.5   \n",
       "4  75.0   0.0           0.0        18.0       10.2        910.0       22.5   \n",
       "\n",
       "   month  CULEX ERRATICUS  CULEX PIPIENS  CULEX PIPIENS/RESTUANS  \\\n",
       "0      6                0              0                       1   \n",
       "1      6                0              0                       0   \n",
       "2      6                0              1                       0   \n",
       "3      6                0              0                       0   \n",
       "4      6                0              0                       0   \n",
       "\n",
       "   CULEX RESTUANS  CULEX SALINARIUS  CULEX TARSALIS  CULEX TERRITANS  \\\n",
       "0               0                 0               0                0   \n",
       "1               1                 0               0                0   \n",
       "2               0                 0               0                0   \n",
       "3               0                 1               0                0   \n",
       "4               0                 0               0                1   \n",
       "\n",
       "   UNSPECIFIED CULEX  trap_cluster  \n",
       "0                  0             6  \n",
       "1                  0             6  \n",
       "2                  0             6  \n",
       "3                  0             6  \n",
       "4                  0             6  "
      ]
     },
     "execution_count": 7,
     "metadata": {},
     "output_type": "execute_result"
    }
   ],
   "source": [
    "print(df_test_model.shape)\n",
    "df_test_model.head()"
   ]
  },
  {
   "cell_type": "code",
   "execution_count": 8,
   "id": "074a500f-8dda-47e2-975f-76ddf15da582",
   "metadata": {},
   "outputs": [],
   "source": [
    "# Drop unnecessary columns for modelling\n",
    "df_train_model.drop(columns='nummosquitos',inplace=True)\n",
    "df_test_model.drop(columns='UNSPECIFIED CULEX',inplace=True)"
   ]
  },
  {
   "cell_type": "markdown",
   "id": "3d037c08-08b1-4fd3-8904-754890201587",
   "metadata": {},
   "source": [
    "### Train-test(hold-out) split on Train dataframe"
   ]
  },
  {
   "cell_type": "code",
   "execution_count": 9,
   "id": "033f700d-f5e2-46cd-9720-fcccabfeddf9",
   "metadata": {},
   "outputs": [],
   "source": [
    "# Set X-variable & y-variable\n",
    "X = df_train_model.drop(columns='wnvpresent')\n",
    "y = df_train_model['wnvpresent']"
   ]
  },
  {
   "cell_type": "code",
   "execution_count": 10,
   "id": "e3d058e6-0313-4db9-81d9-a60536ffe978",
   "metadata": {},
   "outputs": [],
   "source": [
    "# Train-test split\n",
    "X_train, X_test, y_train, y_test = train_test_split(X, y, random_state = 42, stratify = y)"
   ]
  },
  {
   "cell_type": "markdown",
   "id": "d5ae62b6-a3bc-47fa-81d8-14e781358110",
   "metadata": {},
   "source": [
    "## Modelling"
   ]
  },
  {
   "cell_type": "markdown",
   "id": "ba3343d6-e988-4c49-82a6-04d330ea3028",
   "metadata": {},
   "source": [
    "### Scaling on Numerical features"
   ]
  },
  {
   "cell_type": "code",
   "execution_count": 11,
   "id": "9c3f6164-36a6-45cc-a209-7640340a4329",
   "metadata": {},
   "outputs": [],
   "source": [
    "# identify the numerical columns from X\n",
    "numeric_cols = ['tavg', 'heat', 'precip_total', 'result_dir', 'avg_speed', 'daytime_min', 'temp_diff']"
   ]
  },
  {
   "cell_type": "code",
   "execution_count": 12,
   "id": "a1ad69b8-50c0-4f1a-b513-0772a8571838",
   "metadata": {},
   "outputs": [],
   "source": [
    "# Instantiate Standard Scaler on numerical data columns only\n",
    "ct = ColumnTransformer([(\"num_scaler\", StandardScaler(), numeric_cols)],\n",
    "                      remainder = 'passthrough')"
   ]
  },
  {
   "cell_type": "code",
   "execution_count": 13,
   "id": "62237d21-b759-45c7-a379-adafd68b24e5",
   "metadata": {},
   "outputs": [],
   "source": [
    "# Fit scaling tranformer into X_train & X_test\n",
    "X_train_sc = ct.fit_transform(X_train)\n",
    "X_test_sc = ct.transform(X_test)"
   ]
  },
  {
   "cell_type": "markdown",
   "id": "8dc60c30-d411-42bf-8a02-d73df59d1580",
   "metadata": {},
   "source": [
    "### Baseline Model"
   ]
  },
  {
   "cell_type": "markdown",
   "id": "0d03802a-eb80-4e23-9b18-bb53ec351979",
   "metadata": {},
   "source": [
    "As a baseline, we will use a Naive Bayes model coupled with Random Over Sampler. This model's metrics would be compared with that of other model combinations to pinpoint the best one for this binary classification problem."
   ]
  },
  {
   "cell_type": "code",
   "execution_count": 14,
   "id": "078b5c6f-0676-45f4-b6cf-ab5345340924",
   "metadata": {
    "tags": []
   },
   "outputs": [],
   "source": [
    "# Instantiate Pipeline\n",
    "pipe_baseline = Pipeline([\n",
    "    ('ros', RandomOverSampler(random_state=42)),\n",
    "    ('nb', GaussianNB())\n",
    "])"
   ]
  },
  {
   "cell_type": "code",
   "execution_count": 15,
   "id": "3e5fb7cd-c81b-4fa6-8d29-4641b64e8260",
   "metadata": {},
   "outputs": [],
   "source": [
    "# Define dict of param grid\n",
    "base_params = {}"
   ]
  },
  {
   "cell_type": "code",
   "execution_count": 16,
   "id": "329d7161-e2f4-4fe4-90d6-c3d6b164fdfc",
   "metadata": {},
   "outputs": [],
   "source": [
    "# Instantiate GridsearchCV model\n",
    "grid_baseline = GridSearchCV(pipe_baseline,\n",
    "                             param_grid=base_params,\n",
    "                             scoring = 'f1',\n",
    "                             cv = 5,\n",
    "                             n_jobs = -1,\n",
    "                             verbose = 1\n",
    "                            )"
   ]
  },
  {
   "cell_type": "code",
   "execution_count": 17,
   "id": "7af8f5dc-998e-4c7f-b5a3-2dd9b09f3b74",
   "metadata": {},
   "outputs": [
    {
     "name": "stdout",
     "output_type": "stream",
     "text": [
      "Fitting 5 folds for each of 1 candidates, totalling 5 fits\n"
     ]
    },
    {
     "data": {
      "text/html": [
       "<style>#sk-container-id-1 {color: black;background-color: white;}#sk-container-id-1 pre{padding: 0;}#sk-container-id-1 div.sk-toggleable {background-color: white;}#sk-container-id-1 label.sk-toggleable__label {cursor: pointer;display: block;width: 100%;margin-bottom: 0;padding: 0.3em;box-sizing: border-box;text-align: center;}#sk-container-id-1 label.sk-toggleable__label-arrow:before {content: \"▸\";float: left;margin-right: 0.25em;color: #696969;}#sk-container-id-1 label.sk-toggleable__label-arrow:hover:before {color: black;}#sk-container-id-1 div.sk-estimator:hover label.sk-toggleable__label-arrow:before {color: black;}#sk-container-id-1 div.sk-toggleable__content {max-height: 0;max-width: 0;overflow: hidden;text-align: left;background-color: #f0f8ff;}#sk-container-id-1 div.sk-toggleable__content pre {margin: 0.2em;color: black;border-radius: 0.25em;background-color: #f0f8ff;}#sk-container-id-1 input.sk-toggleable__control:checked~div.sk-toggleable__content {max-height: 200px;max-width: 100%;overflow: auto;}#sk-container-id-1 input.sk-toggleable__control:checked~label.sk-toggleable__label-arrow:before {content: \"▾\";}#sk-container-id-1 div.sk-estimator input.sk-toggleable__control:checked~label.sk-toggleable__label {background-color: #d4ebff;}#sk-container-id-1 div.sk-label input.sk-toggleable__control:checked~label.sk-toggleable__label {background-color: #d4ebff;}#sk-container-id-1 input.sk-hidden--visually {border: 0;clip: rect(1px 1px 1px 1px);clip: rect(1px, 1px, 1px, 1px);height: 1px;margin: -1px;overflow: hidden;padding: 0;position: absolute;width: 1px;}#sk-container-id-1 div.sk-estimator {font-family: monospace;background-color: #f0f8ff;border: 1px dotted black;border-radius: 0.25em;box-sizing: border-box;margin-bottom: 0.5em;}#sk-container-id-1 div.sk-estimator:hover {background-color: #d4ebff;}#sk-container-id-1 div.sk-parallel-item::after {content: \"\";width: 100%;border-bottom: 1px solid gray;flex-grow: 1;}#sk-container-id-1 div.sk-label:hover label.sk-toggleable__label {background-color: #d4ebff;}#sk-container-id-1 div.sk-serial::before {content: \"\";position: absolute;border-left: 1px solid gray;box-sizing: border-box;top: 0;bottom: 0;left: 50%;z-index: 0;}#sk-container-id-1 div.sk-serial {display: flex;flex-direction: column;align-items: center;background-color: white;padding-right: 0.2em;padding-left: 0.2em;position: relative;}#sk-container-id-1 div.sk-item {position: relative;z-index: 1;}#sk-container-id-1 div.sk-parallel {display: flex;align-items: stretch;justify-content: center;background-color: white;position: relative;}#sk-container-id-1 div.sk-item::before, #sk-container-id-1 div.sk-parallel-item::before {content: \"\";position: absolute;border-left: 1px solid gray;box-sizing: border-box;top: 0;bottom: 0;left: 50%;z-index: -1;}#sk-container-id-1 div.sk-parallel-item {display: flex;flex-direction: column;z-index: 1;position: relative;background-color: white;}#sk-container-id-1 div.sk-parallel-item:first-child::after {align-self: flex-end;width: 50%;}#sk-container-id-1 div.sk-parallel-item:last-child::after {align-self: flex-start;width: 50%;}#sk-container-id-1 div.sk-parallel-item:only-child::after {width: 0;}#sk-container-id-1 div.sk-dashed-wrapped {border: 1px dashed gray;margin: 0 0.4em 0.5em 0.4em;box-sizing: border-box;padding-bottom: 0.4em;background-color: white;}#sk-container-id-1 div.sk-label label {font-family: monospace;font-weight: bold;display: inline-block;line-height: 1.2em;}#sk-container-id-1 div.sk-label-container {text-align: center;}#sk-container-id-1 div.sk-container {/* jupyter's `normalize.less` sets `[hidden] { display: none; }` but bootstrap.min.css set `[hidden] { display: none !important; }` so we also need the `!important` here to be able to override the default hidden behavior on the sphinx rendered scikit-learn.org. See: https://github.com/scikit-learn/scikit-learn/issues/21755 */display: inline-block !important;position: relative;}#sk-container-id-1 div.sk-text-repr-fallback {display: none;}</style><div id=\"sk-container-id-1\" class=\"sk-top-container\"><div class=\"sk-text-repr-fallback\"><pre>GridSearchCV(cv=5,\n",
       "             estimator=Pipeline(steps=[(&#x27;ros&#x27;,\n",
       "                                        RandomOverSampler(random_state=42)),\n",
       "                                       (&#x27;nb&#x27;, GaussianNB())]),\n",
       "             n_jobs=-1, param_grid={}, scoring=&#x27;f1&#x27;, verbose=1)</pre><b>In a Jupyter environment, please rerun this cell to show the HTML representation or trust the notebook. <br />On GitHub, the HTML representation is unable to render, please try loading this page with nbviewer.org.</b></div><div class=\"sk-container\" hidden><div class=\"sk-item sk-dashed-wrapped\"><div class=\"sk-label-container\"><div class=\"sk-label sk-toggleable\"><input class=\"sk-toggleable__control sk-hidden--visually\" id=\"sk-estimator-id-1\" type=\"checkbox\" ><label for=\"sk-estimator-id-1\" class=\"sk-toggleable__label sk-toggleable__label-arrow\">GridSearchCV</label><div class=\"sk-toggleable__content\"><pre>GridSearchCV(cv=5,\n",
       "             estimator=Pipeline(steps=[(&#x27;ros&#x27;,\n",
       "                                        RandomOverSampler(random_state=42)),\n",
       "                                       (&#x27;nb&#x27;, GaussianNB())]),\n",
       "             n_jobs=-1, param_grid={}, scoring=&#x27;f1&#x27;, verbose=1)</pre></div></div></div><div class=\"sk-parallel\"><div class=\"sk-parallel-item\"><div class=\"sk-item\"><div class=\"sk-label-container\"><div class=\"sk-label sk-toggleable\"><input class=\"sk-toggleable__control sk-hidden--visually\" id=\"sk-estimator-id-2\" type=\"checkbox\" ><label for=\"sk-estimator-id-2\" class=\"sk-toggleable__label sk-toggleable__label-arrow\">estimator: Pipeline</label><div class=\"sk-toggleable__content\"><pre>Pipeline(steps=[(&#x27;ros&#x27;, RandomOverSampler(random_state=42)),\n",
       "                (&#x27;nb&#x27;, GaussianNB())])</pre></div></div></div><div class=\"sk-serial\"><div class=\"sk-item\"><div class=\"sk-serial\"><div class=\"sk-item\"><div class=\"sk-estimator sk-toggleable\"><input class=\"sk-toggleable__control sk-hidden--visually\" id=\"sk-estimator-id-3\" type=\"checkbox\" ><label for=\"sk-estimator-id-3\" class=\"sk-toggleable__label sk-toggleable__label-arrow\">RandomOverSampler</label><div class=\"sk-toggleable__content\"><pre>RandomOverSampler(random_state=42)</pre></div></div></div><div class=\"sk-item\"><div class=\"sk-estimator sk-toggleable\"><input class=\"sk-toggleable__control sk-hidden--visually\" id=\"sk-estimator-id-4\" type=\"checkbox\" ><label for=\"sk-estimator-id-4\" class=\"sk-toggleable__label sk-toggleable__label-arrow\">GaussianNB</label><div class=\"sk-toggleable__content\"><pre>GaussianNB()</pre></div></div></div></div></div></div></div></div></div></div></div></div>"
      ],
      "text/plain": [
       "GridSearchCV(cv=5,\n",
       "             estimator=Pipeline(steps=[('ros',\n",
       "                                        RandomOverSampler(random_state=42)),\n",
       "                                       ('nb', GaussianNB())]),\n",
       "             n_jobs=-1, param_grid={}, scoring='f1', verbose=1)"
      ]
     },
     "execution_count": 17,
     "metadata": {},
     "output_type": "execute_result"
    }
   ],
   "source": [
    "# fit the model into train\n",
    "grid_baseline.fit(X_train_sc, y_train)"
   ]
  },
  {
   "cell_type": "code",
   "execution_count": 18,
   "id": "1f1e3709-8ed1-4c42-9947-bc61ab95f68f",
   "metadata": {},
   "outputs": [
    {
     "data": {
      "text/plain": [
       "0.10444590516943064"
      ]
     },
     "execution_count": 18,
     "metadata": {},
     "output_type": "execute_result"
    }
   ],
   "source": [
    "# Obtain best f1 score from cv results\n",
    "grid_baseline.best_score_"
   ]
  },
  {
   "cell_type": "code",
   "execution_count": 19,
   "id": "1f554685-aefe-4cf8-9ad9-59850557777c",
   "metadata": {},
   "outputs": [],
   "source": [
    "# Generate predictions from baseline\n",
    "y_pred_base = grid_baseline.predict(X_test_sc)"
   ]
  },
  {
   "cell_type": "code",
   "execution_count": 20,
   "id": "1a35d3b9-7f74-47ab-939a-daba0fcf5fb8",
   "metadata": {},
   "outputs": [
    {
     "name": "stdout",
     "output_type": "stream",
     "text": [
      "              precision    recall  f1-score   support\n",
      "\n",
      "           0       1.00      0.06      0.12      2489\n",
      "           1       0.06      1.00      0.11       138\n",
      "\n",
      "    accuracy                           0.11      2627\n",
      "   macro avg       0.53      0.53      0.11      2627\n",
      "weighted avg       0.95      0.11      0.12      2627\n",
      "\n"
     ]
    }
   ],
   "source": [
    "# Show classification metrics report for baseline\n",
    "print(classification_report(y_test, y_pred_base))"
   ]
  },
  {
   "cell_type": "code",
   "execution_count": 21,
   "id": "466dfe0a-e4a9-4ff1-87a8-dd9afbfd83c2",
   "metadata": {},
   "outputs": [
    {
     "data": {
      "text/plain": [
       "0.75"
      ]
     },
     "execution_count": 21,
     "metadata": {},
     "output_type": "execute_result"
    }
   ],
   "source": [
    "# Show ROC AUC score\n",
    "round(roc_auc_score(y_test, grid_baseline.predict_proba(X_test_sc)[:,1]),2)"
   ]
  },
  {
   "cell_type": "code",
   "execution_count": 22,
   "id": "b28985c4-3ea8-41e0-9f41-691c902d58e8",
   "metadata": {},
   "outputs": [],
   "source": [
    "# Function for creating confusion matrix\n",
    "def conf_matrix(ypred, ytrue=y_test):\n",
    "    cm_grid = confusion_matrix(ytrue, ypred)\n",
    "    mat = ConfusionMatrixDisplay(confusion_matrix = cm_grid,\n",
    "                                 display_labels = ['WNV Absent', 'WNV Present'])\n",
    "    mat.plot()\n",
    "    return plt.show()"
   ]
  },
  {
   "cell_type": "code",
   "execution_count": 23,
   "id": "5686164a-bfa7-4c9d-831f-e27607851b75",
   "metadata": {},
   "outputs": [
    {
     "data": {
      "image/png": "[encoded data removed]",
      "text/plain": [
       "<Figure size 640x480 with 2 Axes>"
      ]
     },
     "metadata": {},
     "output_type": "display_data"
    }
   ],
   "source": [
    "# Display confusion matrix for baseline\n",
    "conf_matrix(y_pred_base)"
   ]
  },
  {
   "cell_type": "markdown",
   "id": "734724d0-6710-4083-b13a-bd8ca71e65e1",
   "metadata": {},
   "source": [
    "### Random Forest Classifier with SMOTE"
   ]
  },
  {
   "cell_type": "code",
   "execution_count": 24,
   "id": "da09a7d9-520e-4334-8719-e80867e97fb7",
   "metadata": {
    "tags": []
   },
   "outputs": [],
   "source": [
    "# Instantiate Pipeline\n",
    "pipe_rf_smote = Pipeline([\n",
    "    ('smt', SMOTE(random_state=42, n_jobs=-1)),\n",
    "    ('rf', RandomForestClassifier(random_state=42, n_jobs=-1))\n",
    "])"
   ]
  },
  {
   "cell_type": "code",
   "execution_count": 25,
   "id": "fcb40393-b875-4f46-ae56-0fdc471c83a5",
   "metadata": {
    "scrolled": true,
    "tags": []
   },
   "outputs": [
    {
     "data": {
      "text/plain": [
       "{'memory': None,\n",
       " 'steps': [('smt', SMOTE(n_jobs=-1, random_state=42)),\n",
       "  ('rf', RandomForestClassifier(n_jobs=-1, random_state=42))],\n",
       " 'verbose': False,\n",
       " 'smt': SMOTE(n_jobs=-1, random_state=42),\n",
       " 'rf': RandomForestClassifier(n_jobs=-1, random_state=42),\n",
       " 'smt__k_neighbors': 5,\n",
       " 'smt__n_jobs': -1,\n",
       " 'smt__random_state': 42,\n",
       " 'smt__sampling_strategy': 'auto',\n",
       " 'rf__bootstrap': True,\n",
       " 'rf__ccp_alpha': 0.0,\n",
       " 'rf__class_weight': None,\n",
       " 'rf__criterion': 'gini',\n",
       " 'rf__max_depth': None,\n",
       " 'rf__max_features': 'sqrt',\n",
       " 'rf__max_leaf_nodes': None,\n",
       " 'rf__max_samples': None,\n",
       " 'rf__min_impurity_decrease': 0.0,\n",
       " 'rf__min_samples_leaf': 1,\n",
       " 'rf__min_samples_split': 2,\n",
       " 'rf__min_weight_fraction_leaf': 0.0,\n",
       " 'rf__n_estimators': 100,\n",
       " 'rf__n_jobs': -1,\n",
       " 'rf__oob_score': False,\n",
       " 'rf__random_state': 42,\n",
       " 'rf__verbose': 0,\n",
       " 'rf__warm_start': False}"
      ]
     },
     "execution_count": 25,
     "metadata": {},
     "output_type": "execute_result"
    }
   ],
   "source": [
    "# Get params for pipeline\n",
    "pipe_rf_smote.get_params()"
   ]
  },
  {
   "cell_type": "code",
   "execution_count": 26,
   "id": "a9e03410-d2fd-4f8a-aa7c-5bc39b8a58b1",
   "metadata": {},
   "outputs": [],
   "source": [
    "# Define dict of hyperparameters tuning\n",
    "rf_smote_params = {\n",
    "    'rf__min_samples_leaf': [1, 5, 10, 15, 20],\n",
    "    'rf__n_estimators': [100, 150, 200, 250, 300],\n",
    "    'rf__class_weight': [None, \"balanced\"]\n",
    "}"
   ]
  },
  {
   "cell_type": "code",
   "execution_count": 27,
   "id": "f53b41c2-f314-4172-b648-5d936aa7f37e",
   "metadata": {},
   "outputs": [],
   "source": [
    "# Instantiate GridsearchCV model\n",
    "grid_rf_smote = GridSearchCV(pipe_rf_smote,\n",
    "                             param_grid = rf_smote_params,\n",
    "                             scoring = 'f1',\n",
    "                             cv = 5,\n",
    "                             n_jobs = -1,\n",
    "                             verbose = 1\n",
    "                            )"
   ]
  },
  {
   "cell_type": "code",
   "execution_count": 28,
   "id": "6ab3db69-ad57-4002-9113-aa88baa2393d",
   "metadata": {},
   "outputs": [
    {
     "name": "stdout",
     "output_type": "stream",
     "text": [
      "Fitting 5 folds for each of 50 candidates, totalling 250 fits\n"
     ]
    },
    {
     "data": {
      "text/html": [
       "<style>#sk-container-id-2 {color: black;background-color: white;}#sk-container-id-2 pre{padding: 0;}#sk-container-id-2 div.sk-toggleable {background-color: white;}#sk-container-id-2 label.sk-toggleable__label {cursor: pointer;display: block;width: 100%;margin-bottom: 0;padding: 0.3em;box-sizing: border-box;text-align: center;}#sk-container-id-2 label.sk-toggleable__label-arrow:before {content: \"▸\";float: left;margin-right: 0.25em;color: #696969;}#sk-container-id-2 label.sk-toggleable__label-arrow:hover:before {color: black;}#sk-container-id-2 div.sk-estimator:hover label.sk-toggleable__label-arrow:before {color: black;}#sk-container-id-2 div.sk-toggleable__content {max-height: 0;max-width: 0;overflow: hidden;text-align: left;background-color: #f0f8ff;}#sk-container-id-2 div.sk-toggleable__content pre {margin: 0.2em;color: black;border-radius: 0.25em;background-color: #f0f8ff;}#sk-container-id-2 input.sk-toggleable__control:checked~div.sk-toggleable__content {max-height: 200px;max-width: 100%;overflow: auto;}#sk-container-id-2 input.sk-toggleable__control:checked~label.sk-toggleable__label-arrow:before {content: \"▾\";}#sk-container-id-2 div.sk-estimator input.sk-toggleable__control:checked~label.sk-toggleable__label {background-color: #d4ebff;}#sk-container-id-2 div.sk-label input.sk-toggleable__control:checked~label.sk-toggleable__label {background-color: #d4ebff;}#sk-container-id-2 input.sk-hidden--visually {border: 0;clip: rect(1px 1px 1px 1px);clip: rect(1px, 1px, 1px, 1px);height: 1px;margin: -1px;overflow: hidden;padding: 0;position: absolute;width: 1px;}#sk-container-id-2 div.sk-estimator {font-family: monospace;background-color: #f0f8ff;border: 1px dotted black;border-radius: 0.25em;box-sizing: border-box;margin-bottom: 0.5em;}#sk-container-id-2 div.sk-estimator:hover {background-color: #d4ebff;}#sk-container-id-2 div.sk-parallel-item::after {content: \"\";width: 100%;border-bottom: 1px solid gray;flex-grow: 1;}#sk-container-id-2 div.sk-label:hover label.sk-toggleable__label {background-color: #d4ebff;}#sk-container-id-2 div.sk-serial::before {content: \"\";position: absolute;border-left: 1px solid gray;box-sizing: border-box;top: 0;bottom: 0;left: 50%;z-index: 0;}#sk-container-id-2 div.sk-serial {display: flex;flex-direction: column;align-items: center;background-color: white;padding-right: 0.2em;padding-left: 0.2em;position: relative;}#sk-container-id-2 div.sk-item {position: relative;z-index: 1;}#sk-container-id-2 div.sk-parallel {display: flex;align-items: stretch;justify-content: center;background-color: white;position: relative;}#sk-container-id-2 div.sk-item::before, #sk-container-id-2 div.sk-parallel-item::before {content: \"\";position: absolute;border-left: 1px solid gray;box-sizing: border-box;top: 0;bottom: 0;left: 50%;z-index: -1;}#sk-container-id-2 div.sk-parallel-item {display: flex;flex-direction: column;z-index: 1;position: relative;background-color: white;}#sk-container-id-2 div.sk-parallel-item:first-child::after {align-self: flex-end;width: 50%;}#sk-container-id-2 div.sk-parallel-item:last-child::after {align-self: flex-start;width: 50%;}#sk-container-id-2 div.sk-parallel-item:only-child::after {width: 0;}#sk-container-id-2 div.sk-dashed-wrapped {border: 1px dashed gray;margin: 0 0.4em 0.5em 0.4em;box-sizing: border-box;padding-bottom: 0.4em;background-color: white;}#sk-container-id-2 div.sk-label label {font-family: monospace;font-weight: bold;display: inline-block;line-height: 1.2em;}#sk-container-id-2 div.sk-label-container {text-align: center;}#sk-container-id-2 div.sk-container {/* jupyter's `normalize.less` sets `[hidden] { display: none; }` but bootstrap.min.css set `[hidden] { display: none !important; }` so we also need the `!important` here to be able to override the default hidden behavior on the sphinx rendered scikit-learn.org. See: https://github.com/scikit-learn/scikit-learn/issues/21755 */display: inline-block !important;position: relative;}#sk-container-id-2 div.sk-text-repr-fallback {display: none;}</style><div id=\"sk-container-id-2\" class=\"sk-top-container\"><div class=\"sk-text-repr-fallback\"><pre>GridSearchCV(cv=5,\n",
       "             estimator=Pipeline(steps=[(&#x27;smt&#x27;,\n",
       "                                        SMOTE(n_jobs=-1, random_state=42)),\n",
       "                                       (&#x27;rf&#x27;,\n",
       "                                        RandomForestClassifier(n_jobs=-1,\n",
       "                                                               random_state=42))]),\n",
       "             n_jobs=-1,\n",
       "             param_grid={&#x27;rf__class_weight&#x27;: [None, &#x27;balanced&#x27;],\n",
       "                         &#x27;rf__min_samples_leaf&#x27;: [1, 5, 10, 15, 20],\n",
       "                         &#x27;rf__n_estimators&#x27;: [100, 150, 200, 250, 300]},\n",
       "             scoring=&#x27;f1&#x27;, verbose=1)</pre><b>In a Jupyter environment, please rerun this cell to show the HTML representation or trust the notebook. <br />On GitHub, the HTML representation is unable to render, please try loading this page with nbviewer.org.</b></div><div class=\"sk-container\" hidden><div class=\"sk-item sk-dashed-wrapped\"><div class=\"sk-label-container\"><div class=\"sk-label sk-toggleable\"><input class=\"sk-toggleable__control sk-hidden--visually\" id=\"sk-estimator-id-5\" type=\"checkbox\" ><label for=\"sk-estimator-id-5\" class=\"sk-toggleable__label sk-toggleable__label-arrow\">GridSearchCV</label><div class=\"sk-toggleable__content\"><pre>GridSearchCV(cv=5,\n",
       "             estimator=Pipeline(steps=[(&#x27;smt&#x27;,\n",
       "                                        SMOTE(n_jobs=-1, random_state=42)),\n",
       "                                       (&#x27;rf&#x27;,\n",
       "                                        RandomForestClassifier(n_jobs=-1,\n",
       "                                                               random_state=42))]),\n",
       "             n_jobs=-1,\n",
       "             param_grid={&#x27;rf__class_weight&#x27;: [None, &#x27;balanced&#x27;],\n",
       "                         &#x27;rf__min_samples_leaf&#x27;: [1, 5, 10, 15, 20],\n",
       "                         &#x27;rf__n_estimators&#x27;: [100, 150, 200, 250, 300]},\n",
       "             scoring=&#x27;f1&#x27;, verbose=1)</pre></div></div></div><div class=\"sk-parallel\"><div class=\"sk-parallel-item\"><div class=\"sk-item\"><div class=\"sk-label-container\"><div class=\"sk-label sk-toggleable\"><input class=\"sk-toggleable__control sk-hidden--visually\" id=\"sk-estimator-id-6\" type=\"checkbox\" ><label for=\"sk-estimator-id-6\" class=\"sk-toggleable__label sk-toggleable__label-arrow\">estimator: Pipeline</label><div class=\"sk-toggleable__content\"><pre>Pipeline(steps=[(&#x27;smt&#x27;, SMOTE(n_jobs=-1, random_state=42)),\n",
       "                (&#x27;rf&#x27;, RandomForestClassifier(n_jobs=-1, random_state=42))])</pre></div></div></div><div class=\"sk-serial\"><div class=\"sk-item\"><div class=\"sk-serial\"><div class=\"sk-item\"><div class=\"sk-estimator sk-toggleable\"><input class=\"sk-toggleable__control sk-hidden--visually\" id=\"sk-estimator-id-7\" type=\"checkbox\" ><label for=\"sk-estimator-id-7\" class=\"sk-toggleable__label sk-toggleable__label-arrow\">SMOTE</label><div class=\"sk-toggleable__content\"><pre>SMOTE(n_jobs=-1, random_state=42)</pre></div></div></div><div class=\"sk-item\"><div class=\"sk-estimator sk-toggleable\"><input class=\"sk-toggleable__control sk-hidden--visually\" id=\"sk-estimator-id-8\" type=\"checkbox\" ><label for=\"sk-estimator-id-8\" class=\"sk-toggleable__label sk-toggleable__label-arrow\">RandomForestClassifier</label><div class=\"sk-toggleable__content\"><pre>RandomForestClassifier(n_jobs=-1, random_state=42)</pre></div></div></div></div></div></div></div></div></div></div></div></div>"
      ],
      "text/plain": [
       "GridSearchCV(cv=5,\n",
       "             estimator=Pipeline(steps=[('smt',\n",
       "                                        SMOTE(n_jobs=-1, random_state=42)),\n",
       "                                       ('rf',\n",
       "                                        RandomForestClassifier(n_jobs=-1,\n",
       "                                                               random_state=42))]),\n",
       "             n_jobs=-1,\n",
       "             param_grid={'rf__class_weight': [None, 'balanced'],\n",
       "                         'rf__min_samples_leaf': [1, 5, 10, 15, 20],\n",
       "                         'rf__n_estimators': [100, 150, 200, 250, 300]},\n",
       "             scoring='f1', verbose=1)"
      ]
     },
     "execution_count": 28,
     "metadata": {},
     "output_type": "execute_result"
    }
   ],
   "source": [
    "# fit the model into train\n",
    "grid_rf_smote.fit(X_train_sc, y_train)"
   ]
  },
  {
   "cell_type": "code",
   "execution_count": 29,
   "id": "e1437ff5-efed-4b50-bd21-3613cbd43389",
   "metadata": {
    "scrolled": true,
    "tags": []
   },
   "outputs": [
    {
     "data": {
      "text/html": [
       "<div>\n",
       "<style scoped>\n",
       "    .dataframe tbody tr th:only-of-type {\n",
       "        vertical-align: middle;\n",
       "    }\n",
       "\n",
       "    .dataframe tbody tr th {\n",
       "        vertical-align: top;\n",
       "    }\n",
       "\n",
       "    .dataframe thead th {\n",
       "        text-align: right;\n",
       "    }\n",
       "</style>\n",
       "<table border=\"1\" class=\"dataframe\">\n",
       "  <thead>\n",
       "    <tr style=\"text-align: right;\">\n",
       "      <th></th>\n",
       "      <th>mean_fit_time</th>\n",
       "      <th>std_fit_time</th>\n",
       "      <th>mean_score_time</th>\n",
       "      <th>std_score_time</th>\n",
       "      <th>param_rf__class_weight</th>\n",
       "      <th>param_rf__min_samples_leaf</th>\n",
       "      <th>param_rf__n_estimators</th>\n",
       "      <th>params</th>\n",
       "      <th>split0_test_score</th>\n",
       "      <th>split1_test_score</th>\n",
       "      <th>split2_test_score</th>\n",
       "      <th>split3_test_score</th>\n",
       "      <th>split4_test_score</th>\n",
       "      <th>mean_test_score</th>\n",
       "      <th>std_test_score</th>\n",
       "      <th>rank_test_score</th>\n",
       "    </tr>\n",
       "  </thead>\n",
       "  <tbody>\n",
       "    <tr>\n",
       "      <th>40</th>\n",
       "      <td>3.012252</td>\n",
       "      <td>0.130592</td>\n",
       "      <td>0.575350</td>\n",
       "      <td>0.318527</td>\n",
       "      <td>balanced</td>\n",
       "      <td>15</td>\n",
       "      <td>100</td>\n",
       "      <td>{'rf__class_weight': 'balanced', 'rf__min_samples_leaf': 15, 'rf__n_estimators': 100}</td>\n",
       "      <td>0.263736</td>\n",
       "      <td>0.261146</td>\n",
       "      <td>0.291971</td>\n",
       "      <td>0.337349</td>\n",
       "      <td>0.241486</td>\n",
       "      <td>0.279138</td>\n",
       "      <td>0.033262</td>\n",
       "      <td>1</td>\n",
       "    </tr>\n",
       "    <tr>\n",
       "      <th>15</th>\n",
       "      <td>1.898873</td>\n",
       "      <td>0.375114</td>\n",
       "      <td>1.071302</td>\n",
       "      <td>0.444073</td>\n",
       "      <td>None</td>\n",
       "      <td>15</td>\n",
       "      <td>100</td>\n",
       "      <td>{'rf__class_weight': None, 'rf__min_samples_leaf': 15, 'rf__n_estimators': 100}</td>\n",
       "      <td>0.263736</td>\n",
       "      <td>0.261146</td>\n",
       "      <td>0.291971</td>\n",
       "      <td>0.337349</td>\n",
       "      <td>0.241486</td>\n",
       "      <td>0.279138</td>\n",
       "      <td>0.033262</td>\n",
       "      <td>1</td>\n",
       "    </tr>\n",
       "    <tr>\n",
       "      <th>41</th>\n",
       "      <td>2.397621</td>\n",
       "      <td>0.773670</td>\n",
       "      <td>1.181313</td>\n",
       "      <td>0.723517</td>\n",
       "      <td>balanced</td>\n",
       "      <td>15</td>\n",
       "      <td>150</td>\n",
       "      <td>{'rf__class_weight': 'balanced', 'rf__min_samples_leaf': 15, 'rf__n_estimators': 150}</td>\n",
       "      <td>0.263736</td>\n",
       "      <td>0.258900</td>\n",
       "      <td>0.277580</td>\n",
       "      <td>0.341270</td>\n",
       "      <td>0.242991</td>\n",
       "      <td>0.276895</td>\n",
       "      <td>0.034033</td>\n",
       "      <td>3</td>\n",
       "    </tr>\n",
       "    <tr>\n",
       "      <th>16</th>\n",
       "      <td>3.340906</td>\n",
       "      <td>0.271960</td>\n",
       "      <td>0.480452</td>\n",
       "      <td>0.452394</td>\n",
       "      <td>None</td>\n",
       "      <td>15</td>\n",
       "      <td>150</td>\n",
       "      <td>{'rf__class_weight': None, 'rf__min_samples_leaf': 15, 'rf__n_estimators': 150}</td>\n",
       "      <td>0.263736</td>\n",
       "      <td>0.258900</td>\n",
       "      <td>0.277580</td>\n",
       "      <td>0.341270</td>\n",
       "      <td>0.242991</td>\n",
       "      <td>0.276895</td>\n",
       "      <td>0.034033</td>\n",
       "      <td>3</td>\n",
       "    </tr>\n",
       "    <tr>\n",
       "      <th>24</th>\n",
       "      <td>5.549624</td>\n",
       "      <td>0.956387</td>\n",
       "      <td>1.387655</td>\n",
       "      <td>1.010539</td>\n",
       "      <td>None</td>\n",
       "      <td>20</td>\n",
       "      <td>300</td>\n",
       "      <td>{'rf__class_weight': None, 'rf__min_samples_leaf': 20, 'rf__n_estimators': 300}</td>\n",
       "      <td>0.255172</td>\n",
       "      <td>0.259587</td>\n",
       "      <td>0.286713</td>\n",
       "      <td>0.336918</td>\n",
       "      <td>0.241888</td>\n",
       "      <td>0.276056</td>\n",
       "      <td>0.033742</td>\n",
       "      <td>5</td>\n",
       "    </tr>\n",
       "  </tbody>\n",
       "</table>\n",
       "</div>"
      ],
      "text/plain": [
       "    mean_fit_time  std_fit_time  mean_score_time  std_score_time  \\\n",
       "40       3.012252      0.130592         0.575350        0.318527   \n",
       "15       1.898873      0.375114         1.071302        0.444073   \n",
       "41       2.397621      0.773670         1.181313        0.723517   \n",
       "16       3.340906      0.271960         0.480452        0.452394   \n",
       "24       5.549624      0.956387         1.387655        1.010539   \n",
       "\n",
       "   param_rf__class_weight param_rf__min_samples_leaf param_rf__n_estimators  \\\n",
       "40               balanced                         15                    100   \n",
       "15                   None                         15                    100   \n",
       "41               balanced                         15                    150   \n",
       "16                   None                         15                    150   \n",
       "24                   None                         20                    300   \n",
       "\n",
       "                                                                                   params  \\\n",
       "40  {'rf__class_weight': 'balanced', 'rf__min_samples_leaf': 15, 'rf__n_estimators': 100}   \n",
       "15        {'rf__class_weight': None, 'rf__min_samples_leaf': 15, 'rf__n_estimators': 100}   \n",
       "41  {'rf__class_weight': 'balanced', 'rf__min_samples_leaf': 15, 'rf__n_estimators': 150}   \n",
       "16        {'rf__class_weight': None, 'rf__min_samples_leaf': 15, 'rf__n_estimators': 150}   \n",
       "24        {'rf__class_weight': None, 'rf__min_samples_leaf': 20, 'rf__n_estimators': 300}   \n",
       "\n",
       "    split0_test_score  split1_test_score  split2_test_score  \\\n",
       "40           0.263736           0.261146           0.291971   \n",
       "15           0.263736           0.261146           0.291971   \n",
       "41           0.263736           0.258900           0.277580   \n",
       "16           0.263736           0.258900           0.277580   \n",
       "24           0.255172           0.259587           0.286713   \n",
       "\n",
       "    split3_test_score  split4_test_score  mean_test_score  std_test_score  \\\n",
       "40           0.337349           0.241486         0.279138        0.033262   \n",
       "15           0.337349           0.241486         0.279138        0.033262   \n",
       "41           0.341270           0.242991         0.276895        0.034033   \n",
       "16           0.341270           0.242991         0.276895        0.034033   \n",
       "24           0.336918           0.241888         0.276056        0.033742   \n",
       "\n",
       "    rank_test_score  \n",
       "40                1  \n",
       "15                1  \n",
       "41                3  \n",
       "16                3  \n",
       "24                5  "
      ]
     },
     "execution_count": 29,
     "metadata": {},
     "output_type": "execute_result"
    }
   ],
   "source": [
    "# Show the top 5 best scores with their params\n",
    "pd.DataFrame(grid_rf_smote.cv_results_).sort_values('rank_test_score').head()"
   ]
  },
  {
   "cell_type": "code",
   "execution_count": 30,
   "id": "17b16dbd-8378-4b0a-9e2e-e071d4023b2f",
   "metadata": {},
   "outputs": [],
   "source": [
    "# Generate predictions from RF & SMOTE\n",
    "y_pred_rf_smote = grid_rf_smote.predict(X_test_sc)"
   ]
  },
  {
   "cell_type": "code",
   "execution_count": 31,
   "id": "45bad613-48a7-4c4a-9229-a733ad417279",
   "metadata": {},
   "outputs": [
    {
     "name": "stdout",
     "output_type": "stream",
     "text": [
      "              precision    recall  f1-score   support\n",
      "\n",
      "           0       0.96      0.89      0.93      2489\n",
      "           1       0.17      0.40      0.24       138\n",
      "\n",
      "    accuracy                           0.87      2627\n",
      "   macro avg       0.57      0.65      0.58      2627\n",
      "weighted avg       0.92      0.87      0.89      2627\n",
      "\n"
     ]
    }
   ],
   "source": [
    "# Show classification metrics report for RF & SMOTE\n",
    "print(classification_report(y_test, y_pred_rf_smote))"
   ]
  },
  {
   "cell_type": "code",
   "execution_count": 32,
   "id": "5f0512a7-f304-4f31-969e-f01b8b37bc44",
   "metadata": {},
   "outputs": [
    {
     "data": {
      "text/plain": [
       "0.8"
      ]
     },
     "execution_count": 32,
     "metadata": {},
     "output_type": "execute_result"
    }
   ],
   "source": [
    "# Show ROC AUC score\n",
    "round(roc_auc_score(y_test, grid_rf_smote.predict_proba(X_test_sc)[:,1]),2)"
   ]
  },
  {
   "cell_type": "code",
   "execution_count": 33,
   "id": "47bc207c-bc30-4914-b2ff-7dc17d1c412c",
   "metadata": {},
   "outputs": [
    {
     "data": {
      "image/png": "[encoded data removed]",
      "text/plain": [
       "<Figure size 640x480 with 2 Axes>"
      ]
     },
     "metadata": {},
     "output_type": "display_data"
    }
   ],
   "source": [
    "# Display confusion matrix for RF & SMOTE\n",
    "conf_matrix(y_pred_rf_smote)"
   ]
  },
  {
   "cell_type": "markdown",
   "id": "c9c3db9f-8787-4ad4-a80e-a5740a0ed958",
   "metadata": {},
   "source": [
    "### Random Forest Classifier with RandomUnderSampler"
   ]
  },
  {
   "cell_type": "code",
   "execution_count": 34,
   "id": "044866fe-d5d9-4a6d-bc8b-c9b0ec21ea70",
   "metadata": {
    "tags": []
   },
   "outputs": [],
   "source": [
    "# Instantiate Pipeline\n",
    "pipe_rf_rus = Pipeline([\n",
    "    ('rus', RandomUnderSampler(random_state=42)),\n",
    "    ('rf', RandomForestClassifier(random_state=42, n_jobs=-1))\n",
    "])"
   ]
  },
  {
   "cell_type": "code",
   "execution_count": 35,
   "id": "f0575d7e-23cb-49d9-ab6b-6b0e37d85f1c",
   "metadata": {
    "scrolled": true,
    "tags": []
   },
   "outputs": [
    {
     "data": {
      "text/plain": [
       "{'memory': None,\n",
       " 'steps': [('rus', RandomUnderSampler(random_state=42)),\n",
       "  ('rf', RandomForestClassifier(n_jobs=-1, random_state=42))],\n",
       " 'verbose': False,\n",
       " 'rus': RandomUnderSampler(random_state=42),\n",
       " 'rf': RandomForestClassifier(n_jobs=-1, random_state=42),\n",
       " 'rus__random_state': 42,\n",
       " 'rus__replacement': False,\n",
       " 'rus__sampling_strategy': 'auto',\n",
       " 'rf__bootstrap': True,\n",
       " 'rf__ccp_alpha': 0.0,\n",
       " 'rf__class_weight': None,\n",
       " 'rf__criterion': 'gini',\n",
       " 'rf__max_depth': None,\n",
       " 'rf__max_features': 'sqrt',\n",
       " 'rf__max_leaf_nodes': None,\n",
       " 'rf__max_samples': None,\n",
       " 'rf__min_impurity_decrease': 0.0,\n",
       " 'rf__min_samples_leaf': 1,\n",
       " 'rf__min_samples_split': 2,\n",
       " 'rf__min_weight_fraction_leaf': 0.0,\n",
       " 'rf__n_estimators': 100,\n",
       " 'rf__n_jobs': -1,\n",
       " 'rf__oob_score': False,\n",
       " 'rf__random_state': 42,\n",
       " 'rf__verbose': 0,\n",
       " 'rf__warm_start': False}"
      ]
     },
     "execution_count": 35,
     "metadata": {},
     "output_type": "execute_result"
    }
   ],
   "source": [
    "# Get params for pipeline\n",
    "pipe_rf_rus.get_params()"
   ]
  },
  {
   "cell_type": "code",
   "execution_count": 36,
   "id": "1f98da0a-f224-4e5b-90c5-b322725eda7d",
   "metadata": {},
   "outputs": [],
   "source": [
    "# Define dict of hyperparameters tuning\n",
    "rf_rus_params = {\n",
    "    'rf__min_samples_leaf': [1, 5, 10, 15, 20],\n",
    "    'rf__n_estimators': [100, 150, 200, 250, 300],\n",
    "    'rf__class_weight': [None, \"balanced\"]\n",
    "}"
   ]
  },
  {
   "cell_type": "code",
   "execution_count": 37,
   "id": "57e7f3b4-0204-47bd-a59f-fd75bfba3d49",
   "metadata": {},
   "outputs": [],
   "source": [
    "# Instantiate GridsearchCV model\n",
    "grid_rf_rus = GridSearchCV(pipe_rf_rus,\n",
    "                           param_grid = rf_rus_params,\n",
    "                           scoring = 'f1',\n",
    "                           cv = 5,\n",
    "                           n_jobs = -1,\n",
    "                           verbose = 1\n",
    "                          )"
   ]
  },
  {
   "cell_type": "code",
   "execution_count": 38,
   "id": "a02ce308-5968-41cb-9130-0821d19a8519",
   "metadata": {},
   "outputs": [
    {
     "name": "stdout",
     "output_type": "stream",
     "text": [
      "Fitting 5 folds for each of 50 candidates, totalling 250 fits\n"
     ]
    },
    {
     "data": {
      "text/html": [
       "<style>#sk-container-id-3 {color: black;background-color: white;}#sk-container-id-3 pre{padding: 0;}#sk-container-id-3 div.sk-toggleable {background-color: white;}#sk-container-id-3 label.sk-toggleable__label {cursor: pointer;display: block;width: 100%;margin-bottom: 0;padding: 0.3em;box-sizing: border-box;text-align: center;}#sk-container-id-3 label.sk-toggleable__label-arrow:before {content: \"▸\";float: left;margin-right: 0.25em;color: #696969;}#sk-container-id-3 label.sk-toggleable__label-arrow:hover:before {color: black;}#sk-container-id-3 div.sk-estimator:hover label.sk-toggleable__label-arrow:before {color: black;}#sk-container-id-3 div.sk-toggleable__content {max-height: 0;max-width: 0;overflow: hidden;text-align: left;background-color: #f0f8ff;}#sk-container-id-3 div.sk-toggleable__content pre {margin: 0.2em;color: black;border-radius: 0.25em;background-color: #f0f8ff;}#sk-container-id-3 input.sk-toggleable__control:checked~div.sk-toggleable__content {max-height: 200px;max-width: 100%;overflow: auto;}#sk-container-id-3 input.sk-toggleable__control:checked~label.sk-toggleable__label-arrow:before {content: \"▾\";}#sk-container-id-3 div.sk-estimator input.sk-toggleable__control:checked~label.sk-toggleable__label {background-color: #d4ebff;}#sk-container-id-3 div.sk-label input.sk-toggleable__control:checked~label.sk-toggleable__label {background-color: #d4ebff;}#sk-container-id-3 input.sk-hidden--visually {border: 0;clip: rect(1px 1px 1px 1px);clip: rect(1px, 1px, 1px, 1px);height: 1px;margin: -1px;overflow: hidden;padding: 0;position: absolute;width: 1px;}#sk-container-id-3 div.sk-estimator {font-family: monospace;background-color: #f0f8ff;border: 1px dotted black;border-radius: 0.25em;box-sizing: border-box;margin-bottom: 0.5em;}#sk-container-id-3 div.sk-estimator:hover {background-color: #d4ebff;}#sk-container-id-3 div.sk-parallel-item::after {content: \"\";width: 100%;border-bottom: 1px solid gray;flex-grow: 1;}#sk-container-id-3 div.sk-label:hover label.sk-toggleable__label {background-color: #d4ebff;}#sk-container-id-3 div.sk-serial::before {content: \"\";position: absolute;border-left: 1px solid gray;box-sizing: border-box;top: 0;bottom: 0;left: 50%;z-index: 0;}#sk-container-id-3 div.sk-serial {display: flex;flex-direction: column;align-items: center;background-color: white;padding-right: 0.2em;padding-left: 0.2em;position: relative;}#sk-container-id-3 div.sk-item {position: relative;z-index: 1;}#sk-container-id-3 div.sk-parallel {display: flex;align-items: stretch;justify-content: center;background-color: white;position: relative;}#sk-container-id-3 div.sk-item::before, #sk-container-id-3 div.sk-parallel-item::before {content: \"\";position: absolute;border-left: 1px solid gray;box-sizing: border-box;top: 0;bottom: 0;left: 50%;z-index: -1;}#sk-container-id-3 div.sk-parallel-item {display: flex;flex-direction: column;z-index: 1;position: relative;background-color: white;}#sk-container-id-3 div.sk-parallel-item:first-child::after {align-self: flex-end;width: 50%;}#sk-container-id-3 div.sk-parallel-item:last-child::after {align-self: flex-start;width: 50%;}#sk-container-id-3 div.sk-parallel-item:only-child::after {width: 0;}#sk-container-id-3 div.sk-dashed-wrapped {border: 1px dashed gray;margin: 0 0.4em 0.5em 0.4em;box-sizing: border-box;padding-bottom: 0.4em;background-color: white;}#sk-container-id-3 div.sk-label label {font-family: monospace;font-weight: bold;display: inline-block;line-height: 1.2em;}#sk-container-id-3 div.sk-label-container {text-align: center;}#sk-container-id-3 div.sk-container {/* jupyter's `normalize.less` sets `[hidden] { display: none; }` but bootstrap.min.css set `[hidden] { display: none !important; }` so we also need the `!important` here to be able to override the default hidden behavior on the sphinx rendered scikit-learn.org. See: https://github.com/scikit-learn/scikit-learn/issues/21755 */display: inline-block !important;position: relative;}#sk-container-id-3 div.sk-text-repr-fallback {display: none;}</style><div id=\"sk-container-id-3\" class=\"sk-top-container\"><div class=\"sk-text-repr-fallback\"><pre>GridSearchCV(cv=5,\n",
       "             estimator=Pipeline(steps=[(&#x27;rus&#x27;,\n",
       "                                        RandomUnderSampler(random_state=42)),\n",
       "                                       (&#x27;rf&#x27;,\n",
       "                                        RandomForestClassifier(n_jobs=-1,\n",
       "                                                               random_state=42))]),\n",
       "             n_jobs=-1,\n",
       "             param_grid={&#x27;rf__class_weight&#x27;: [None, &#x27;balanced&#x27;],\n",
       "                         &#x27;rf__min_samples_leaf&#x27;: [1, 5, 10, 15, 20],\n",
       "                         &#x27;rf__n_estimators&#x27;: [100, 150, 200, 250, 300]},\n",
       "             scoring=&#x27;f1&#x27;, verbose=1)</pre><b>In a Jupyter environment, please rerun this cell to show the HTML representation or trust the notebook. <br />On GitHub, the HTML representation is unable to render, please try loading this page with nbviewer.org.</b></div><div class=\"sk-container\" hidden><div class=\"sk-item sk-dashed-wrapped\"><div class=\"sk-label-container\"><div class=\"sk-label sk-toggleable\"><input class=\"sk-toggleable__control sk-hidden--visually\" id=\"sk-estimator-id-9\" type=\"checkbox\" ><label for=\"sk-estimator-id-9\" class=\"sk-toggleable__label sk-toggleable__label-arrow\">GridSearchCV</label><div class=\"sk-toggleable__content\"><pre>GridSearchCV(cv=5,\n",
       "             estimator=Pipeline(steps=[(&#x27;rus&#x27;,\n",
       "                                        RandomUnderSampler(random_state=42)),\n",
       "                                       (&#x27;rf&#x27;,\n",
       "                                        RandomForestClassifier(n_jobs=-1,\n",
       "                                                               random_state=42))]),\n",
       "             n_jobs=-1,\n",
       "             param_grid={&#x27;rf__class_weight&#x27;: [None, &#x27;balanced&#x27;],\n",
       "                         &#x27;rf__min_samples_leaf&#x27;: [1, 5, 10, 15, 20],\n",
       "                         &#x27;rf__n_estimators&#x27;: [100, 150, 200, 250, 300]},\n",
       "             scoring=&#x27;f1&#x27;, verbose=1)</pre></div></div></div><div class=\"sk-parallel\"><div class=\"sk-parallel-item\"><div class=\"sk-item\"><div class=\"sk-label-container\"><div class=\"sk-label sk-toggleable\"><input class=\"sk-toggleable__control sk-hidden--visually\" id=\"sk-estimator-id-10\" type=\"checkbox\" ><label for=\"sk-estimator-id-10\" class=\"sk-toggleable__label sk-toggleable__label-arrow\">estimator: Pipeline</label><div class=\"sk-toggleable__content\"><pre>Pipeline(steps=[(&#x27;rus&#x27;, RandomUnderSampler(random_state=42)),\n",
       "                (&#x27;rf&#x27;, RandomForestClassifier(n_jobs=-1, random_state=42))])</pre></div></div></div><div class=\"sk-serial\"><div class=\"sk-item\"><div class=\"sk-serial\"><div class=\"sk-item\"><div class=\"sk-estimator sk-toggleable\"><input class=\"sk-toggleable__control sk-hidden--visually\" id=\"sk-estimator-id-11\" type=\"checkbox\" ><label for=\"sk-estimator-id-11\" class=\"sk-toggleable__label sk-toggleable__label-arrow\">RandomUnderSampler</label><div class=\"sk-toggleable__content\"><pre>RandomUnderSampler(random_state=42)</pre></div></div></div><div class=\"sk-item\"><div class=\"sk-estimator sk-toggleable\"><input class=\"sk-toggleable__control sk-hidden--visually\" id=\"sk-estimator-id-12\" type=\"checkbox\" ><label for=\"sk-estimator-id-12\" class=\"sk-toggleable__label sk-toggleable__label-arrow\">RandomForestClassifier</label><div class=\"sk-toggleable__content\"><pre>RandomForestClassifier(n_jobs=-1, random_state=42)</pre></div></div></div></div></div></div></div></div></div></div></div></div>"
      ],
      "text/plain": [
       "GridSearchCV(cv=5,\n",
       "             estimator=Pipeline(steps=[('rus',\n",
       "                                        RandomUnderSampler(random_state=42)),\n",
       "                                       ('rf',\n",
       "                                        RandomForestClassifier(n_jobs=-1,\n",
       "                                                               random_state=42))]),\n",
       "             n_jobs=-1,\n",
       "             param_grid={'rf__class_weight': [None, 'balanced'],\n",
       "                         'rf__min_samples_leaf': [1, 5, 10, 15, 20],\n",
       "                         'rf__n_estimators': [100, 150, 200, 250, 300]},\n",
       "             scoring='f1', verbose=1)"
      ]
     },
     "execution_count": 38,
     "metadata": {},
     "output_type": "execute_result"
    }
   ],
   "source": [
    "# fit the model into train\n",
    "grid_rf_rus.fit(X_train_sc, y_train)"
   ]
  },
  {
   "cell_type": "code",
   "execution_count": 39,
   "id": "a7e8c9f8-3922-46a8-9841-00909bc487d0",
   "metadata": {
    "scrolled": true,
    "tags": []
   },
   "outputs": [
    {
     "data": {
      "text/html": [
       "<div>\n",
       "<style scoped>\n",
       "    .dataframe tbody tr th:only-of-type {\n",
       "        vertical-align: middle;\n",
       "    }\n",
       "\n",
       "    .dataframe tbody tr th {\n",
       "        vertical-align: top;\n",
       "    }\n",
       "\n",
       "    .dataframe thead th {\n",
       "        text-align: right;\n",
       "    }\n",
       "</style>\n",
       "<table border=\"1\" class=\"dataframe\">\n",
       "  <thead>\n",
       "    <tr style=\"text-align: right;\">\n",
       "      <th></th>\n",
       "      <th>mean_fit_time</th>\n",
       "      <th>std_fit_time</th>\n",
       "      <th>mean_score_time</th>\n",
       "      <th>std_score_time</th>\n",
       "      <th>param_rf__class_weight</th>\n",
       "      <th>param_rf__min_samples_leaf</th>\n",
       "      <th>param_rf__n_estimators</th>\n",
       "      <th>params</th>\n",
       "      <th>split0_test_score</th>\n",
       "      <th>split1_test_score</th>\n",
       "      <th>split2_test_score</th>\n",
       "      <th>split3_test_score</th>\n",
       "      <th>split4_test_score</th>\n",
       "      <th>mean_test_score</th>\n",
       "      <th>std_test_score</th>\n",
       "      <th>rank_test_score</th>\n",
       "    </tr>\n",
       "  </thead>\n",
       "  <tbody>\n",
       "    <tr>\n",
       "      <th>9</th>\n",
       "      <td>1.453054</td>\n",
       "      <td>0.082065</td>\n",
       "      <td>0.165673</td>\n",
       "      <td>0.003891</td>\n",
       "      <td>None</td>\n",
       "      <td>5</td>\n",
       "      <td>300</td>\n",
       "      <td>{'rf__class_weight': None, 'rf__min_samples_leaf': 5, 'rf__n_estimators': 300}</td>\n",
       "      <td>0.230159</td>\n",
       "      <td>0.243386</td>\n",
       "      <td>0.235294</td>\n",
       "      <td>0.231933</td>\n",
       "      <td>0.183362</td>\n",
       "      <td>0.224827</td>\n",
       "      <td>0.021224</td>\n",
       "      <td>1</td>\n",
       "    </tr>\n",
       "    <tr>\n",
       "      <th>34</th>\n",
       "      <td>1.442625</td>\n",
       "      <td>0.037252</td>\n",
       "      <td>0.152192</td>\n",
       "      <td>0.003253</td>\n",
       "      <td>balanced</td>\n",
       "      <td>5</td>\n",
       "      <td>300</td>\n",
       "      <td>{'rf__class_weight': 'balanced', 'rf__min_samples_leaf': 5, 'rf__n_estimators': 300}</td>\n",
       "      <td>0.230159</td>\n",
       "      <td>0.243386</td>\n",
       "      <td>0.235294</td>\n",
       "      <td>0.231933</td>\n",
       "      <td>0.183362</td>\n",
       "      <td>0.224827</td>\n",
       "      <td>0.021224</td>\n",
       "      <td>1</td>\n",
       "    </tr>\n",
       "    <tr>\n",
       "      <th>33</th>\n",
       "      <td>1.107259</td>\n",
       "      <td>0.077859</td>\n",
       "      <td>0.145420</td>\n",
       "      <td>0.010762</td>\n",
       "      <td>balanced</td>\n",
       "      <td>5</td>\n",
       "      <td>250</td>\n",
       "      <td>{'rf__class_weight': 'balanced', 'rf__min_samples_leaf': 5, 'rf__n_estimators': 250}</td>\n",
       "      <td>0.225743</td>\n",
       "      <td>0.237347</td>\n",
       "      <td>0.236136</td>\n",
       "      <td>0.231933</td>\n",
       "      <td>0.182741</td>\n",
       "      <td>0.222780</td>\n",
       "      <td>0.020427</td>\n",
       "      <td>3</td>\n",
       "    </tr>\n",
       "    <tr>\n",
       "      <th>8</th>\n",
       "      <td>1.111957</td>\n",
       "      <td>0.055789</td>\n",
       "      <td>0.134639</td>\n",
       "      <td>0.003732</td>\n",
       "      <td>None</td>\n",
       "      <td>5</td>\n",
       "      <td>250</td>\n",
       "      <td>{'rf__class_weight': None, 'rf__min_samples_leaf': 5, 'rf__n_estimators': 250}</td>\n",
       "      <td>0.225743</td>\n",
       "      <td>0.237347</td>\n",
       "      <td>0.236136</td>\n",
       "      <td>0.231933</td>\n",
       "      <td>0.182741</td>\n",
       "      <td>0.222780</td>\n",
       "      <td>0.020427</td>\n",
       "      <td>3</td>\n",
       "    </tr>\n",
       "    <tr>\n",
       "      <th>39</th>\n",
       "      <td>1.419077</td>\n",
       "      <td>0.052981</td>\n",
       "      <td>0.163023</td>\n",
       "      <td>0.001894</td>\n",
       "      <td>balanced</td>\n",
       "      <td>10</td>\n",
       "      <td>300</td>\n",
       "      <td>{'rf__class_weight': 'balanced', 'rf__min_samples_leaf': 10, 'rf__n_estimators': 300}</td>\n",
       "      <td>0.225243</td>\n",
       "      <td>0.239203</td>\n",
       "      <td>0.234657</td>\n",
       "      <td>0.224359</td>\n",
       "      <td>0.188235</td>\n",
       "      <td>0.222339</td>\n",
       "      <td>0.017954</td>\n",
       "      <td>5</td>\n",
       "    </tr>\n",
       "  </tbody>\n",
       "</table>\n",
       "</div>"
      ],
      "text/plain": [
       "    mean_fit_time  std_fit_time  mean_score_time  std_score_time  \\\n",
       "9        1.453054      0.082065         0.165673        0.003891   \n",
       "34       1.442625      0.037252         0.152192        0.003253   \n",
       "33       1.107259      0.077859         0.145420        0.010762   \n",
       "8        1.111957      0.055789         0.134639        0.003732   \n",
       "39       1.419077      0.052981         0.163023        0.001894   \n",
       "\n",
       "   param_rf__class_weight param_rf__min_samples_leaf param_rf__n_estimators  \\\n",
       "9                    None                          5                    300   \n",
       "34               balanced                          5                    300   \n",
       "33               balanced                          5                    250   \n",
       "8                    None                          5                    250   \n",
       "39               balanced                         10                    300   \n",
       "\n",
       "                                                                                   params  \\\n",
       "9          {'rf__class_weight': None, 'rf__min_samples_leaf': 5, 'rf__n_estimators': 300}   \n",
       "34   {'rf__class_weight': 'balanced', 'rf__min_samples_leaf': 5, 'rf__n_estimators': 300}   \n",
       "33   {'rf__class_weight': 'balanced', 'rf__min_samples_leaf': 5, 'rf__n_estimators': 250}   \n",
       "8          {'rf__class_weight': None, 'rf__min_samples_leaf': 5, 'rf__n_estimators': 250}   \n",
       "39  {'rf__class_weight': 'balanced', 'rf__min_samples_leaf': 10, 'rf__n_estimators': 300}   \n",
       "\n",
       "    split0_test_score  split1_test_score  split2_test_score  \\\n",
       "9            0.230159           0.243386           0.235294   \n",
       "34           0.230159           0.243386           0.235294   \n",
       "33           0.225743           0.237347           0.236136   \n",
       "8            0.225743           0.237347           0.236136   \n",
       "39           0.225243           0.239203           0.234657   \n",
       "\n",
       "    split3_test_score  split4_test_score  mean_test_score  std_test_score  \\\n",
       "9            0.231933           0.183362         0.224827        0.021224   \n",
       "34           0.231933           0.183362         0.224827        0.021224   \n",
       "33           0.231933           0.182741         0.222780        0.020427   \n",
       "8            0.231933           0.182741         0.222780        0.020427   \n",
       "39           0.224359           0.188235         0.222339        0.017954   \n",
       "\n",
       "    rank_test_score  \n",
       "9                 1  \n",
       "34                1  \n",
       "33                3  \n",
       "8                 3  \n",
       "39                5  "
      ]
     },
     "execution_count": 39,
     "metadata": {},
     "output_type": "execute_result"
    }
   ],
   "source": [
    "# Show the top 5 best scores with their params\n",
    "pd.DataFrame(grid_rf_rus.cv_results_).sort_values('rank_test_score').head()"
   ]
  },
  {
   "cell_type": "code",
   "execution_count": 40,
   "id": "fc295cfd-1363-4c60-941c-55016b3b4f32",
   "metadata": {},
   "outputs": [],
   "source": [
    "# Generate predictions from RF & RUS\n",
    "y_pred_rf_rus = grid_rf_rus.predict(X_test_sc)"
   ]
  },
  {
   "cell_type": "code",
   "execution_count": 41,
   "id": "6cacc6d1-bada-4a51-addd-75955b3edfa0",
   "metadata": {},
   "outputs": [
    {
     "name": "stdout",
     "output_type": "stream",
     "text": [
      "              precision    recall  f1-score   support\n",
      "\n",
      "           0       0.98      0.71      0.82      2489\n",
      "           1       0.12      0.71      0.20       138\n",
      "\n",
      "    accuracy                           0.71      2627\n",
      "   macro avg       0.55      0.71      0.51      2627\n",
      "weighted avg       0.93      0.71      0.79      2627\n",
      "\n"
     ]
    }
   ],
   "source": [
    "# Show classification metrics report for RF & RUS\n",
    "print(classification_report(y_test, y_pred_rf_rus))"
   ]
  },
  {
   "cell_type": "code",
   "execution_count": 42,
   "id": "900556ce-6d86-482e-9600-b9938b749e5a",
   "metadata": {},
   "outputs": [
    {
     "data": {
      "text/plain": [
       "0.8"
      ]
     },
     "execution_count": 42,
     "metadata": {},
     "output_type": "execute_result"
    }
   ],
   "source": [
    "# Show ROC AUC score\n",
    "round(roc_auc_score(y_test, grid_rf_rus.predict_proba(X_test_sc)[:,1]),2)"
   ]
  },
  {
   "cell_type": "code",
   "execution_count": 43,
   "id": "631d85c0-5c6b-4465-867c-190c4bc45172",
   "metadata": {},
   "outputs": [
    {
     "data": {
      "image/png": "[encoded data removed]",
      "text/plain": [
       "<Figure size 640x480 with 2 Axes>"
      ]
     },
     "metadata": {},
     "output_type": "display_data"
    }
   ],
   "source": [
    "# Display confusion matrix for RF & RUS\n",
    "conf_matrix(y_pred_rf_rus)"
   ]
  },
  {
   "cell_type": "markdown",
   "id": "43bf09ef-b2ff-4c99-9956-19f8e72d0d45",
   "metadata": {},
   "source": [
    "### k-Nearest Neighbor Classifier with SMOTE"
   ]
  },
  {
   "cell_type": "code",
   "execution_count": 44,
   "id": "698090a3-6ed1-4950-acc7-6ab22d3ea768",
   "metadata": {
    "tags": []
   },
   "outputs": [],
   "source": [
    "# Instantiate Pipeline\n",
    "pipe_knn_smote = Pipeline([\n",
    "    ('smt', SMOTE(random_state=42, n_jobs=-1)),\n",
    "    ('knn', KNeighborsClassifier(n_jobs=-1))\n",
    "])"
   ]
  },
  {
   "cell_type": "code",
   "execution_count": 45,
   "id": "0946dcc5-764c-4695-bd8e-4e1404a80249",
   "metadata": {
    "tags": []
   },
   "outputs": [
    {
     "data": {
      "text/plain": [
       "{'memory': None,\n",
       " 'steps': [('smt', SMOTE(n_jobs=-1, random_state=42)),\n",
       "  ('knn', KNeighborsClassifier(n_jobs=-1))],\n",
       " 'verbose': False,\n",
       " 'smt': SMOTE(n_jobs=-1, random_state=42),\n",
       " 'knn': KNeighborsClassifier(n_jobs=-1),\n",
       " 'smt__k_neighbors': 5,\n",
       " 'smt__n_jobs': -1,\n",
       " 'smt__random_state': 42,\n",
       " 'smt__sampling_strategy': 'auto',\n",
       " 'knn__algorithm': 'auto',\n",
       " 'knn__leaf_size': 30,\n",
       " 'knn__metric': 'minkowski',\n",
       " 'knn__metric_params': None,\n",
       " 'knn__n_jobs': -1,\n",
       " 'knn__n_neighbors': 5,\n",
       " 'knn__p': 2,\n",
       " 'knn__weights': 'uniform'}"
      ]
     },
     "execution_count": 45,
     "metadata": {},
     "output_type": "execute_result"
    }
   ],
   "source": [
    "# Get params for pipeline\n",
    "pipe_knn_smote.get_params()"
   ]
  },
  {
   "cell_type": "code",
   "execution_count": 46,
   "id": "0e45d244-caef-4469-ada4-4736438ccc45",
   "metadata": {},
   "outputs": [],
   "source": [
    "# Define dict of hyperparameters tuning\n",
    "knn_smote_params = {\n",
    "    'knn__n_neighbors': [3, 5, 7, 9, 11, 13, 15],\n",
    "    'knn__weights': ['uniform', 'distance'],\n",
    "    'knn__p': [1, 2]\n",
    "}"
   ]
  },
  {
   "cell_type": "code",
   "execution_count": 47,
   "id": "3780b31f-8c2e-466f-b9ef-f1deb965e55c",
   "metadata": {},
   "outputs": [],
   "source": [
    "# Instantiate GridsearchCV model\n",
    "grid_knn_smote = GridSearchCV(pipe_knn_smote,\n",
    "                              param_grid = knn_smote_params,\n",
    "                              scoring = 'f1',\n",
    "                              cv = 5,\n",
    "                              n_jobs = -1,\n",
    "                              verbose = 1\n",
    "                             )"
   ]
  },
  {
   "cell_type": "code",
   "execution_count": 48,
   "id": "62655213-8d3f-4a31-b361-8ff0cdcbf71e",
   "metadata": {},
   "outputs": [
    {
     "name": "stdout",
     "output_type": "stream",
     "text": [
      "Fitting 5 folds for each of 28 candidates, totalling 140 fits\n"
     ]
    },
    {
     "data": {
      "text/html": [
       "<style>#sk-container-id-4 {color: black;background-color: white;}#sk-container-id-4 pre{padding: 0;}#sk-container-id-4 div.sk-toggleable {background-color: white;}#sk-container-id-4 label.sk-toggleable__label {cursor: pointer;display: block;width: 100%;margin-bottom: 0;padding: 0.3em;box-sizing: border-box;text-align: center;}#sk-container-id-4 label.sk-toggleable__label-arrow:before {content: \"▸\";float: left;margin-right: 0.25em;color: #696969;}#sk-container-id-4 label.sk-toggleable__label-arrow:hover:before {color: black;}#sk-container-id-4 div.sk-estimator:hover label.sk-toggleable__label-arrow:before {color: black;}#sk-container-id-4 div.sk-toggleable__content {max-height: 0;max-width: 0;overflow: hidden;text-align: left;background-color: #f0f8ff;}#sk-container-id-4 div.sk-toggleable__content pre {margin: 0.2em;color: black;border-radius: 0.25em;background-color: #f0f8ff;}#sk-container-id-4 input.sk-toggleable__control:checked~div.sk-toggleable__content {max-height: 200px;max-width: 100%;overflow: auto;}#sk-container-id-4 input.sk-toggleable__control:checked~label.sk-toggleable__label-arrow:before {content: \"▾\";}#sk-container-id-4 div.sk-estimator input.sk-toggleable__control:checked~label.sk-toggleable__label {background-color: #d4ebff;}#sk-container-id-4 div.sk-label input.sk-toggleable__control:checked~label.sk-toggleable__label {background-color: #d4ebff;}#sk-container-id-4 input.sk-hidden--visually {border: 0;clip: rect(1px 1px 1px 1px);clip: rect(1px, 1px, 1px, 1px);height: 1px;margin: -1px;overflow: hidden;padding: 0;position: absolute;width: 1px;}#sk-container-id-4 div.sk-estimator {font-family: monospace;background-color: #f0f8ff;border: 1px dotted black;border-radius: 0.25em;box-sizing: border-box;margin-bottom: 0.5em;}#sk-container-id-4 div.sk-estimator:hover {background-color: #d4ebff;}#sk-container-id-4 div.sk-parallel-item::after {content: \"\";width: 100%;border-bottom: 1px solid gray;flex-grow: 1;}#sk-container-id-4 div.sk-label:hover label.sk-toggleable__label {background-color: #d4ebff;}#sk-container-id-4 div.sk-serial::before {content: \"\";position: absolute;border-left: 1px solid gray;box-sizing: border-box;top: 0;bottom: 0;left: 50%;z-index: 0;}#sk-container-id-4 div.sk-serial {display: flex;flex-direction: column;align-items: center;background-color: white;padding-right: 0.2em;padding-left: 0.2em;position: relative;}#sk-container-id-4 div.sk-item {position: relative;z-index: 1;}#sk-container-id-4 div.sk-parallel {display: flex;align-items: stretch;justify-content: center;background-color: white;position: relative;}#sk-container-id-4 div.sk-item::before, #sk-container-id-4 div.sk-parallel-item::before {content: \"\";position: absolute;border-left: 1px solid gray;box-sizing: border-box;top: 0;bottom: 0;left: 50%;z-index: -1;}#sk-container-id-4 div.sk-parallel-item {display: flex;flex-direction: column;z-index: 1;position: relative;background-color: white;}#sk-container-id-4 div.sk-parallel-item:first-child::after {align-self: flex-end;width: 50%;}#sk-container-id-4 div.sk-parallel-item:last-child::after {align-self: flex-start;width: 50%;}#sk-container-id-4 div.sk-parallel-item:only-child::after {width: 0;}#sk-container-id-4 div.sk-dashed-wrapped {border: 1px dashed gray;margin: 0 0.4em 0.5em 0.4em;box-sizing: border-box;padding-bottom: 0.4em;background-color: white;}#sk-container-id-4 div.sk-label label {font-family: monospace;font-weight: bold;display: inline-block;line-height: 1.2em;}#sk-container-id-4 div.sk-label-container {text-align: center;}#sk-container-id-4 div.sk-container {/* jupyter's `normalize.less` sets `[hidden] { display: none; }` but bootstrap.min.css set `[hidden] { display: none !important; }` so we also need the `!important` here to be able to override the default hidden behavior on the sphinx rendered scikit-learn.org. See: https://github.com/scikit-learn/scikit-learn/issues/21755 */display: inline-block !important;position: relative;}#sk-container-id-4 div.sk-text-repr-fallback {display: none;}</style><div id=\"sk-container-id-4\" class=\"sk-top-container\"><div class=\"sk-text-repr-fallback\"><pre>GridSearchCV(cv=5,\n",
       "             estimator=Pipeline(steps=[(&#x27;smt&#x27;,\n",
       "                                        SMOTE(n_jobs=-1, random_state=42)),\n",
       "                                       (&#x27;knn&#x27;,\n",
       "                                        KNeighborsClassifier(n_jobs=-1))]),\n",
       "             n_jobs=-1,\n",
       "             param_grid={&#x27;knn__n_neighbors&#x27;: [3, 5, 7, 9, 11, 13, 15],\n",
       "                         &#x27;knn__p&#x27;: [1, 2],\n",
       "                         &#x27;knn__weights&#x27;: [&#x27;uniform&#x27;, &#x27;distance&#x27;]},\n",
       "             scoring=&#x27;f1&#x27;, verbose=1)</pre><b>In a Jupyter environment, please rerun this cell to show the HTML representation or trust the notebook. <br />On GitHub, the HTML representation is unable to render, please try loading this page with nbviewer.org.</b></div><div class=\"sk-container\" hidden><div class=\"sk-item sk-dashed-wrapped\"><div class=\"sk-label-container\"><div class=\"sk-label sk-toggleable\"><input class=\"sk-toggleable__control sk-hidden--visually\" id=\"sk-estimator-id-13\" type=\"checkbox\" ><label for=\"sk-estimator-id-13\" class=\"sk-toggleable__label sk-toggleable__label-arrow\">GridSearchCV</label><div class=\"sk-toggleable__content\"><pre>GridSearchCV(cv=5,\n",
       "             estimator=Pipeline(steps=[(&#x27;smt&#x27;,\n",
       "                                        SMOTE(n_jobs=-1, random_state=42)),\n",
       "                                       (&#x27;knn&#x27;,\n",
       "                                        KNeighborsClassifier(n_jobs=-1))]),\n",
       "             n_jobs=-1,\n",
       "             param_grid={&#x27;knn__n_neighbors&#x27;: [3, 5, 7, 9, 11, 13, 15],\n",
       "                         &#x27;knn__p&#x27;: [1, 2],\n",
       "                         &#x27;knn__weights&#x27;: [&#x27;uniform&#x27;, &#x27;distance&#x27;]},\n",
       "             scoring=&#x27;f1&#x27;, verbose=1)</pre></div></div></div><div class=\"sk-parallel\"><div class=\"sk-parallel-item\"><div class=\"sk-item\"><div class=\"sk-label-container\"><div class=\"sk-label sk-toggleable\"><input class=\"sk-toggleable__control sk-hidden--visually\" id=\"sk-estimator-id-14\" type=\"checkbox\" ><label for=\"sk-estimator-id-14\" class=\"sk-toggleable__label sk-toggleable__label-arrow\">estimator: Pipeline</label><div class=\"sk-toggleable__content\"><pre>Pipeline(steps=[(&#x27;smt&#x27;, SMOTE(n_jobs=-1, random_state=42)),\n",
       "                (&#x27;knn&#x27;, KNeighborsClassifier(n_jobs=-1))])</pre></div></div></div><div class=\"sk-serial\"><div class=\"sk-item\"><div class=\"sk-serial\"><div class=\"sk-item\"><div class=\"sk-estimator sk-toggleable\"><input class=\"sk-toggleable__control sk-hidden--visually\" id=\"sk-estimator-id-15\" type=\"checkbox\" ><label for=\"sk-estimator-id-15\" class=\"sk-toggleable__label sk-toggleable__label-arrow\">SMOTE</label><div class=\"sk-toggleable__content\"><pre>SMOTE(n_jobs=-1, random_state=42)</pre></div></div></div><div class=\"sk-item\"><div class=\"sk-estimator sk-toggleable\"><input class=\"sk-toggleable__control sk-hidden--visually\" id=\"sk-estimator-id-16\" type=\"checkbox\" ><label for=\"sk-estimator-id-16\" class=\"sk-toggleable__label sk-toggleable__label-arrow\">KNeighborsClassifier</label><div class=\"sk-toggleable__content\"><pre>KNeighborsClassifier(n_jobs=-1)</pre></div></div></div></div></div></div></div></div></div></div></div></div>"
      ],
      "text/plain": [
       "GridSearchCV(cv=5,\n",
       "             estimator=Pipeline(steps=[('smt',\n",
       "                                        SMOTE(n_jobs=-1, random_state=42)),\n",
       "                                       ('knn',\n",
       "                                        KNeighborsClassifier(n_jobs=-1))]),\n",
       "             n_jobs=-1,\n",
       "             param_grid={'knn__n_neighbors': [3, 5, 7, 9, 11, 13, 15],\n",
       "                         'knn__p': [1, 2],\n",
       "                         'knn__weights': ['uniform', 'distance']},\n",
       "             scoring='f1', verbose=1)"
      ]
     },
     "execution_count": 48,
     "metadata": {},
     "output_type": "execute_result"
    }
   ],
   "source": [
    "# fit the model into train\n",
    "grid_knn_smote.fit(X_train_sc, y_train)"
   ]
  },
  {
   "cell_type": "code",
   "execution_count": 49,
   "id": "79a0f8d1-70bd-4044-9e43-d20191b3f1de",
   "metadata": {
    "scrolled": true,
    "tags": []
   },
   "outputs": [
    {
     "data": {
      "text/html": [
       "<div>\n",
       "<style scoped>\n",
       "    .dataframe tbody tr th:only-of-type {\n",
       "        vertical-align: middle;\n",
       "    }\n",
       "\n",
       "    .dataframe tbody tr th {\n",
       "        vertical-align: top;\n",
       "    }\n",
       "\n",
       "    .dataframe thead th {\n",
       "        text-align: right;\n",
       "    }\n",
       "</style>\n",
       "<table border=\"1\" class=\"dataframe\">\n",
       "  <thead>\n",
       "    <tr style=\"text-align: right;\">\n",
       "      <th></th>\n",
       "      <th>mean_fit_time</th>\n",
       "      <th>std_fit_time</th>\n",
       "      <th>mean_score_time</th>\n",
       "      <th>std_score_time</th>\n",
       "      <th>param_knn__n_neighbors</th>\n",
       "      <th>param_knn__p</th>\n",
       "      <th>param_knn__weights</th>\n",
       "      <th>params</th>\n",
       "      <th>split0_test_score</th>\n",
       "      <th>split1_test_score</th>\n",
       "      <th>split2_test_score</th>\n",
       "      <th>split3_test_score</th>\n",
       "      <th>split4_test_score</th>\n",
       "      <th>mean_test_score</th>\n",
       "      <th>std_test_score</th>\n",
       "      <th>rank_test_score</th>\n",
       "    </tr>\n",
       "  </thead>\n",
       "  <tbody>\n",
       "    <tr>\n",
       "      <th>20</th>\n",
       "      <td>0.015757</td>\n",
       "      <td>0.005897</td>\n",
       "      <td>0.848261</td>\n",
       "      <td>0.023895</td>\n",
       "      <td>13</td>\n",
       "      <td>1</td>\n",
       "      <td>uniform</td>\n",
       "      <td>{'knn__n_neighbors': 13, 'knn__p': 1, 'knn__weights': 'uniform'}</td>\n",
       "      <td>0.245614</td>\n",
       "      <td>0.194357</td>\n",
       "      <td>0.222222</td>\n",
       "      <td>0.284866</td>\n",
       "      <td>0.200608</td>\n",
       "      <td>0.229534</td>\n",
       "      <td>0.033009</td>\n",
       "      <td>1</td>\n",
       "    </tr>\n",
       "    <tr>\n",
       "      <th>16</th>\n",
       "      <td>0.018949</td>\n",
       "      <td>0.002185</td>\n",
       "      <td>0.871708</td>\n",
       "      <td>0.031110</td>\n",
       "      <td>11</td>\n",
       "      <td>1</td>\n",
       "      <td>uniform</td>\n",
       "      <td>{'knn__n_neighbors': 11, 'knn__p': 1, 'knn__weights': 'uniform'}</td>\n",
       "      <td>0.235741</td>\n",
       "      <td>0.203390</td>\n",
       "      <td>0.197880</td>\n",
       "      <td>0.278638</td>\n",
       "      <td>0.225914</td>\n",
       "      <td>0.228313</td>\n",
       "      <td>0.028778</td>\n",
       "      <td>2</td>\n",
       "    </tr>\n",
       "    <tr>\n",
       "      <th>12</th>\n",
       "      <td>0.016355</td>\n",
       "      <td>0.001352</td>\n",
       "      <td>0.836834</td>\n",
       "      <td>0.007437</td>\n",
       "      <td>9</td>\n",
       "      <td>1</td>\n",
       "      <td>uniform</td>\n",
       "      <td>{'knn__n_neighbors': 9, 'knn__p': 1, 'knn__weights': 'uniform'}</td>\n",
       "      <td>0.227848</td>\n",
       "      <td>0.224638</td>\n",
       "      <td>0.205534</td>\n",
       "      <td>0.250000</td>\n",
       "      <td>0.216418</td>\n",
       "      <td>0.224887</td>\n",
       "      <td>0.014736</td>\n",
       "      <td>3</td>\n",
       "    </tr>\n",
       "    <tr>\n",
       "      <th>24</th>\n",
       "      <td>0.013762</td>\n",
       "      <td>0.002130</td>\n",
       "      <td>0.865068</td>\n",
       "      <td>0.032227</td>\n",
       "      <td>15</td>\n",
       "      <td>1</td>\n",
       "      <td>uniform</td>\n",
       "      <td>{'knn__n_neighbors': 15, 'knn__p': 1, 'knn__weights': 'uniform'}</td>\n",
       "      <td>0.242623</td>\n",
       "      <td>0.180758</td>\n",
       "      <td>0.231454</td>\n",
       "      <td>0.276471</td>\n",
       "      <td>0.188034</td>\n",
       "      <td>0.223868</td>\n",
       "      <td>0.035550</td>\n",
       "      <td>4</td>\n",
       "    </tr>\n",
       "    <tr>\n",
       "      <th>22</th>\n",
       "      <td>0.010970</td>\n",
       "      <td>0.002092</td>\n",
       "      <td>0.254730</td>\n",
       "      <td>0.006154</td>\n",
       "      <td>13</td>\n",
       "      <td>2</td>\n",
       "      <td>uniform</td>\n",
       "      <td>{'knn__n_neighbors': 13, 'knn__p': 2, 'knn__weights': 'uniform'}</td>\n",
       "      <td>0.223881</td>\n",
       "      <td>0.185615</td>\n",
       "      <td>0.213592</td>\n",
       "      <td>0.274882</td>\n",
       "      <td>0.183529</td>\n",
       "      <td>0.216300</td>\n",
       "      <td>0.033203</td>\n",
       "      <td>5</td>\n",
       "    </tr>\n",
       "  </tbody>\n",
       "</table>\n",
       "</div>"
      ],
      "text/plain": [
       "    mean_fit_time  std_fit_time  mean_score_time  std_score_time  \\\n",
       "20       0.015757      0.005897         0.848261        0.023895   \n",
       "16       0.018949      0.002185         0.871708        0.031110   \n",
       "12       0.016355      0.001352         0.836834        0.007437   \n",
       "24       0.013762      0.002130         0.865068        0.032227   \n",
       "22       0.010970      0.002092         0.254730        0.006154   \n",
       "\n",
       "   param_knn__n_neighbors param_knn__p param_knn__weights  \\\n",
       "20                     13            1            uniform   \n",
       "16                     11            1            uniform   \n",
       "12                      9            1            uniform   \n",
       "24                     15            1            uniform   \n",
       "22                     13            2            uniform   \n",
       "\n",
       "                                                              params  \\\n",
       "20  {'knn__n_neighbors': 13, 'knn__p': 1, 'knn__weights': 'uniform'}   \n",
       "16  {'knn__n_neighbors': 11, 'knn__p': 1, 'knn__weights': 'uniform'}   \n",
       "12   {'knn__n_neighbors': 9, 'knn__p': 1, 'knn__weights': 'uniform'}   \n",
       "24  {'knn__n_neighbors': 15, 'knn__p': 1, 'knn__weights': 'uniform'}   \n",
       "22  {'knn__n_neighbors': 13, 'knn__p': 2, 'knn__weights': 'uniform'}   \n",
       "\n",
       "    split0_test_score  split1_test_score  split2_test_score  \\\n",
       "20           0.245614           0.194357           0.222222   \n",
       "16           0.235741           0.203390           0.197880   \n",
       "12           0.227848           0.224638           0.205534   \n",
       "24           0.242623           0.180758           0.231454   \n",
       "22           0.223881           0.185615           0.213592   \n",
       "\n",
       "    split3_test_score  split4_test_score  mean_test_score  std_test_score  \\\n",
       "20           0.284866           0.200608         0.229534        0.033009   \n",
       "16           0.278638           0.225914         0.228313        0.028778   \n",
       "12           0.250000           0.216418         0.224887        0.014736   \n",
       "24           0.276471           0.188034         0.223868        0.035550   \n",
       "22           0.274882           0.183529         0.216300        0.033203   \n",
       "\n",
       "    rank_test_score  \n",
       "20                1  \n",
       "16                2  \n",
       "12                3  \n",
       "24                4  \n",
       "22                5  "
      ]
     },
     "execution_count": 49,
     "metadata": {},
     "output_type": "execute_result"
    }
   ],
   "source": [
    "# Show the top 5 best scores with their params\n",
    "pd.DataFrame(grid_knn_smote.cv_results_).sort_values('rank_test_score').head()"
   ]
  },
  {
   "cell_type": "code",
   "execution_count": 50,
   "id": "d39b47c5-2410-465d-8303-bcc8e74f551a",
   "metadata": {},
   "outputs": [],
   "source": [
    "# Generate predictions from kNN & SMOTE\n",
    "y_pred_knn_smote = grid_knn_smote.predict(X_test_sc)"
   ]
  },
  {
   "cell_type": "code",
   "execution_count": 51,
   "id": "84b6b99e-4767-4200-bc88-4013642a3b72",
   "metadata": {},
   "outputs": [
    {
     "name": "stdout",
     "output_type": "stream",
     "text": [
      "              precision    recall  f1-score   support\n",
      "\n",
      "           0       0.96      0.86      0.91      2489\n",
      "           1       0.14      0.41      0.21       138\n",
      "\n",
      "    accuracy                           0.84      2627\n",
      "   macro avg       0.55      0.64      0.56      2627\n",
      "weighted avg       0.92      0.84      0.87      2627\n",
      "\n"
     ]
    }
   ],
   "source": [
    "# Show classification metrics report for kNN & SMOTE\n",
    "print(classification_report(y_test, y_pred_knn_smote))"
   ]
  },
  {
   "cell_type": "code",
   "execution_count": 52,
   "id": "5b389f89-512c-4330-bdca-60fc361a66a7",
   "metadata": {},
   "outputs": [
    {
     "data": {
      "text/plain": [
       "0.73"
      ]
     },
     "execution_count": 52,
     "metadata": {},
     "output_type": "execute_result"
    }
   ],
   "source": [
    "# Show ROC AUC score\n",
    "round(roc_auc_score(y_test, grid_knn_smote.predict_proba(X_test_sc)[:,1]),2)"
   ]
  },
  {
   "cell_type": "code",
   "execution_count": 53,
   "id": "49941a71-965a-42b7-a3c3-846d18aaa1c1",
   "metadata": {},
   "outputs": [
    {
     "data": {
      "image/png": "[encoded data removed]",
      "text/plain": [
       "<Figure size 640x480 with 2 Axes>"
      ]
     },
     "metadata": {},
     "output_type": "display_data"
    }
   ],
   "source": [
    "# Display confusion matrix for kNN & SMOTE\n",
    "conf_matrix(y_pred_knn_smote)"
   ]
  },
  {
   "cell_type": "markdown",
   "id": "34bba284-f3e4-4a0d-81aa-fdbdd8aa8229",
   "metadata": {},
   "source": [
    "### k-Nearest Neighbor Classifier with RandomUnderSampler"
   ]
  },
  {
   "cell_type": "code",
   "execution_count": 54,
   "id": "533daff4-72d3-44a4-b11b-7358f374a1cb",
   "metadata": {
    "tags": []
   },
   "outputs": [],
   "source": [
    "# Instantiate Pipeline\n",
    "pipe_knn_rus = Pipeline([\n",
    "    ('rus', RandomUnderSampler(random_state=42)),\n",
    "    ('knn', KNeighborsClassifier(n_jobs=-1))\n",
    "])"
   ]
  },
  {
   "cell_type": "code",
   "execution_count": 55,
   "id": "51efded4-27fc-4c0c-b44b-54a098b8a39e",
   "metadata": {
    "tags": []
   },
   "outputs": [
    {
     "data": {
      "text/plain": [
       "{'memory': None,\n",
       " 'steps': [('rus', RandomUnderSampler(random_state=42)),\n",
       "  ('knn', KNeighborsClassifier(n_jobs=-1))],\n",
       " 'verbose': False,\n",
       " 'rus': RandomUnderSampler(random_state=42),\n",
       " 'knn': KNeighborsClassifier(n_jobs=-1),\n",
       " 'rus__random_state': 42,\n",
       " 'rus__replacement': False,\n",
       " 'rus__sampling_strategy': 'auto',\n",
       " 'knn__algorithm': 'auto',\n",
       " 'knn__leaf_size': 30,\n",
       " 'knn__metric': 'minkowski',\n",
       " 'knn__metric_params': None,\n",
       " 'knn__n_jobs': -1,\n",
       " 'knn__n_neighbors': 5,\n",
       " 'knn__p': 2,\n",
       " 'knn__weights': 'uniform'}"
      ]
     },
     "execution_count": 55,
     "metadata": {},
     "output_type": "execute_result"
    }
   ],
   "source": [
    "# Get params for pipeline\n",
    "pipe_knn_rus.get_params()"
   ]
  },
  {
   "cell_type": "code",
   "execution_count": 56,
   "id": "237e163b-06ac-49f0-8532-646a2d0886e8",
   "metadata": {},
   "outputs": [],
   "source": [
    "# Define dict of hyperparameters tuning\n",
    "knn_rus_params = {\n",
    "    'knn__n_neighbors': [3, 5, 7, 9, 11, 13, 15],\n",
    "    'knn__weights': ['uniform', 'distance'],\n",
    "    'knn__p': [1, 2]\n",
    "}"
   ]
  },
  {
   "cell_type": "code",
   "execution_count": 57,
   "id": "3ed7dc09-b49d-48b6-ac53-01eb30df774f",
   "metadata": {},
   "outputs": [],
   "source": [
    "# Instantiate GridsearchCV model\n",
    "grid_knn_rus = GridSearchCV(pipe_knn_rus,\n",
    "                            param_grid = knn_rus_params,\n",
    "                            scoring = 'f1',\n",
    "                            cv = 5,\n",
    "                            n_jobs = -1,\n",
    "                            verbose = 1\n",
    "                           )"
   ]
  },
  {
   "cell_type": "code",
   "execution_count": 58,
   "id": "4372217e-205a-41c2-b468-fb64033fd9d8",
   "metadata": {},
   "outputs": [
    {
     "name": "stdout",
     "output_type": "stream",
     "text": [
      "Fitting 5 folds for each of 28 candidates, totalling 140 fits\n"
     ]
    },
    {
     "data": {
      "text/html": [
       "<style>#sk-container-id-5 {color: black;background-color: white;}#sk-container-id-5 pre{padding: 0;}#sk-container-id-5 div.sk-toggleable {background-color: white;}#sk-container-id-5 label.sk-toggleable__label {cursor: pointer;display: block;width: 100%;margin-bottom: 0;padding: 0.3em;box-sizing: border-box;text-align: center;}#sk-container-id-5 label.sk-toggleable__label-arrow:before {content: \"▸\";float: left;margin-right: 0.25em;color: #696969;}#sk-container-id-5 label.sk-toggleable__label-arrow:hover:before {color: black;}#sk-container-id-5 div.sk-estimator:hover label.sk-toggleable__label-arrow:before {color: black;}#sk-container-id-5 div.sk-toggleable__content {max-height: 0;max-width: 0;overflow: hidden;text-align: left;background-color: #f0f8ff;}#sk-container-id-5 div.sk-toggleable__content pre {margin: 0.2em;color: black;border-radius: 0.25em;background-color: #f0f8ff;}#sk-container-id-5 input.sk-toggleable__control:checked~div.sk-toggleable__content {max-height: 200px;max-width: 100%;overflow: auto;}#sk-container-id-5 input.sk-toggleable__control:checked~label.sk-toggleable__label-arrow:before {content: \"▾\";}#sk-container-id-5 div.sk-estimator input.sk-toggleable__control:checked~label.sk-toggleable__label {background-color: #d4ebff;}#sk-container-id-5 div.sk-label input.sk-toggleable__control:checked~label.sk-toggleable__label {background-color: #d4ebff;}#sk-container-id-5 input.sk-hidden--visually {border: 0;clip: rect(1px 1px 1px 1px);clip: rect(1px, 1px, 1px, 1px);height: 1px;margin: -1px;overflow: hidden;padding: 0;position: absolute;width: 1px;}#sk-container-id-5 div.sk-estimator {font-family: monospace;background-color: #f0f8ff;border: 1px dotted black;border-radius: 0.25em;box-sizing: border-box;margin-bottom: 0.5em;}#sk-container-id-5 div.sk-estimator:hover {background-color: #d4ebff;}#sk-container-id-5 div.sk-parallel-item::after {content: \"\";width: 100%;border-bottom: 1px solid gray;flex-grow: 1;}#sk-container-id-5 div.sk-label:hover label.sk-toggleable__label {background-color: #d4ebff;}#sk-container-id-5 div.sk-serial::before {content: \"\";position: absolute;border-left: 1px solid gray;box-sizing: border-box;top: 0;bottom: 0;left: 50%;z-index: 0;}#sk-container-id-5 div.sk-serial {display: flex;flex-direction: column;align-items: center;background-color: white;padding-right: 0.2em;padding-left: 0.2em;position: relative;}#sk-container-id-5 div.sk-item {position: relative;z-index: 1;}#sk-container-id-5 div.sk-parallel {display: flex;align-items: stretch;justify-content: center;background-color: white;position: relative;}#sk-container-id-5 div.sk-item::before, #sk-container-id-5 div.sk-parallel-item::before {content: \"\";position: absolute;border-left: 1px solid gray;box-sizing: border-box;top: 0;bottom: 0;left: 50%;z-index: -1;}#sk-container-id-5 div.sk-parallel-item {display: flex;flex-direction: column;z-index: 1;position: relative;background-color: white;}#sk-container-id-5 div.sk-parallel-item:first-child::after {align-self: flex-end;width: 50%;}#sk-container-id-5 div.sk-parallel-item:last-child::after {align-self: flex-start;width: 50%;}#sk-container-id-5 div.sk-parallel-item:only-child::after {width: 0;}#sk-container-id-5 div.sk-dashed-wrapped {border: 1px dashed gray;margin: 0 0.4em 0.5em 0.4em;box-sizing: border-box;padding-bottom: 0.4em;background-color: white;}#sk-container-id-5 div.sk-label label {font-family: monospace;font-weight: bold;display: inline-block;line-height: 1.2em;}#sk-container-id-5 div.sk-label-container {text-align: center;}#sk-container-id-5 div.sk-container {/* jupyter's `normalize.less` sets `[hidden] { display: none; }` but bootstrap.min.css set `[hidden] { display: none !important; }` so we also need the `!important` here to be able to override the default hidden behavior on the sphinx rendered scikit-learn.org. See: https://github.com/scikit-learn/scikit-learn/issues/21755 */display: inline-block !important;position: relative;}#sk-container-id-5 div.sk-text-repr-fallback {display: none;}</style><div id=\"sk-container-id-5\" class=\"sk-top-container\"><div class=\"sk-text-repr-fallback\"><pre>GridSearchCV(cv=5,\n",
       "             estimator=Pipeline(steps=[(&#x27;rus&#x27;,\n",
       "                                        RandomUnderSampler(random_state=42)),\n",
       "                                       (&#x27;knn&#x27;,\n",
       "                                        KNeighborsClassifier(n_jobs=-1))]),\n",
       "             n_jobs=-1,\n",
       "             param_grid={&#x27;knn__n_neighbors&#x27;: [3, 5, 7, 9, 11, 13, 15],\n",
       "                         &#x27;knn__p&#x27;: [1, 2],\n",
       "                         &#x27;knn__weights&#x27;: [&#x27;uniform&#x27;, &#x27;distance&#x27;]},\n",
       "             scoring=&#x27;f1&#x27;, verbose=1)</pre><b>In a Jupyter environment, please rerun this cell to show the HTML representation or trust the notebook. <br />On GitHub, the HTML representation is unable to render, please try loading this page with nbviewer.org.</b></div><div class=\"sk-container\" hidden><div class=\"sk-item sk-dashed-wrapped\"><div class=\"sk-label-container\"><div class=\"sk-label sk-toggleable\"><input class=\"sk-toggleable__control sk-hidden--visually\" id=\"sk-estimator-id-17\" type=\"checkbox\" ><label for=\"sk-estimator-id-17\" class=\"sk-toggleable__label sk-toggleable__label-arrow\">GridSearchCV</label><div class=\"sk-toggleable__content\"><pre>GridSearchCV(cv=5,\n",
       "             estimator=Pipeline(steps=[(&#x27;rus&#x27;,\n",
       "                                        RandomUnderSampler(random_state=42)),\n",
       "                                       (&#x27;knn&#x27;,\n",
       "                                        KNeighborsClassifier(n_jobs=-1))]),\n",
       "             n_jobs=-1,\n",
       "             param_grid={&#x27;knn__n_neighbors&#x27;: [3, 5, 7, 9, 11, 13, 15],\n",
       "                         &#x27;knn__p&#x27;: [1, 2],\n",
       "                         &#x27;knn__weights&#x27;: [&#x27;uniform&#x27;, &#x27;distance&#x27;]},\n",
       "             scoring=&#x27;f1&#x27;, verbose=1)</pre></div></div></div><div class=\"sk-parallel\"><div class=\"sk-parallel-item\"><div class=\"sk-item\"><div class=\"sk-label-container\"><div class=\"sk-label sk-toggleable\"><input class=\"sk-toggleable__control sk-hidden--visually\" id=\"sk-estimator-id-18\" type=\"checkbox\" ><label for=\"sk-estimator-id-18\" class=\"sk-toggleable__label sk-toggleable__label-arrow\">estimator: Pipeline</label><div class=\"sk-toggleable__content\"><pre>Pipeline(steps=[(&#x27;rus&#x27;, RandomUnderSampler(random_state=42)),\n",
       "                (&#x27;knn&#x27;, KNeighborsClassifier(n_jobs=-1))])</pre></div></div></div><div class=\"sk-serial\"><div class=\"sk-item\"><div class=\"sk-serial\"><div class=\"sk-item\"><div class=\"sk-estimator sk-toggleable\"><input class=\"sk-toggleable__control sk-hidden--visually\" id=\"sk-estimator-id-19\" type=\"checkbox\" ><label for=\"sk-estimator-id-19\" class=\"sk-toggleable__label sk-toggleable__label-arrow\">RandomUnderSampler</label><div class=\"sk-toggleable__content\"><pre>RandomUnderSampler(random_state=42)</pre></div></div></div><div class=\"sk-item\"><div class=\"sk-estimator sk-toggleable\"><input class=\"sk-toggleable__control sk-hidden--visually\" id=\"sk-estimator-id-20\" type=\"checkbox\" ><label for=\"sk-estimator-id-20\" class=\"sk-toggleable__label sk-toggleable__label-arrow\">KNeighborsClassifier</label><div class=\"sk-toggleable__content\"><pre>KNeighborsClassifier(n_jobs=-1)</pre></div></div></div></div></div></div></div></div></div></div></div></div>"
      ],
      "text/plain": [
       "GridSearchCV(cv=5,\n",
       "             estimator=Pipeline(steps=[('rus',\n",
       "                                        RandomUnderSampler(random_state=42)),\n",
       "                                       ('knn',\n",
       "                                        KNeighborsClassifier(n_jobs=-1))]),\n",
       "             n_jobs=-1,\n",
       "             param_grid={'knn__n_neighbors': [3, 5, 7, 9, 11, 13, 15],\n",
       "                         'knn__p': [1, 2],\n",
       "                         'knn__weights': ['uniform', 'distance']},\n",
       "             scoring='f1', verbose=1)"
      ]
     },
     "execution_count": 58,
     "metadata": {},
     "output_type": "execute_result"
    }
   ],
   "source": [
    "# fit the model into train\n",
    "grid_knn_rus.fit(X_train_sc, y_train)"
   ]
  },
  {
   "cell_type": "code",
   "execution_count": 59,
   "id": "afb42659-39c4-44f2-b993-64d3ea03a2d9",
   "metadata": {
    "scrolled": true,
    "tags": []
   },
   "outputs": [
    {
     "data": {
      "text/html": [
       "<div>\n",
       "<style scoped>\n",
       "    .dataframe tbody tr th:only-of-type {\n",
       "        vertical-align: middle;\n",
       "    }\n",
       "\n",
       "    .dataframe tbody tr th {\n",
       "        vertical-align: top;\n",
       "    }\n",
       "\n",
       "    .dataframe thead th {\n",
       "        text-align: right;\n",
       "    }\n",
       "</style>\n",
       "<table border=\"1\" class=\"dataframe\">\n",
       "  <thead>\n",
       "    <tr style=\"text-align: right;\">\n",
       "      <th></th>\n",
       "      <th>mean_fit_time</th>\n",
       "      <th>std_fit_time</th>\n",
       "      <th>mean_score_time</th>\n",
       "      <th>std_score_time</th>\n",
       "      <th>param_knn__n_neighbors</th>\n",
       "      <th>param_knn__p</th>\n",
       "      <th>param_knn__weights</th>\n",
       "      <th>params</th>\n",
       "      <th>split0_test_score</th>\n",
       "      <th>split1_test_score</th>\n",
       "      <th>split2_test_score</th>\n",
       "      <th>split3_test_score</th>\n",
       "      <th>split4_test_score</th>\n",
       "      <th>mean_test_score</th>\n",
       "      <th>std_test_score</th>\n",
       "      <th>rank_test_score</th>\n",
       "    </tr>\n",
       "  </thead>\n",
       "  <tbody>\n",
       "    <tr>\n",
       "      <th>4</th>\n",
       "      <td>0.008976</td>\n",
       "      <td>0.002890</td>\n",
       "      <td>0.162000</td>\n",
       "      <td>0.012425</td>\n",
       "      <td>5</td>\n",
       "      <td>1</td>\n",
       "      <td>uniform</td>\n",
       "      <td>{'knn__n_neighbors': 5, 'knn__p': 1, 'knn__weights': 'uniform'}</td>\n",
       "      <td>0.175497</td>\n",
       "      <td>0.180645</td>\n",
       "      <td>0.193353</td>\n",
       "      <td>0.220126</td>\n",
       "      <td>0.154506</td>\n",
       "      <td>0.184826</td>\n",
       "      <td>0.021645</td>\n",
       "      <td>1</td>\n",
       "    </tr>\n",
       "    <tr>\n",
       "      <th>8</th>\n",
       "      <td>0.006582</td>\n",
       "      <td>0.000798</td>\n",
       "      <td>0.142104</td>\n",
       "      <td>0.009704</td>\n",
       "      <td>7</td>\n",
       "      <td>1</td>\n",
       "      <td>uniform</td>\n",
       "      <td>{'knn__n_neighbors': 7, 'knn__p': 1, 'knn__weights': 'uniform'}</td>\n",
       "      <td>0.173776</td>\n",
       "      <td>0.186178</td>\n",
       "      <td>0.192140</td>\n",
       "      <td>0.202346</td>\n",
       "      <td>0.153226</td>\n",
       "      <td>0.181533</td>\n",
       "      <td>0.016904</td>\n",
       "      <td>2</td>\n",
       "    </tr>\n",
       "    <tr>\n",
       "      <th>0</th>\n",
       "      <td>0.007979</td>\n",
       "      <td>0.001092</td>\n",
       "      <td>0.143816</td>\n",
       "      <td>0.011483</td>\n",
       "      <td>3</td>\n",
       "      <td>1</td>\n",
       "      <td>uniform</td>\n",
       "      <td>{'knn__n_neighbors': 3, 'knn__p': 1, 'knn__weights': 'uniform'}</td>\n",
       "      <td>0.182469</td>\n",
       "      <td>0.168350</td>\n",
       "      <td>0.193760</td>\n",
       "      <td>0.204698</td>\n",
       "      <td>0.156550</td>\n",
       "      <td>0.181165</td>\n",
       "      <td>0.017230</td>\n",
       "      <td>3</td>\n",
       "    </tr>\n",
       "    <tr>\n",
       "      <th>1</th>\n",
       "      <td>0.007581</td>\n",
       "      <td>0.001019</td>\n",
       "      <td>0.058839</td>\n",
       "      <td>0.022167</td>\n",
       "      <td>3</td>\n",
       "      <td>1</td>\n",
       "      <td>distance</td>\n",
       "      <td>{'knn__n_neighbors': 3, 'knn__p': 1, 'knn__weights': 'distance'}</td>\n",
       "      <td>0.179533</td>\n",
       "      <td>0.158895</td>\n",
       "      <td>0.206430</td>\n",
       "      <td>0.193980</td>\n",
       "      <td>0.153589</td>\n",
       "      <td>0.178485</td>\n",
       "      <td>0.020128</td>\n",
       "      <td>4</td>\n",
       "    </tr>\n",
       "    <tr>\n",
       "      <th>9</th>\n",
       "      <td>0.006383</td>\n",
       "      <td>0.000489</td>\n",
       "      <td>0.044281</td>\n",
       "      <td>0.001849</td>\n",
       "      <td>7</td>\n",
       "      <td>1</td>\n",
       "      <td>distance</td>\n",
       "      <td>{'knn__n_neighbors': 7, 'knn__p': 1, 'knn__weights': 'distance'}</td>\n",
       "      <td>0.183871</td>\n",
       "      <td>0.160377</td>\n",
       "      <td>0.208459</td>\n",
       "      <td>0.179331</td>\n",
       "      <td>0.153846</td>\n",
       "      <td>0.177177</td>\n",
       "      <td>0.019259</td>\n",
       "      <td>5</td>\n",
       "    </tr>\n",
       "  </tbody>\n",
       "</table>\n",
       "</div>"
      ],
      "text/plain": [
       "   mean_fit_time  std_fit_time  mean_score_time  std_score_time  \\\n",
       "4       0.008976      0.002890         0.162000        0.012425   \n",
       "8       0.006582      0.000798         0.142104        0.009704   \n",
       "0       0.007979      0.001092         0.143816        0.011483   \n",
       "1       0.007581      0.001019         0.058839        0.022167   \n",
       "9       0.006383      0.000489         0.044281        0.001849   \n",
       "\n",
       "  param_knn__n_neighbors param_knn__p param_knn__weights  \\\n",
       "4                      5            1            uniform   \n",
       "8                      7            1            uniform   \n",
       "0                      3            1            uniform   \n",
       "1                      3            1           distance   \n",
       "9                      7            1           distance   \n",
       "\n",
       "                                                             params  \\\n",
       "4   {'knn__n_neighbors': 5, 'knn__p': 1, 'knn__weights': 'uniform'}   \n",
       "8   {'knn__n_neighbors': 7, 'knn__p': 1, 'knn__weights': 'uniform'}   \n",
       "0   {'knn__n_neighbors': 3, 'knn__p': 1, 'knn__weights': 'uniform'}   \n",
       "1  {'knn__n_neighbors': 3, 'knn__p': 1, 'knn__weights': 'distance'}   \n",
       "9  {'knn__n_neighbors': 7, 'knn__p': 1, 'knn__weights': 'distance'}   \n",
       "\n",
       "   split0_test_score  split1_test_score  split2_test_score  split3_test_score  \\\n",
       "4           0.175497           0.180645           0.193353           0.220126   \n",
       "8           0.173776           0.186178           0.192140           0.202346   \n",
       "0           0.182469           0.168350           0.193760           0.204698   \n",
       "1           0.179533           0.158895           0.206430           0.193980   \n",
       "9           0.183871           0.160377           0.208459           0.179331   \n",
       "\n",
       "   split4_test_score  mean_test_score  std_test_score  rank_test_score  \n",
       "4           0.154506         0.184826        0.021645                1  \n",
       "8           0.153226         0.181533        0.016904                2  \n",
       "0           0.156550         0.181165        0.017230                3  \n",
       "1           0.153589         0.178485        0.020128                4  \n",
       "9           0.153846         0.177177        0.019259                5  "
      ]
     },
     "execution_count": 59,
     "metadata": {},
     "output_type": "execute_result"
    }
   ],
   "source": [
    "# Show the top 5 best scores with their params\n",
    "pd.DataFrame(grid_knn_rus.cv_results_).sort_values('rank_test_score').head()"
   ]
  },
  {
   "cell_type": "code",
   "execution_count": 60,
   "id": "6c6b0d0d-dbcc-409d-98eb-43231bde54ed",
   "metadata": {},
   "outputs": [],
   "source": [
    "# Generate predictions from kNN & RUS\n",
    "y_pred_knn_rus = grid_knn_rus.predict(X_test_sc)"
   ]
  },
  {
   "cell_type": "code",
   "execution_count": 61,
   "id": "9c3bf912-484f-450f-b666-e28c4085f362",
   "metadata": {},
   "outputs": [
    {
     "name": "stdout",
     "output_type": "stream",
     "text": [
      "              precision    recall  f1-score   support\n",
      "\n",
      "           0       0.97      0.67      0.79      2489\n",
      "           1       0.10      0.68      0.18       138\n",
      "\n",
      "    accuracy                           0.67      2627\n",
      "   macro avg       0.54      0.68      0.49      2627\n",
      "weighted avg       0.93      0.67      0.76      2627\n",
      "\n"
     ]
    }
   ],
   "source": [
    "# Show classification metrics report for kNN & RUS\n",
    "print(classification_report(y_test, y_pred_knn_rus))"
   ]
  },
  {
   "cell_type": "code",
   "execution_count": 62,
   "id": "a91b7474-505f-4103-84a1-fd65babaf7dd",
   "metadata": {},
   "outputs": [
    {
     "data": {
      "text/plain": [
       "0.74"
      ]
     },
     "execution_count": 62,
     "metadata": {},
     "output_type": "execute_result"
    }
   ],
   "source": [
    "# Show ROC AUC score\n",
    "round(roc_auc_score(y_test, grid_knn_rus.predict_proba(X_test_sc)[:,1]),2)"
   ]
  },
  {
   "cell_type": "code",
   "execution_count": 63,
   "id": "83842d08-0ce5-4b12-a40c-d6298719201e",
   "metadata": {},
   "outputs": [
    {
     "data": {
      "image/png": "[encoded data removed]",
      "text/plain": [
       "<Figure size 640x480 with 2 Axes>"
      ]
     },
     "metadata": {},
     "output_type": "display_data"
    }
   ],
   "source": [
    "# Display confusion matrix for kNN & RUS\n",
    "conf_matrix(y_pred_knn_rus)"
   ]
  },
  {
   "cell_type": "markdown",
   "id": "dc419851-a120-4faf-a056-3f8e8090dea5",
   "metadata": {},
   "source": [
    "### Gradient Boosting Classifier with SMOTE"
   ]
  },
  {
   "cell_type": "code",
   "execution_count": 64,
   "id": "4d4a8e06-5219-4a7c-abce-3d867ce10b0a",
   "metadata": {
    "tags": []
   },
   "outputs": [],
   "source": [
    "# Instantiate Pipeline\n",
    "pipe_gbc_smote = Pipeline([\n",
    "    ('smt', SMOTE(random_state=42, n_jobs=-1)),\n",
    "    ('gbc', GradientBoostingClassifier(random_state=42))\n",
    "])"
   ]
  },
  {
   "cell_type": "code",
   "execution_count": 65,
   "id": "7dea16cb-9ec3-47c9-b5ea-c19bb66a9008",
   "metadata": {
    "scrolled": true,
    "tags": []
   },
   "outputs": [
    {
     "data": {
      "text/plain": [
       "{'memory': None,\n",
       " 'steps': [('smt', SMOTE(n_jobs=-1, random_state=42)),\n",
       "  ('gbc', GradientBoostingClassifier(random_state=42))],\n",
       " 'verbose': False,\n",
       " 'smt': SMOTE(n_jobs=-1, random_state=42),\n",
       " 'gbc': GradientBoostingClassifier(random_state=42),\n",
       " 'smt__k_neighbors': 5,\n",
       " 'smt__n_jobs': -1,\n",
       " 'smt__random_state': 42,\n",
       " 'smt__sampling_strategy': 'auto',\n",
       " 'gbc__ccp_alpha': 0.0,\n",
       " 'gbc__criterion': 'friedman_mse',\n",
       " 'gbc__init': None,\n",
       " 'gbc__learning_rate': 0.1,\n",
       " 'gbc__loss': 'log_loss',\n",
       " 'gbc__max_depth': 3,\n",
       " 'gbc__max_features': None,\n",
       " 'gbc__max_leaf_nodes': None,\n",
       " 'gbc__min_impurity_decrease': 0.0,\n",
       " 'gbc__min_samples_leaf': 1,\n",
       " 'gbc__min_samples_split': 2,\n",
       " 'gbc__min_weight_fraction_leaf': 0.0,\n",
       " 'gbc__n_estimators': 100,\n",
       " 'gbc__n_iter_no_change': None,\n",
       " 'gbc__random_state': 42,\n",
       " 'gbc__subsample': 1.0,\n",
       " 'gbc__tol': 0.0001,\n",
       " 'gbc__validation_fraction': 0.1,\n",
       " 'gbc__verbose': 0,\n",
       " 'gbc__warm_start': False}"
      ]
     },
     "execution_count": 65,
     "metadata": {},
     "output_type": "execute_result"
    }
   ],
   "source": [
    "# Get params for pipeline\n",
    "pipe_gbc_smote.get_params()"
   ]
  },
  {
   "cell_type": "code",
   "execution_count": 66,
   "id": "fc296bd6-108b-4d5b-bc6f-d6377eb316f2",
   "metadata": {},
   "outputs": [],
   "source": [
    "# Define dict of hyperparameters tuning\n",
    "gbc_smote_params = {\n",
    "    'gbc__learning_rate': [0.06, 0.1, 0.14],\n",
    "    'gbc__max_depth': [3, 4, 5],\n",
    "    'gbc__n_estimators': [100, 125, 150, 175]\n",
    "}    "
   ]
  },
  {
   "cell_type": "code",
   "execution_count": 67,
   "id": "434f9ed9-9a27-4ee3-b36d-911973251ee0",
   "metadata": {},
   "outputs": [],
   "source": [
    "# Instantiate GridsearchCV model\n",
    "grid_gbc_smote = GridSearchCV(pipe_gbc_smote,\n",
    "                              param_grid = gbc_smote_params,\n",
    "                              scoring = 'f1',\n",
    "                              cv = 5,\n",
    "                              n_jobs = -1,\n",
    "                              verbose = 1\n",
    "                             )"
   ]
  },
  {
   "cell_type": "code",
   "execution_count": 68,
   "id": "cfeed25b-888a-413e-a9a8-3f639e4f4477",
   "metadata": {},
   "outputs": [
    {
     "name": "stdout",
     "output_type": "stream",
     "text": [
      "Fitting 5 folds for each of 36 candidates, totalling 180 fits\n"
     ]
    },
    {
     "data": {
      "text/html": [
       "<style>#sk-container-id-6 {color: black;background-color: white;}#sk-container-id-6 pre{padding: 0;}#sk-container-id-6 div.sk-toggleable {background-color: white;}#sk-container-id-6 label.sk-toggleable__label {cursor: pointer;display: block;width: 100%;margin-bottom: 0;padding: 0.3em;box-sizing: border-box;text-align: center;}#sk-container-id-6 label.sk-toggleable__label-arrow:before {content: \"▸\";float: left;margin-right: 0.25em;color: #696969;}#sk-container-id-6 label.sk-toggleable__label-arrow:hover:before {color: black;}#sk-container-id-6 div.sk-estimator:hover label.sk-toggleable__label-arrow:before {color: black;}#sk-container-id-6 div.sk-toggleable__content {max-height: 0;max-width: 0;overflow: hidden;text-align: left;background-color: #f0f8ff;}#sk-container-id-6 div.sk-toggleable__content pre {margin: 0.2em;color: black;border-radius: 0.25em;background-color: #f0f8ff;}#sk-container-id-6 input.sk-toggleable__control:checked~div.sk-toggleable__content {max-height: 200px;max-width: 100%;overflow: auto;}#sk-container-id-6 input.sk-toggleable__control:checked~label.sk-toggleable__label-arrow:before {content: \"▾\";}#sk-container-id-6 div.sk-estimator input.sk-toggleable__control:checked~label.sk-toggleable__label {background-color: #d4ebff;}#sk-container-id-6 div.sk-label input.sk-toggleable__control:checked~label.sk-toggleable__label {background-color: #d4ebff;}#sk-container-id-6 input.sk-hidden--visually {border: 0;clip: rect(1px 1px 1px 1px);clip: rect(1px, 1px, 1px, 1px);height: 1px;margin: -1px;overflow: hidden;padding: 0;position: absolute;width: 1px;}#sk-container-id-6 div.sk-estimator {font-family: monospace;background-color: #f0f8ff;border: 1px dotted black;border-radius: 0.25em;box-sizing: border-box;margin-bottom: 0.5em;}#sk-container-id-6 div.sk-estimator:hover {background-color: #d4ebff;}#sk-container-id-6 div.sk-parallel-item::after {content: \"\";width: 100%;border-bottom: 1px solid gray;flex-grow: 1;}#sk-container-id-6 div.sk-label:hover label.sk-toggleable__label {background-color: #d4ebff;}#sk-container-id-6 div.sk-serial::before {content: \"\";position: absolute;border-left: 1px solid gray;box-sizing: border-box;top: 0;bottom: 0;left: 50%;z-index: 0;}#sk-container-id-6 div.sk-serial {display: flex;flex-direction: column;align-items: center;background-color: white;padding-right: 0.2em;padding-left: 0.2em;position: relative;}#sk-container-id-6 div.sk-item {position: relative;z-index: 1;}#sk-container-id-6 div.sk-parallel {display: flex;align-items: stretch;justify-content: center;background-color: white;position: relative;}#sk-container-id-6 div.sk-item::before, #sk-container-id-6 div.sk-parallel-item::before {content: \"\";position: absolute;border-left: 1px solid gray;box-sizing: border-box;top: 0;bottom: 0;left: 50%;z-index: -1;}#sk-container-id-6 div.sk-parallel-item {display: flex;flex-direction: column;z-index: 1;position: relative;background-color: white;}#sk-container-id-6 div.sk-parallel-item:first-child::after {align-self: flex-end;width: 50%;}#sk-container-id-6 div.sk-parallel-item:last-child::after {align-self: flex-start;width: 50%;}#sk-container-id-6 div.sk-parallel-item:only-child::after {width: 0;}#sk-container-id-6 div.sk-dashed-wrapped {border: 1px dashed gray;margin: 0 0.4em 0.5em 0.4em;box-sizing: border-box;padding-bottom: 0.4em;background-color: white;}#sk-container-id-6 div.sk-label label {font-family: monospace;font-weight: bold;display: inline-block;line-height: 1.2em;}#sk-container-id-6 div.sk-label-container {text-align: center;}#sk-container-id-6 div.sk-container {/* jupyter's `normalize.less` sets `[hidden] { display: none; }` but bootstrap.min.css set `[hidden] { display: none !important; }` so we also need the `!important` here to be able to override the default hidden behavior on the sphinx rendered scikit-learn.org. See: https://github.com/scikit-learn/scikit-learn/issues/21755 */display: inline-block !important;position: relative;}#sk-container-id-6 div.sk-text-repr-fallback {display: none;}</style><div id=\"sk-container-id-6\" class=\"sk-top-container\"><div class=\"sk-text-repr-fallback\"><pre>GridSearchCV(cv=5,\n",
       "             estimator=Pipeline(steps=[(&#x27;smt&#x27;,\n",
       "                                        SMOTE(n_jobs=-1, random_state=42)),\n",
       "                                       (&#x27;gbc&#x27;,\n",
       "                                        GradientBoostingClassifier(random_state=42))]),\n",
       "             n_jobs=-1,\n",
       "             param_grid={&#x27;gbc__learning_rate&#x27;: [0.06, 0.1, 0.14],\n",
       "                         &#x27;gbc__max_depth&#x27;: [3, 4, 5],\n",
       "                         &#x27;gbc__n_estimators&#x27;: [100, 125, 150, 175]},\n",
       "             scoring=&#x27;f1&#x27;, verbose=1)</pre><b>In a Jupyter environment, please rerun this cell to show the HTML representation or trust the notebook. <br />On GitHub, the HTML representation is unable to render, please try loading this page with nbviewer.org.</b></div><div class=\"sk-container\" hidden><div class=\"sk-item sk-dashed-wrapped\"><div class=\"sk-label-container\"><div class=\"sk-label sk-toggleable\"><input class=\"sk-toggleable__control sk-hidden--visually\" id=\"sk-estimator-id-21\" type=\"checkbox\" ><label for=\"sk-estimator-id-21\" class=\"sk-toggleable__label sk-toggleable__label-arrow\">GridSearchCV</label><div class=\"sk-toggleable__content\"><pre>GridSearchCV(cv=5,\n",
       "             estimator=Pipeline(steps=[(&#x27;smt&#x27;,\n",
       "                                        SMOTE(n_jobs=-1, random_state=42)),\n",
       "                                       (&#x27;gbc&#x27;,\n",
       "                                        GradientBoostingClassifier(random_state=42))]),\n",
       "             n_jobs=-1,\n",
       "             param_grid={&#x27;gbc__learning_rate&#x27;: [0.06, 0.1, 0.14],\n",
       "                         &#x27;gbc__max_depth&#x27;: [3, 4, 5],\n",
       "                         &#x27;gbc__n_estimators&#x27;: [100, 125, 150, 175]},\n",
       "             scoring=&#x27;f1&#x27;, verbose=1)</pre></div></div></div><div class=\"sk-parallel\"><div class=\"sk-parallel-item\"><div class=\"sk-item\"><div class=\"sk-label-container\"><div class=\"sk-label sk-toggleable\"><input class=\"sk-toggleable__control sk-hidden--visually\" id=\"sk-estimator-id-22\" type=\"checkbox\" ><label for=\"sk-estimator-id-22\" class=\"sk-toggleable__label sk-toggleable__label-arrow\">estimator: Pipeline</label><div class=\"sk-toggleable__content\"><pre>Pipeline(steps=[(&#x27;smt&#x27;, SMOTE(n_jobs=-1, random_state=42)),\n",
       "                (&#x27;gbc&#x27;, GradientBoostingClassifier(random_state=42))])</pre></div></div></div><div class=\"sk-serial\"><div class=\"sk-item\"><div class=\"sk-serial\"><div class=\"sk-item\"><div class=\"sk-estimator sk-toggleable\"><input class=\"sk-toggleable__control sk-hidden--visually\" id=\"sk-estimator-id-23\" type=\"checkbox\" ><label for=\"sk-estimator-id-23\" class=\"sk-toggleable__label sk-toggleable__label-arrow\">SMOTE</label><div class=\"sk-toggleable__content\"><pre>SMOTE(n_jobs=-1, random_state=42)</pre></div></div></div><div class=\"sk-item\"><div class=\"sk-estimator sk-toggleable\"><input class=\"sk-toggleable__control sk-hidden--visually\" id=\"sk-estimator-id-24\" type=\"checkbox\" ><label for=\"sk-estimator-id-24\" class=\"sk-toggleable__label sk-toggleable__label-arrow\">GradientBoostingClassifier</label><div class=\"sk-toggleable__content\"><pre>GradientBoostingClassifier(random_state=42)</pre></div></div></div></div></div></div></div></div></div></div></div></div>"
      ],
      "text/plain": [
       "GridSearchCV(cv=5,\n",
       "             estimator=Pipeline(steps=[('smt',\n",
       "                                        SMOTE(n_jobs=-1, random_state=42)),\n",
       "                                       ('gbc',\n",
       "                                        GradientBoostingClassifier(random_state=42))]),\n",
       "             n_jobs=-1,\n",
       "             param_grid={'gbc__learning_rate': [0.06, 0.1, 0.14],\n",
       "                         'gbc__max_depth': [3, 4, 5],\n",
       "                         'gbc__n_estimators': [100, 125, 150, 175]},\n",
       "             scoring='f1', verbose=1)"
      ]
     },
     "execution_count": 68,
     "metadata": {},
     "output_type": "execute_result"
    }
   ],
   "source": [
    "# fit the model into train\n",
    "grid_gbc_smote.fit(X_train_sc, y_train)"
   ]
  },
  {
   "cell_type": "code",
   "execution_count": 69,
   "id": "9bf78266-d416-4954-b57a-11f53889f474",
   "metadata": {
    "scrolled": true,
    "tags": []
   },
   "outputs": [
    {
     "data": {
      "text/html": [
       "<div>\n",
       "<style scoped>\n",
       "    .dataframe tbody tr th:only-of-type {\n",
       "        vertical-align: middle;\n",
       "    }\n",
       "\n",
       "    .dataframe tbody tr th {\n",
       "        vertical-align: top;\n",
       "    }\n",
       "\n",
       "    .dataframe thead th {\n",
       "        text-align: right;\n",
       "    }\n",
       "</style>\n",
       "<table border=\"1\" class=\"dataframe\">\n",
       "  <thead>\n",
       "    <tr style=\"text-align: right;\">\n",
       "      <th></th>\n",
       "      <th>mean_fit_time</th>\n",
       "      <th>std_fit_time</th>\n",
       "      <th>mean_score_time</th>\n",
       "      <th>std_score_time</th>\n",
       "      <th>param_gbc__learning_rate</th>\n",
       "      <th>param_gbc__max_depth</th>\n",
       "      <th>param_gbc__n_estimators</th>\n",
       "      <th>params</th>\n",
       "      <th>split0_test_score</th>\n",
       "      <th>split1_test_score</th>\n",
       "      <th>split2_test_score</th>\n",
       "      <th>split3_test_score</th>\n",
       "      <th>split4_test_score</th>\n",
       "      <th>mean_test_score</th>\n",
       "      <th>std_test_score</th>\n",
       "      <th>rank_test_score</th>\n",
       "    </tr>\n",
       "  </thead>\n",
       "  <tbody>\n",
       "    <tr>\n",
       "      <th>26</th>\n",
       "      <td>4.903490</td>\n",
       "      <td>0.126064</td>\n",
       "      <td>0.010573</td>\n",
       "      <td>0.002721</td>\n",
       "      <td>0.14</td>\n",
       "      <td>3</td>\n",
       "      <td>150</td>\n",
       "      <td>{'gbc__learning_rate': 0.14, 'gbc__max_depth': 3, 'gbc__n_estimators': 150}</td>\n",
       "      <td>0.292887</td>\n",
       "      <td>0.323741</td>\n",
       "      <td>0.329588</td>\n",
       "      <td>0.316206</td>\n",
       "      <td>0.266667</td>\n",
       "      <td>0.305818</td>\n",
       "      <td>0.023213</td>\n",
       "      <td>1</td>\n",
       "    </tr>\n",
       "    <tr>\n",
       "      <th>27</th>\n",
       "      <td>5.667388</td>\n",
       "      <td>0.140860</td>\n",
       "      <td>0.010049</td>\n",
       "      <td>0.000435</td>\n",
       "      <td>0.14</td>\n",
       "      <td>3</td>\n",
       "      <td>175</td>\n",
       "      <td>{'gbc__learning_rate': 0.14, 'gbc__max_depth': 3, 'gbc__n_estimators': 175}</td>\n",
       "      <td>0.295359</td>\n",
       "      <td>0.310606</td>\n",
       "      <td>0.337349</td>\n",
       "      <td>0.314894</td>\n",
       "      <td>0.267606</td>\n",
       "      <td>0.305163</td>\n",
       "      <td>0.023095</td>\n",
       "      <td>2</td>\n",
       "    </tr>\n",
       "    <tr>\n",
       "      <th>25</th>\n",
       "      <td>4.108805</td>\n",
       "      <td>0.135147</td>\n",
       "      <td>0.008180</td>\n",
       "      <td>0.000397</td>\n",
       "      <td>0.14</td>\n",
       "      <td>3</td>\n",
       "      <td>125</td>\n",
       "      <td>{'gbc__learning_rate': 0.14, 'gbc__max_depth': 3, 'gbc__n_estimators': 125}</td>\n",
       "      <td>0.271062</td>\n",
       "      <td>0.319218</td>\n",
       "      <td>0.328671</td>\n",
       "      <td>0.309859</td>\n",
       "      <td>0.260062</td>\n",
       "      <td>0.297775</td>\n",
       "      <td>0.027189</td>\n",
       "      <td>3</td>\n",
       "    </tr>\n",
       "    <tr>\n",
       "      <th>15</th>\n",
       "      <td>6.938277</td>\n",
       "      <td>0.559243</td>\n",
       "      <td>0.010372</td>\n",
       "      <td>0.000489</td>\n",
       "      <td>0.1</td>\n",
       "      <td>3</td>\n",
       "      <td>175</td>\n",
       "      <td>{'gbc__learning_rate': 0.1, 'gbc__max_depth': 3, 'gbc__n_estimators': 175}</td>\n",
       "      <td>0.274368</td>\n",
       "      <td>0.324324</td>\n",
       "      <td>0.318644</td>\n",
       "      <td>0.308725</td>\n",
       "      <td>0.251534</td>\n",
       "      <td>0.295519</td>\n",
       "      <td>0.028003</td>\n",
       "      <td>4</td>\n",
       "    </tr>\n",
       "    <tr>\n",
       "      <th>10</th>\n",
       "      <td>7.621666</td>\n",
       "      <td>0.196095</td>\n",
       "      <td>0.016602</td>\n",
       "      <td>0.006735</td>\n",
       "      <td>0.06</td>\n",
       "      <td>5</td>\n",
       "      <td>150</td>\n",
       "      <td>{'gbc__learning_rate': 0.06, 'gbc__max_depth': 5, 'gbc__n_estimators': 150}</td>\n",
       "      <td>0.265560</td>\n",
       "      <td>0.304183</td>\n",
       "      <td>0.299270</td>\n",
       "      <td>0.340081</td>\n",
       "      <td>0.257840</td>\n",
       "      <td>0.293387</td>\n",
       "      <td>0.029562</td>\n",
       "      <td>5</td>\n",
       "    </tr>\n",
       "  </tbody>\n",
       "</table>\n",
       "</div>"
      ],
      "text/plain": [
       "    mean_fit_time  std_fit_time  mean_score_time  std_score_time  \\\n",
       "26       4.903490      0.126064         0.010573        0.002721   \n",
       "27       5.667388      0.140860         0.010049        0.000435   \n",
       "25       4.108805      0.135147         0.008180        0.000397   \n",
       "15       6.938277      0.559243         0.010372        0.000489   \n",
       "10       7.621666      0.196095         0.016602        0.006735   \n",
       "\n",
       "   param_gbc__learning_rate param_gbc__max_depth param_gbc__n_estimators  \\\n",
       "26                     0.14                    3                     150   \n",
       "27                     0.14                    3                     175   \n",
       "25                     0.14                    3                     125   \n",
       "15                      0.1                    3                     175   \n",
       "10                     0.06                    5                     150   \n",
       "\n",
       "                                                                         params  \\\n",
       "26  {'gbc__learning_rate': 0.14, 'gbc__max_depth': 3, 'gbc__n_estimators': 150}   \n",
       "27  {'gbc__learning_rate': 0.14, 'gbc__max_depth': 3, 'gbc__n_estimators': 175}   \n",
       "25  {'gbc__learning_rate': 0.14, 'gbc__max_depth': 3, 'gbc__n_estimators': 125}   \n",
       "15   {'gbc__learning_rate': 0.1, 'gbc__max_depth': 3, 'gbc__n_estimators': 175}   \n",
       "10  {'gbc__learning_rate': 0.06, 'gbc__max_depth': 5, 'gbc__n_estimators': 150}   \n",
       "\n",
       "    split0_test_score  split1_test_score  split2_test_score  \\\n",
       "26           0.292887           0.323741           0.329588   \n",
       "27           0.295359           0.310606           0.337349   \n",
       "25           0.271062           0.319218           0.328671   \n",
       "15           0.274368           0.324324           0.318644   \n",
       "10           0.265560           0.304183           0.299270   \n",
       "\n",
       "    split3_test_score  split4_test_score  mean_test_score  std_test_score  \\\n",
       "26           0.316206           0.266667         0.305818        0.023213   \n",
       "27           0.314894           0.267606         0.305163        0.023095   \n",
       "25           0.309859           0.260062         0.297775        0.027189   \n",
       "15           0.308725           0.251534         0.295519        0.028003   \n",
       "10           0.340081           0.257840         0.293387        0.029562   \n",
       "\n",
       "    rank_test_score  \n",
       "26                1  \n",
       "27                2  \n",
       "25                3  \n",
       "15                4  \n",
       "10                5  "
      ]
     },
     "execution_count": 69,
     "metadata": {},
     "output_type": "execute_result"
    }
   ],
   "source": [
    "# Show the top 5 best scores with their params\n",
    "pd.DataFrame(grid_gbc_smote.cv_results_).sort_values('rank_test_score').head()"
   ]
  },
  {
   "cell_type": "code",
   "execution_count": 70,
   "id": "61a0c36f-6366-49a5-a458-cf189d75c6aa",
   "metadata": {},
   "outputs": [],
   "source": [
    "# Generate predictions from GBC & SMOTE\n",
    "y_pred_gbc_smote = grid_gbc_smote.predict(X_test_sc)"
   ]
  },
  {
   "cell_type": "code",
   "execution_count": 71,
   "id": "28e5501e-da84-4f2e-860b-ef54a4d26c33",
   "metadata": {},
   "outputs": [
    {
     "name": "stdout",
     "output_type": "stream",
     "text": [
      "              precision    recall  f1-score   support\n",
      "\n",
      "           0       0.97      0.90      0.93      2489\n",
      "           1       0.19      0.41      0.26       138\n",
      "\n",
      "    accuracy                           0.87      2627\n",
      "   macro avg       0.58      0.66      0.59      2627\n",
      "weighted avg       0.92      0.87      0.90      2627\n",
      "\n"
     ]
    }
   ],
   "source": [
    "# Show classification metrics report for GBC & SMOTE\n",
    "print(classification_report(y_test, y_pred_gbc_smote))"
   ]
  },
  {
   "cell_type": "code",
   "execution_count": 72,
   "id": "d00f3138-4d9a-4e46-ba77-a2b9adf7baaa",
   "metadata": {},
   "outputs": [
    {
     "data": {
      "text/plain": [
       "0.81"
      ]
     },
     "execution_count": 72,
     "metadata": {},
     "output_type": "execute_result"
    }
   ],
   "source": [
    "# Show ROC AUC score\n",
    "round(roc_auc_score(y_test, grid_gbc_smote.predict_proba(X_test_sc)[:,1]),2)"
   ]
  },
  {
   "cell_type": "code",
   "execution_count": 73,
   "id": "61ab7182-25db-4db2-94e3-1888e49e9fba",
   "metadata": {},
   "outputs": [
    {
     "data": {
      "image/png": "[encoded data removed]",
      "text/plain": [
       "<Figure size 640x480 with 2 Axes>"
      ]
     },
     "metadata": {},
     "output_type": "display_data"
    }
   ],
   "source": [
    "# Display confusion matrix for GBC & SMOTE\n",
    "conf_matrix(y_pred_gbc_smote)"
   ]
  },
  {
   "cell_type": "markdown",
   "id": "8d47a35b-1332-4de1-a927-d963ae600932",
   "metadata": {},
   "source": [
    "### Gradient Boosting Classifier with RandomUnderSampler"
   ]
  },
  {
   "cell_type": "code",
   "execution_count": 74,
   "id": "54237868-5479-47c3-8a7c-9f08b293c165",
   "metadata": {
    "tags": []
   },
   "outputs": [],
   "source": [
    "# Instantiate Pipeline\n",
    "pipe_gbc_rus = Pipeline([\n",
    "    ('rus', RandomUnderSampler(random_state=42)),\n",
    "    ('gbc', GradientBoostingClassifier(random_state=42))\n",
    "])"
   ]
  },
  {
   "cell_type": "code",
   "execution_count": 75,
   "id": "4582bc4a-a233-4d7f-9660-7140c722fede",
   "metadata": {
    "scrolled": true,
    "tags": []
   },
   "outputs": [
    {
     "data": {
      "text/plain": [
       "{'memory': None,\n",
       " 'steps': [('rus', RandomUnderSampler(random_state=42)),\n",
       "  ('gbc', GradientBoostingClassifier(random_state=42))],\n",
       " 'verbose': False,\n",
       " 'rus': RandomUnderSampler(random_state=42),\n",
       " 'gbc': GradientBoostingClassifier(random_state=42),\n",
       " 'rus__random_state': 42,\n",
       " 'rus__replacement': False,\n",
       " 'rus__sampling_strategy': 'auto',\n",
       " 'gbc__ccp_alpha': 0.0,\n",
       " 'gbc__criterion': 'friedman_mse',\n",
       " 'gbc__init': None,\n",
       " 'gbc__learning_rate': 0.1,\n",
       " 'gbc__loss': 'log_loss',\n",
       " 'gbc__max_depth': 3,\n",
       " 'gbc__max_features': None,\n",
       " 'gbc__max_leaf_nodes': None,\n",
       " 'gbc__min_impurity_decrease': 0.0,\n",
       " 'gbc__min_samples_leaf': 1,\n",
       " 'gbc__min_samples_split': 2,\n",
       " 'gbc__min_weight_fraction_leaf': 0.0,\n",
       " 'gbc__n_estimators': 100,\n",
       " 'gbc__n_iter_no_change': None,\n",
       " 'gbc__random_state': 42,\n",
       " 'gbc__subsample': 1.0,\n",
       " 'gbc__tol': 0.0001,\n",
       " 'gbc__validation_fraction': 0.1,\n",
       " 'gbc__verbose': 0,\n",
       " 'gbc__warm_start': False}"
      ]
     },
     "execution_count": 75,
     "metadata": {},
     "output_type": "execute_result"
    }
   ],
   "source": [
    "# Get params for pipeline\n",
    "pipe_gbc_rus.get_params()"
   ]
  },
  {
   "cell_type": "code",
   "execution_count": 76,
   "id": "3f14db2c-9327-4153-a6b6-cd88098ed805",
   "metadata": {},
   "outputs": [],
   "source": [
    "# Define dict of hyperparameters tuning\n",
    "gbc_rus_params = {\n",
    "    'gbc__learning_rate': [0.06, 0.1, 0.14],\n",
    "    'gbc__max_depth': [3, 4, 5],\n",
    "    'gbc__n_estimators': [100, 125, 150, 175]\n",
    "}    "
   ]
  },
  {
   "cell_type": "code",
   "execution_count": 77,
   "id": "dd633cce-4f12-440e-a613-388ccb049b5a",
   "metadata": {},
   "outputs": [],
   "source": [
    "# Instantiate GridsearchCV model\n",
    "grid_gbc_rus = GridSearchCV(pipe_gbc_rus,\n",
    "                            param_grid = gbc_rus_params,\n",
    "                            scoring = 'f1',\n",
    "                            cv = 5,\n",
    "                            n_jobs = -1,\n",
    "                            verbose = 1\n",
    "                           )"
   ]
  },
  {
   "cell_type": "code",
   "execution_count": 78,
   "id": "75c3041a-7c42-4e42-a6f8-db18c6671212",
   "metadata": {},
   "outputs": [
    {
     "name": "stdout",
     "output_type": "stream",
     "text": [
      "Fitting 5 folds for each of 36 candidates, totalling 180 fits\n"
     ]
    },
    {
     "data": {
      "text/html": [
       "<style>#sk-container-id-7 {color: black;background-color: white;}#sk-container-id-7 pre{padding: 0;}#sk-container-id-7 div.sk-toggleable {background-color: white;}#sk-container-id-7 label.sk-toggleable__label {cursor: pointer;display: block;width: 100%;margin-bottom: 0;padding: 0.3em;box-sizing: border-box;text-align: center;}#sk-container-id-7 label.sk-toggleable__label-arrow:before {content: \"▸\";float: left;margin-right: 0.25em;color: #696969;}#sk-container-id-7 label.sk-toggleable__label-arrow:hover:before {color: black;}#sk-container-id-7 div.sk-estimator:hover label.sk-toggleable__label-arrow:before {color: black;}#sk-container-id-7 div.sk-toggleable__content {max-height: 0;max-width: 0;overflow: hidden;text-align: left;background-color: #f0f8ff;}#sk-container-id-7 div.sk-toggleable__content pre {margin: 0.2em;color: black;border-radius: 0.25em;background-color: #f0f8ff;}#sk-container-id-7 input.sk-toggleable__control:checked~div.sk-toggleable__content {max-height: 200px;max-width: 100%;overflow: auto;}#sk-container-id-7 input.sk-toggleable__control:checked~label.sk-toggleable__label-arrow:before {content: \"▾\";}#sk-container-id-7 div.sk-estimator input.sk-toggleable__control:checked~label.sk-toggleable__label {background-color: #d4ebff;}#sk-container-id-7 div.sk-label input.sk-toggleable__control:checked~label.sk-toggleable__label {background-color: #d4ebff;}#sk-container-id-7 input.sk-hidden--visually {border: 0;clip: rect(1px 1px 1px 1px);clip: rect(1px, 1px, 1px, 1px);height: 1px;margin: -1px;overflow: hidden;padding: 0;position: absolute;width: 1px;}#sk-container-id-7 div.sk-estimator {font-family: monospace;background-color: #f0f8ff;border: 1px dotted black;border-radius: 0.25em;box-sizing: border-box;margin-bottom: 0.5em;}#sk-container-id-7 div.sk-estimator:hover {background-color: #d4ebff;}#sk-container-id-7 div.sk-parallel-item::after {content: \"\";width: 100%;border-bottom: 1px solid gray;flex-grow: 1;}#sk-container-id-7 div.sk-label:hover label.sk-toggleable__label {background-color: #d4ebff;}#sk-container-id-7 div.sk-serial::before {content: \"\";position: absolute;border-left: 1px solid gray;box-sizing: border-box;top: 0;bottom: 0;left: 50%;z-index: 0;}#sk-container-id-7 div.sk-serial {display: flex;flex-direction: column;align-items: center;background-color: white;padding-right: 0.2em;padding-left: 0.2em;position: relative;}#sk-container-id-7 div.sk-item {position: relative;z-index: 1;}#sk-container-id-7 div.sk-parallel {display: flex;align-items: stretch;justify-content: center;background-color: white;position: relative;}#sk-container-id-7 div.sk-item::before, #sk-container-id-7 div.sk-parallel-item::before {content: \"\";position: absolute;border-left: 1px solid gray;box-sizing: border-box;top: 0;bottom: 0;left: 50%;z-index: -1;}#sk-container-id-7 div.sk-parallel-item {display: flex;flex-direction: column;z-index: 1;position: relative;background-color: white;}#sk-container-id-7 div.sk-parallel-item:first-child::after {align-self: flex-end;width: 50%;}#sk-container-id-7 div.sk-parallel-item:last-child::after {align-self: flex-start;width: 50%;}#sk-container-id-7 div.sk-parallel-item:only-child::after {width: 0;}#sk-container-id-7 div.sk-dashed-wrapped {border: 1px dashed gray;margin: 0 0.4em 0.5em 0.4em;box-sizing: border-box;padding-bottom: 0.4em;background-color: white;}#sk-container-id-7 div.sk-label label {font-family: monospace;font-weight: bold;display: inline-block;line-height: 1.2em;}#sk-container-id-7 div.sk-label-container {text-align: center;}#sk-container-id-7 div.sk-container {/* jupyter's `normalize.less` sets `[hidden] { display: none; }` but bootstrap.min.css set `[hidden] { display: none !important; }` so we also need the `!important` here to be able to override the default hidden behavior on the sphinx rendered scikit-learn.org. See: https://github.com/scikit-learn/scikit-learn/issues/21755 */display: inline-block !important;position: relative;}#sk-container-id-7 div.sk-text-repr-fallback {display: none;}</style><div id=\"sk-container-id-7\" class=\"sk-top-container\"><div class=\"sk-text-repr-fallback\"><pre>GridSearchCV(cv=5,\n",
       "             estimator=Pipeline(steps=[(&#x27;rus&#x27;,\n",
       "                                        RandomUnderSampler(random_state=42)),\n",
       "                                       (&#x27;gbc&#x27;,\n",
       "                                        GradientBoostingClassifier(random_state=42))]),\n",
       "             n_jobs=-1,\n",
       "             param_grid={&#x27;gbc__learning_rate&#x27;: [0.06, 0.1, 0.14],\n",
       "                         &#x27;gbc__max_depth&#x27;: [3, 4, 5],\n",
       "                         &#x27;gbc__n_estimators&#x27;: [100, 125, 150, 175]},\n",
       "             scoring=&#x27;f1&#x27;, verbose=1)</pre><b>In a Jupyter environment, please rerun this cell to show the HTML representation or trust the notebook. <br />On GitHub, the HTML representation is unable to render, please try loading this page with nbviewer.org.</b></div><div class=\"sk-container\" hidden><div class=\"sk-item sk-dashed-wrapped\"><div class=\"sk-label-container\"><div class=\"sk-label sk-toggleable\"><input class=\"sk-toggleable__control sk-hidden--visually\" id=\"sk-estimator-id-25\" type=\"checkbox\" ><label for=\"sk-estimator-id-25\" class=\"sk-toggleable__label sk-toggleable__label-arrow\">GridSearchCV</label><div class=\"sk-toggleable__content\"><pre>GridSearchCV(cv=5,\n",
       "             estimator=Pipeline(steps=[(&#x27;rus&#x27;,\n",
       "                                        RandomUnderSampler(random_state=42)),\n",
       "                                       (&#x27;gbc&#x27;,\n",
       "                                        GradientBoostingClassifier(random_state=42))]),\n",
       "             n_jobs=-1,\n",
       "             param_grid={&#x27;gbc__learning_rate&#x27;: [0.06, 0.1, 0.14],\n",
       "                         &#x27;gbc__max_depth&#x27;: [3, 4, 5],\n",
       "                         &#x27;gbc__n_estimators&#x27;: [100, 125, 150, 175]},\n",
       "             scoring=&#x27;f1&#x27;, verbose=1)</pre></div></div></div><div class=\"sk-parallel\"><div class=\"sk-parallel-item\"><div class=\"sk-item\"><div class=\"sk-label-container\"><div class=\"sk-label sk-toggleable\"><input class=\"sk-toggleable__control sk-hidden--visually\" id=\"sk-estimator-id-26\" type=\"checkbox\" ><label for=\"sk-estimator-id-26\" class=\"sk-toggleable__label sk-toggleable__label-arrow\">estimator: Pipeline</label><div class=\"sk-toggleable__content\"><pre>Pipeline(steps=[(&#x27;rus&#x27;, RandomUnderSampler(random_state=42)),\n",
       "                (&#x27;gbc&#x27;, GradientBoostingClassifier(random_state=42))])</pre></div></div></div><div class=\"sk-serial\"><div class=\"sk-item\"><div class=\"sk-serial\"><div class=\"sk-item\"><div class=\"sk-estimator sk-toggleable\"><input class=\"sk-toggleable__control sk-hidden--visually\" id=\"sk-estimator-id-27\" type=\"checkbox\" ><label for=\"sk-estimator-id-27\" class=\"sk-toggleable__label sk-toggleable__label-arrow\">RandomUnderSampler</label><div class=\"sk-toggleable__content\"><pre>RandomUnderSampler(random_state=42)</pre></div></div></div><div class=\"sk-item\"><div class=\"sk-estimator sk-toggleable\"><input class=\"sk-toggleable__control sk-hidden--visually\" id=\"sk-estimator-id-28\" type=\"checkbox\" ><label for=\"sk-estimator-id-28\" class=\"sk-toggleable__label sk-toggleable__label-arrow\">GradientBoostingClassifier</label><div class=\"sk-toggleable__content\"><pre>GradientBoostingClassifier(random_state=42)</pre></div></div></div></div></div></div></div></div></div></div></div></div>"
      ],
      "text/plain": [
       "GridSearchCV(cv=5,\n",
       "             estimator=Pipeline(steps=[('rus',\n",
       "                                        RandomUnderSampler(random_state=42)),\n",
       "                                       ('gbc',\n",
       "                                        GradientBoostingClassifier(random_state=42))]),\n",
       "             n_jobs=-1,\n",
       "             param_grid={'gbc__learning_rate': [0.06, 0.1, 0.14],\n",
       "                         'gbc__max_depth': [3, 4, 5],\n",
       "                         'gbc__n_estimators': [100, 125, 150, 175]},\n",
       "             scoring='f1', verbose=1)"
      ]
     },
     "execution_count": 78,
     "metadata": {},
     "output_type": "execute_result"
    }
   ],
   "source": [
    "# fit the model into train\n",
    "grid_gbc_rus.fit(X_train_sc, y_train)"
   ]
  },
  {
   "cell_type": "code",
   "execution_count": 79,
   "id": "283bbd3b-9781-4ac8-b298-962d05532dd3",
   "metadata": {
    "scrolled": true,
    "tags": []
   },
   "outputs": [
    {
     "data": {
      "text/html": [
       "<div>\n",
       "<style scoped>\n",
       "    .dataframe tbody tr th:only-of-type {\n",
       "        vertical-align: middle;\n",
       "    }\n",
       "\n",
       "    .dataframe tbody tr th {\n",
       "        vertical-align: top;\n",
       "    }\n",
       "\n",
       "    .dataframe thead th {\n",
       "        text-align: right;\n",
       "    }\n",
       "</style>\n",
       "<table border=\"1\" class=\"dataframe\">\n",
       "  <thead>\n",
       "    <tr style=\"text-align: right;\">\n",
       "      <th></th>\n",
       "      <th>mean_fit_time</th>\n",
       "      <th>std_fit_time</th>\n",
       "      <th>mean_score_time</th>\n",
       "      <th>std_score_time</th>\n",
       "      <th>param_gbc__learning_rate</th>\n",
       "      <th>param_gbc__max_depth</th>\n",
       "      <th>param_gbc__n_estimators</th>\n",
       "      <th>params</th>\n",
       "      <th>split0_test_score</th>\n",
       "      <th>split1_test_score</th>\n",
       "      <th>split2_test_score</th>\n",
       "      <th>split3_test_score</th>\n",
       "      <th>split4_test_score</th>\n",
       "      <th>mean_test_score</th>\n",
       "      <th>std_test_score</th>\n",
       "      <th>rank_test_score</th>\n",
       "    </tr>\n",
       "  </thead>\n",
       "  <tbody>\n",
       "    <tr>\n",
       "      <th>24</th>\n",
       "      <td>0.274991</td>\n",
       "      <td>0.044860</td>\n",
       "      <td>0.009375</td>\n",
       "      <td>1.353176e-03</td>\n",
       "      <td>0.14</td>\n",
       "      <td>3</td>\n",
       "      <td>100</td>\n",
       "      <td>{'gbc__learning_rate': 0.14, 'gbc__max_depth': 3, 'gbc__n_estimators': 100}</td>\n",
       "      <td>0.242424</td>\n",
       "      <td>0.225589</td>\n",
       "      <td>0.217886</td>\n",
       "      <td>0.239737</td>\n",
       "      <td>0.187175</td>\n",
       "      <td>0.222562</td>\n",
       "      <td>0.019863</td>\n",
       "      <td>1</td>\n",
       "    </tr>\n",
       "    <tr>\n",
       "      <th>26</th>\n",
       "      <td>0.395351</td>\n",
       "      <td>0.027184</td>\n",
       "      <td>0.015758</td>\n",
       "      <td>1.158641e-02</td>\n",
       "      <td>0.14</td>\n",
       "      <td>3</td>\n",
       "      <td>150</td>\n",
       "      <td>{'gbc__learning_rate': 0.14, 'gbc__max_depth': 3, 'gbc__n_estimators': 150}</td>\n",
       "      <td>0.249513</td>\n",
       "      <td>0.226027</td>\n",
       "      <td>0.214850</td>\n",
       "      <td>0.240132</td>\n",
       "      <td>0.181172</td>\n",
       "      <td>0.222339</td>\n",
       "      <td>0.023746</td>\n",
       "      <td>2</td>\n",
       "    </tr>\n",
       "    <tr>\n",
       "      <th>15</th>\n",
       "      <td>0.410995</td>\n",
       "      <td>0.004009</td>\n",
       "      <td>0.010972</td>\n",
       "      <td>6.308273e-04</td>\n",
       "      <td>0.1</td>\n",
       "      <td>3</td>\n",
       "      <td>175</td>\n",
       "      <td>{'gbc__learning_rate': 0.1, 'gbc__max_depth': 3, 'gbc__n_estimators': 175}</td>\n",
       "      <td>0.238866</td>\n",
       "      <td>0.224490</td>\n",
       "      <td>0.224000</td>\n",
       "      <td>0.242123</td>\n",
       "      <td>0.182131</td>\n",
       "      <td>0.222322</td>\n",
       "      <td>0.021395</td>\n",
       "      <td>3</td>\n",
       "    </tr>\n",
       "    <tr>\n",
       "      <th>14</th>\n",
       "      <td>0.397484</td>\n",
       "      <td>0.041435</td>\n",
       "      <td>0.009973</td>\n",
       "      <td>4.156970e-07</td>\n",
       "      <td>0.1</td>\n",
       "      <td>3</td>\n",
       "      <td>150</td>\n",
       "      <td>{'gbc__learning_rate': 0.1, 'gbc__max_depth': 3, 'gbc__n_estimators': 150}</td>\n",
       "      <td>0.241309</td>\n",
       "      <td>0.224456</td>\n",
       "      <td>0.220096</td>\n",
       "      <td>0.239460</td>\n",
       "      <td>0.184991</td>\n",
       "      <td>0.222062</td>\n",
       "      <td>0.020283</td>\n",
       "      <td>4</td>\n",
       "    </tr>\n",
       "    <tr>\n",
       "      <th>12</th>\n",
       "      <td>0.245861</td>\n",
       "      <td>0.027242</td>\n",
       "      <td>0.008976</td>\n",
       "      <td>2.092328e-03</td>\n",
       "      <td>0.1</td>\n",
       "      <td>3</td>\n",
       "      <td>100</td>\n",
       "      <td>{'gbc__learning_rate': 0.1, 'gbc__max_depth': 3, 'gbc__n_estimators': 100}</td>\n",
       "      <td>0.233820</td>\n",
       "      <td>0.238953</td>\n",
       "      <td>0.217822</td>\n",
       "      <td>0.233766</td>\n",
       "      <td>0.185185</td>\n",
       "      <td>0.221909</td>\n",
       "      <td>0.019689</td>\n",
       "      <td>5</td>\n",
       "    </tr>\n",
       "  </tbody>\n",
       "</table>\n",
       "</div>"
      ],
      "text/plain": [
       "    mean_fit_time  std_fit_time  mean_score_time  std_score_time  \\\n",
       "24       0.274991      0.044860         0.009375    1.353176e-03   \n",
       "26       0.395351      0.027184         0.015758    1.158641e-02   \n",
       "15       0.410995      0.004009         0.010972    6.308273e-04   \n",
       "14       0.397484      0.041435         0.009973    4.156970e-07   \n",
       "12       0.245861      0.027242         0.008976    2.092328e-03   \n",
       "\n",
       "   param_gbc__learning_rate param_gbc__max_depth param_gbc__n_estimators  \\\n",
       "24                     0.14                    3                     100   \n",
       "26                     0.14                    3                     150   \n",
       "15                      0.1                    3                     175   \n",
       "14                      0.1                    3                     150   \n",
       "12                      0.1                    3                     100   \n",
       "\n",
       "                                                                         params  \\\n",
       "24  {'gbc__learning_rate': 0.14, 'gbc__max_depth': 3, 'gbc__n_estimators': 100}   \n",
       "26  {'gbc__learning_rate': 0.14, 'gbc__max_depth': 3, 'gbc__n_estimators': 150}   \n",
       "15   {'gbc__learning_rate': 0.1, 'gbc__max_depth': 3, 'gbc__n_estimators': 175}   \n",
       "14   {'gbc__learning_rate': 0.1, 'gbc__max_depth': 3, 'gbc__n_estimators': 150}   \n",
       "12   {'gbc__learning_rate': 0.1, 'gbc__max_depth': 3, 'gbc__n_estimators': 100}   \n",
       "\n",
       "    split0_test_score  split1_test_score  split2_test_score  \\\n",
       "24           0.242424           0.225589           0.217886   \n",
       "26           0.249513           0.226027           0.214850   \n",
       "15           0.238866           0.224490           0.224000   \n",
       "14           0.241309           0.224456           0.220096   \n",
       "12           0.233820           0.238953           0.217822   \n",
       "\n",
       "    split3_test_score  split4_test_score  mean_test_score  std_test_score  \\\n",
       "24           0.239737           0.187175         0.222562        0.019863   \n",
       "26           0.240132           0.181172         0.222339        0.023746   \n",
       "15           0.242123           0.182131         0.222322        0.021395   \n",
       "14           0.239460           0.184991         0.222062        0.020283   \n",
       "12           0.233766           0.185185         0.221909        0.019689   \n",
       "\n",
       "    rank_test_score  \n",
       "24                1  \n",
       "26                2  \n",
       "15                3  \n",
       "14                4  \n",
       "12                5  "
      ]
     },
     "execution_count": 79,
     "metadata": {},
     "output_type": "execute_result"
    }
   ],
   "source": [
    "# Show the top 5 best scores with their params\n",
    "pd.DataFrame(grid_gbc_rus.cv_results_).sort_values('rank_test_score').head()"
   ]
  },
  {
   "cell_type": "code",
   "execution_count": 80,
   "id": "04512d26-02cb-49de-80f2-dddf3e29f5b7",
   "metadata": {},
   "outputs": [],
   "source": [
    "# Generate predictions from GBC & RUS\n",
    "y_pred_gbc_rus = grid_gbc_rus.predict(X_test_sc)"
   ]
  },
  {
   "cell_type": "code",
   "execution_count": 81,
   "id": "881fa7c7-09fd-483f-8143-a66ae36bb750",
   "metadata": {},
   "outputs": [
    {
     "name": "stdout",
     "output_type": "stream",
     "text": [
      "              precision    recall  f1-score   support\n",
      "\n",
      "           0       0.98      0.70      0.82      2489\n",
      "           1       0.12      0.75      0.21       138\n",
      "\n",
      "    accuracy                           0.70      2627\n",
      "   macro avg       0.55      0.73      0.51      2627\n",
      "weighted avg       0.94      0.70      0.79      2627\n",
      "\n"
     ]
    }
   ],
   "source": [
    "# Show classification metrics report for GBC & RUS\n",
    "print(classification_report(y_test, y_pred_gbc_rus))"
   ]
  },
  {
   "cell_type": "code",
   "execution_count": 82,
   "id": "6abffd92-c424-423a-aa23-cf5f0108ee83",
   "metadata": {},
   "outputs": [
    {
     "data": {
      "text/plain": [
       "0.8"
      ]
     },
     "execution_count": 82,
     "metadata": {},
     "output_type": "execute_result"
    }
   ],
   "source": [
    "# Show ROC AUC score\n",
    "round(roc_auc_score(y_test, grid_gbc_rus.predict_proba(X_test_sc)[:,1]),2)"
   ]
  },
  {
   "cell_type": "code",
   "execution_count": 83,
   "id": "81a5fe18-f301-43d3-8a9c-4b9ea175e5d6",
   "metadata": {},
   "outputs": [
    {
     "data": {
      "image/png": "[encoded data removed]",
      "text/plain": [
       "<Figure size 640x480 with 2 Axes>"
      ]
     },
     "metadata": {},
     "output_type": "display_data"
    }
   ],
   "source": [
    "# Display confusion matrix for GBC & RUS\n",
    "conf_matrix(y_pred_gbc_rus)"
   ]
  },
  {
   "cell_type": "markdown",
   "id": "f618442e-fbf5-4bbb-9eec-3371f71c4530",
   "metadata": {},
   "source": [
    "### ROC Curves for all models"
   ]
  },
  {
   "cell_type": "code",
   "execution_count": 84,
   "id": "ad6a2cf8-5896-438e-83fa-c3930371fd29",
   "metadata": {},
   "outputs": [
    {
     "data": {
      "image/png": "[encoded data removed]",
      "text/plain": [
       "<Figure size 800x800 with 1 Axes>"
      ]
     },
     "metadata": {},
     "output_type": "display_data"
    }
   ],
   "source": [
    "# Plot ROC curves for all models\n",
    "plt.rcParams['figure.figsize'] = (8,8)\n",
    "\n",
    "# ROC Curve for baseline\n",
    "fig = RocCurveDisplay.from_estimator(grid_baseline, X_test_sc, y_test, name='Baseline')\n",
    "\n",
    "# ROC Curve for all other models\n",
    "RocCurveDisplay.from_estimator(grid_rf_smote, X_test_sc, y_test, name='Random Forest & SMOTE', ax =fig.ax_)\n",
    "RocCurveDisplay.from_estimator(grid_rf_rus, X_test_sc, y_test, name='Random Forest & RandomUnderSampler', ax =fig.ax_)\n",
    "RocCurveDisplay.from_estimator(grid_knn_smote, X_test_sc, y_test, name='k-NN Classifier & SMOTE', ax =fig.ax_)\n",
    "RocCurveDisplay.from_estimator(grid_knn_rus, X_test_sc, y_test, name='k-NN Classifier & RandomUnderSampler', ax =fig.ax_)\n",
    "RocCurveDisplay.from_estimator(grid_gbc_smote, X_test_sc, y_test, name='Gradient Boosting Classifier & SMOTE', ax =fig.ax_)\n",
    "RocCurveDisplay.from_estimator(grid_gbc_rus, X_test_sc, y_test, name='Gradient Boosting Classifier & RandomUnderSampler', ax =fig.ax_)\n",
    "\n",
    "# Depict the curve when samples are taken at random\n",
    "plt.plot([0, 1], [0, 1], linestyle='--');\n",
    "\n",
    "# Title\n",
    "fig.figure_.suptitle(\"ROC-AUC Curve Comparison\");"
   ]
  },
  {
   "cell_type": "markdown",
   "id": "0f30589f-1693-427d-aae7-f436051671df",
   "metadata": {},
   "source": [
    "### Precision-Recall Curves for all models"
   ]
  },
  {
   "cell_type": "code",
   "execution_count": 85,
   "id": "0dfa8783-6c2b-44e5-9319-1d03a66b515c",
   "metadata": {},
   "outputs": [
    {
     "data": {
      "image/png": "[encoded data removed]",
      "text/plain": [
       "<Figure size 800x800 with 1 Axes>"
      ]
     },
     "metadata": {},
     "output_type": "display_data"
    }
   ],
   "source": [
    "# Plot PR curves for all models\n",
    "plt.rcParams['figure.figsize'] = (8,8)\n",
    "\n",
    "# PR Curve for baseline\n",
    "fig = PrecisionRecallDisplay.from_estimator(grid_baseline, X_test_sc, y_test, name='Baseline')\n",
    "\n",
    "# PR Curve for all other models\n",
    "PrecisionRecallDisplay.from_estimator(grid_rf_smote, X_test_sc, y_test, name='Random Forest & SMOTE', ax =fig.ax_)\n",
    "PrecisionRecallDisplay.from_estimator(grid_rf_rus, X_test_sc, y_test, name='Random Forest & RandomUnderSampler', ax =fig.ax_)\n",
    "PrecisionRecallDisplay.from_estimator(grid_knn_smote, X_test_sc, y_test, name='k-NN Classifier & SMOTE', ax =fig.ax_)\n",
    "PrecisionRecallDisplay.from_estimator(grid_knn_rus, X_test_sc, y_test, name='k-NN Classifier & RandomUnderSampler', ax =fig.ax_)\n",
    "PrecisionRecallDisplay.from_estimator(grid_gbc_smote, X_test_sc, y_test, name='Gradient Boosting Classifier & SMOTE', ax =fig.ax_)\n",
    "PrecisionRecallDisplay.from_estimator(grid_gbc_rus, X_test_sc, y_test, name='Gradient Boosting Classifier & RandomUnderSampler', ax =fig.ax_)\n",
    "\n",
    "# Reposition the legend to upper right\n",
    "fig.ax_.legend(loc='upper right')\n",
    "\n",
    "# Title\n",
    "fig.figure_.suptitle(\"Precision-Recall Curve Comparison\");"
   ]
  },
  {
   "cell_type": "markdown",
   "id": "4ed144b7-1b7b-4648-9bbd-b908c8571b8d",
   "metadata": {},
   "source": [
    "## Model Evaluation"
   ]
  },
  {
   "cell_type": "markdown",
   "id": "8d30843c-62e5-4559-a4cb-320242f9705b",
   "metadata": {},
   "source": [
    "Given that the classes in this train dataset is very imbalanced, we need to access the model's performance based on multiple metrics. In relation to the problem statement, it is important that the model predicts the true positives as accurate as possible. A high false positives will result in the city spending more on pesticides unnecessarily while a high false negatives will result in more cases of WNV going undetected. Thus, F1 score and ROC AUC score will be the key metrics to access the best performing model. A limitation with using only ROC AUC scores solely for imbalanced dataset is that it is prone to misleading results ([source](https://stephenallwright.com/f1-score-vs-auc/))."
   ]
  },
  {
   "cell_type": "markdown",
   "id": "a18dcfe4-0a93-4c54-b3e0-e663b00c591b",
   "metadata": {},
   "source": [
    "Model|Resampling method|F1 (Train)|F1 (Test/Hold-Out)|ROC AUC|Precision|Recall|Average Precision\n",
    "---|---|---|---|---|---|---|---\n",
    "Naive Bayes (Baseline)|Random Over Sampler|0.10|0.11|0.75|0.06|1.00|0.11\n",
    "Random Forest|SMOTE|0.27|0.24|0.80|0.17|0.40|0.20\n",
    "Random Forest|Random Under Sampler|0.22|0.20|0.80|0.12|0.71|0.20\n",
    "kNN|SMOTE|0.22|0.21|0.73|0.14|0.41|0.12\n",
    "kNN|Random Under Sampler|0.18|0.18|0.74|0.10|0.68|0.11\n",
    "Gradient Boosting|SMOTE|0.30|0.26|0.81|0.19|0.41|0.21\n",
    "**Gradient Boosting**|**Random Under Sampler**|**0.22**|**0.21**|**0.80**|0.12|0.75|0.19"
   ]
  },
  {
   "cell_type": "markdown",
   "id": "7d592b9f-c198-4026-bbe2-7f685264cc75",
   "metadata": {},
   "source": [
    "From the table above, the baseline model performed fairly in general. F1 scores on train data versus that of test/hold-out data have a small difference of 0.01, indicating that there is no signifcant overfitting of the model. It is noted that all of these models show signs of underfitting since their F1 scores are below 0.5. However, these models are still relevant when assessing them through ROC AUC score, where all of them have scores far away from 0.5, towards 1.0. The reason for the poor F1 scores can be attributed to the extreme imbalanced classes in the train dataset.<br>\n",
    "\n",
    "Gradient Boosting Classifier with Random Under Sampler performed the best out of the 7 models. Even though ROC AUC scores are similar amongst gradient boosting classifier and random forest classifier, the variance between F1 scores (Train) and F1 scores (Test/Hold-out) is the smallest for Gradient Boosting classifier with Random Under Sampler.<br>\n",
    "\n",
    "Considering all other metrics, the overall metrics for Gradient Boosting Classifier when Random Under Sampler is applied are considerably fine. With a recall score of 0.75, it performs very well in reducing False Negatives. In a sense, we are able to predict more clusters where WNV is present and take action accordingly. In terms of precision, the model had an average performance where False positives are quite high. In a sense, we will end up spraying more clusters with pesticides depite the fact that they do not have any WNV present.\n",
    "\n",
    "A limitation with Gradient Boosting is that they are prone to overfitting. Hence, any new dataset given to this model are more likely to perform badly and return poor predictions."
   ]
  },
  {
   "cell_type": "markdown",
   "id": "37034578-60f7-4a67-b82a-26d575d20a66",
   "metadata": {},
   "source": [
    "## Conclusion - Model"
   ]
  },
  {
   "cell_type": "markdown",
   "id": "2c442e8e-5243-485a-8687-097a31b18fab",
   "metadata": {},
   "source": [
    "**Classification Model**\n",
    "\n",
    "Gradient Boosting is the most suitable model to use for predicting the traps with WNV present out of those without WNV. This model is able to predict the correct traps with WNV (recall score = 0.75) better than leaving the prediction by chance. Leaving the prediction by chance has a probabilty of it being correct at around 0.5.<br>\n",
    "\n",
    "Reasons are stated as per below:\n",
    "1. F1 scores between train dataset and test/hold-out dataset do not vary a lot (Difference of 0.01)\n",
    "2. Recall score is well above 0.5, which is the rough probability of the label tagging being correct, if left to chance. This means that the model is able to predict true positive cases better than pure randomness.\n",
    "3. ROC AUC metric is relatively close to 1 and far away from 0.5. This implies that the model seems to fit well with the imbalanced dataset on hand.\n",
    "4. F1 score and Precision scores are signifcantly higher than that of baseline model. This means that the model is better at predicting true positives while keeping false positives low, as compared to baseline model."
   ]
  },
  {
   "cell_type": "markdown",
   "id": "aef5df87-c5f2-49d6-a1c5-d58727848a64",
   "metadata": {},
   "source": [
    "**Limitation/Further Improvements**\n",
    "\n",
    "A limitation with Gradient Boosting is that they are prone to overfitting. Hence, any new dataset given to this model are more likely to perform badly and return poor predictions. This would result in the agency not being able to predict which traps are more likely to have WNV for future observations.<br>\n",
    "\n",
    "Our model might not be able to predict well when there are new datasets. This is because the train data used was too imbalanced where observations with WNV present is only 5% of the total observations. It would be good to have more data records of traps with WNV present to balance the classes out. Another point would be the lack of key features that have a strong relationship with the presence of WNV. If the dataset contain information like humidity, carbon dioxide concentration, approximate distance to water bodies or a cleaner recording of number of mosquitoes trapped, it should help with the model training and improve its predicting performance."
   ]
  },
  {
   "cell_type": "markdown",
   "id": "1e21eb1b-f8e0-4101-932b-ac82e5ff4869",
   "metadata": {},
   "source": [
    "## Recommendation - Model"
   ]
  },
  {
   "cell_type": "markdown",
   "id": "d7896333-1895-49d4-a32a-6ad3251c953e",
   "metadata": {},
   "source": [
    "Going back to the problem statement, we recommend that Gradient Boosting Classifier model should be used to predict the presence of WNV in mosquito traps."
   ]
  },
  {
   "cell_type": "markdown",
   "id": "247aec14-ba9d-4de4-a2af-b1286b022b00",
   "metadata": {},
   "source": [
    "## Predictions on Test dataset"
   ]
  },
  {
   "cell_type": "markdown",
   "id": "75f74499-b4fe-4272-bb41-3ae004286de8",
   "metadata": {},
   "source": [
    "**Re-fit the full train dataset into the chosen model**"
   ]
  },
  {
   "cell_type": "code",
   "execution_count": 86,
   "id": "1f992445-e58a-4859-9be8-f847ec76e3c5",
   "metadata": {},
   "outputs": [],
   "source": [
    "# Fit scaling tranformer into X variables\n",
    "X_sc = ct.fit_transform(X)\n",
    "\n",
    "# Fit scaling tranformer into df_test variables\n",
    "test_sc = ct.fit_transform(df_test_model)"
   ]
  },
  {
   "cell_type": "code",
   "execution_count": 87,
   "id": "29c58ae0-2cab-45b4-9aec-90de3e85d83d",
   "metadata": {
    "tags": []
   },
   "outputs": [],
   "source": [
    "# Instantiate Pipeline for test\n",
    "pipe_gbc_rus_test = Pipeline([\n",
    "    ('rus', RandomUnderSampler(random_state=42)),\n",
    "    ('gbc', GradientBoostingClassifier(random_state=42, learning_rate=0.14, max_depth=3, n_estimators=100))\n",
    "])"
   ]
  },
  {
   "cell_type": "code",
   "execution_count": 88,
   "id": "834363c3-e113-436b-98dd-53525aa94e36",
   "metadata": {},
   "outputs": [],
   "source": [
    "# Instantiate GridsearchCV model for test\n",
    "grid_gbc_rus_test = GridSearchCV(pipe_gbc_rus_test,\n",
    "                                 param_grid = base_params,\n",
    "                                 scoring = 'f1',\n",
    "                                 cv = 5,\n",
    "                                 n_jobs = -1,\n",
    "                                 verbose = 1\n",
    "                                )"
   ]
  },
  {
   "cell_type": "code",
   "execution_count": 89,
   "id": "4e8b8da7-62ef-426c-8895-8963b3bf2162",
   "metadata": {},
   "outputs": [
    {
     "name": "stdout",
     "output_type": "stream",
     "text": [
      "Fitting 5 folds for each of 1 candidates, totalling 5 fits\n"
     ]
    },
    {
     "data": {
      "text/html": [
       "<style>#sk-container-id-8 {color: black;background-color: white;}#sk-container-id-8 pre{padding: 0;}#sk-container-id-8 div.sk-toggleable {background-color: white;}#sk-container-id-8 label.sk-toggleable__label {cursor: pointer;display: block;width: 100%;margin-bottom: 0;padding: 0.3em;box-sizing: border-box;text-align: center;}#sk-container-id-8 label.sk-toggleable__label-arrow:before {content: \"▸\";float: left;margin-right: 0.25em;color: #696969;}#sk-container-id-8 label.sk-toggleable__label-arrow:hover:before {color: black;}#sk-container-id-8 div.sk-estimator:hover label.sk-toggleable__label-arrow:before {color: black;}#sk-container-id-8 div.sk-toggleable__content {max-height: 0;max-width: 0;overflow: hidden;text-align: left;background-color: #f0f8ff;}#sk-container-id-8 div.sk-toggleable__content pre {margin: 0.2em;color: black;border-radius: 0.25em;background-color: #f0f8ff;}#sk-container-id-8 input.sk-toggleable__control:checked~div.sk-toggleable__content {max-height: 200px;max-width: 100%;overflow: auto;}#sk-container-id-8 input.sk-toggleable__control:checked~label.sk-toggleable__label-arrow:before {content: \"▾\";}#sk-container-id-8 div.sk-estimator input.sk-toggleable__control:checked~label.sk-toggleable__label {background-color: #d4ebff;}#sk-container-id-8 div.sk-label input.sk-toggleable__control:checked~label.sk-toggleable__label {background-color: #d4ebff;}#sk-container-id-8 input.sk-hidden--visually {border: 0;clip: rect(1px 1px 1px 1px);clip: rect(1px, 1px, 1px, 1px);height: 1px;margin: -1px;overflow: hidden;padding: 0;position: absolute;width: 1px;}#sk-container-id-8 div.sk-estimator {font-family: monospace;background-color: #f0f8ff;border: 1px dotted black;border-radius: 0.25em;box-sizing: border-box;margin-bottom: 0.5em;}#sk-container-id-8 div.sk-estimator:hover {background-color: #d4ebff;}#sk-container-id-8 div.sk-parallel-item::after {content: \"\";width: 100%;border-bottom: 1px solid gray;flex-grow: 1;}#sk-container-id-8 div.sk-label:hover label.sk-toggleable__label {background-color: #d4ebff;}#sk-container-id-8 div.sk-serial::before {content: \"\";position: absolute;border-left: 1px solid gray;box-sizing: border-box;top: 0;bottom: 0;left: 50%;z-index: 0;}#sk-container-id-8 div.sk-serial {display: flex;flex-direction: column;align-items: center;background-color: white;padding-right: 0.2em;padding-left: 0.2em;position: relative;}#sk-container-id-8 div.sk-item {position: relative;z-index: 1;}#sk-container-id-8 div.sk-parallel {display: flex;align-items: stretch;justify-content: center;background-color: white;position: relative;}#sk-container-id-8 div.sk-item::before, #sk-container-id-8 div.sk-parallel-item::before {content: \"\";position: absolute;border-left: 1px solid gray;box-sizing: border-box;top: 0;bottom: 0;left: 50%;z-index: -1;}#sk-container-id-8 div.sk-parallel-item {display: flex;flex-direction: column;z-index: 1;position: relative;background-color: white;}#sk-container-id-8 div.sk-parallel-item:first-child::after {align-self: flex-end;width: 50%;}#sk-container-id-8 div.sk-parallel-item:last-child::after {align-self: flex-start;width: 50%;}#sk-container-id-8 div.sk-parallel-item:only-child::after {width: 0;}#sk-container-id-8 div.sk-dashed-wrapped {border: 1px dashed gray;margin: 0 0.4em 0.5em 0.4em;box-sizing: border-box;padding-bottom: 0.4em;background-color: white;}#sk-container-id-8 div.sk-label label {font-family: monospace;font-weight: bold;display: inline-block;line-height: 1.2em;}#sk-container-id-8 div.sk-label-container {text-align: center;}#sk-container-id-8 div.sk-container {/* jupyter's `normalize.less` sets `[hidden] { display: none; }` but bootstrap.min.css set `[hidden] { display: none !important; }` so we also need the `!important` here to be able to override the default hidden behavior on the sphinx rendered scikit-learn.org. See: https://github.com/scikit-learn/scikit-learn/issues/21755 */display: inline-block !important;position: relative;}#sk-container-id-8 div.sk-text-repr-fallback {display: none;}</style><div id=\"sk-container-id-8\" class=\"sk-top-container\"><div class=\"sk-text-repr-fallback\"><pre>GridSearchCV(cv=5,\n",
       "             estimator=Pipeline(steps=[(&#x27;rus&#x27;,\n",
       "                                        RandomUnderSampler(random_state=42)),\n",
       "                                       (&#x27;gbc&#x27;,\n",
       "                                        GradientBoostingClassifier(learning_rate=0.14,\n",
       "                                                                   random_state=42))]),\n",
       "             n_jobs=-1, param_grid={}, scoring=&#x27;f1&#x27;, verbose=1)</pre><b>In a Jupyter environment, please rerun this cell to show the HTML representation or trust the notebook. <br />On GitHub, the HTML representation is unable to render, please try loading this page with nbviewer.org.</b></div><div class=\"sk-container\" hidden><div class=\"sk-item sk-dashed-wrapped\"><div class=\"sk-label-container\"><div class=\"sk-label sk-toggleable\"><input class=\"sk-toggleable__control sk-hidden--visually\" id=\"sk-estimator-id-29\" type=\"checkbox\" ><label for=\"sk-estimator-id-29\" class=\"sk-toggleable__label sk-toggleable__label-arrow\">GridSearchCV</label><div class=\"sk-toggleable__content\"><pre>GridSearchCV(cv=5,\n",
       "             estimator=Pipeline(steps=[(&#x27;rus&#x27;,\n",
       "                                        RandomUnderSampler(random_state=42)),\n",
       "                                       (&#x27;gbc&#x27;,\n",
       "                                        GradientBoostingClassifier(learning_rate=0.14,\n",
       "                                                                   random_state=42))]),\n",
       "             n_jobs=-1, param_grid={}, scoring=&#x27;f1&#x27;, verbose=1)</pre></div></div></div><div class=\"sk-parallel\"><div class=\"sk-parallel-item\"><div class=\"sk-item\"><div class=\"sk-label-container\"><div class=\"sk-label sk-toggleable\"><input class=\"sk-toggleable__control sk-hidden--visually\" id=\"sk-estimator-id-30\" type=\"checkbox\" ><label for=\"sk-estimator-id-30\" class=\"sk-toggleable__label sk-toggleable__label-arrow\">estimator: Pipeline</label><div class=\"sk-toggleable__content\"><pre>Pipeline(steps=[(&#x27;rus&#x27;, RandomUnderSampler(random_state=42)),\n",
       "                (&#x27;gbc&#x27;,\n",
       "                 GradientBoostingClassifier(learning_rate=0.14,\n",
       "                                            random_state=42))])</pre></div></div></div><div class=\"sk-serial\"><div class=\"sk-item\"><div class=\"sk-serial\"><div class=\"sk-item\"><div class=\"sk-estimator sk-toggleable\"><input class=\"sk-toggleable__control sk-hidden--visually\" id=\"sk-estimator-id-31\" type=\"checkbox\" ><label for=\"sk-estimator-id-31\" class=\"sk-toggleable__label sk-toggleable__label-arrow\">RandomUnderSampler</label><div class=\"sk-toggleable__content\"><pre>RandomUnderSampler(random_state=42)</pre></div></div></div><div class=\"sk-item\"><div class=\"sk-estimator sk-toggleable\"><input class=\"sk-toggleable__control sk-hidden--visually\" id=\"sk-estimator-id-32\" type=\"checkbox\" ><label for=\"sk-estimator-id-32\" class=\"sk-toggleable__label sk-toggleable__label-arrow\">GradientBoostingClassifier</label><div class=\"sk-toggleable__content\"><pre>GradientBoostingClassifier(learning_rate=0.14, random_state=42)</pre></div></div></div></div></div></div></div></div></div></div></div></div>"
      ],
      "text/plain": [
       "GridSearchCV(cv=5,\n",
       "             estimator=Pipeline(steps=[('rus',\n",
       "                                        RandomUnderSampler(random_state=42)),\n",
       "                                       ('gbc',\n",
       "                                        GradientBoostingClassifier(learning_rate=0.14,\n",
       "                                                                   random_state=42))]),\n",
       "             n_jobs=-1, param_grid={}, scoring='f1', verbose=1)"
      ]
     },
     "execution_count": 89,
     "metadata": {},
     "output_type": "execute_result"
    }
   ],
   "source": [
    "# fit the model into full train\n",
    "grid_gbc_rus_test.fit(X_sc, y)"
   ]
  },
  {
   "cell_type": "markdown",
   "id": "fb14adcc-5244-4a79-804f-40ea7511fe9c",
   "metadata": {},
   "source": [
    "**Run predictions on test dataset**"
   ]
  },
  {
   "cell_type": "code",
   "execution_count": 90,
   "id": "2095c3f0-7231-4da0-9ae7-ffbfc067f279",
   "metadata": {},
   "outputs": [],
   "source": [
    "# Run prediction probabilities on df_test\n",
    "test_pred = grid_gbc_rus_test.predict_proba(test_sc)"
   ]
  },
  {
   "cell_type": "code",
   "execution_count": 91,
   "id": "4d82471e-34ce-49f2-9194-fd9d202d25b8",
   "metadata": {},
   "outputs": [],
   "source": [
    "# Create the list of probability when WnvPresent=1\n",
    "test_pred_1 = []\n",
    "for pred in test_pred:\n",
    "    test_pred_1.append(pred[1])"
   ]
  },
  {
   "cell_type": "code",
   "execution_count": 92,
   "id": "5027c049-2f0a-4a05-9335-f87b90fcb0ea",
   "metadata": {},
   "outputs": [],
   "source": [
    "# Create dataframe for exporting the result for Kaggle submission\n",
    "df_test['WnvPresent'] = test_pred_1\n",
    "df_result = df_test[['Id','WnvPresent']]\n",
    "\n",
    "# Export the result df into csv\n",
    "df_result.to_csv('../assets/result_gbc.csv', index=False)"
   ]
  },
  {
   "cell_type": "markdown",
   "id": "3d6531f3-c465-4198-ae7e-b345bce2dad2",
   "metadata": {},
   "source": [
    "Below is the result of the chosen model in Kaggle.\n",
    "\n",
    "![image info](../images/kaggle.jpg)"
   ]
  }
 ],
 "metadata": {
  "kernelspec": {
   "display_name": "Python [conda env:dsi-sg]",
   "language": "python",
   "name": "conda-env-dsi-sg-py"
  },
  "language_info": {
   "codemirror_mode": {
    "name": "ipython",
    "version": 3
   },
   "file_extension": ".py",
   "mimetype": "text/x-python",
   "name": "python",
   "nbconvert_exporter": "python",
   "pygments_lexer": "ipython3",
   "version": "3.8.13"
  }
 },
 "nbformat": 4,
 "nbformat_minor": 5
}
