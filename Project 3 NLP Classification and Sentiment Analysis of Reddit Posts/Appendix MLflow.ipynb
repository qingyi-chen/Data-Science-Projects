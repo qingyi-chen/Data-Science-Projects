{
 "cells": [
  {
   "cell_type": "code",
   "execution_count": null,
   "id": "87cf6da6-31b7-4979-8ff6-44850619b534",
   "metadata": {},
   "outputs": [
    {
     "name": "stdout",
     "output_type": "stream",
     "text": [
      "[2022-10-04 20:22:36 +0800] [23169] [INFO] Starting gunicorn 20.1.0\n",
      "[2022-10-04 20:22:36 +0800] [23169] [INFO] Listening at: http://127.0.0.1:5000 (23169)\n",
      "[2022-10-04 20:22:36 +0800] [23169] [INFO] Using worker: sync\n",
      "[2022-10-04 20:22:36 +0800] [23172] [INFO] Booting worker with pid: 23172\n",
      "[2022-10-04 23:32:52 +0800] [23169] [CRITICAL] WORKER TIMEOUT (pid:23172)\n",
      "[2022-10-04 23:32:52 +0800] [23172] [INFO] Worker exiting (pid: 23172)\n",
      "[2022-10-04 23:32:52 +0800] [30078] [INFO] Booting worker with pid: 30078\n",
      "[2022-10-04 23:45:03 +0800] [23169] [CRITICAL] WORKER TIMEOUT (pid:30078)\n",
      "[2022-10-04 23:45:03 +0800] [30078] [INFO] Worker exiting (pid: 30078)\n",
      "[2022-10-04 23:45:03 +0800] [30120] [INFO] Booting worker with pid: 30120\n",
      "[2022-10-05 02:58:54 +0800] [23169] [CRITICAL] WORKER TIMEOUT (pid:30120)\n",
      "[2022-10-05 02:58:54 +0800] [30120] [INFO] Worker exiting (pid: 30120)\n",
      "[2022-10-05 02:58:55 +0800] [32877] [INFO] Booting worker with pid: 32877\n",
      "[2022-10-05 03:07:43 +0800] [23169] [CRITICAL] WORKER TIMEOUT (pid:32877)\n",
      "[2022-10-05 03:07:43 +0800] [32877] [INFO] Worker exiting (pid: 32877)\n",
      "[2022-10-05 03:07:44 +0800] [23169] [WARNING] Worker with pid 32877 was terminated due to signal 9\n",
      "[2022-10-05 03:07:44 +0800] [32882] [INFO] Booting worker with pid: 32882\n",
      "[2022-10-05 05:08:15 +0800] [23169] [CRITICAL] WORKER TIMEOUT (pid:32882)\n",
      "[2022-10-05 05:08:16 +0800] [32882] [INFO] Worker exiting (pid: 32882)\n",
      "[2022-10-05 05:08:18 +0800] [32945] [INFO] Booting worker with pid: 32945\n",
      "[2022-10-05 07:08:24 +0800] [23169] [CRITICAL] WORKER TIMEOUT (pid:32945)\n",
      "[2022-10-05 07:08:25 +0800] [32945] [INFO] Worker exiting (pid: 32945)\n",
      "[2022-10-05 07:08:25 +0800] [32996] [INFO] Booting worker with pid: 32996\n",
      "[2022-10-05 07:59:42 +0800] [23169] [CRITICAL] WORKER TIMEOUT (pid:32996)\n",
      "[2022-10-05 07:59:43 +0800] [32996] [INFO] Worker exiting (pid: 32996)\n",
      "[2022-10-05 07:59:43 +0800] [23169] [WARNING] Worker with pid 32996 was terminated due to signal 9\n",
      "[2022-10-05 07:59:43 +0800] [33027] [INFO] Booting worker with pid: 33027\n",
      "[2022-10-05 08:52:58 +0800] [23169] [CRITICAL] WORKER TIMEOUT (pid:33027)\n",
      "[2022-10-05 08:52:58 +0800] [33027] [INFO] Worker exiting (pid: 33027)\n",
      "[2022-10-05 08:52:58 +0800] [33047] [INFO] Booting worker with pid: 33047\n",
      "[2022-10-05 08:55:38 +0800] [23169] [CRITICAL] WORKER TIMEOUT (pid:33047)\n",
      "[2022-10-05 08:55:38 +0800] [33047] [INFO] Worker exiting (pid: 33047)\n",
      "[2022-10-05 08:55:38 +0800] [33210] [INFO] Booting worker with pid: 33210\n"
     ]
    }
   ],
   "source": [
    "! mlflow ui --backend-store-uri sqlite:///mlflow.db"
   ]
  }
 ],
 "metadata": {
  "kernelspec": {
   "display_name": "Python 3 (ipykernel)",
   "language": "python",
   "name": "python3"
  },
  "language_info": {
   "codemirror_mode": {
    "name": "ipython",
    "version": 3
   },
   "file_extension": ".py",
   "mimetype": "text/x-python",
   "name": "python",
   "nbconvert_exporter": "python",
   "pygments_lexer": "ipython3",
   "version": "3.8.13"
  }
 },
 "nbformat": 4,
 "nbformat_minor": 5
}
