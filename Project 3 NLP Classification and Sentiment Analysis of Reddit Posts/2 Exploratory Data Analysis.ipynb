{
 "cells": [
  {
   "cell_type": "markdown",
   "id": "0011d215-5cff-493f-85f8-5238de576f0b",
   "metadata": {},
   "source": [
    "# NLP - Classification and Sentiment Analysis of Reddit Posts"
   ]
  },
  {
   "cell_type": "markdown",
   "id": "ed9093a7-a3b4-4e83-84ee-776168d9e97c",
   "metadata": {},
   "source": [
    "## Part 2: Exploratory Data Analysis"
   ]
  },
  {
   "cell_type": "markdown",
   "id": "f6d64eae-403e-43c3-806b-85eefef551fc",
   "metadata": {},
   "source": [
    "Part 1: Web API Data Collection <br>\n",
    "Part 2: Exploratory Data Analysis <br>\n",
    "Part 3: Baseline Classification Models and Zero Shot Classification <br>\n",
    "Part 4: PyCaret Classification Models <br>\n",
    "Part 5: Sentiment Analysis <br>\n",
    "\n",
    "---\n",
    "\n",
    "In part 2, exploratory data analysis were done to understand contents of text from 'Google' and 'Apple' subreddits. Text data were cleaned for downstream analysis and modelling."
   ]
  },
  {
   "cell_type": "code",
   "execution_count": 11,
   "id": "1ce5e70b-9eea-459b-a3b8-019697c1d060",
   "metadata": {},
   "outputs": [],
   "source": [
    "import pandas as pd\n",
    "import numpy as np\n",
    "import matplotlib.pyplot as plt\n",
    "import seaborn as sns\n",
    "from tqdm import tqdm\n",
    "\n",
    "# For text processing\n",
    "import re\n",
    "import emoji\n",
    "import contractions\n",
    "import datetime\n",
    "from sklearn.feature_extraction.text import CountVectorizer\n",
    "from nltk.corpus import stopwords\n",
    "from nltk import word_tokenize, RegexpTokenizer\n",
    "from nltk.stem import WordNetLemmatizer\n",
    "from nltk.stem.porter import PorterStemmer\n",
    "\n",
    "# Switch off warning\n",
    "import warnings\n",
    "warnings.filterwarnings(\"ignore\")"
   ]
  },
  {
   "cell_type": "markdown",
   "id": "bb54b08b-ca77-44f7-b99f-9b98e8f039be",
   "metadata": {},
   "source": [
    "## Import Data"
   ]
  },
  {
   "cell_type": "code",
   "execution_count": 12,
   "id": "f4d5ac55-b670-4b02-82ec-8e521d9b9bc1",
   "metadata": {},
   "outputs": [
    {
     "name": "stdout",
     "output_type": "stream",
     "text": [
      "(19963, 3)\n"
     ]
    },
    {
     "data": {
      "text/html": [
       "<div>\n",
       "<style scoped>\n",
       "    .dataframe tbody tr th:only-of-type {\n",
       "        vertical-align: middle;\n",
       "    }\n",
       "\n",
       "    .dataframe tbody tr th {\n",
       "        vertical-align: top;\n",
       "    }\n",
       "\n",
       "    .dataframe thead th {\n",
       "        text-align: right;\n",
       "    }\n",
       "</style>\n",
       "<table border=\"1\" class=\"dataframe\">\n",
       "  <thead>\n",
       "    <tr style=\"text-align: right;\">\n",
       "      <th></th>\n",
       "      <th>selftext</th>\n",
       "      <th>subreddit</th>\n",
       "      <th>title</th>\n",
       "    </tr>\n",
       "  </thead>\n",
       "  <tbody>\n",
       "    <tr>\n",
       "      <th>0</th>\n",
       "      <td>[removed]</td>\n",
       "      <td>apple</td>\n",
       "      <td>iPhone XS Screen Yellow tints</td>\n",
       "    </tr>\n",
       "    <tr>\n",
       "      <th>1</th>\n",
       "      <td>[removed]</td>\n",
       "      <td>apple</td>\n",
       "      <td>Dynamic Island Questions</td>\n",
       "    </tr>\n",
       "    <tr>\n",
       "      <th>2</th>\n",
       "      <td>[removed]</td>\n",
       "      <td>apple</td>\n",
       "      <td>What are the advantages of using Apple TV agai...</td>\n",
       "    </tr>\n",
       "    <tr>\n",
       "      <th>3</th>\n",
       "      <td>NaN</td>\n",
       "      <td>apple</td>\n",
       "      <td>Gates</td>\n",
       "    </tr>\n",
       "    <tr>\n",
       "      <th>4</th>\n",
       "      <td>[removed]</td>\n",
       "      <td>apple</td>\n",
       "      <td>Why is the 'This song is not currently availab...</td>\n",
       "    </tr>\n",
       "  </tbody>\n",
       "</table>\n",
       "</div>"
      ],
      "text/plain": [
       "    selftext subreddit                                              title\n",
       "0  [removed]     apple                      iPhone XS Screen Yellow tints\n",
       "1  [removed]     apple                           Dynamic Island Questions\n",
       "2  [removed]     apple  What are the advantages of using Apple TV agai...\n",
       "3        NaN     apple                                              Gates\n",
       "4  [removed]     apple  Why is the 'This song is not currently availab..."
      ]
     },
     "execution_count": 12,
     "metadata": {},
     "output_type": "execute_result"
    }
   ],
   "source": [
    "apple = pd.read_csv('Scraped Datasets/apple_posts',usecols=['subreddit', 'selftext', 'title'])\n",
    "print(apple.shape)\n",
    "apple.head()"
   ]
  },
  {
   "cell_type": "code",
   "execution_count": 13,
   "id": "7dab847d-8a80-4480-830b-8e553ba54f77",
   "metadata": {},
   "outputs": [
    {
     "name": "stdout",
     "output_type": "stream",
     "text": [
      "(19973, 3)\n"
     ]
    },
    {
     "data": {
      "text/html": [
       "<div>\n",
       "<style scoped>\n",
       "    .dataframe tbody tr th:only-of-type {\n",
       "        vertical-align: middle;\n",
       "    }\n",
       "\n",
       "    .dataframe tbody tr th {\n",
       "        vertical-align: top;\n",
       "    }\n",
       "\n",
       "    .dataframe thead th {\n",
       "        text-align: right;\n",
       "    }\n",
       "</style>\n",
       "<table border=\"1\" class=\"dataframe\">\n",
       "  <thead>\n",
       "    <tr style=\"text-align: right;\">\n",
       "      <th></th>\n",
       "      <th>selftext</th>\n",
       "      <th>subreddit</th>\n",
       "      <th>title</th>\n",
       "    </tr>\n",
       "  </thead>\n",
       "  <tbody>\n",
       "    <tr>\n",
       "      <th>0</th>\n",
       "      <td>[removed]</td>\n",
       "      <td>google</td>\n",
       "      <td>Frauenärztin München Zentrum - Schwangerenvors...</td>\n",
       "    </tr>\n",
       "    <tr>\n",
       "      <th>1</th>\n",
       "      <td>I don't have high expectations, I am not delus...</td>\n",
       "      <td>google</td>\n",
       "      <td>Petition to save Stadia</td>\n",
       "    </tr>\n",
       "    <tr>\n",
       "      <th>2</th>\n",
       "      <td>NaN</td>\n",
       "      <td>google</td>\n",
       "      <td>Google Stadia will be shutting down in January...</td>\n",
       "    </tr>\n",
       "    <tr>\n",
       "      <th>3</th>\n",
       "      <td>NaN</td>\n",
       "      <td>google</td>\n",
       "      <td>Google won't let you create an email without a...</td>\n",
       "    </tr>\n",
       "    <tr>\n",
       "      <th>4</th>\n",
       "      <td>[removed]</td>\n",
       "      <td>google</td>\n",
       "      <td>Recover Android backup with different resoluti...</td>\n",
       "    </tr>\n",
       "  </tbody>\n",
       "</table>\n",
       "</div>"
      ],
      "text/plain": [
       "                                            selftext subreddit  \\\n",
       "0                                          [removed]    google   \n",
       "1  I don't have high expectations, I am not delus...    google   \n",
       "2                                                NaN    google   \n",
       "3                                                NaN    google   \n",
       "4                                          [removed]    google   \n",
       "\n",
       "                                               title  \n",
       "0  Frauenärztin München Zentrum - Schwangerenvors...  \n",
       "1                            Petition to save Stadia  \n",
       "2  Google Stadia will be shutting down in January...  \n",
       "3  Google won't let you create an email without a...  \n",
       "4  Recover Android backup with different resoluti...  "
      ]
     },
     "execution_count": 13,
     "metadata": {},
     "output_type": "execute_result"
    }
   ],
   "source": [
    "google = pd.read_csv('Scraped Datasets/google_posts',usecols=['subreddit', 'selftext', 'title'])\n",
    "print(google.shape)\n",
    "google.head()"
   ]
  },
  {
   "cell_type": "markdown",
   "id": "c4c02025-0a84-4511-af2b-599289819a73",
   "metadata": {
    "tags": []
   },
   "source": [
    "## Missing Values"
   ]
  },
  {
   "cell_type": "markdown",
   "id": "53eb0623-6c87-49d9-ab67-437aaec1cb98",
   "metadata": {},
   "source": [
    "Some of the reddit posts appear to have no contents.\n",
    "- [removed] means posts were deleted by moderators\n",
    "- [deleted] means posts were deleted by authors\n",
    "\n",
    "If there are still text in the title, these observations will be preserved. If there are no text data related to the post at all, the observation will be dropped from further analysis."
   ]
  },
  {
   "cell_type": "code",
   "execution_count": 14,
   "id": "c6a77b0a-4f87-4493-87bb-0cc33d2f19a9",
   "metadata": {},
   "outputs": [],
   "source": [
    "# Replace [removed]/[deleted] with null values\n",
    "apple['selftext'] = apple['selftext'].replace(['[removed]','[deleted]'],np.nan)\n",
    "google['selftext'] = google['selftext'].replace(['[removed]','[deleted]'],np.nan)"
   ]
  },
  {
   "cell_type": "code",
   "execution_count": 15,
   "id": "48fb6ac1-aa98-4203-b982-eedbf9589001",
   "metadata": {},
   "outputs": [
    {
     "name": "stdout",
     "output_type": "stream",
     "text": [
      "(19971, 3)\n"
     ]
    }
   ],
   "source": [
    "# Remove empty posts (posts without any text in the title)\n",
    "google = google.dropna(axis=0,subset='title')\n",
    "print(google.shape)"
   ]
  },
  {
   "cell_type": "code",
   "execution_count": 16,
   "id": "226f9252-b986-4d5c-837b-05324b8dde00",
   "metadata": {},
   "outputs": [
    {
     "data": {
      "text/plain": [
       "selftext     0.881979\n",
       "subreddit    0.000000\n",
       "title        0.000000\n",
       "dtype: float64"
      ]
     },
     "execution_count": 16,
     "metadata": {},
     "output_type": "execute_result"
    }
   ],
   "source": [
    "# Misisng values in google subreddit\n",
    "google.isnull().sum()/len(google)"
   ]
  },
  {
   "cell_type": "code",
   "execution_count": 17,
   "id": "cf734801-615b-42ef-9f6f-6233cc67fd9d",
   "metadata": {},
   "outputs": [
    {
     "data": {
      "text/plain": [
       "selftext     0.97932\n",
       "subreddit    0.00000\n",
       "title        0.00000\n",
       "dtype: float64"
      ]
     },
     "execution_count": 17,
     "metadata": {},
     "output_type": "execute_result"
    }
   ],
   "source": [
    "# Misisng values in apple subreddit\n",
    "apple.isnull().sum()/len(google)"
   ]
  },
  {
   "cell_type": "markdown",
   "id": "39404633-e4c6-4acc-bd70-8364fc5cd05a",
   "metadata": {},
   "source": [
    "- Majority of the posts only has a title but no self-text (body of content in the post)\n",
    "- Hence, title and self-text will be combined for subsequent text analysis"
   ]
  },
  {
   "cell_type": "markdown",
   "id": "c70a1571-9094-4980-99eb-0fcd4db47edd",
   "metadata": {
    "tags": []
   },
   "source": [
    "## Combine Text"
   ]
  },
  {
   "cell_type": "code",
   "execution_count": 18,
   "id": "bfb546e3-4f86-4cef-9f3d-b07225bdc2a8",
   "metadata": {},
   "outputs": [],
   "source": [
    "# Function to combine title and selftext into a new column - text\n",
    "def combine_text(row):\n",
    "    if type(row['selftext']) == str:\n",
    "        row['text'] = row['title']+' '+row['selftext']\n",
    "    else:\n",
    "        row['text'] = row['title']\n",
    "    return row['text']"
   ]
  },
  {
   "cell_type": "code",
   "execution_count": 19,
   "id": "2954409e-ec7e-46b5-a529-83a0eeba12dd",
   "metadata": {},
   "outputs": [
    {
     "name": "stderr",
     "output_type": "stream",
     "text": [
      "100%|███████████████████████████████████| 19963/19963 [00:14<00:00, 1420.72it/s]\n"
     ]
    }
   ],
   "source": [
    "# Combine text data in 'Apple' subreddit\n",
    "tqdm.pandas()\n",
    "apple['text'] = apple.progress_apply(combine_text,axis=1)"
   ]
  },
  {
   "cell_type": "code",
   "execution_count": 20,
   "id": "41db09d0-d7a8-4038-ba0c-6bd1f117814a",
   "metadata": {},
   "outputs": [
    {
     "name": "stderr",
     "output_type": "stream",
     "text": [
      "100%|███████████████████████████████████| 19971/19971 [00:14<00:00, 1419.39it/s]\n"
     ]
    }
   ],
   "source": [
    "# Combine text data in 'Google' subreddit\n",
    "google['text'] = google.progress_apply(combine_text,axis=1)"
   ]
  },
  {
   "cell_type": "code",
   "execution_count": 21,
   "id": "c8aec532-ba99-44de-ab75-69b7c4a07de8",
   "metadata": {},
   "outputs": [],
   "source": [
    "google_text = google[['text','subreddit']]\n",
    "apple_text = apple[['text','subreddit']]"
   ]
  },
  {
   "cell_type": "markdown",
   "id": "99718c53-1eec-4536-8464-b6eeaa8ba0b9",
   "metadata": {
    "tags": []
   },
   "source": [
    "## Duplicated Posts"
   ]
  },
  {
   "cell_type": "markdown",
   "id": "c1966d58-8a2d-4ebf-b0bd-9d9b90e1b926",
   "metadata": {},
   "source": [
    "Quick scan of duplicated posts in the subreddits. These duplicated posts will be removed subsequently."
   ]
  },
  {
   "cell_type": "code",
   "execution_count": 22,
   "id": "40a915cf-ce1b-445c-adb0-1543cf823acc",
   "metadata": {},
   "outputs": [
    {
     "data": {
      "text/plain": [
       "Google Email Signature                                                                                                                                                                                                                                                                                                                                                                                                                                                                                                                                                                                                                                                                                     37\n",
       "Buy Verified PayPal Accounts - Personal &amp; Business Accounts                                                                                                                                                                                                                                                                                                                                                                                                                                                                                                                                                                                                                                            37\n",
       "Gmail Email Signature                                                                                                                                                                                                                                                                                                                                                                                                                                                                                                                                                                                                                                                                                      33\n",
       "Gmail Contact Sharing                                                                                                                                                                                                                                                                                                                                                                                                                                                                                                                                                                                                                                                                                      33\n",
       "Google Drive isn't working with Outlook Hello,\\n\\nI have been using Google Drive to send documents and files as link when they're too large but it has been like 2-3 weeks since it stopped working. When I added a link and click send to someone outside of my organization, a pop-up window appeared for me to select an option like if I wanted them to edit or just view the documents and then the email with the link was sent. Now, every time that I click send the email just crashes and I have to open Task Manager and force Outlook to close. Anybody else with this same issue? How can I fix it? We have been talking to Google &amp; Microsoft and it seems I know more than them lol.    31\n",
       "Name: text, dtype: int64"
      ]
     },
     "execution_count": 22,
     "metadata": {},
     "output_type": "execute_result"
    }
   ],
   "source": [
    "# Duplicated posts in 'Google' subreddit\n",
    "google_text['text'].value_counts().sort_values(ascending=False).head(5)"
   ]
  },
  {
   "cell_type": "markdown",
   "id": "f44b3fce-d867-4b6e-bc25-b073953ef430",
   "metadata": {},
   "source": [
    "- Notice that spam advertisement was among the most repeated post"
   ]
  },
  {
   "cell_type": "code",
   "execution_count": 23,
   "id": "70e05b5f-eea8-492d-bc83-73c1448ae567",
   "metadata": {},
   "outputs": [
    {
     "data": {
      "text/plain": [
       "Help                                                                                                                                                                                                                                                                                                                                                                                                                                                                                                                                                                                                                                                                                                                                                                                                                                      27\n",
       "Question                                                                                                                                                                                                                                                                                                                                                                                                                                                                                                                                                                                                                                                                                                                                                                                                                                  17\n",
       "help                                                                                                                                                                                                                                                                                                                                                                                                                                                                                                                                                                                                                                                                                                                                                                                                                                      13\n",
       "Is it worth it to replace the battery on an Iphone 8 in 2022? Hello everyone I‘m wondering with if it is worth it to replace the batteries on an Iphone 8 or should I be getting a new model phone all together. The thing is even though the battery health is on 80% and it says it supports “normal peak performance” I noticed that the battery only lasts 8 hours with casual use, casual as in I listen to music on the Airpods for 5 couple of hours, browse the internet For a collectively for 30 minutes and I would get to 20\\~30% battery capacity in which case I would turn on battery saving mode. This mode kind of limits the usage of the phone to an unpleasantly sluggish experience. Question now is it worth changing the battery or is the battery capacity just not good enough to support future IOS updates?     8\n",
       "iOS 16                                                                                                                                                                                                                                                                                                                                                                                                                                                                                                                                                                                                                                                                                                                                                                                                                                     8\n",
       "Name: text, dtype: int64"
      ]
     },
     "execution_count": 23,
     "metadata": {},
     "output_type": "execute_result"
    }
   ],
   "source": [
    "# Duplicated posts in 'Apple' subreddit\n",
    "apple_text['text'].value_counts().sort_values(ascending=False).head(5)"
   ]
  },
  {
   "cell_type": "code",
   "execution_count": 24,
   "id": "576977c6-6ef8-433e-97d4-4d1af91ba088",
   "metadata": {},
   "outputs": [
    {
     "data": {
      "text/plain": [
       "Buy Verified PayPal Accounts - Personal &amp; Business Accounts    37\n",
       "Buy Google Reviews - Buy 5 Star Google reviews                     22\n",
       "Buy Google 5 Star Reviews - 100% Secure &amp; Non Drop Rating      21\n",
       "Buy Negative Google Reviews - BuyUSmarket                          11\n",
       "Buy Google Reviews                                                 10\n",
       "Name: text, dtype: int64"
      ]
     },
     "execution_count": 24,
     "metadata": {},
     "output_type": "execute_result"
    }
   ],
   "source": [
    "# Find spam advertisements with the keyword 'Buy'\n",
    "google_text.loc[google_text['text'].str.contains('Buy'),'text'].value_counts().sort_values(ascending=False).head(5)"
   ]
  },
  {
   "cell_type": "code",
   "execution_count": 25,
   "id": "c8c6993a-5947-4b77-9419-5f2fb23503b4",
   "metadata": {
    "tags": []
   },
   "outputs": [
    {
     "name": "stdout",
     "output_type": "stream",
     "text": [
      "(19502, 2)\n"
     ]
    }
   ],
   "source": [
    "# Remove spam advertisements\n",
    "google_text = google_text[google_text['text'].str.contains('Buy')==False]\n",
    "print(google_text.shape)"
   ]
  },
  {
   "cell_type": "markdown",
   "id": "d4bccf83-2590-4c08-b611-63e7c7c2f40a",
   "metadata": {
    "tags": []
   },
   "source": [
    "## Text Cleaning"
   ]
  },
  {
   "cell_type": "markdown",
   "id": "09983180-f2de-4308-bcbc-b078c0124531",
   "metadata": {},
   "source": [
    "The following text cleaning steps will be taken:\n",
    "- Remove hyperlinks\n",
    "- Remove 'r/', which is commonly used in reddit to refer to other subreddits\n",
    "- Remove \"&amp\", which represents text ampersand in HTML\n",
    "- Expand contraction (e.g. convert \"won't\" to \"will not\") so that meaning of words can be preserved after removing special characters\n",
    "- Remove special characters and digits\n",
    "- Convert to lower cases\n",
    "- Remove duplicated texts"
   ]
  },
  {
   "cell_type": "code",
   "execution_count": 26,
   "id": "f4c6da77-a95e-4a6e-9354-398357bf4ffd",
   "metadata": {},
   "outputs": [],
   "source": [
    "def clean_text(df):\n",
    "    \n",
    "    # Number of rows before cleaning\n",
    "    row_before = len(df)\n",
    "    \n",
    "    # Remove hyperlinks\n",
    "    df['text'] = df['text'].apply(lambda x:re.sub(r'http\\S+', '', x))\n",
    "    \n",
    "    # Remove r/\n",
    "    df['text'] = df['text'].replace('r/','')\n",
    "    \n",
    "    # Remove &amp;\n",
    "    df['text'] = df['text'].replace('&amp;','')\n",
    "    \n",
    "    # Expand Contraction \n",
    "    df['text'] = pd.Series([contractions.fix(row) for row in df['text']])\n",
    "    \n",
    "    # Remove special characters and digits (including emojis)\n",
    "    df['text'] = df['text'].apply(lambda x:re.sub(r'[^a-zA-Z\\s]', '', str(x)).strip())\n",
    "    \n",
    "    # Convert to lower case\n",
    "    df['text'] = df['text'].apply(str.lower)\n",
    "    \n",
    "    # Remove duplicated texts\n",
    "    df.drop_duplicates(subset='text',inplace=True)\n",
    "    \n",
    "    # Number of rows after cleaning\n",
    "    row_after = len(df)\n",
    "    \n",
    "    print(f'{row_before-row_after} rows removed.')\n",
    "    print(f'Final dataframe shape: {df.shape}')"
   ]
  },
  {
   "cell_type": "code",
   "execution_count": 27,
   "id": "43d41954-6ccc-4809-825d-5283f8725cb7",
   "metadata": {},
   "outputs": [
    {
     "name": "stdout",
     "output_type": "stream",
     "text": [
      "2421 rows removed.\n",
      "Final dataframe shape: (17081, 2)\n"
     ]
    }
   ],
   "source": [
    "clean_text(google_text)"
   ]
  },
  {
   "cell_type": "code",
   "execution_count": 28,
   "id": "24509dfb-47d8-4acb-86fd-c11541cc7abd",
   "metadata": {},
   "outputs": [
    {
     "name": "stdout",
     "output_type": "stream",
     "text": [
      "987 rows removed.\n",
      "Final dataframe shape: (18976, 2)\n"
     ]
    }
   ],
   "source": [
    "clean_text(apple_text)"
   ]
  },
  {
   "cell_type": "markdown",
   "id": "924435af-a080-4b30-a812-3ef3529ab180",
   "metadata": {
    "tags": []
   },
   "source": [
    "## Feature Engineering"
   ]
  },
  {
   "cell_type": "markdown",
   "id": "2031adf3-1671-4aaf-8ce8-c0d0892013a2",
   "metadata": {},
   "source": [
    "Two new features were created:\n",
    "- Length of post (number of characters)\n",
    "- Word counts"
   ]
  },
  {
   "cell_type": "code",
   "execution_count": 29,
   "id": "dc1bf7df-6b01-4d9c-96cb-df878766d3da",
   "metadata": {},
   "outputs": [],
   "source": [
    "def create_features(df):\n",
    "    # Length of texts (number of characters)\n",
    "    df['length_of_text'] = df['text'].apply(len)\n",
    "    \n",
    "    # Word counts\n",
    "    df['word_count'] = [len(re.findall(r'\\w+',row)) for row in df['text']]\n",
    "    return df"
   ]
  },
  {
   "cell_type": "code",
   "execution_count": 30,
   "id": "ff22aa2c-49d4-45a8-904d-fd92c25e1e09",
   "metadata": {},
   "outputs": [
    {
     "data": {
      "text/html": [
       "<div>\n",
       "<style scoped>\n",
       "    .dataframe tbody tr th:only-of-type {\n",
       "        vertical-align: middle;\n",
       "    }\n",
       "\n",
       "    .dataframe tbody tr th {\n",
       "        vertical-align: top;\n",
       "    }\n",
       "\n",
       "    .dataframe thead th {\n",
       "        text-align: right;\n",
       "    }\n",
       "</style>\n",
       "<table border=\"1\" class=\"dataframe\">\n",
       "  <thead>\n",
       "    <tr style=\"text-align: right;\">\n",
       "      <th></th>\n",
       "      <th>text</th>\n",
       "      <th>subreddit</th>\n",
       "      <th>length_of_text</th>\n",
       "      <th>word_count</th>\n",
       "    </tr>\n",
       "  </thead>\n",
       "  <tbody>\n",
       "    <tr>\n",
       "      <th>0</th>\n",
       "      <td>iphone xs screen yellow tints</td>\n",
       "      <td>apple</td>\n",
       "      <td>29</td>\n",
       "      <td>5</td>\n",
       "    </tr>\n",
       "    <tr>\n",
       "      <th>1</th>\n",
       "      <td>dynamic island questions</td>\n",
       "      <td>apple</td>\n",
       "      <td>24</td>\n",
       "      <td>3</td>\n",
       "    </tr>\n",
       "    <tr>\n",
       "      <th>2</th>\n",
       "      <td>what are the advantages of using apple tv agai...</td>\n",
       "      <td>apple</td>\n",
       "      <td>97</td>\n",
       "      <td>19</td>\n",
       "    </tr>\n",
       "    <tr>\n",
       "      <th>3</th>\n",
       "      <td>gates</td>\n",
       "      <td>apple</td>\n",
       "      <td>5</td>\n",
       "      <td>1</td>\n",
       "    </tr>\n",
       "    <tr>\n",
       "      <th>4</th>\n",
       "      <td>why is the this song is not currently availabl...</td>\n",
       "      <td>apple</td>\n",
       "      <td>127</td>\n",
       "      <td>26</td>\n",
       "    </tr>\n",
       "    <tr>\n",
       "      <th>...</th>\n",
       "      <td>...</td>\n",
       "      <td>...</td>\n",
       "      <td>...</td>\n",
       "      <td>...</td>\n",
       "    </tr>\n",
       "    <tr>\n",
       "      <th>19958</th>\n",
       "      <td>tsmc clarifies apples ultrafusion chiptochip i...</td>\n",
       "      <td>apple</td>\n",
       "      <td>57</td>\n",
       "      <td>6</td>\n",
       "    </tr>\n",
       "    <tr>\n",
       "      <th>19959</th>\n",
       "      <td>what is the point of getting a high device sto...</td>\n",
       "      <td>apple</td>\n",
       "      <td>90</td>\n",
       "      <td>18</td>\n",
       "    </tr>\n",
       "    <tr>\n",
       "      <th>19960</th>\n",
       "      <td>what was your first apple product</td>\n",
       "      <td>apple</td>\n",
       "      <td>33</td>\n",
       "      <td>6</td>\n",
       "    </tr>\n",
       "    <tr>\n",
       "      <th>19961</th>\n",
       "      <td>here is a realworld look at how the iphone  li...</td>\n",
       "      <td>apple</td>\n",
       "      <td>73</td>\n",
       "      <td>14</td>\n",
       "    </tr>\n",
       "    <tr>\n",
       "      <th>19962</th>\n",
       "      <td>why does most app charge for subscription</td>\n",
       "      <td>apple</td>\n",
       "      <td>41</td>\n",
       "      <td>7</td>\n",
       "    </tr>\n",
       "  </tbody>\n",
       "</table>\n",
       "<p>18976 rows × 4 columns</p>\n",
       "</div>"
      ],
      "text/plain": [
       "                                                    text subreddit  \\\n",
       "0                          iphone xs screen yellow tints     apple   \n",
       "1                               dynamic island questions     apple   \n",
       "2      what are the advantages of using apple tv agai...     apple   \n",
       "3                                                  gates     apple   \n",
       "4      why is the this song is not currently availabl...     apple   \n",
       "...                                                  ...       ...   \n",
       "19958  tsmc clarifies apples ultrafusion chiptochip i...     apple   \n",
       "19959  what is the point of getting a high device sto...     apple   \n",
       "19960                  what was your first apple product     apple   \n",
       "19961  here is a realworld look at how the iphone  li...     apple   \n",
       "19962          why does most app charge for subscription     apple   \n",
       "\n",
       "       length_of_text  word_count  \n",
       "0                  29           5  \n",
       "1                  24           3  \n",
       "2                  97          19  \n",
       "3                   5           1  \n",
       "4                 127          26  \n",
       "...               ...         ...  \n",
       "19958              57           6  \n",
       "19959              90          18  \n",
       "19960              33           6  \n",
       "19961              73          14  \n",
       "19962              41           7  \n",
       "\n",
       "[18976 rows x 4 columns]"
      ]
     },
     "execution_count": 30,
     "metadata": {},
     "output_type": "execute_result"
    }
   ],
   "source": [
    "create_features(google_text)\n",
    "create_features(apple_text)"
   ]
  },
  {
   "cell_type": "markdown",
   "id": "8258d77c-5c22-4ce7-9c4e-dec404866a31",
   "metadata": {},
   "source": [
    "## Exploratory Visualisation"
   ]
  },
  {
   "cell_type": "markdown",
   "id": "1e3de484-7f8b-457c-bec8-67c759c1a10e",
   "metadata": {},
   "source": [
    "- Distribution of length of text\n",
    "- Distribution of word counts\n",
    "- Frequent words"
   ]
  },
  {
   "cell_type": "markdown",
   "id": "a8bb7e0d-87d1-48ac-bf04-24d2ff46fa9d",
   "metadata": {},
   "source": [
    "#### Distribution of Length of Text"
   ]
  },
  {
   "cell_type": "code",
   "execution_count": 31,
   "id": "d23d80d8-d4f7-4fe8-ae81-4a06d579ab53",
   "metadata": {},
   "outputs": [
    {
     "data": {
      "image/png": "[encoded data removed]",
      "text/plain": [
       "<Figure size 1000x300 with 2 Axes>"
      ]
     },
     "metadata": {},
     "output_type": "display_data"
    }
   ],
   "source": [
    "fig, axes = plt.subplots(nrows=1,ncols=2, sharey=True,figsize = (10,3))\n",
    "axes[0].hist(x=google_text['length_of_text'],bins=50,range=(0,200))\n",
    "axes[0].set_title('Length of Text in Google Subreddit', fontsize=12)\n",
    "\n",
    "axes[1].hist(x=apple_text['length_of_text'],bins=50,range=(0,200))\n",
    "axes[1].set_title('Length of Text in Apple Subreddit', fontsize=12);"
   ]
  },
  {
   "cell_type": "markdown",
   "id": "8e37d766-7b1e-4372-8f2f-4c74a33a7b1a",
   "metadata": {},
   "source": [
    "- Distribution appears similar, most users in both subreddits tend to write short posts within 50 characters."
   ]
  },
  {
   "cell_type": "markdown",
   "id": "130e145a-cbff-4f57-b202-da9a9ce48793",
   "metadata": {},
   "source": [
    "#### Distribution of Word Counts"
   ]
  },
  {
   "cell_type": "code",
   "execution_count": 32,
   "id": "39c880e1-ed11-4b44-840e-1762321ac00c",
   "metadata": {},
   "outputs": [
    {
     "data": {
      "image/png": "[encoded data removed]",
      "text/plain": [
       "<Figure size 1000x300 with 2 Axes>"
      ]
     },
     "metadata": {},
     "output_type": "display_data"
    }
   ],
   "source": [
    "fig, axes = plt.subplots(nrows=1,ncols=2, sharey=True,figsize = (10,3))\n",
    "axes[0].hist(x=google_text['word_count'],bins=50,range=(0,80))\n",
    "axes[0].set_title('Word Counts in Google Subreddit', fontsize=12)\n",
    "\n",
    "axes[1].hist(x=apple_text['word_count'],bins=50,range=(0,80))\n",
    "axes[1].set_title('Word Counts in Apple Subreddit', fontsize=12);"
   ]
  },
  {
   "cell_type": "markdown",
   "id": "2007f132-a2b9-4b5c-9b4d-55d8e081b1f6",
   "metadata": {},
   "source": [
    "- Distribution appears similar, most users in both subreddits tend to write short posts with less than 20 words."
   ]
  },
  {
   "cell_type": "markdown",
   "id": "b9258ac3-6f60-4faa-84ec-a0103d69e9f3",
   "metadata": {
    "tags": []
   },
   "source": [
    "#### Frequent Words"
   ]
  },
  {
   "cell_type": "markdown",
   "id": "6e4f1f13-0209-4442-b41b-37d16e64476d",
   "metadata": {
    "tags": []
   },
   "source": [
    "**Unigram**"
   ]
  },
  {
   "cell_type": "code",
   "execution_count": 33,
   "id": "66df6330-31fd-44d1-8f37-3f78f8b2ffe2",
   "metadata": {},
   "outputs": [],
   "source": [
    "# Function to plot most frequent words after vectorizing\n",
    "def word_count(df,col='text',ngram_range=(1,1)):\n",
    "    \n",
    "    # Vectorize the text using CountVectorizer\n",
    "    vec = CountVectorizer(stop_words='english',ngram_range=ngram_range)\n",
    "    df_vec = vec.fit_transform(df[col])\n",
    "    df_vec = pd.DataFrame(df_vec.toarray(),columns=vec.get_feature_names_out())\n",
    "    \n",
    "    # Plot top 10 most frequent words\n",
    "    plt.figure(figsize = (5,3))\n",
    "    plot = df_vec.sum().sort_values(ascending=False).head(10).plot(kind='barh')\n",
    "    subreddit_name= df['subreddit'][0]\n",
    "    plt.title(f'Top 10 words in {subreddit_name} subreddit')\n",
    "    return plot"
   ]
  },
  {
   "cell_type": "code",
   "execution_count": 34,
   "id": "f74a2427-8263-4101-91b7-6254217f4dcd",
   "metadata": {},
   "outputs": [
    {
     "data": {
      "text/plain": [
       "<AxesSubplot: title={'center': 'Top 10 words in apple subreddit'}>"
      ]
     },
     "execution_count": 34,
     "metadata": {},
     "output_type": "execute_result"
    },
    {
     "data": {
      "image/png": "[encoded data removed]",
      "text/plain": [
       "<Figure size 500x300 with 1 Axes>"
      ]
     },
     "metadata": {},
     "output_type": "display_data"
    }
   ],
   "source": [
    "word_count(apple_text)"
   ]
  },
  {
   "cell_type": "code",
   "execution_count": 35,
   "id": "89243b0b-7335-4569-b57e-b727dbc383f3",
   "metadata": {},
   "outputs": [
    {
     "data": {
      "text/plain": [
       "<AxesSubplot: title={'center': 'Top 10 words in google subreddit'}>"
      ]
     },
     "execution_count": 35,
     "metadata": {},
     "output_type": "execute_result"
    },
    {
     "data": {
      "image/png": "[encoded data removed]",
      "text/plain": [
       "<Figure size 500x300 with 1 Axes>"
      ]
     },
     "metadata": {},
     "output_type": "display_data"
    }
   ],
   "source": [
    "word_count(google_text)"
   ]
  },
  {
   "cell_type": "markdown",
   "id": "920f692d-6e0f-420b-8695-fc11cea37c31",
   "metadata": {
    "tags": []
   },
   "source": [
    "**Bigram**"
   ]
  },
  {
   "cell_type": "code",
   "execution_count": 36,
   "id": "193f8b59-0a03-4a31-a99a-5380db8b9be4",
   "metadata": {},
   "outputs": [
    {
     "data": {
      "text/plain": [
       "<AxesSubplot: title={'center': 'Top 10 words in apple subreddit'}>"
      ]
     },
     "execution_count": 36,
     "metadata": {},
     "output_type": "execute_result"
    },
    {
     "data": {
      "image/png": "[encoded data removed]",
      "text/plain": [
       "<Figure size 500x300 with 1 Axes>"
      ]
     },
     "metadata": {},
     "output_type": "display_data"
    }
   ],
   "source": [
    "word_count(apple_text,ngram_range=(2,2))"
   ]
  },
  {
   "cell_type": "code",
   "execution_count": 37,
   "id": "9b698599-6849-4bc8-a4e5-2673d77fab87",
   "metadata": {},
   "outputs": [
    {
     "data": {
      "text/plain": [
       "<AxesSubplot: title={'center': 'Top 10 words in google subreddit'}>"
      ]
     },
     "execution_count": 37,
     "metadata": {},
     "output_type": "execute_result"
    },
    {
     "data": {
      "image/png": "[encoded data removed]",
      "text/plain": [
       "<Figure size 500x300 with 1 Axes>"
      ]
     },
     "metadata": {},
     "output_type": "display_data"
    }
   ],
   "source": [
    "word_count(google_text,ngram_range=(2,2))"
   ]
  },
  {
   "cell_type": "markdown",
   "id": "609661e4-391c-4c56-a48e-5ee8e0b2530c",
   "metadata": {},
   "source": [
    "**Insights from word frequency analysis**\n",
    "- Most frequently mentioned words in both subreddits are mostly related to their products. For Apple subreddit, users have extensive discussion on ipad, airpods, macbook, watch, iphone. For Google subreddit, discussion on products centred around chrome, calendar, photos and google drive.\n",
    "- The key words 'apple' and 'google' are frequently mentioned in the subreddits. Even though these key words will improve classification accuracy, they do not help the model in capturing the specific contents that users write about the products. Therefore, these words will be removed subsequently."
   ]
  },
  {
   "cell_type": "markdown",
   "id": "d256bbeb-bf06-4e63-ae73-34e4524d292c",
   "metadata": {
    "tags": []
   },
   "source": [
    "## Combine DataFrames"
   ]
  },
  {
   "cell_type": "code",
   "execution_count": 38,
   "id": "3ed4d214-1a67-494b-b83a-8db3ac19b523",
   "metadata": {},
   "outputs": [
    {
     "name": "stdout",
     "output_type": "stream",
     "text": [
      "(36057, 4)\n"
     ]
    },
    {
     "data": {
      "text/html": [
       "<div>\n",
       "<style scoped>\n",
       "    .dataframe tbody tr th:only-of-type {\n",
       "        vertical-align: middle;\n",
       "    }\n",
       "\n",
       "    .dataframe tbody tr th {\n",
       "        vertical-align: top;\n",
       "    }\n",
       "\n",
       "    .dataframe thead th {\n",
       "        text-align: right;\n",
       "    }\n",
       "</style>\n",
       "<table border=\"1\" class=\"dataframe\">\n",
       "  <thead>\n",
       "    <tr style=\"text-align: right;\">\n",
       "      <th></th>\n",
       "      <th>text</th>\n",
       "      <th>subreddit</th>\n",
       "      <th>length_of_text</th>\n",
       "      <th>word_count</th>\n",
       "    </tr>\n",
       "  </thead>\n",
       "  <tbody>\n",
       "    <tr>\n",
       "      <th>0</th>\n",
       "      <td>frauenrztin mnchen zentrum  schwangerenvorsorge</td>\n",
       "      <td>google</td>\n",
       "      <td>47</td>\n",
       "      <td>4</td>\n",
       "    </tr>\n",
       "    <tr>\n",
       "      <th>1</th>\n",
       "      <td>petition to save stadia i do not have high exp...</td>\n",
       "      <td>google</td>\n",
       "      <td>194</td>\n",
       "      <td>38</td>\n",
       "    </tr>\n",
       "    <tr>\n",
       "      <th>2</th>\n",
       "      <td>google stadia will be shutting down in january...</td>\n",
       "      <td>google</td>\n",
       "      <td>89</td>\n",
       "      <td>13</td>\n",
       "    </tr>\n",
       "    <tr>\n",
       "      <th>3</th>\n",
       "      <td>google will not let you create an email withou...</td>\n",
       "      <td>google</td>\n",
       "      <td>62</td>\n",
       "      <td>12</td>\n",
       "    </tr>\n",
       "    <tr>\n",
       "      <th>4</th>\n",
       "      <td>recover android backup with different resoluti...</td>\n",
       "      <td>google</td>\n",
       "      <td>56</td>\n",
       "      <td>7</td>\n",
       "    </tr>\n",
       "  </tbody>\n",
       "</table>\n",
       "</div>"
      ],
      "text/plain": [
       "                                                text subreddit  \\\n",
       "0    frauenrztin mnchen zentrum  schwangerenvorsorge    google   \n",
       "1  petition to save stadia i do not have high exp...    google   \n",
       "2  google stadia will be shutting down in january...    google   \n",
       "3  google will not let you create an email withou...    google   \n",
       "4  recover android backup with different resoluti...    google   \n",
       "\n",
       "   length_of_text  word_count  \n",
       "0              47           4  \n",
       "1             194          38  \n",
       "2              89          13  \n",
       "3              62          12  \n",
       "4              56           7  "
      ]
     },
     "execution_count": 38,
     "metadata": {},
     "output_type": "execute_result"
    }
   ],
   "source": [
    "# Combine apple and google data\n",
    "combined_text = pd.concat([google_text,apple_text])\n",
    "print(combined_text.shape)\n",
    "combined_text.head()"
   ]
  },
  {
   "cell_type": "markdown",
   "id": "112ae3c3-caa2-4f88-af36-83b485d7f32f",
   "metadata": {
    "tags": []
   },
   "source": [
    "## Text Preprocessing"
   ]
  },
  {
   "cell_type": "markdown",
   "id": "181beaa1-c1fc-4016-a92c-06e5f4e87db6",
   "metadata": {},
   "source": [
    "The following text preprocessing were done to prepare text data for modelling.\n",
    "- Tokenisation\n",
    "- Remove stop words, including custom stop words (e.g. 'Apple' and 'Google')\n",
    "- Lemmatising and stemming"
   ]
  },
  {
   "cell_type": "markdown",
   "id": "ec78c0eb-08aa-4202-b26e-571a384099fe",
   "metadata": {},
   "source": [
    "#### Tokenisation"
   ]
  },
  {
   "cell_type": "code",
   "execution_count": 39,
   "id": "4ed8a8ec-d681-41b2-bddb-b061291a190a",
   "metadata": {},
   "outputs": [
    {
     "data": {
      "text/html": [
       "<div>\n",
       "<style scoped>\n",
       "    .dataframe tbody tr th:only-of-type {\n",
       "        vertical-align: middle;\n",
       "    }\n",
       "\n",
       "    .dataframe tbody tr th {\n",
       "        vertical-align: top;\n",
       "    }\n",
       "\n",
       "    .dataframe thead th {\n",
       "        text-align: right;\n",
       "    }\n",
       "</style>\n",
       "<table border=\"1\" class=\"dataframe\">\n",
       "  <thead>\n",
       "    <tr style=\"text-align: right;\">\n",
       "      <th></th>\n",
       "      <th>text</th>\n",
       "      <th>subreddit</th>\n",
       "      <th>length_of_text</th>\n",
       "      <th>word_count</th>\n",
       "      <th>tokenised</th>\n",
       "    </tr>\n",
       "  </thead>\n",
       "  <tbody>\n",
       "    <tr>\n",
       "      <th>0</th>\n",
       "      <td>frauenrztin mnchen zentrum  schwangerenvorsorge</td>\n",
       "      <td>google</td>\n",
       "      <td>47</td>\n",
       "      <td>4</td>\n",
       "      <td>[frauenrztin, mnchen, zentrum, schwangerenvors...</td>\n",
       "    </tr>\n",
       "    <tr>\n",
       "      <th>1</th>\n",
       "      <td>petition to save stadia i do not have high exp...</td>\n",
       "      <td>google</td>\n",
       "      <td>194</td>\n",
       "      <td>38</td>\n",
       "      <td>[petition, to, save, stadia, i, do, not, have,...</td>\n",
       "    </tr>\n",
       "    <tr>\n",
       "      <th>2</th>\n",
       "      <td>google stadia will be shutting down in january...</td>\n",
       "      <td>google</td>\n",
       "      <td>89</td>\n",
       "      <td>13</td>\n",
       "      <td>[google, stadia, will, be, shutting, down, in,...</td>\n",
       "    </tr>\n",
       "    <tr>\n",
       "      <th>3</th>\n",
       "      <td>google will not let you create an email withou...</td>\n",
       "      <td>google</td>\n",
       "      <td>62</td>\n",
       "      <td>12</td>\n",
       "      <td>[google, will, not, let, you, create, an, emai...</td>\n",
       "    </tr>\n",
       "    <tr>\n",
       "      <th>4</th>\n",
       "      <td>recover android backup with different resoluti...</td>\n",
       "      <td>google</td>\n",
       "      <td>56</td>\n",
       "      <td>7</td>\n",
       "      <td>[recover, android, backup, with, different, re...</td>\n",
       "    </tr>\n",
       "  </tbody>\n",
       "</table>\n",
       "</div>"
      ],
      "text/plain": [
       "                                                text subreddit  \\\n",
       "0    frauenrztin mnchen zentrum  schwangerenvorsorge    google   \n",
       "1  petition to save stadia i do not have high exp...    google   \n",
       "2  google stadia will be shutting down in january...    google   \n",
       "3  google will not let you create an email withou...    google   \n",
       "4  recover android backup with different resoluti...    google   \n",
       "\n",
       "   length_of_text  word_count  \\\n",
       "0              47           4   \n",
       "1             194          38   \n",
       "2              89          13   \n",
       "3              62          12   \n",
       "4              56           7   \n",
       "\n",
       "                                           tokenised  \n",
       "0  [frauenrztin, mnchen, zentrum, schwangerenvors...  \n",
       "1  [petition, to, save, stadia, i, do, not, have,...  \n",
       "2  [google, stadia, will, be, shutting, down, in,...  \n",
       "3  [google, will, not, let, you, create, an, emai...  \n",
       "4  [recover, android, backup, with, different, re...  "
      ]
     },
     "execution_count": 39,
     "metadata": {},
     "output_type": "execute_result"
    }
   ],
   "source": [
    "combined_text['tokenised'] = combined_text['text'].apply(lambda x:word_tokenize(x))\n",
    "combined_text.head()"
   ]
  },
  {
   "cell_type": "markdown",
   "id": "fd42c248-7195-4175-9a83-90071b102e1c",
   "metadata": {},
   "source": [
    "#### Remove stop words"
   ]
  },
  {
   "cell_type": "markdown",
   "id": "01c4f1c6-9b40-480c-b4a0-31c554196cc7",
   "metadata": {},
   "source": [
    "- Frequently mentioned key words like 'google' and 'apple' will be set as stop words as well."
   ]
  },
  {
   "cell_type": "code",
   "execution_count": 40,
   "id": "d0a84cc0-8c26-471a-bcbe-dec1cd672540",
   "metadata": {},
   "outputs": [],
   "source": [
    "# Custom stopwords\n",
    "stop_words = stopwords.words('english')\n",
    "additional_stop_words = ['google','apple']\n",
    "stop_words.extend(additional_stop_words)"
   ]
  },
  {
   "cell_type": "code",
   "execution_count": 41,
   "id": "3b7fdf3b-18f2-43bb-9e64-239ee9ceb824",
   "metadata": {},
   "outputs": [],
   "source": [
    "def remove_stop_words(list_of_words):\n",
    "    for word in stop_words:\n",
    "        if word in list_of_words:\n",
    "            list_of_words.remove(word)\n",
    "    return list_of_words"
   ]
  },
  {
   "cell_type": "code",
   "execution_count": 42,
   "id": "8304697e-40fe-45f5-89d6-14389276703c",
   "metadata": {},
   "outputs": [
    {
     "data": {
      "text/html": [
       "<div>\n",
       "<style scoped>\n",
       "    .dataframe tbody tr th:only-of-type {\n",
       "        vertical-align: middle;\n",
       "    }\n",
       "\n",
       "    .dataframe tbody tr th {\n",
       "        vertical-align: top;\n",
       "    }\n",
       "\n",
       "    .dataframe thead th {\n",
       "        text-align: right;\n",
       "    }\n",
       "</style>\n",
       "<table border=\"1\" class=\"dataframe\">\n",
       "  <thead>\n",
       "    <tr style=\"text-align: right;\">\n",
       "      <th></th>\n",
       "      <th>text</th>\n",
       "      <th>subreddit</th>\n",
       "      <th>length_of_text</th>\n",
       "      <th>word_count</th>\n",
       "      <th>tokenised</th>\n",
       "    </tr>\n",
       "  </thead>\n",
       "  <tbody>\n",
       "    <tr>\n",
       "      <th>0</th>\n",
       "      <td>frauenrztin mnchen zentrum  schwangerenvorsorge</td>\n",
       "      <td>google</td>\n",
       "      <td>47</td>\n",
       "      <td>4</td>\n",
       "      <td>[frauenrztin, mnchen, zentrum, schwangerenvors...</td>\n",
       "    </tr>\n",
       "    <tr>\n",
       "      <th>1</th>\n",
       "      <td>petition to save stadia i do not have high exp...</td>\n",
       "      <td>google</td>\n",
       "      <td>194</td>\n",
       "      <td>38</td>\n",
       "      <td>[petition, save, stadia, high, expectations, i...</td>\n",
       "    </tr>\n",
       "    <tr>\n",
       "      <th>2</th>\n",
       "      <td>google stadia will be shutting down in january...</td>\n",
       "      <td>google</td>\n",
       "      <td>89</td>\n",
       "      <td>13</td>\n",
       "      <td>[stadia, shutting, january, purchases, will, b...</td>\n",
       "    </tr>\n",
       "    <tr>\n",
       "      <th>3</th>\n",
       "      <td>google will not let you create an email withou...</td>\n",
       "      <td>google</td>\n",
       "      <td>62</td>\n",
       "      <td>12</td>\n",
       "      <td>[let, create, email, without, phone, number]</td>\n",
       "    </tr>\n",
       "    <tr>\n",
       "      <th>4</th>\n",
       "      <td>recover android backup with different resoluti...</td>\n",
       "      <td>google</td>\n",
       "      <td>56</td>\n",
       "      <td>7</td>\n",
       "      <td>[recover, android, backup, different, resoluti...</td>\n",
       "    </tr>\n",
       "  </tbody>\n",
       "</table>\n",
       "</div>"
      ],
      "text/plain": [
       "                                                text subreddit  \\\n",
       "0    frauenrztin mnchen zentrum  schwangerenvorsorge    google   \n",
       "1  petition to save stadia i do not have high exp...    google   \n",
       "2  google stadia will be shutting down in january...    google   \n",
       "3  google will not let you create an email withou...    google   \n",
       "4  recover android backup with different resoluti...    google   \n",
       "\n",
       "   length_of_text  word_count  \\\n",
       "0              47           4   \n",
       "1             194          38   \n",
       "2              89          13   \n",
       "3              62          12   \n",
       "4              56           7   \n",
       "\n",
       "                                           tokenised  \n",
       "0  [frauenrztin, mnchen, zentrum, schwangerenvors...  \n",
       "1  [petition, save, stadia, high, expectations, i...  \n",
       "2  [stadia, shutting, january, purchases, will, b...  \n",
       "3       [let, create, email, without, phone, number]  \n",
       "4  [recover, android, backup, different, resoluti...  "
      ]
     },
     "execution_count": 42,
     "metadata": {},
     "output_type": "execute_result"
    }
   ],
   "source": [
    "combined_text['tokenised'] = combined_text['tokenised'].apply(remove_stop_words)\n",
    "combined_text.head()"
   ]
  },
  {
   "cell_type": "markdown",
   "id": "1d697b25-7ef1-42b9-afa1-3b9f6c5ff63f",
   "metadata": {
    "tags": []
   },
   "source": [
    "#### Lemmatising and Stemming"
   ]
  },
  {
   "cell_type": "code",
   "execution_count": 43,
   "id": "ea51d106-ae75-4cb1-a01a-b52d5032f4de",
   "metadata": {},
   "outputs": [],
   "source": [
    "# Lemmatise\n",
    "lemmatizer = WordNetLemmatizer()\n",
    "combined_text['lemmatised'] = combined_text['tokenised'].apply(lambda x:[lemmatizer.lemmatize(word) for word in x])"
   ]
  },
  {
   "cell_type": "code",
   "execution_count": 44,
   "id": "343cafc8-ba36-4c3e-a27e-9a9b8b3dfa47",
   "metadata": {},
   "outputs": [],
   "source": [
    "# Stemming\n",
    "stemmer = PorterStemmer()\n",
    "combined_text['stemmed'] = combined_text['tokenised'].apply(lambda x:[stemmer.stem(word) for word in x])"
   ]
  },
  {
   "cell_type": "code",
   "execution_count": 45,
   "id": "203e9dbe-3b3e-4e5c-b2fb-5b1285bd0a9c",
   "metadata": {},
   "outputs": [
    {
     "data": {
      "text/html": [
       "<div>\n",
       "<style scoped>\n",
       "    .dataframe tbody tr th:only-of-type {\n",
       "        vertical-align: middle;\n",
       "    }\n",
       "\n",
       "    .dataframe tbody tr th {\n",
       "        vertical-align: top;\n",
       "    }\n",
       "\n",
       "    .dataframe thead th {\n",
       "        text-align: right;\n",
       "    }\n",
       "</style>\n",
       "<table border=\"1\" class=\"dataframe\">\n",
       "  <thead>\n",
       "    <tr style=\"text-align: right;\">\n",
       "      <th></th>\n",
       "      <th>text</th>\n",
       "      <th>subreddit</th>\n",
       "      <th>length_of_text</th>\n",
       "      <th>word_count</th>\n",
       "      <th>tokenised</th>\n",
       "      <th>lemmatised</th>\n",
       "      <th>stemmed</th>\n",
       "    </tr>\n",
       "  </thead>\n",
       "  <tbody>\n",
       "    <tr>\n",
       "      <th>0</th>\n",
       "      <td>frauenrztin mnchen zentrum  schwangerenvorsorge</td>\n",
       "      <td>google</td>\n",
       "      <td>47</td>\n",
       "      <td>4</td>\n",
       "      <td>[frauenrztin, mnchen, zentrum, schwangerenvors...</td>\n",
       "      <td>frauenrztin mnchen zentrum schwangerenvorsorge</td>\n",
       "      <td>frauenrztin mnchen zentrum schwangerenvorsorg</td>\n",
       "    </tr>\n",
       "    <tr>\n",
       "      <th>1</th>\n",
       "      <td>petition to save stadia i do not have high exp...</td>\n",
       "      <td>google</td>\n",
       "      <td>194</td>\n",
       "      <td>38</td>\n",
       "      <td>[petition, save, stadia, high, expectations, i...</td>\n",
       "      <td>petition save stadium high expectation i not d...</td>\n",
       "      <td>petit save stadia high expect i not delusion i...</td>\n",
       "    </tr>\n",
       "    <tr>\n",
       "      <th>2</th>\n",
       "      <td>google stadia will be shutting down in january...</td>\n",
       "      <td>google</td>\n",
       "      <td>89</td>\n",
       "      <td>13</td>\n",
       "      <td>[stadia, shutting, january, purchases, will, b...</td>\n",
       "      <td>stadium shutting january purchase will be refu...</td>\n",
       "      <td>stadia shut januari purchas will be refund tec...</td>\n",
       "    </tr>\n",
       "    <tr>\n",
       "      <th>3</th>\n",
       "      <td>google will not let you create an email withou...</td>\n",
       "      <td>google</td>\n",
       "      <td>62</td>\n",
       "      <td>12</td>\n",
       "      <td>[let, create, email, without, phone, number]</td>\n",
       "      <td>let create email without phone number</td>\n",
       "      <td>let creat email without phone number</td>\n",
       "    </tr>\n",
       "    <tr>\n",
       "      <th>4</th>\n",
       "      <td>recover android backup with different resoluti...</td>\n",
       "      <td>google</td>\n",
       "      <td>56</td>\n",
       "      <td>7</td>\n",
       "      <td>[recover, android, backup, different, resoluti...</td>\n",
       "      <td>recover android backup different resolution pa...</td>\n",
       "      <td>recov android backup differ resolut pattern</td>\n",
       "    </tr>\n",
       "  </tbody>\n",
       "</table>\n",
       "</div>"
      ],
      "text/plain": [
       "                                                text subreddit  \\\n",
       "0    frauenrztin mnchen zentrum  schwangerenvorsorge    google   \n",
       "1  petition to save stadia i do not have high exp...    google   \n",
       "2  google stadia will be shutting down in january...    google   \n",
       "3  google will not let you create an email withou...    google   \n",
       "4  recover android backup with different resoluti...    google   \n",
       "\n",
       "   length_of_text  word_count  \\\n",
       "0              47           4   \n",
       "1             194          38   \n",
       "2              89          13   \n",
       "3              62          12   \n",
       "4              56           7   \n",
       "\n",
       "                                           tokenised  \\\n",
       "0  [frauenrztin, mnchen, zentrum, schwangerenvors...   \n",
       "1  [petition, save, stadia, high, expectations, i...   \n",
       "2  [stadia, shutting, january, purchases, will, b...   \n",
       "3       [let, create, email, without, phone, number]   \n",
       "4  [recover, android, backup, different, resoluti...   \n",
       "\n",
       "                                          lemmatised  \\\n",
       "0     frauenrztin mnchen zentrum schwangerenvorsorge   \n",
       "1  petition save stadium high expectation i not d...   \n",
       "2  stadium shutting january purchase will be refu...   \n",
       "3              let create email without phone number   \n",
       "4  recover android backup different resolution pa...   \n",
       "\n",
       "                                             stemmed  \n",
       "0      frauenrztin mnchen zentrum schwangerenvorsorg  \n",
       "1  petit save stadia high expect i not delusion i...  \n",
       "2  stadia shut januari purchas will be refund tec...  \n",
       "3               let creat email without phone number  \n",
       "4        recov android backup differ resolut pattern  "
      ]
     },
     "execution_count": 45,
     "metadata": {},
     "output_type": "execute_result"
    }
   ],
   "source": [
    "# Join the list of strings in each row\n",
    "combined_text['stemmed'] = combined_text['stemmed'].apply(lambda x:' '.join(x))\n",
    "combined_text['lemmatised'] = combined_text['lemmatised'].apply(lambda x:' '.join(x))\n",
    "combined_text.head()"
   ]
  },
  {
   "cell_type": "markdown",
   "id": "97bf3015-d5e3-4868-84a4-0e8a2f807073",
   "metadata": {},
   "source": [
    "## Export Cleaned Data"
   ]
  },
  {
   "cell_type": "code",
   "execution_count": 46,
   "id": "059e2536-a34e-4fd4-9bca-7476c862717a",
   "metadata": {},
   "outputs": [],
   "source": [
    "combined_text.drop(columns=['tokenised','length_of_text','word_count']).to_csv('Cleaned Datasets/cleaned_dataset.csv',index=False)"
   ]
  },
  {
   "cell_type": "markdown",
   "id": "ba158346-7bf4-4aec-9f60-79f13c4d3388",
   "metadata": {},
   "source": [
    "## Summary of Exploratory Data Analysis"
   ]
  },
  {
   "cell_type": "markdown",
   "id": "488f13f6-b880-4fcd-bd25-5c0f0e4d1d2c",
   "metadata": {},
   "source": [
    "- Both subreddits are not text-heavy. Many users tend to write short posts within 20 words, or even only post a short title without any body content.\n",
    "- We see quite a number of spam advertisements in Google subreddit, which are not as common in Apple subreddit.\n",
    "- Discussion in both subreddits are mostly centred around the respective products offered by Google/Apple. For Apple subreddit, users have extensive discussion on hardware products like ipad, airpods, macbook, watch, iphone. For Google subreddit, discussion on products centred around software products like chrome, calendar, photos and google drive."
   ]
  }
 ],
 "metadata": {
  "kernelspec": {
   "display_name": "Python 3 (ipykernel)",
   "language": "python",
   "name": "python3"
  },
  "language_info": {
   "codemirror_mode": {
    "name": "ipython",
    "version": 3
   },
   "file_extension": ".py",
   "mimetype": "text/x-python",
   "name": "python",
   "nbconvert_exporter": "python",
   "pygments_lexer": "ipython3",
   "version": "3.8.13"
  }
 },
 "nbformat": 4,
 "nbformat_minor": 5
}
