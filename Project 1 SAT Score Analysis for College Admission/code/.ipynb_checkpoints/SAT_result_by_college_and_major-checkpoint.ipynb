{
 "cells": [
  {
   "cell_type": "markdown",
   "metadata": {},
   "source": [
    "<img src=\"http://imgur.com/1ZcRyrc.png\" style=\"float: left; margin: 20px; height: 55px\">\n",
    "\n",
    "#Project 1: Standardized Test Analysis"
   ]
  },
  {
   "cell_type": "markdown",
   "metadata": {
    "tags": []
   },
   "source": [
    "### Problem Statement"
   ]
  },
  {
   "cell_type": "markdown",
   "metadata": {},
   "source": [
    "This project analyzes SAT results for students applying to different majors or colleges. The aim is to provide recommendations for students, especially those who may not have a clear preference on major or college. Hence, the insights are meant to facilitate decision-making processs for students in deciding what majors or colleges to go for."
   ]
  },
  {
   "cell_type": "markdown",
   "metadata": {
    "jp-MarkdownHeadingCollapsed": true,
    "tags": []
   },
   "source": [
    "### Contents:\n",
    "- [Background](#Background)\n",
    "- [Data Import & Cleaning](#Data-Import-and-Cleaning)\n",
    "- [Exploratory Data Analysis](#Exploratory-Data-Analysis)\n",
    "- [Data Visualization](#Visualize-the-Data)\n",
    "- [Conclusions and Recommendations](#Conclusions-and-Recommendations)"
   ]
  },
  {
   "cell_type": "markdown",
   "metadata": {
    "tags": []
   },
   "source": [
    "### Background"
   ]
  },
  {
   "cell_type": "markdown",
   "metadata": {},
   "source": [
    "The SAT and ACT are standardized tests that many colleges and universities in the United States require for their admissions process. This score is used along with other materials such as grade point average (GPA) and essay responses to determine whether or not a potential student will be accepted to the university.\n",
    "\n",
    "The SAT has two sections of the test: Evidence-Based Reading and Writing and Math ([*source*](https://www.princetonreview.com/college/sat-sections)). The ACT has 4 sections: English, Mathematics, Reading, and Science, with an additional optional writing section ([*source*](https://www.act.org/content/act/en/products-and-services/the-act/scores/understanding-your-scores.html)). They have different score ranges, which you can read more about on their websites or additional outside sources (a quick Google search will help you understand the scores for each test):\n",
    "* [SAT](https://collegereadiness.collegeboard.org/sat)\n",
    "* [ACT](https://www.act.org/content/act/en.html)\n",
    "\n",
    "Standardized tests have long been a controversial topic for students, administrators, and legislators. Since the 1940's, an increasing number of colleges have been using scores from sudents' performances on tests like the SAT and the ACT as a measure for college readiness and aptitude ([*source*](https://www.minotdailynews.com/news/local-news/2017/04/a-brief-history-of-the-sat-and-act/)). Supporters of these tests argue that these scores can be used as an objective measure to determine college admittance. Opponents of these tests claim that these tests are not accurate measures of students potential or ability and serve as an inequitable barrier to entry. Lately, more and more schools are opting to drop the SAT/ACT requirement for their Fall 2021 applications ([*read more about this here*](https://www.cnn.com/2020/04/14/us/coronavirus-colleges-sat-act-test-trnd/index.html))."
   ]
  },
  {
   "cell_type": "markdown",
   "metadata": {
    "tags": []
   },
   "source": [
    "### Datasets"
   ]
  },
  {
   "cell_type": "markdown",
   "metadata": {},
   "source": [
    "The datasets used in the analysis were as follows:\n",
    "\n",
    "* [`sat_2019_by_intended_college_major.csv`](./data/sat_2019_by_intended_college_major.csv): 2019 SAT Scores by Intended College Major ([source](https://reports.collegeboard.org/media/pdf/2019-total-group-sat-suite-assessments-annual-report.pdf))\n",
    "* [`sat_act_by_college.csv`](./data/sat_act_by_college.csv): Ranges of Accepted ACT & SAT Student Scores by Colleges ([source](https://www.compassprep.com/college-profiles/))"
   ]
  },
  {
   "cell_type": "markdown",
   "metadata": {
    "tags": []
   },
   "source": [
    "### Outside Research"
   ]
  },
  {
   "cell_type": "markdown",
   "metadata": {},
   "source": [
    "The total SAT score is a number between 400 and 1600. The total score is the sum of the two section scores: Evidence-Based Reading and Writing, and Math. Each of these two section scores has a possible range of 200–800 ([*source*](https://satsuite.collegeboard.org/sat/scores/understanding-scores/how-scores-are-calculated))."
   ]
  },
  {
   "cell_type": "markdown",
   "metadata": {
    "tags": []
   },
   "source": [
    "### Data Dictionary\n"
   ]
  },
  {
   "cell_type": "markdown",
   "metadata": {},
   "source": [
    "\n",
    "* [`sat_2019_by_intended_college_major.csv`](./data/sat_2019_by_intended_college_major.csv): abbreviated as sat_major\n",
    "* [`sat_act_by_college.csv`](./data/sat_act_by_college.csv): abbreviated as sat_college\n",
    "\n",
    "|Feature|Type|Dataset|Description|\n",
    "|---|---|---|---|\n",
    "intended_college_major|string|sat_major|Majors that students intend to take\n",
    "test_takers|float|sat_major|Number of test takers for each major\n",
    "percent|float|sat_major|Percentage of test takers for each major\n",
    "total|integer|sat_major|Total SAT scores\n",
    "reading_writing|integer|sat_major|SAT reading and writing section scores\n",
    "math|integer|sat_major|SAT math section scores\n",
    "score_disparity|integer|sat_major|Difference between math scores and reading and writing scores\n",
    "school|string|sat_college|Name of schools\n",
    "number_of_applicants|integer|sat_college|Number of applicants applying for the school\n",
    "accept_rate|float|sat_college|Percentage of applicants accpeted out of all applicants\n",
    "sat_25th_percentile|float|sat_college|25th percentile of SAT scores\n",
    "accepted_applicants|integer|sat_college|Number of accepted applicants"
   ]
  },
  {
   "cell_type": "markdown",
   "metadata": {
    "tags": []
   },
   "source": [
    "### Data Import and Cleaning"
   ]
  },
  {
   "cell_type": "code",
   "execution_count": 74,
   "metadata": {
    "tags": []
   },
   "outputs": [],
   "source": [
    "#Import libraries\n",
    "import pandas as pd\n",
    "import numpy as np\n",
    "import matplotlib.pyplot as plt\n",
    "import seaborn as sns\n",
    "import re\n",
    "import os\n",
    "from scipy.stats import skew\n",
    "from scipy.stats import kurtosis\n",
    "from scipy import stats"
   ]
  },
  {
   "cell_type": "markdown",
   "metadata": {
    "tags": []
   },
   "source": [
    "#### Data Import"
   ]
  },
  {
   "cell_type": "code",
   "execution_count": 79,
   "metadata": {},
   "outputs": [
    {
     "ename": "FileNotFoundError",
     "evalue": "[Errno 2] No such file or directory: ''",
     "output_type": "error",
     "traceback": [
      "\u001b[0;31m---------------------------------------------------------------------------\u001b[0m",
      "\u001b[0;31mFileNotFoundError\u001b[0m                         Traceback (most recent call last)",
      "Input \u001b[0;32mIn [79]\u001b[0m, in \u001b[0;36m<cell line: 2>\u001b[0;34m()\u001b[0m\n\u001b[1;32m      1\u001b[0m \u001b[38;5;66;03m#Import 1st dataset: 2019 SAT Scores by Intended College Major\u001b[39;00m\n\u001b[0;32m----> 2\u001b[0m sat_major \u001b[38;5;241m=\u001b[39m \u001b[43mpd\u001b[49m\u001b[38;5;241;43m.\u001b[39;49m\u001b[43mread_csv\u001b[49m\u001b[43m(\u001b[49m\u001b[38;5;124;43m'\u001b[39;49m\u001b[38;5;124;43m'\u001b[39;49m\u001b[43m)\u001b[49m\n\u001b[1;32m      3\u001b[0m \u001b[38;5;66;03m# sat_major = pd.read_csv('../data/sat_2019_by_intended_college_major.csv')\u001b[39;00m\n\u001b[1;32m      4\u001b[0m \u001b[38;5;28mprint\u001b[39m(sat_major\u001b[38;5;241m.\u001b[39mshape)\n",
      "File \u001b[0;32m~/mambaforge/envs/dsi-sg/lib/python3.8/site-packages/pandas/util/_decorators.py:311\u001b[0m, in \u001b[0;36mdeprecate_nonkeyword_arguments.<locals>.decorate.<locals>.wrapper\u001b[0;34m(*args, **kwargs)\u001b[0m\n\u001b[1;32m    305\u001b[0m \u001b[38;5;28;01mif\u001b[39;00m \u001b[38;5;28mlen\u001b[39m(args) \u001b[38;5;241m>\u001b[39m num_allow_args:\n\u001b[1;32m    306\u001b[0m     warnings\u001b[38;5;241m.\u001b[39mwarn(\n\u001b[1;32m    307\u001b[0m         msg\u001b[38;5;241m.\u001b[39mformat(arguments\u001b[38;5;241m=\u001b[39marguments),\n\u001b[1;32m    308\u001b[0m         \u001b[38;5;167;01mFutureWarning\u001b[39;00m,\n\u001b[1;32m    309\u001b[0m         stacklevel\u001b[38;5;241m=\u001b[39mstacklevel,\n\u001b[1;32m    310\u001b[0m     )\n\u001b[0;32m--> 311\u001b[0m \u001b[38;5;28;01mreturn\u001b[39;00m \u001b[43mfunc\u001b[49m\u001b[43m(\u001b[49m\u001b[38;5;241;43m*\u001b[39;49m\u001b[43margs\u001b[49m\u001b[43m,\u001b[49m\u001b[43m \u001b[49m\u001b[38;5;241;43m*\u001b[39;49m\u001b[38;5;241;43m*\u001b[39;49m\u001b[43mkwargs\u001b[49m\u001b[43m)\u001b[49m\n",
      "File \u001b[0;32m~/mambaforge/envs/dsi-sg/lib/python3.8/site-packages/pandas/io/parsers/readers.py:680\u001b[0m, in \u001b[0;36mread_csv\u001b[0;34m(filepath_or_buffer, sep, delimiter, header, names, index_col, usecols, squeeze, prefix, mangle_dupe_cols, dtype, engine, converters, true_values, false_values, skipinitialspace, skiprows, skipfooter, nrows, na_values, keep_default_na, na_filter, verbose, skip_blank_lines, parse_dates, infer_datetime_format, keep_date_col, date_parser, dayfirst, cache_dates, iterator, chunksize, compression, thousands, decimal, lineterminator, quotechar, quoting, doublequote, escapechar, comment, encoding, encoding_errors, dialect, error_bad_lines, warn_bad_lines, on_bad_lines, delim_whitespace, low_memory, memory_map, float_precision, storage_options)\u001b[0m\n\u001b[1;32m    665\u001b[0m kwds_defaults \u001b[38;5;241m=\u001b[39m _refine_defaults_read(\n\u001b[1;32m    666\u001b[0m     dialect,\n\u001b[1;32m    667\u001b[0m     delimiter,\n\u001b[0;32m   (...)\u001b[0m\n\u001b[1;32m    676\u001b[0m     defaults\u001b[38;5;241m=\u001b[39m{\u001b[38;5;124m\"\u001b[39m\u001b[38;5;124mdelimiter\u001b[39m\u001b[38;5;124m\"\u001b[39m: \u001b[38;5;124m\"\u001b[39m\u001b[38;5;124m,\u001b[39m\u001b[38;5;124m\"\u001b[39m},\n\u001b[1;32m    677\u001b[0m )\n\u001b[1;32m    678\u001b[0m kwds\u001b[38;5;241m.\u001b[39mupdate(kwds_defaults)\n\u001b[0;32m--> 680\u001b[0m \u001b[38;5;28;01mreturn\u001b[39;00m \u001b[43m_read\u001b[49m\u001b[43m(\u001b[49m\u001b[43mfilepath_or_buffer\u001b[49m\u001b[43m,\u001b[49m\u001b[43m \u001b[49m\u001b[43mkwds\u001b[49m\u001b[43m)\u001b[49m\n",
      "File \u001b[0;32m~/mambaforge/envs/dsi-sg/lib/python3.8/site-packages/pandas/io/parsers/readers.py:575\u001b[0m, in \u001b[0;36m_read\u001b[0;34m(filepath_or_buffer, kwds)\u001b[0m\n\u001b[1;32m    572\u001b[0m _validate_names(kwds\u001b[38;5;241m.\u001b[39mget(\u001b[38;5;124m\"\u001b[39m\u001b[38;5;124mnames\u001b[39m\u001b[38;5;124m\"\u001b[39m, \u001b[38;5;28;01mNone\u001b[39;00m))\n\u001b[1;32m    574\u001b[0m \u001b[38;5;66;03m# Create the parser.\u001b[39;00m\n\u001b[0;32m--> 575\u001b[0m parser \u001b[38;5;241m=\u001b[39m \u001b[43mTextFileReader\u001b[49m\u001b[43m(\u001b[49m\u001b[43mfilepath_or_buffer\u001b[49m\u001b[43m,\u001b[49m\u001b[43m \u001b[49m\u001b[38;5;241;43m*\u001b[39;49m\u001b[38;5;241;43m*\u001b[39;49m\u001b[43mkwds\u001b[49m\u001b[43m)\u001b[49m\n\u001b[1;32m    577\u001b[0m \u001b[38;5;28;01mif\u001b[39;00m chunksize \u001b[38;5;129;01mor\u001b[39;00m iterator:\n\u001b[1;32m    578\u001b[0m     \u001b[38;5;28;01mreturn\u001b[39;00m parser\n",
      "File \u001b[0;32m~/mambaforge/envs/dsi-sg/lib/python3.8/site-packages/pandas/io/parsers/readers.py:934\u001b[0m, in \u001b[0;36mTextFileReader.__init__\u001b[0;34m(self, f, engine, **kwds)\u001b[0m\n\u001b[1;32m    931\u001b[0m     \u001b[38;5;28mself\u001b[39m\u001b[38;5;241m.\u001b[39moptions[\u001b[38;5;124m\"\u001b[39m\u001b[38;5;124mhas_index_names\u001b[39m\u001b[38;5;124m\"\u001b[39m] \u001b[38;5;241m=\u001b[39m kwds[\u001b[38;5;124m\"\u001b[39m\u001b[38;5;124mhas_index_names\u001b[39m\u001b[38;5;124m\"\u001b[39m]\n\u001b[1;32m    933\u001b[0m \u001b[38;5;28mself\u001b[39m\u001b[38;5;241m.\u001b[39mhandles: IOHandles \u001b[38;5;241m|\u001b[39m \u001b[38;5;28;01mNone\u001b[39;00m \u001b[38;5;241m=\u001b[39m \u001b[38;5;28;01mNone\u001b[39;00m\n\u001b[0;32m--> 934\u001b[0m \u001b[38;5;28mself\u001b[39m\u001b[38;5;241m.\u001b[39m_engine \u001b[38;5;241m=\u001b[39m \u001b[38;5;28;43mself\u001b[39;49m\u001b[38;5;241;43m.\u001b[39;49m\u001b[43m_make_engine\u001b[49m\u001b[43m(\u001b[49m\u001b[43mf\u001b[49m\u001b[43m,\u001b[49m\u001b[43m \u001b[49m\u001b[38;5;28;43mself\u001b[39;49m\u001b[38;5;241;43m.\u001b[39;49m\u001b[43mengine\u001b[49m\u001b[43m)\u001b[49m\n",
      "File \u001b[0;32m~/mambaforge/envs/dsi-sg/lib/python3.8/site-packages/pandas/io/parsers/readers.py:1218\u001b[0m, in \u001b[0;36mTextFileReader._make_engine\u001b[0;34m(self, f, engine)\u001b[0m\n\u001b[1;32m   1214\u001b[0m     mode \u001b[38;5;241m=\u001b[39m \u001b[38;5;124m\"\u001b[39m\u001b[38;5;124mrb\u001b[39m\u001b[38;5;124m\"\u001b[39m\n\u001b[1;32m   1215\u001b[0m \u001b[38;5;66;03m# error: No overload variant of \"get_handle\" matches argument types\u001b[39;00m\n\u001b[1;32m   1216\u001b[0m \u001b[38;5;66;03m# \"Union[str, PathLike[str], ReadCsvBuffer[bytes], ReadCsvBuffer[str]]\"\u001b[39;00m\n\u001b[1;32m   1217\u001b[0m \u001b[38;5;66;03m# , \"str\", \"bool\", \"Any\", \"Any\", \"Any\", \"Any\", \"Any\"\u001b[39;00m\n\u001b[0;32m-> 1218\u001b[0m \u001b[38;5;28mself\u001b[39m\u001b[38;5;241m.\u001b[39mhandles \u001b[38;5;241m=\u001b[39m \u001b[43mget_handle\u001b[49m\u001b[43m(\u001b[49m\u001b[43m  \u001b[49m\u001b[38;5;66;43;03m# type: ignore[call-overload]\u001b[39;49;00m\n\u001b[1;32m   1219\u001b[0m \u001b[43m    \u001b[49m\u001b[43mf\u001b[49m\u001b[43m,\u001b[49m\n\u001b[1;32m   1220\u001b[0m \u001b[43m    \u001b[49m\u001b[43mmode\u001b[49m\u001b[43m,\u001b[49m\n\u001b[1;32m   1221\u001b[0m \u001b[43m    \u001b[49m\u001b[43mencoding\u001b[49m\u001b[38;5;241;43m=\u001b[39;49m\u001b[38;5;28;43mself\u001b[39;49m\u001b[38;5;241;43m.\u001b[39;49m\u001b[43moptions\u001b[49m\u001b[38;5;241;43m.\u001b[39;49m\u001b[43mget\u001b[49m\u001b[43m(\u001b[49m\u001b[38;5;124;43m\"\u001b[39;49m\u001b[38;5;124;43mencoding\u001b[39;49m\u001b[38;5;124;43m\"\u001b[39;49m\u001b[43m,\u001b[49m\u001b[43m \u001b[49m\u001b[38;5;28;43;01mNone\u001b[39;49;00m\u001b[43m)\u001b[49m\u001b[43m,\u001b[49m\n\u001b[1;32m   1222\u001b[0m \u001b[43m    \u001b[49m\u001b[43mcompression\u001b[49m\u001b[38;5;241;43m=\u001b[39;49m\u001b[38;5;28;43mself\u001b[39;49m\u001b[38;5;241;43m.\u001b[39;49m\u001b[43moptions\u001b[49m\u001b[38;5;241;43m.\u001b[39;49m\u001b[43mget\u001b[49m\u001b[43m(\u001b[49m\u001b[38;5;124;43m\"\u001b[39;49m\u001b[38;5;124;43mcompression\u001b[39;49m\u001b[38;5;124;43m\"\u001b[39;49m\u001b[43m,\u001b[49m\u001b[43m \u001b[49m\u001b[38;5;28;43;01mNone\u001b[39;49;00m\u001b[43m)\u001b[49m\u001b[43m,\u001b[49m\n\u001b[1;32m   1223\u001b[0m \u001b[43m    \u001b[49m\u001b[43mmemory_map\u001b[49m\u001b[38;5;241;43m=\u001b[39;49m\u001b[38;5;28;43mself\u001b[39;49m\u001b[38;5;241;43m.\u001b[39;49m\u001b[43moptions\u001b[49m\u001b[38;5;241;43m.\u001b[39;49m\u001b[43mget\u001b[49m\u001b[43m(\u001b[49m\u001b[38;5;124;43m\"\u001b[39;49m\u001b[38;5;124;43mmemory_map\u001b[39;49m\u001b[38;5;124;43m\"\u001b[39;49m\u001b[43m,\u001b[49m\u001b[43m \u001b[49m\u001b[38;5;28;43;01mFalse\u001b[39;49;00m\u001b[43m)\u001b[49m\u001b[43m,\u001b[49m\n\u001b[1;32m   1224\u001b[0m \u001b[43m    \u001b[49m\u001b[43mis_text\u001b[49m\u001b[38;5;241;43m=\u001b[39;49m\u001b[43mis_text\u001b[49m\u001b[43m,\u001b[49m\n\u001b[1;32m   1225\u001b[0m \u001b[43m    \u001b[49m\u001b[43merrors\u001b[49m\u001b[38;5;241;43m=\u001b[39;49m\u001b[38;5;28;43mself\u001b[39;49m\u001b[38;5;241;43m.\u001b[39;49m\u001b[43moptions\u001b[49m\u001b[38;5;241;43m.\u001b[39;49m\u001b[43mget\u001b[49m\u001b[43m(\u001b[49m\u001b[38;5;124;43m\"\u001b[39;49m\u001b[38;5;124;43mencoding_errors\u001b[39;49m\u001b[38;5;124;43m\"\u001b[39;49m\u001b[43m,\u001b[49m\u001b[43m \u001b[49m\u001b[38;5;124;43m\"\u001b[39;49m\u001b[38;5;124;43mstrict\u001b[39;49m\u001b[38;5;124;43m\"\u001b[39;49m\u001b[43m)\u001b[49m\u001b[43m,\u001b[49m\n\u001b[1;32m   1226\u001b[0m \u001b[43m    \u001b[49m\u001b[43mstorage_options\u001b[49m\u001b[38;5;241;43m=\u001b[39;49m\u001b[38;5;28;43mself\u001b[39;49m\u001b[38;5;241;43m.\u001b[39;49m\u001b[43moptions\u001b[49m\u001b[38;5;241;43m.\u001b[39;49m\u001b[43mget\u001b[49m\u001b[43m(\u001b[49m\u001b[38;5;124;43m\"\u001b[39;49m\u001b[38;5;124;43mstorage_options\u001b[39;49m\u001b[38;5;124;43m\"\u001b[39;49m\u001b[43m,\u001b[49m\u001b[43m \u001b[49m\u001b[38;5;28;43;01mNone\u001b[39;49;00m\u001b[43m)\u001b[49m\u001b[43m,\u001b[49m\n\u001b[1;32m   1227\u001b[0m \u001b[43m\u001b[49m\u001b[43m)\u001b[49m\n\u001b[1;32m   1228\u001b[0m \u001b[38;5;28;01massert\u001b[39;00m \u001b[38;5;28mself\u001b[39m\u001b[38;5;241m.\u001b[39mhandles \u001b[38;5;129;01mis\u001b[39;00m \u001b[38;5;129;01mnot\u001b[39;00m \u001b[38;5;28;01mNone\u001b[39;00m\n\u001b[1;32m   1229\u001b[0m f \u001b[38;5;241m=\u001b[39m \u001b[38;5;28mself\u001b[39m\u001b[38;5;241m.\u001b[39mhandles\u001b[38;5;241m.\u001b[39mhandle\n",
      "File \u001b[0;32m~/mambaforge/envs/dsi-sg/lib/python3.8/site-packages/pandas/io/common.py:786\u001b[0m, in \u001b[0;36mget_handle\u001b[0;34m(path_or_buf, mode, encoding, compression, memory_map, is_text, errors, storage_options)\u001b[0m\n\u001b[1;32m    781\u001b[0m \u001b[38;5;28;01melif\u001b[39;00m \u001b[38;5;28misinstance\u001b[39m(handle, \u001b[38;5;28mstr\u001b[39m):\n\u001b[1;32m    782\u001b[0m     \u001b[38;5;66;03m# Check whether the filename is to be opened in binary mode.\u001b[39;00m\n\u001b[1;32m    783\u001b[0m     \u001b[38;5;66;03m# Binary mode does not support 'encoding' and 'newline'.\u001b[39;00m\n\u001b[1;32m    784\u001b[0m     \u001b[38;5;28;01mif\u001b[39;00m ioargs\u001b[38;5;241m.\u001b[39mencoding \u001b[38;5;129;01mand\u001b[39;00m \u001b[38;5;124m\"\u001b[39m\u001b[38;5;124mb\u001b[39m\u001b[38;5;124m\"\u001b[39m \u001b[38;5;129;01mnot\u001b[39;00m \u001b[38;5;129;01min\u001b[39;00m ioargs\u001b[38;5;241m.\u001b[39mmode:\n\u001b[1;32m    785\u001b[0m         \u001b[38;5;66;03m# Encoding\u001b[39;00m\n\u001b[0;32m--> 786\u001b[0m         handle \u001b[38;5;241m=\u001b[39m \u001b[38;5;28;43mopen\u001b[39;49m\u001b[43m(\u001b[49m\n\u001b[1;32m    787\u001b[0m \u001b[43m            \u001b[49m\u001b[43mhandle\u001b[49m\u001b[43m,\u001b[49m\n\u001b[1;32m    788\u001b[0m \u001b[43m            \u001b[49m\u001b[43mioargs\u001b[49m\u001b[38;5;241;43m.\u001b[39;49m\u001b[43mmode\u001b[49m\u001b[43m,\u001b[49m\n\u001b[1;32m    789\u001b[0m \u001b[43m            \u001b[49m\u001b[43mencoding\u001b[49m\u001b[38;5;241;43m=\u001b[39;49m\u001b[43mioargs\u001b[49m\u001b[38;5;241;43m.\u001b[39;49m\u001b[43mencoding\u001b[49m\u001b[43m,\u001b[49m\n\u001b[1;32m    790\u001b[0m \u001b[43m            \u001b[49m\u001b[43merrors\u001b[49m\u001b[38;5;241;43m=\u001b[39;49m\u001b[43merrors\u001b[49m\u001b[43m,\u001b[49m\n\u001b[1;32m    791\u001b[0m \u001b[43m            \u001b[49m\u001b[43mnewline\u001b[49m\u001b[38;5;241;43m=\u001b[39;49m\u001b[38;5;124;43m\"\u001b[39;49m\u001b[38;5;124;43m\"\u001b[39;49m\u001b[43m,\u001b[49m\n\u001b[1;32m    792\u001b[0m \u001b[43m        \u001b[49m\u001b[43m)\u001b[49m\n\u001b[1;32m    793\u001b[0m     \u001b[38;5;28;01melse\u001b[39;00m:\n\u001b[1;32m    794\u001b[0m         \u001b[38;5;66;03m# Binary mode\u001b[39;00m\n\u001b[1;32m    795\u001b[0m         handle \u001b[38;5;241m=\u001b[39m \u001b[38;5;28mopen\u001b[39m(handle, ioargs\u001b[38;5;241m.\u001b[39mmode)\n",
      "\u001b[0;31mFileNotFoundError\u001b[0m: [Errno 2] No such file or directory: ''"
     ]
    }
   ],
   "source": [
    "#Import 1st dataset: 2019 SAT Scores by Intended College Major\n",
    "sat_major = pd.read_csv('')\n",
    "# sat_major = pd.read_csv('../data/sat_2019_by_intended_college_major.csv')\n",
    "print(sat_major.shape)\n",
    "sat_major.head()"
   ]
  },
  {
   "cell_type": "code",
   "execution_count": null,
   "metadata": {},
   "outputs": [],
   "source": [
    "#Import 2nd dataset: Ranges of Accepted ACT & SAT Student Scores by Colleges\n",
    "sat_college = pd.read_csv('../data/sat_act_by_college.csv')\n",
    "print(sat_college.shape)\n",
    "sat_college.head()"
   ]
  },
  {
   "cell_type": "markdown",
   "metadata": {
    "jp-MarkdownHeadingCollapsed": true,
    "tags": []
   },
   "source": [
    "#### Missing Values"
   ]
  },
  {
   "cell_type": "code",
   "execution_count": null,
   "metadata": {},
   "outputs": [],
   "source": [
    "#Check for missing values in sat_major: 2019 SAT Scores by Intended College Major\n",
    "sat_major.isnull().sum()"
   ]
  },
  {
   "cell_type": "markdown",
   "metadata": {},
   "source": [
    "No missing value is observed in sat_major."
   ]
  },
  {
   "cell_type": "code",
   "execution_count": null,
   "metadata": {},
   "outputs": [],
   "source": [
    "#Check for missing values in sat_college: Ranges of Accepted ACT & SAT Student Scores by Colleges\n",
    "sat_college.isnull().sum()"
   ]
  },
  {
   "cell_type": "markdown",
   "metadata": {},
   "source": [
    "6 missing values were observed in the column 'sat_total_25th-75th_percentile'. These 6 observations may be dropped in subsequent steps, because:\n",
    "1. this column will be the main focus of subsequent analysis\n",
    "2. 6 observations only constitutes 1.4% of the 416 observations and hence should not have a huge impact"
   ]
  },
  {
   "cell_type": "markdown",
   "metadata": {
    "jp-MarkdownHeadingCollapsed": true,
    "tags": []
   },
   "source": [
    "#### Check Data Types"
   ]
  },
  {
   "cell_type": "code",
   "execution_count": null,
   "metadata": {},
   "outputs": [],
   "source": [
    "#Check for incorrect data types in sat_major\n",
    "sat_major.dtypes"
   ]
  },
  {
   "cell_type": "code",
   "execution_count": null,
   "metadata": {},
   "outputs": [],
   "source": [
    "#Convert 'Percent' from string to float\n",
    "sat_major['Percent'] = sat_major['Percent'].str.replace('%','').apply(lambda x: float(x)/100)\n",
    "\n",
    "#Convert 'TestTakers' from string to float\n",
    "sat_major['TestTakers'] = sat_major['TestTakers'].str.replace(',','').apply(lambda x:float(x))\n",
    "sat_major.dtypes"
   ]
  },
  {
   "cell_type": "code",
   "execution_count": null,
   "metadata": {},
   "outputs": [],
   "source": [
    "#Check for incorrect data types in sat_college\n",
    "sat_college.dtypes"
   ]
  },
  {
   "cell_type": "code",
   "execution_count": null,
   "metadata": {},
   "outputs": [],
   "source": [
    "#Convert 'Accept Rate' to float\n",
    "sat_college['Accept Rate'] = sat_college['Accept Rate'].str.replace('%','').apply(lambda x:float(x)/100)\n",
    "sat_college.dtypes"
   ]
  },
  {
   "cell_type": "code",
   "execution_count": null,
   "metadata": {},
   "outputs": [],
   "source": [
    "#Clean up the column 'SAT Total 25th-75th Percentile'\n",
    "#1.remove empty space, \\u200b\n",
    "#2.remove --\n",
    "#3.replace empty strings with null value\n",
    "sat_college['SAT Total 25th-75th Percentile'] = sat_college['SAT Total 25th-75th Percentile'].str.replace(r'[\\u200b,\\s]','').replace('--','').replace('',np.nan)"
   ]
  },
  {
   "cell_type": "code",
   "execution_count": null,
   "metadata": {},
   "outputs": [],
   "source": [
    "#Split 'SAT Total 25th-75th Percentile' into 2 columns\n",
    "sat_college[['SAT 25th Percentile','SAT 75th Percentile']] = sat_college['SAT Total 25th-75th Percentile'].str.split('-',1,expand=True)"
   ]
  },
  {
   "cell_type": "code",
   "execution_count": null,
   "metadata": {},
   "outputs": [],
   "source": [
    "#Convert SAT 25th Percentile','SAT 75th Percentile' to float\n",
    "sat_college['SAT 25th Percentile'] = [float(item) for item in sat_college['SAT 25th Percentile']]\n",
    "sat_college['SAT 75th Percentile'] = [float(item) for item in sat_college['SAT 75th Percentile']]\n",
    "sat_college.dtypes"
   ]
  },
  {
   "cell_type": "markdown",
   "metadata": {
    "jp-MarkdownHeadingCollapsed": true,
    "tags": []
   },
   "source": [
    "#### Duplicate Values"
   ]
  },
  {
   "cell_type": "code",
   "execution_count": null,
   "metadata": {},
   "outputs": [],
   "source": [
    "#Check for duplciate values in sat_major\n",
    "sat_major['IntendedCollegeMajor'].nunique() == len(sat_major)"
   ]
  },
  {
   "cell_type": "code",
   "execution_count": null,
   "metadata": {},
   "outputs": [],
   "source": [
    "#Check for duplicate values in sat_college\n",
    "sat_college['School'].nunique() == len(sat_college)"
   ]
  },
  {
   "cell_type": "markdown",
   "metadata": {},
   "source": [
    "All rows are distinct and there are no duplicate values."
   ]
  },
  {
   "cell_type": "markdown",
   "metadata": {
    "jp-MarkdownHeadingCollapsed": true,
    "tags": []
   },
   "source": [
    "#### Check Data Range"
   ]
  },
  {
   "cell_type": "code",
   "execution_count": null,
   "metadata": {},
   "outputs": [],
   "source": [
    "#Check data range of sat_major\n",
    "sat_major.describe()"
   ]
  },
  {
   "cell_type": "code",
   "execution_count": null,
   "metadata": {},
   "outputs": [],
   "source": [
    "#Check data range of sat_college\n",
    "sat_college.describe()"
   ]
  },
  {
   "cell_type": "markdown",
   "metadata": {},
   "source": [
    "Total SAT score is within 1600. \n",
    "Reading and writing score is within 800.\n",
    "Math score is within 800.\n",
    "These scores all fall within the reasonable range and there is no obvious data flaw in these values."
   ]
  },
  {
   "cell_type": "markdown",
   "metadata": {
    "jp-MarkdownHeadingCollapsed": true,
    "tags": []
   },
   "source": [
    "#### Rename Columns"
   ]
  },
  {
   "cell_type": "code",
   "execution_count": null,
   "metadata": {},
   "outputs": [],
   "source": [
    "#sat_major: before renaming\n",
    "sat_major.columns"
   ]
  },
  {
   "cell_type": "code",
   "execution_count": null,
   "metadata": {},
   "outputs": [],
   "source": [
    "#sat_major: after renaming\n",
    "#Convert from Camel Cake to snake_case\n",
    "def camel2snake(name):\n",
    "    return name[0].lower() + re.sub(r'(?!^)[A-Z]', lambda x: '_' + x.group(0).lower(), name[1:])\n",
    "\n",
    "sat_major.columns = sat_major.columns.map(camel2snake)\n",
    "sat_major.columns"
   ]
  },
  {
   "cell_type": "code",
   "execution_count": null,
   "metadata": {},
   "outputs": [],
   "source": [
    "#sat_college: before renaming\n",
    "sat_college.columns"
   ]
  },
  {
   "cell_type": "code",
   "execution_count": null,
   "metadata": {},
   "outputs": [],
   "source": [
    "#sat_college: after renaming\n",
    "#lowercase all characters\n",
    "#replace space with _\n",
    "sat_college.columns = sat_college.columns.str.lower().str.replace(' ','_')\n",
    "sat_college.columns"
   ]
  },
  {
   "cell_type": "markdown",
   "metadata": {
    "jp-MarkdownHeadingCollapsed": true,
    "tags": []
   },
   "source": [
    "#### Additional Data Transformation"
   ]
  },
  {
   "cell_type": "code",
   "execution_count": null,
   "metadata": {},
   "outputs": [],
   "source": [
    "#sat_major : add a column 'score_disparity'\n",
    "#score disparity = math - reading_writing\n",
    "sat_major['score_disparity'] = sat_major['math']-sat_major['reading_writing']"
   ]
  },
  {
   "cell_type": "code",
   "execution_count": null,
   "metadata": {},
   "outputs": [],
   "source": [
    "#sat_college: add a column 'accepted_applicants' for each college\n",
    "#accepted applicants = number of applicants * acceptance rate\n",
    "#round to whole number\n",
    "sat_college['accepted_applicants'] = (sat_college['number_of_applicants']*sat_college['accept_rate']).apply(lambda x:round(x))"
   ]
  },
  {
   "cell_type": "markdown",
   "metadata": {
    "jp-MarkdownHeadingCollapsed": true,
    "tags": []
   },
   "source": [
    "#### Drop Columns/Rows"
   ]
  },
  {
   "cell_type": "code",
   "execution_count": null,
   "metadata": {},
   "outputs": [],
   "source": [
    "#sat_college: remove rows with missing values\n",
    "sat_college.dropna(subset=['sat_total_25th-75th_percentile'], inplace=True)\n",
    "print(sat_college.shape)"
   ]
  },
  {
   "cell_type": "code",
   "execution_count": null,
   "metadata": {},
   "outputs": [],
   "source": [
    "#sat_college: remove unused columns\n",
    "columns_exclude = ['test_optional?','applies_to_class_year(s)','policy_details','sat_total_25th-75th_percentile',\n",
    "                 'act_total_25th-75th_percentile','sat_75th_percentile']\n",
    "sat_college.drop(columns = columns_exclude,inplace=True)"
   ]
  },
  {
   "cell_type": "markdown",
   "metadata": {
    "jp-MarkdownHeadingCollapsed": true,
    "tags": []
   },
   "source": [
    "#### Save Cleaned DataFrame as csv files"
   ]
  },
  {
   "cell_type": "code",
   "execution_count": null,
   "metadata": {},
   "outputs": [],
   "source": [
    "#Create a folder for output\n",
    "import os\n",
    "if not os.path.exists('output'):\n",
    "    os.makedirs('output')\n",
    "    \n",
    "#Save sat_major\n",
    "sat_major.to_csv('output/sat_major.csv')\n",
    "\n",
    "#Save sat_college\n",
    "sat_college.to_csv('output/sat_college.csv')"
   ]
  },
  {
   "cell_type": "markdown",
   "metadata": {
    "tags": []
   },
   "source": [
    "### Exploratory Data Analysis"
   ]
  },
  {
   "cell_type": "markdown",
   "metadata": {
    "tags": []
   },
   "source": [
    "#### Exploratory analysis for sat_major"
   ]
  },
  {
   "cell_type": "markdown",
   "metadata": {
    "jp-MarkdownHeadingCollapsed": true,
    "tags": []
   },
   "source": [
    "##### Summary statistics"
   ]
  },
  {
   "cell_type": "code",
   "execution_count": null,
   "metadata": {
    "scrolled": true,
    "tags": []
   },
   "outputs": [],
   "source": [
    "#Summary statistics\n",
    "sat_major.describe()"
   ]
  },
  {
   "cell_type": "code",
   "execution_count": null,
   "metadata": {},
   "outputs": [],
   "source": [
    "#Statistics of people with undecided major\n",
    "sat_major[sat_major['intended_college_major'] == 'Undecided']"
   ]
  },
  {
   "cell_type": "markdown",
   "metadata": {},
   "source": [
    "- 7% of test-takers have no clear preference on majors.\n",
    "- Test performance of students with no preference on majors looks about the same as the entire student sample."
   ]
  },
  {
   "cell_type": "markdown",
   "metadata": {
    "jp-MarkdownHeadingCollapsed": true,
    "tags": []
   },
   "source": [
    "##### 1. What majors are most and least **popular**?"
   ]
  },
  {
   "cell_type": "code",
   "execution_count": null,
   "metadata": {},
   "outputs": [],
   "source": [
    "#Top 5 in test_takers\n",
    "sat_major[['intended_college_major','test_takers','percent']].sort_values(by=['test_takers'], ascending=False).head()"
   ]
  },
  {
   "cell_type": "code",
   "execution_count": null,
   "metadata": {},
   "outputs": [],
   "source": [
    "#Bottom 5 in test_takers\n",
    "sat_major[['intended_college_major','test_takers']].sort_values(by=['test_takers'], ascending=True).head()"
   ]
  },
  {
   "cell_type": "code",
   "execution_count": null,
   "metadata": {},
   "outputs": [],
   "source": [
    "#Percentage of test takers among top 5 most popular majors\n",
    "sat_major.sort_values(by='test_takers', ascending=False).head()['percent'].sum()"
   ]
  },
  {
   "cell_type": "markdown",
   "metadata": {},
   "source": [
    "- The top 5 most popular majors are Health Professions, Business, Engineering, Biological and Biomedical Sciences, and Visual and Performing Arts. \n",
    "- The 5 majors are pursued after by 56% of test takers.\n",
    "- This may be a good reference for students who want to take up a popular major."
   ]
  },
  {
   "cell_type": "markdown",
   "metadata": {
    "jp-MarkdownHeadingCollapsed": true,
    "tags": []
   },
   "source": [
    "##### 2. What majors have the highest and lowest average total scores?"
   ]
  },
  {
   "cell_type": "code",
   "execution_count": null,
   "metadata": {},
   "outputs": [],
   "source": [
    "#Top 5 in total scores\n",
    "sat_major[['intended_college_major','total']].sort_values(by=['total'], ascending=False).head()"
   ]
  },
  {
   "cell_type": "code",
   "execution_count": null,
   "metadata": {},
   "outputs": [],
   "source": [
    "#Bottom 5 in total scores\n",
    "sat_major[['intended_college_major','total']].sort_values(by=['total'], ascending=True).head()"
   ]
  },
  {
   "cell_type": "markdown",
   "metadata": {},
   "source": [
    "- The top 5 most competitive majors have an average SAT scores between 1150 and 1250.\n",
    "- Students may be able to consider these majors only if they manage to score within this range, minimally."
   ]
  },
  {
   "cell_type": "markdown",
   "metadata": {
    "jp-MarkdownHeadingCollapsed": true,
    "tags": []
   },
   "source": [
    "##### 3. What majors have the highest disparity in section scores (math vs reading and writing)"
   ]
  },
  {
   "cell_type": "code",
   "execution_count": null,
   "metadata": {},
   "outputs": [],
   "source": [
    "#Top 5 majors where math score is higher than reading and writing\n",
    "sat_major[['intended_college_major','score_disparity']].sort_values(by=['score_disparity'], ascending=False).head()"
   ]
  },
  {
   "cell_type": "code",
   "execution_count": null,
   "metadata": {},
   "outputs": [],
   "source": [
    "#Top 5 majors where reading and writing score is higher than math\n",
    "sat_major[['intended_college_major','score_disparity']].sort_values(by=['score_disparity'], ascending=True).head()"
   ]
  },
  {
   "cell_type": "markdown",
   "metadata": {},
   "source": [
    "- Generally, applicants strong in math tend to apply for Science majors, and applicants strong in reading and writing tend to apply for Arts majors."
   ]
  },
  {
   "cell_type": "markdown",
   "metadata": {
    "jp-MarkdownHeadingCollapsed": true,
    "tags": []
   },
   "source": [
    "##### Summary of Findings"
   ]
  },
  {
   "cell_type": "markdown",
   "metadata": {},
   "source": [
    "**Insights**\n",
    "- 7% of students do not have a preferred major. Average test performance of student without preferred major is the same as the rest.\n",
    "- For students who want to go for popular majors, the top 5 most popular majors are Health Professions, Business, Engineering, Biological and Biomedical Sciences, and Visual and Performing Arts. The 5 majors are pursued after by 56% of test takers.\n",
    "- The most competitive majors have an average SAT scores between 1150 and 1250 (such as Mathematics and Statistics). Students may be able to consider these majors only if they manage to score within this range, minimally.\n",
    "- For students who have shown strength in either math or reading and writing, they can consider majors that suit their strength. Generally, applicants strong in math tend to apply for Science majors, and applicants strong in reading and writing tend to apply for Arts majors.\n"
   ]
  },
  {
   "cell_type": "markdown",
   "metadata": {
    "tags": []
   },
   "source": [
    "#### Exploratory analysis for sat_college"
   ]
  },
  {
   "cell_type": "markdown",
   "metadata": {
    "jp-MarkdownHeadingCollapsed": true,
    "tags": []
   },
   "source": [
    "##### Summary statistics"
   ]
  },
  {
   "cell_type": "code",
   "execution_count": null,
   "metadata": {},
   "outputs": [],
   "source": [
    "#Overall summary statistics\n",
    "sat_college.describe()"
   ]
  },
  {
   "cell_type": "code",
   "execution_count": null,
   "metadata": {},
   "outputs": [],
   "source": [
    "#Median\n",
    "sat_college.median(axis = 0, numeric_only=True)"
   ]
  },
  {
   "cell_type": "code",
   "execution_count": null,
   "metadata": {},
   "outputs": [],
   "source": [
    "#Standard Deviation Using Custom Functions\n",
    "def std (column):\n",
    "    standard_deviation = (np.mean([(item - np.mean(column)) ** 2 for item in column])**0.5)\n",
    "    return standard_deviation\n",
    "\n",
    "sat_college_std = {column:std(sat_college[column]) for column in sat_college.select_dtypes(exclude = 'object')}\n",
    "sat_college_std"
   ]
  },
  {
   "cell_type": "markdown",
   "metadata": {},
   "source": [
    "- 25th percentile can be used as the rough gauge of entry requirement. The average and median of entry requirement is 1167 and 1150 respectively.\n",
    "- This means that students with a score of 1150 or above can apply for at leat half of the schools listed."
   ]
  },
  {
   "cell_type": "markdown",
   "metadata": {
    "jp-MarkdownHeadingCollapsed": true,
    "tags": []
   },
   "source": [
    "##### 1. Which colleges are most and least popular, as measured by **number of applicants**?"
   ]
  },
  {
   "cell_type": "code",
   "execution_count": null,
   "metadata": {},
   "outputs": [],
   "source": [
    "#Top 5 in number of applicants\n",
    "top_5_num_of_applicants = sat_college[['school','number_of_applicants']].sort_values(by=['number_of_applicants'], ascending=False).head()\n",
    "top_5_num_of_applicants\n",
    "#Alternatively\n",
    "#sat_college.nlargest(5, columns = 'accepted_applicants')"
   ]
  },
  {
   "cell_type": "code",
   "execution_count": null,
   "metadata": {},
   "outputs": [],
   "source": [
    "#Bottom 5 in number of applicants\n",
    "sat_college[['school','number_of_applicants']].sort_values(by=['number_of_applicants'], ascending=True).head()"
   ]
  },
  {
   "cell_type": "markdown",
   "metadata": {},
   "source": [
    "- University of California is popular among students. The 5 campuses topped in number of applicants.\n",
    "- This can be a reference for students who make decisions based on what is popular among other applicants."
   ]
  },
  {
   "cell_type": "markdown",
   "metadata": {
    "jp-MarkdownHeadingCollapsed": true,
    "tags": []
   },
   "source": [
    "##### 2. Which colleges accept the most and least number of applicants?"
   ]
  },
  {
   "cell_type": "code",
   "execution_count": null,
   "metadata": {},
   "outputs": [],
   "source": [
    "#Top 5 in accepted applicants\n",
    "sat_college[['school','accepted_applicants']].sort_values(by=['accepted_applicants'], ascending=False).head()"
   ]
  },
  {
   "cell_type": "code",
   "execution_count": null,
   "metadata": {},
   "outputs": [],
   "source": [
    "#Bottom 5 in accepted applicants\n",
    "sat_college[['school','accepted_applicants']].sort_values(by=['accepted_applicants'], ascending=True).head()"
   ]
  },
  {
   "cell_type": "code",
   "execution_count": null,
   "metadata": {},
   "outputs": [],
   "source": [
    "#Max number of accepted applicants/average number of accepted applicants\n",
    "sat_college['accepted_applicants'].max()/sat_college['accepted_applicants'].mean()"
   ]
  },
  {
   "cell_type": "markdown",
   "metadata": {},
   "source": [
    "- The largest schools take in more than 30000 applicants per year, which is more than 4 times the average intake. These may be suited for students who look out for larger schools."
   ]
  },
  {
   "cell_type": "markdown",
   "metadata": {
    "jp-MarkdownHeadingCollapsed": true,
    "tags": []
   },
   "source": [
    "##### Summary of Findings"
   ]
  },
  {
   "cell_type": "markdown",
   "metadata": {},
   "source": [
    "**Insights**\n",
    "- The median of entry requirement, as estimated from the 25th percentile, is 1150. Students with a score of 1150 or above can rest assured that they are eligible to apply for at least half of the schools listed.\n",
    "- For students who make decisions with reference to what is popular among other applicants, University of California is a popular choice. The 5 different University of California campuses topped in number of applicants across all colleges.\n",
    "- The largest schools take in more than 30000 applicants per year, which is more than 4 times the average intake. These may be suited for students who look out for larger schools.\n",
    "- Generally, schools with higher entry requirement also have greater number of applicants and lower accpetance rate. Hence, students can gauge the competitiveness of their applications based on their score range.\n"
   ]
  },
  {
   "cell_type": "markdown",
   "metadata": {
    "tags": []
   },
   "source": [
    "### Visualize the Data"
   ]
  },
  {
   "cell_type": "markdown",
   "metadata": {
    "tags": []
   },
   "source": [
    "#### Visualisation for sat_major"
   ]
  },
  {
   "cell_type": "markdown",
   "metadata": {
    "jp-MarkdownHeadingCollapsed": true,
    "tags": []
   },
   "source": [
    "##### Correlation of SAT scores (Heatmap, scatterplot)"
   ]
  },
  {
   "cell_type": "code",
   "execution_count": null,
   "metadata": {},
   "outputs": [],
   "source": [
    "#Correlation Table\n",
    "corr_table_sat_major = sat_major[['total','math','reading_writing']].corr()\n",
    "corr_table_sat_major"
   ]
  },
  {
   "cell_type": "code",
   "execution_count": null,
   "metadata": {},
   "outputs": [],
   "source": [
    "#Heatmap\n",
    "plt.figure(figsize= (10, 9))\n",
    "mask = np.zeros_like(corr_table_sat_major)\n",
    "mask[np.triu_indices_from(mask)] = True\n",
    "with sns.axes_style(\"white\"):\n",
    "    sns.heatmap(corr_table_sat_major, mask = mask, square = True, annot = True,\n",
    "                annot_kws={'fontsize':15},vmin = 0, vmax = 1, linewidths = .5)\n",
    "\n",
    "plt.title ('Correlation Matrix for SAT Scores by Intended Major', fontsize = 20);\n",
    "plt.xlabel('SAT scores',fontsize=20)\n",
    "plt.ylabel('SAT scores',fontsize=20)\n",
    "plt.xticks(fontsize = 15)\n",
    "plt.yticks(fontsize = 15)\n",
    "sns.set(font_scale=2);"
   ]
  },
  {
   "cell_type": "code",
   "execution_count": null,
   "metadata": {},
   "outputs": [],
   "source": [
    "#Math Scores vs Total Scores\n",
    "plt.scatter(x=sat_major['math'], y=sat_major['total'])\n",
    "plt.title('Math Scores vs Total Scores',fontsize=20)\n",
    "plt.xlabel('Math Scores',fontsize=12)\n",
    "plt.ylabel('Total SAT Scores',fontsize=12)\n",
    "plt.xticks(fontsize=12)\n",
    "plt.yticks(fontsize=12);"
   ]
  },
  {
   "cell_type": "code",
   "execution_count": null,
   "metadata": {},
   "outputs": [],
   "source": [
    "#Reading and Writing vs Total Scores\n",
    "plt.scatter(x=sat_major['reading_writing'], y=sat_major['total'])\n",
    "plt.title('Reading and Writing vs Total Scores',fontsize=20)\n",
    "plt.xlabel('Reading and Writing Scores',fontsize=12)\n",
    "plt.ylabel('Total SAT Scores',fontsize=12)\n",
    "plt.xticks(fontsize=12)\n",
    "plt.yticks(fontsize=12);"
   ]
  },
  {
   "cell_type": "markdown",
   "metadata": {},
   "source": [
    "Based on observations from both heatmaps and scatter plots:\n",
    "- Total score is highly correlated with both math scores, and reading and writing scores.\n",
    "- Performances on subsections are highly correlated, as math scores is correlated with reading and writing scores with r=0.89"
   ]
  },
  {
   "cell_type": "markdown",
   "metadata": {
    "jp-MarkdownHeadingCollapsed": true,
    "tags": []
   },
   "source": [
    "##### Distribution of SAT scores (Histograms, Bar plot)"
   ]
  },
  {
   "cell_type": "code",
   "execution_count": null,
   "metadata": {},
   "outputs": [],
   "source": [
    "#Histograms of total scores, reading_writing scores, math scores\n",
    "plt.figure(figsize = (10,8))\n",
    "\n",
    "# total scores\n",
    "ax1 = plt.subplot(3,1,1)\n",
    "ax1.set_title('Distribution of Total Scores', fontsize=20)\n",
    "plt.hist(sat_major['total']);\n",
    "ymin1, ymax1 = ax1.get_ylim()\n",
    "ax1.vlines(x = sat_major['total'].mean(), ymin = ymin1, ymax = ymax1, color = 'orange')\n",
    "plt.xticks(fontsize=15)\n",
    "plt.yticks(fontsize=15)\n",
    "\n",
    "# reading_writing\n",
    "ax2 = plt.subplot(3,1,2)\n",
    "ax2.set_title('Distribution of Reading and Writing Scores', fontsize=20)\n",
    "plt.hist(sat_major['reading_writing']);\n",
    "ymin2, ymax2 = ax2.get_ylim()\n",
    "ax2.vlines(x = sat_major['reading_writing'].mean(), ymin = ymin2, ymax = ymax2, color = 'orange')\n",
    "plt.xticks(fontsize=15)\n",
    "plt.yticks(fontsize=15)\n",
    "\n",
    "# math\n",
    "ax3 = plt.subplot(3,1,3, sharex =ax2)\n",
    "ax3.set_title('Distribution of Math Scores',fontsize=20)\n",
    "plt.hist(sat_major['math']);\n",
    "ymin3, ymax3 = ax3.get_ylim()\n",
    "ax3.vlines(x = sat_major['math'].mean(), ymin = ymin3, ymax = ymax3, color = 'orange')\n",
    "\n",
    "plt.xlabel('Scores', fontsize=20)\n",
    "plt.ylabel('Count', fontsize=20)\n",
    "plt.xticks(fontsize=15)\n",
    "plt.yticks(fontsize=15)\n",
    "plt.tight_layout();"
   ]
  },
  {
   "cell_type": "code",
   "execution_count": null,
   "metadata": {},
   "outputs": [],
   "source": [
    "#Total Scores - Skew and Kurtosis\n",
    "print(skew(sat_major['total'], axis=0, bias=True))\n",
    "print(kurtosis(sat_major['total'], axis=0, bias=True))\n",
    "\n",
    "#Reading and Writing Scores - Skew and Kurtosis\n",
    "print(skew(sat_major['reading_writing'], axis=0, bias=True))\n",
    "print(kurtosis(sat_major['reading_writing'], axis=0, bias=True))\n",
    "\n",
    "#Math Scores - Skew and Kurtosis\n",
    "print(skew(sat_major['math'], axis=0, bias=True))\n",
    "print(kurtosis(sat_major['math'], axis=0, bias=True))"
   ]
  },
  {
   "cell_type": "code",
   "execution_count": null,
   "metadata": {},
   "outputs": [],
   "source": [
    "#Box Plots for Math vs Reading_Writing\n",
    "plt.figure(figsize=(10,6))\n",
    "sns.boxplot(data=sat_major[['math','reading_writing']],width=0.4);\n",
    "\n",
    "plt.title('SAT Scores by Sections',fontsize=20)\n",
    "plt.ylabel('Scores', fontsize=12)\n",
    "plt.xlabel('Sections', fontsize=12)\n",
    "plt.xticks(fontsize = 12)\n",
    "plt.yticks(fontsize = 12);"
   ]
  },
  {
   "cell_type": "code",
   "execution_count": null,
   "metadata": {},
   "outputs": [],
   "source": [
    "#Find the outlier in math score\n",
    "sat_major.sort_values(by='math', ascending=False).head(1)"
   ]
  },
  {
   "cell_type": "markdown",
   "metadata": {},
   "source": [
    "- The distribution of test scores can be said to be approximately normal, as kurtosis and skew were all within 3 and -3.\n",
    "- An outlier is observed for math scores based on box plot. The outlier is Mathematics and Statistics Major for which students had extremely high score in the math section. Presence of this outlier may pull up the average math scores slightly."
   ]
  },
  {
   "cell_type": "markdown",
   "metadata": {
    "jp-MarkdownHeadingCollapsed": true,
    "tags": []
   },
   "source": [
    "##### 1. What major is most popular?"
   ]
  },
  {
   "cell_type": "code",
   "execution_count": null,
   "metadata": {},
   "outputs": [],
   "source": [
    "#Bar plot of number of test_takers, subset the top 5\n",
    "plt.figure(figsize = (8,3))\n",
    "sat_major = sat_major.sort_values('test_takers', ascending=False)\n",
    "\n",
    "sns.barplot(x= sat_major['test_takers'].head(),\n",
    "            y= sat_major['intended_college_major'].head(),\n",
    "            palette = \"flare\")\n",
    "\n",
    "plt.title('Top 5 Most Popular Majors',fontsize=20)\n",
    "plt.xlabel('Number of Test Takers',fontsize=18)\n",
    "plt.ylabel('Intended Majors',fontsize=18)\n",
    "plt.yticks(fontsize=18)\n",
    "plt.xticks(fontsize=18);"
   ]
  },
  {
   "cell_type": "markdown",
   "metadata": {},
   "source": [
    "- The top 5 most popular majors all have more than 100000 test takers."
   ]
  },
  {
   "cell_type": "markdown",
   "metadata": {
    "jp-MarkdownHeadingCollapsed": true,
    "tags": []
   },
   "source": [
    "##### 2. What major has the highest average total scores?"
   ]
  },
  {
   "cell_type": "code",
   "execution_count": null,
   "metadata": {},
   "outputs": [],
   "source": [
    "# Bar plot of total scores, subset the top 5\n",
    "plt.figure(figsize = (8, 3))\n",
    "\n",
    "sat_major = sat_major.sort_values('total', ascending=False)\n",
    "\n",
    "sns.barplot(x= sat_major['total'].head(),\n",
    "            y= sat_major['intended_college_major'].head(),\n",
    "            palette = \"flare\")\n",
    "\n",
    "plt.title('Top 5 SAT Scores by Intended Major',fontsize=20)\n",
    "plt.xlabel('Total SAT Scores',fontsize=18)\n",
    "plt.ylabel('Intended Majors',fontsize=18)\n",
    "plt.yticks(fontsize=18)\n",
    "plt.xticks(fontsize=18);"
   ]
  },
  {
   "cell_type": "markdown",
   "metadata": {},
   "source": [
    "- The top 5 most competitive majors were identified as above."
   ]
  },
  {
   "cell_type": "markdown",
   "metadata": {
    "jp-MarkdownHeadingCollapsed": true,
    "tags": []
   },
   "source": [
    "##### 3. What majors have the highest disparity in section scores (math vs reading and writing)?"
   ]
  },
  {
   "cell_type": "code",
   "execution_count": null,
   "metadata": {},
   "outputs": [],
   "source": [
    "#Bar plots of score disparity, subset only the top 5 and bottom 5\n",
    "plt.figure(figsize = (8, 5))\n",
    "\n",
    "sort_by_score_disparity = sat_major.sort_values('score_disparity', ascending=False)\n",
    "top_and_bottom_5 = pd.concat([sort_by_score_disparity.head(), sort_by_score_disparity.tail()])\n",
    "\n",
    "sns.barplot(x= top_and_bottom_5['score_disparity'],\n",
    "            y= top_and_bottom_5['intended_college_major'],\n",
    "            palette = \"flare\")\n",
    "\n",
    "plt.title('Score Disparity by Intended Major',fontsize=20)\n",
    "plt.xlabel('Math Score - Reading and Wring Score',fontsize=20)\n",
    "plt.ylabel('Intended Majors',fontsize=20)\n",
    "plt.yticks(fontsize=15)\n",
    "plt.xticks(fontsize=15);"
   ]
  },
  {
   "cell_type": "markdown",
   "metadata": {},
   "source": [
    "- Huge disparity is observed in performance in the two sections of SAT.\n",
    "- Students performed much higher on math than reading and writing for the 5 Science subjects.\n",
    "- On the other hands, students performed much higher on reading and writing than math for the 5 Arts subjects."
   ]
  },
  {
   "cell_type": "markdown",
   "metadata": {
    "tags": []
   },
   "source": [
    "#### Visualisation for sat_college"
   ]
  },
  {
   "cell_type": "markdown",
   "metadata": {
    "jp-MarkdownHeadingCollapsed": true,
    "tags": []
   },
   "source": [
    "##### Correlation"
   ]
  },
  {
   "cell_type": "code",
   "execution_count": null,
   "metadata": {},
   "outputs": [],
   "source": [
    "#Correlation Table\n",
    "corr_table_sat_college = sat_college[['number_of_applicants','accept_rate','sat_25th_percentile','accepted_applicants']].corr()\n",
    "corr_table_sat_college"
   ]
  },
  {
   "cell_type": "code",
   "execution_count": null,
   "metadata": {},
   "outputs": [],
   "source": [
    "#Heatmap\n",
    "plt.figure(figsize= (10, 9))\n",
    "mask = np.zeros_like(corr_table_sat_college)\n",
    "mask[np.triu_indices_from(mask)] = True\n",
    "with sns.axes_style(\"white\"):\n",
    "    sns.heatmap(corr_table_sat_college, mask = mask, square = True, annot = True,\n",
    "                annot_kws={'fontsize':15},vmin = 0, vmax = 1, linewidths = .5)\n",
    "\n",
    "plt.title ('Correlation Matrix for SAT Scores by College', fontsize = 20);\n",
    "plt.xlabel('Admission Data',fontsize=20)\n",
    "plt.ylabel('Admission Data',fontsize=20)\n",
    "plt.xticks(fontsize = 15)\n",
    "plt.yticks(fontsize = 15);"
   ]
  },
  {
   "cell_type": "markdown",
   "metadata": {},
   "source": [
    "- Higher entry requirement (25th percentile) is negatively associated with acceptance rate with r = -0.8. The higher the entry requirement is, the lower the acceptance rate.\n",
    "- Number of applicants is positively associated with number of accepted applicants with r=0.72. The more popular schools with higher number of applicants tend to take in more applicants as well."
   ]
  },
  {
   "cell_type": "markdown",
   "metadata": {
    "jp-MarkdownHeadingCollapsed": true,
    "tags": []
   },
   "source": [
    "##### 1. Which colleges are the most popular?"
   ]
  },
  {
   "cell_type": "code",
   "execution_count": null,
   "metadata": {},
   "outputs": [],
   "source": [
    "# Bar plot of number of applicants, subset the top 5\n",
    "plt.figure(figsize = (6,3))\n",
    "sat_college = sat_college.sort_values('number_of_applicants', ascending=False)\n",
    "sns.barplot(x= sat_college['number_of_applicants'].head(),\n",
    "            y= sat_college['school'].head(),\n",
    "            palette = \"flare\")\n",
    "\n",
    "plt.title('Top 5 Most Popular Colleges',fontsize=20)\n",
    "plt.xlabel('Number of Applicants',fontsize=18)\n",
    "plt.ylabel('Schools',fontsize=18)\n",
    "plt.yticks(fontsize=18)\n",
    "plt.xticks(fontsize=18);"
   ]
  },
  {
   "cell_type": "markdown",
   "metadata": {},
   "source": [
    "- The top 5 most popular schools are all within the University of California school system."
   ]
  },
  {
   "cell_type": "markdown",
   "metadata": {
    "jp-MarkdownHeadingCollapsed": true,
    "tags": []
   },
   "source": [
    "##### 2. Which colleges accept the most applicants?"
   ]
  },
  {
   "cell_type": "code",
   "execution_count": null,
   "metadata": {},
   "outputs": [],
   "source": [
    "# Bar plot of number of accepted applicants, subset the top 5\n",
    "plt.figure(figsize = (6,3))\n",
    "sat_college = sat_college.sort_values('accepted_applicants', ascending=False)\n",
    "sns.barplot(x= sat_college['accepted_applicants'].head(),\n",
    "            y= sat_college['school'].head(),\n",
    "            palette = \"flare\")\n",
    "\n",
    "plt.title('Top 5 Colleges with the Highest Intake',fontsize=20)\n",
    "plt.xlabel('Number of Accepted Applicants',fontsize=18)\n",
    "plt.ylabel('Schools',fontsize=18)\n",
    "plt.yticks(fontsize=18)\n",
    "plt.xticks(fontsize=18);"
   ]
  },
  {
   "cell_type": "markdown",
   "metadata": {
    "tags": []
   },
   "source": [
    "## Conclusions and Recommendations"
   ]
  },
  {
   "cell_type": "markdown",
   "metadata": {},
   "source": [
    "**Recommendations on Majors**\n",
    "- 7% of students do not have a preferred major. Average test performance of student without preferred major is the same as the rest.\n",
    "- For students who want to go for popular majors, the top 5 most popular majors are Health Professions, Business, Engineering, Biological and Biomedical Sciences, and Visual and Performing Arts. The 5 majors are pursued after by 56% of test takers.\n",
    "- The most competitive majors have an average SAT scores between 1150 and 1250 (such as Mathematics and Statistics). Students may be able to consider these majors only if they manage to score within this range, minimally.\n",
    "- For students who have shown strength in either math or reading and writing, they can consider majors that suit their strength. Generally, applicants strong in math tend to apply for Science majors, and applicants strong in reading and writing tend to apply for Arts majors."
   ]
  },
  {
   "cell_type": "markdown",
   "metadata": {},
   "source": [
    "**Recommendations on Colleges**\n",
    "- The median of entry requirement, as estimated from the 25th percentile, is 1150. Students with a score of 1150 or above can rest assured that they are eligible to apply for at least half of the schools listed.\n",
    "- For students who want to go for popular colleges, University of California is a popular choice. The 5 different University of California campuses topped in number of applicants across all colleges.\n",
    "- The largest schools take in more than 30000 applicants per year, which is more than 4 times the average intake. Students who look out for larger schools can consider schools with greater intake.\n",
    "- Generally, schools with higher entry requirement also have greater number of applicants and lower accpetance rate. Hence, students can gauge the competitiveness of their applications based on their score range.\n"
   ]
  }
 ],
 "metadata": {
  "anaconda-cloud": {},
  "kernelspec": {
   "display_name": "Python 3 (ipykernel)",
   "language": "python",
   "name": "python3"
  },
  "language_info": {
   "codemirror_mode": {
    "name": "ipython",
    "version": 3
   },
   "file_extension": ".py",
   "mimetype": "text/x-python",
   "name": "python",
   "nbconvert_exporter": "python",
   "pygments_lexer": "ipython3",
   "version": "3.8.13"
  }
 },
 "nbformat": 4,
 "nbformat_minor": 4
}
