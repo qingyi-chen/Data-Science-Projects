{
 "cells": [
  {
   "cell_type": "markdown",
   "metadata": {},
   "source": [
    "<img src=\"http://imgur.com/1ZcRyrc.png\" style=\"float: left; margin: 20px; height: 55px\">\n",
    "\n",
    "# Project 1: Standardized Test Analysis"
   ]
  },
  {
   "cell_type": "markdown",
   "metadata": {
    "tags": []
   },
   "source": [
    "### Problem Statement"
   ]
  },
  {
   "cell_type": "markdown",
   "metadata": {},
   "source": [
    "This project analyzes SAT results for students applying to different majors or colleges. The aim is to provide recommendations for students, especially those who may not have a clear preference on major or college. Hence, the insights are meant to facilitate decision-making processs for students in deciding what majors or colleges to go for."
   ]
  },
  {
   "cell_type": "markdown",
   "metadata": {
    "jp-MarkdownHeadingCollapsed": true,
    "tags": []
   },
   "source": [
    "### Contents:\n",
    "- [Background](#Background)\n",
    "- [Data Import & Cleaning](#Data-Import-and-Cleaning)\n",
    "- [Exploratory Data Analysis](#Exploratory-Data-Analysis)\n",
    "- [Data Visualization](#Visualize-the-Data)\n",
    "- [Conclusions and Recommendations](#Conclusions-and-Recommendations)"
   ]
  },
  {
   "cell_type": "markdown",
   "metadata": {
    "tags": []
   },
   "source": [
    "### Background"
   ]
  },
  {
   "cell_type": "markdown",
   "metadata": {},
   "source": [
    "The SAT and ACT are standardized tests that many colleges and universities in the United States require for their admissions process. This score is used along with other materials such as grade point average (GPA) and essay responses to determine whether or not a potential student will be accepted to the university.\n",
    "\n",
    "The SAT has two sections of the test: Evidence-Based Reading and Writing and Math ([*source*](https://www.princetonreview.com/college/sat-sections)). The ACT has 4 sections: English, Mathematics, Reading, and Science, with an additional optional writing section ([*source*](https://www.act.org/content/act/en/products-and-services/the-act/scores/understanding-your-scores.html)). They have different score ranges, which you can read more about on their websites or additional outside sources (a quick Google search will help you understand the scores for each test):\n",
    "* [SAT](https://collegereadiness.collegeboard.org/sat)\n",
    "* [ACT](https://www.act.org/content/act/en.html)\n",
    "\n",
    "Standardized tests have long been a controversial topic for students, administrators, and legislators. Since the 1940's, an increasing number of colleges have been using scores from sudents' performances on tests like the SAT and the ACT as a measure for college readiness and aptitude ([*source*](https://www.minotdailynews.com/news/local-news/2017/04/a-brief-history-of-the-sat-and-act/)). Supporters of these tests argue that these scores can be used as an objective measure to determine college admittance. Opponents of these tests claim that these tests are not accurate measures of students potential or ability and serve as an inequitable barrier to entry. Lately, more and more schools are opting to drop the SAT/ACT requirement for their Fall 2021 applications ([*read more about this here*](https://www.cnn.com/2020/04/14/us/coronavirus-colleges-sat-act-test-trnd/index.html))."
   ]
  },
  {
   "cell_type": "markdown",
   "metadata": {
    "tags": []
   },
   "source": [
    "### Datasets"
   ]
  },
  {
   "cell_type": "markdown",
   "metadata": {},
   "source": [
    "The datasets used in the analysis were as follows:\n",
    "\n",
    "* [`sat_2019_by_intended_college_major.csv`](./data/sat_2019_by_intended_college_major.csv): 2019 SAT Scores by Intended College Major ([source](https://reports.collegeboard.org/media/pdf/2019-total-group-sat-suite-assessments-annual-report.pdf))\n",
    "* [`sat_act_by_college.csv`](./data/sat_act_by_college.csv): Ranges of Accepted ACT & SAT Student Scores by Colleges ([source](https://www.compassprep.com/college-profiles/))"
   ]
  },
  {
   "cell_type": "markdown",
   "metadata": {
    "tags": []
   },
   "source": [
    "### Outside Research"
   ]
  },
  {
   "cell_type": "markdown",
   "metadata": {},
   "source": [
    "The total SAT score is a number between 400 and 1600. The total score is the sum of the two section scores: Evidence-Based Reading and Writing, and Math. Each of these two section scores has a possible range of 200–800 ([*source*](https://satsuite.collegeboard.org/sat/scores/understanding-scores/how-scores-are-calculated))."
   ]
  },
  {
   "cell_type": "markdown",
   "metadata": {
    "tags": []
   },
   "source": [
    "### Data Dictionary\n"
   ]
  },
  {
   "cell_type": "markdown",
   "metadata": {},
   "source": [
    "\n",
    "* [`sat_2019_by_intended_college_major.csv`](./data/sat_2019_by_intended_college_major.csv): abbreviated as sat_major\n",
    "* [`sat_act_by_college.csv`](./data/sat_act_by_college.csv): abbreviated as sat_college\n",
    "\n",
    "|Feature|Type|Dataset|Description|\n",
    "|---|---|---|---|\n",
    "intended_college_major|string|sat_major|Majors that students intend to take\n",
    "test_takers|float|sat_major|Number of test takers for each major\n",
    "percent|float|sat_major|Percentage of test takers for each major\n",
    "total|integer|sat_major|Total SAT scores\n",
    "reading_writing|integer|sat_major|SAT reading and writing section scores\n",
    "math|integer|sat_major|SAT math section scores\n",
    "score_disparity|integer|sat_major|Difference between math scores and reading and writing scores\n",
    "school|string|sat_college|Name of schools\n",
    "number_of_applicants|integer|sat_college|Number of applicants applying for the school\n",
    "accept_rate|float|sat_college|Percentage of applicants accpeted out of all applicants\n",
    "sat_25th_percentile|float|sat_college|25th percentile of SAT scores\n",
    "accepted_applicants|integer|sat_college|Number of accepted applicants"
   ]
  },
  {
   "cell_type": "markdown",
   "metadata": {
    "tags": []
   },
   "source": [
    "### Data Import and Cleaning"
   ]
  },
  {
   "cell_type": "code",
   "execution_count": 5,
   "metadata": {
    "tags": []
   },
   "outputs": [],
   "source": [
    "#Import libraries\n",
    "import pandas as pd\n",
    "import numpy as np\n",
    "import matplotlib.pyplot as plt\n",
    "import seaborn as sns\n",
    "import re\n",
    "import os\n",
    "from scipy.stats import skew\n",
    "from scipy.stats import kurtosis\n",
    "from scipy import stats"
   ]
  },
  {
   "cell_type": "markdown",
   "metadata": {
    "tags": []
   },
   "source": [
    "#### Data Import"
   ]
  },
  {
   "cell_type": "code",
   "execution_count": 6,
   "metadata": {},
   "outputs": [
    {
     "name": "stdout",
     "output_type": "stream",
     "text": [
      "(38, 6)\n"
     ]
    },
    {
     "data": {
      "text/html": [
       "<div>\n",
       "<style scoped>\n",
       "    .dataframe tbody tr th:only-of-type {\n",
       "        vertical-align: middle;\n",
       "    }\n",
       "\n",
       "    .dataframe tbody tr th {\n",
       "        vertical-align: top;\n",
       "    }\n",
       "\n",
       "    .dataframe thead th {\n",
       "        text-align: right;\n",
       "    }\n",
       "</style>\n",
       "<table border=\"1\" class=\"dataframe\">\n",
       "  <thead>\n",
       "    <tr style=\"text-align: right;\">\n",
       "      <th></th>\n",
       "      <th>IntendedCollegeMajor</th>\n",
       "      <th>TestTakers</th>\n",
       "      <th>Percent</th>\n",
       "      <th>Total</th>\n",
       "      <th>ReadingWriting</th>\n",
       "      <th>Math</th>\n",
       "    </tr>\n",
       "  </thead>\n",
       "  <tbody>\n",
       "    <tr>\n",
       "      <th>0</th>\n",
       "      <td>Agriculture, AgricultureOperations, and Relate...</td>\n",
       "      <td>24,913</td>\n",
       "      <td>1%</td>\n",
       "      <td>977</td>\n",
       "      <td>496</td>\n",
       "      <td>481</td>\n",
       "    </tr>\n",
       "    <tr>\n",
       "      <th>1</th>\n",
       "      <td>Architecture and Related Services</td>\n",
       "      <td>28,988</td>\n",
       "      <td>2%</td>\n",
       "      <td>1047</td>\n",
       "      <td>520</td>\n",
       "      <td>527</td>\n",
       "    </tr>\n",
       "    <tr>\n",
       "      <th>2</th>\n",
       "      <td>Area, Ethnic, Cultural, and Gender Studies</td>\n",
       "      <td>2,629</td>\n",
       "      <td>0%</td>\n",
       "      <td>1040</td>\n",
       "      <td>536</td>\n",
       "      <td>504</td>\n",
       "    </tr>\n",
       "    <tr>\n",
       "      <th>3</th>\n",
       "      <td>Biological and Biomedical Sciences</td>\n",
       "      <td>155,834</td>\n",
       "      <td>8%</td>\n",
       "      <td>1139</td>\n",
       "      <td>572</td>\n",
       "      <td>566</td>\n",
       "    </tr>\n",
       "    <tr>\n",
       "      <th>4</th>\n",
       "      <td>Business, Management, Marketing, and Related S...</td>\n",
       "      <td>221,523</td>\n",
       "      <td>12%</td>\n",
       "      <td>1072</td>\n",
       "      <td>534</td>\n",
       "      <td>537</td>\n",
       "    </tr>\n",
       "  </tbody>\n",
       "</table>\n",
       "</div>"
      ],
      "text/plain": [
       "                                IntendedCollegeMajor TestTakers Percent  \\\n",
       "0  Agriculture, AgricultureOperations, and Relate...     24,913      1%   \n",
       "1                  Architecture and Related Services     28,988      2%   \n",
       "2         Area, Ethnic, Cultural, and Gender Studies      2,629      0%   \n",
       "3                 Biological and Biomedical Sciences    155,834      8%   \n",
       "4  Business, Management, Marketing, and Related S...    221,523     12%   \n",
       "\n",
       "   Total  ReadingWriting  Math  \n",
       "0    977             496   481  \n",
       "1   1047             520   527  \n",
       "2   1040             536   504  \n",
       "3   1139             572   566  \n",
       "4   1072             534   537  "
      ]
     },
     "execution_count": 6,
     "metadata": {},
     "output_type": "execute_result"
    }
   ],
   "source": [
    "#Import 1st dataset: 2019 SAT Scores by Intended College Major\n",
    "sat_major = pd.read_csv('../data/sat_2019_by_intended_college_major.csv')\n",
    "print(sat_major.shape)\n",
    "sat_major.head()"
   ]
  },
  {
   "cell_type": "code",
   "execution_count": 7,
   "metadata": {},
   "outputs": [
    {
     "name": "stdout",
     "output_type": "stream",
     "text": [
      "(416, 8)\n"
     ]
    },
    {
     "data": {
      "text/html": [
       "<div>\n",
       "<style scoped>\n",
       "    .dataframe tbody tr th:only-of-type {\n",
       "        vertical-align: middle;\n",
       "    }\n",
       "\n",
       "    .dataframe tbody tr th {\n",
       "        vertical-align: top;\n",
       "    }\n",
       "\n",
       "    .dataframe thead th {\n",
       "        text-align: right;\n",
       "    }\n",
       "</style>\n",
       "<table border=\"1\" class=\"dataframe\">\n",
       "  <thead>\n",
       "    <tr style=\"text-align: right;\">\n",
       "      <th></th>\n",
       "      <th>School</th>\n",
       "      <th>Test Optional?</th>\n",
       "      <th>Applies to Class Year(s)</th>\n",
       "      <th>Policy Details</th>\n",
       "      <th>Number of Applicants</th>\n",
       "      <th>Accept Rate</th>\n",
       "      <th>SAT Total 25th-75th Percentile</th>\n",
       "      <th>ACT Total 25th-75th Percentile</th>\n",
       "    </tr>\n",
       "  </thead>\n",
       "  <tbody>\n",
       "    <tr>\n",
       "      <th>0</th>\n",
       "      <td>Stanford University</td>\n",
       "      <td>Yes</td>\n",
       "      <td>2021</td>\n",
       "      <td>Stanford has adopted a one-year test optional ...</td>\n",
       "      <td>47452</td>\n",
       "      <td>4.3%</td>\n",
       "      <td>1440-1570</td>\n",
       "      <td>32-35</td>\n",
       "    </tr>\n",
       "    <tr>\n",
       "      <th>1</th>\n",
       "      <td>Harvard College</td>\n",
       "      <td>Yes</td>\n",
       "      <td>2021</td>\n",
       "      <td>Harvard has adopted a one-year test optional p...</td>\n",
       "      <td>42749</td>\n",
       "      <td>4.7%</td>\n",
       "      <td>1460-1580</td>\n",
       "      <td>33-35</td>\n",
       "    </tr>\n",
       "    <tr>\n",
       "      <th>2</th>\n",
       "      <td>Princeton University</td>\n",
       "      <td>Yes</td>\n",
       "      <td>2021</td>\n",
       "      <td>Princeton has adopted a one-year test optional...</td>\n",
       "      <td>35370</td>\n",
       "      <td>5.5%</td>\n",
       "      <td>1440-1570</td>\n",
       "      <td>32-35</td>\n",
       "    </tr>\n",
       "    <tr>\n",
       "      <th>3</th>\n",
       "      <td>Columbia University</td>\n",
       "      <td>Yes</td>\n",
       "      <td>2021</td>\n",
       "      <td>Columbia has adopted a one-year test optional ...</td>\n",
       "      <td>40203</td>\n",
       "      <td>5.5%</td>\n",
       "      <td>1450-1560</td>\n",
       "      <td>33-35</td>\n",
       "    </tr>\n",
       "    <tr>\n",
       "      <th>4</th>\n",
       "      <td>Yale University</td>\n",
       "      <td>Yes</td>\n",
       "      <td>2021</td>\n",
       "      <td>Yale has adopted a one-year test optional poli...</td>\n",
       "      <td>36844</td>\n",
       "      <td>6.1%</td>\n",
       "      <td>1460-1570</td>\n",
       "      <td>33-35</td>\n",
       "    </tr>\n",
       "  </tbody>\n",
       "</table>\n",
       "</div>"
      ],
      "text/plain": [
       "                 School Test Optional? Applies to Class Year(s)  \\\n",
       "0   Stanford University            Yes                     2021   \n",
       "1       Harvard College            Yes                     2021   \n",
       "2  Princeton University            Yes                     2021   \n",
       "3   Columbia University            Yes                     2021   \n",
       "4       Yale University            Yes                     2021   \n",
       "\n",
       "                                      Policy Details  Number of Applicants  \\\n",
       "0  Stanford has adopted a one-year test optional ...                 47452   \n",
       "1  Harvard has adopted a one-year test optional p...                 42749   \n",
       "2  Princeton has adopted a one-year test optional...                 35370   \n",
       "3  Columbia has adopted a one-year test optional ...                 40203   \n",
       "4  Yale has adopted a one-year test optional poli...                 36844   \n",
       "\n",
       "  Accept Rate SAT Total 25th-75th Percentile ACT Total 25th-75th Percentile  \n",
       "0        4.3%                      1440-1570                          32-35  \n",
       "1        4.7%                      1460-1580                          33-35  \n",
       "2        5.5%                      1440-1570                          32-35  \n",
       "3        5.5%                      1450-1560                          33-35  \n",
       "4        6.1%                      1460-1570                          33-35  "
      ]
     },
     "execution_count": 7,
     "metadata": {},
     "output_type": "execute_result"
    }
   ],
   "source": [
    "#Import 2nd dataset: Ranges of Accepted ACT & SAT Student Scores by Colleges\n",
    "sat_college = pd.read_csv('../data/sat_act_by_college.csv')\n",
    "print(sat_college.shape)\n",
    "sat_college.head()"
   ]
  },
  {
   "cell_type": "markdown",
   "metadata": {
    "jp-MarkdownHeadingCollapsed": true,
    "tags": []
   },
   "source": [
    "#### Missing Values"
   ]
  },
  {
   "cell_type": "code",
   "execution_count": 8,
   "metadata": {},
   "outputs": [
    {
     "data": {
      "text/plain": [
       "IntendedCollegeMajor    0\n",
       "TestTakers              0\n",
       "Percent                 0\n",
       "Total                   0\n",
       "ReadingWriting          0\n",
       "Math                    0\n",
       "dtype: int64"
      ]
     },
     "execution_count": 8,
     "metadata": {},
     "output_type": "execute_result"
    }
   ],
   "source": [
    "#Check for missing values in sat_major: 2019 SAT Scores by Intended College Major\n",
    "sat_major.isnull().sum()"
   ]
  },
  {
   "cell_type": "markdown",
   "metadata": {},
   "source": [
    "No missing value is observed in sat_major."
   ]
  },
  {
   "cell_type": "code",
   "execution_count": 9,
   "metadata": {},
   "outputs": [
    {
     "data": {
      "text/plain": [
       "School                             0\n",
       "Test Optional?                     0\n",
       "Applies to Class Year(s)          26\n",
       "Policy Details                     0\n",
       "Number of Applicants               0\n",
       "Accept Rate                        0\n",
       "SAT Total 25th-75th Percentile     0\n",
       "ACT Total 25th-75th Percentile     0\n",
       "dtype: int64"
      ]
     },
     "execution_count": 9,
     "metadata": {},
     "output_type": "execute_result"
    }
   ],
   "source": [
    "#Check for missing values in sat_college: Ranges of Accepted ACT & SAT Student Scores by Colleges\n",
    "sat_college.isnull().sum()"
   ]
  },
  {
   "cell_type": "markdown",
   "metadata": {},
   "source": [
    "6 missing values were observed in the column 'sat_total_25th-75th_percentile'. These 6 observations may be dropped in subsequent steps, because:\n",
    "1. this column will be the main focus of subsequent analysis\n",
    "2. 6 observations only constitutes 1.4% of the 416 observations and hence should not have a huge impact"
   ]
  },
  {
   "cell_type": "markdown",
   "metadata": {
    "jp-MarkdownHeadingCollapsed": true,
    "tags": []
   },
   "source": [
    "#### Check Data Types"
   ]
  },
  {
   "cell_type": "code",
   "execution_count": 10,
   "metadata": {},
   "outputs": [
    {
     "data": {
      "text/plain": [
       "IntendedCollegeMajor    object\n",
       "TestTakers              object\n",
       "Percent                 object\n",
       "Total                    int64\n",
       "ReadingWriting           int64\n",
       "Math                     int64\n",
       "dtype: object"
      ]
     },
     "execution_count": 10,
     "metadata": {},
     "output_type": "execute_result"
    }
   ],
   "source": [
    "#Check for incorrect data types in sat_major\n",
    "sat_major.dtypes"
   ]
  },
  {
   "cell_type": "code",
   "execution_count": 11,
   "metadata": {},
   "outputs": [
    {
     "data": {
      "text/plain": [
       "IntendedCollegeMajor     object\n",
       "TestTakers              float64\n",
       "Percent                 float64\n",
       "Total                     int64\n",
       "ReadingWriting            int64\n",
       "Math                      int64\n",
       "dtype: object"
      ]
     },
     "execution_count": 11,
     "metadata": {},
     "output_type": "execute_result"
    }
   ],
   "source": [
    "#Convert 'Percent' from string to float\n",
    "sat_major['Percent'] = sat_major['Percent'].str.replace('%','').apply(lambda x: float(x)/100)\n",
    "\n",
    "#Convert 'TestTakers' from string to float\n",
    "sat_major['TestTakers'] = sat_major['TestTakers'].str.replace(',','').apply(lambda x:float(x))\n",
    "sat_major.dtypes"
   ]
  },
  {
   "cell_type": "code",
   "execution_count": 12,
   "metadata": {},
   "outputs": [
    {
     "data": {
      "text/plain": [
       "School                            object\n",
       "Test Optional?                    object\n",
       "Applies to Class Year(s)          object\n",
       "Policy Details                    object\n",
       "Number of Applicants               int64\n",
       "Accept Rate                       object\n",
       "SAT Total 25th-75th Percentile    object\n",
       "ACT Total 25th-75th Percentile    object\n",
       "dtype: object"
      ]
     },
     "execution_count": 12,
     "metadata": {},
     "output_type": "execute_result"
    }
   ],
   "source": [
    "#Check for incorrect data types in sat_college\n",
    "sat_college.dtypes"
   ]
  },
  {
   "cell_type": "code",
   "execution_count": 13,
   "metadata": {},
   "outputs": [
    {
     "data": {
      "text/plain": [
       "School                             object\n",
       "Test Optional?                     object\n",
       "Applies to Class Year(s)           object\n",
       "Policy Details                     object\n",
       "Number of Applicants                int64\n",
       "Accept Rate                       float64\n",
       "SAT Total 25th-75th Percentile     object\n",
       "ACT Total 25th-75th Percentile     object\n",
       "dtype: object"
      ]
     },
     "execution_count": 13,
     "metadata": {},
     "output_type": "execute_result"
    }
   ],
   "source": [
    "#Convert 'Accept Rate' to float\n",
    "sat_college['Accept Rate'] = sat_college['Accept Rate'].str.replace('%','').apply(lambda x:float(x)/100)\n",
    "sat_college.dtypes"
   ]
  },
  {
   "cell_type": "code",
   "execution_count": 14,
   "metadata": {},
   "outputs": [
    {
     "name": "stderr",
     "output_type": "stream",
     "text": [
      "/var/folders/t3/8nf6b8z946b831z2hkj3fdkw0000gn/T/ipykernel_61689/783183867.py:5: FutureWarning: The default value of regex will change from True to False in a future version.\n",
      "  sat_college['SAT Total 25th-75th Percentile'] = sat_college['SAT Total 25th-75th Percentile'].str.replace(r'[\\u200b,\\s]','').replace('--','').replace('',np.nan)\n"
     ]
    }
   ],
   "source": [
    "#Clean up the column 'SAT Total 25th-75th Percentile'\n",
    "#1.remove empty space, \\u200b\n",
    "#2.remove --\n",
    "#3.replace empty strings with null value\n",
    "sat_college['SAT Total 25th-75th Percentile'] = sat_college['SAT Total 25th-75th Percentile'].str.replace(r'[\\u200b,\\s]','').replace('--','').replace('',np.nan)"
   ]
  },
  {
   "cell_type": "code",
   "execution_count": 15,
   "metadata": {},
   "outputs": [],
   "source": [
    "#Split 'SAT Total 25th-75th Percentile' into 2 columns\n",
    "sat_college[['SAT 25th Percentile','SAT 75th Percentile']] = sat_college['SAT Total 25th-75th Percentile'].str.split('-',1,expand=True)"
   ]
  },
  {
   "cell_type": "code",
   "execution_count": 16,
   "metadata": {},
   "outputs": [
    {
     "data": {
      "text/plain": [
       "School                             object\n",
       "Test Optional?                     object\n",
       "Applies to Class Year(s)           object\n",
       "Policy Details                     object\n",
       "Number of Applicants                int64\n",
       "Accept Rate                       float64\n",
       "SAT Total 25th-75th Percentile     object\n",
       "ACT Total 25th-75th Percentile     object\n",
       "SAT 25th Percentile               float64\n",
       "SAT 75th Percentile               float64\n",
       "dtype: object"
      ]
     },
     "execution_count": 16,
     "metadata": {},
     "output_type": "execute_result"
    }
   ],
   "source": [
    "#Convert SAT 25th Percentile','SAT 75th Percentile' to float\n",
    "sat_college['SAT 25th Percentile'] = [float(item) for item in sat_college['SAT 25th Percentile']]\n",
    "sat_college['SAT 75th Percentile'] = [float(item) for item in sat_college['SAT 75th Percentile']]\n",
    "sat_college.dtypes"
   ]
  },
  {
   "cell_type": "markdown",
   "metadata": {
    "jp-MarkdownHeadingCollapsed": true,
    "tags": []
   },
   "source": [
    "#### Duplicate Values"
   ]
  },
  {
   "cell_type": "code",
   "execution_count": 17,
   "metadata": {},
   "outputs": [
    {
     "data": {
      "text/plain": [
       "True"
      ]
     },
     "execution_count": 17,
     "metadata": {},
     "output_type": "execute_result"
    }
   ],
   "source": [
    "#Check for duplciate values in sat_major\n",
    "sat_major['IntendedCollegeMajor'].nunique() == len(sat_major)"
   ]
  },
  {
   "cell_type": "code",
   "execution_count": 18,
   "metadata": {},
   "outputs": [
    {
     "data": {
      "text/plain": [
       "True"
      ]
     },
     "execution_count": 18,
     "metadata": {},
     "output_type": "execute_result"
    }
   ],
   "source": [
    "#Check for duplicate values in sat_college\n",
    "sat_college['School'].nunique() == len(sat_college)"
   ]
  },
  {
   "cell_type": "markdown",
   "metadata": {},
   "source": [
    "All rows are distinct and there are no duplicate values."
   ]
  },
  {
   "cell_type": "markdown",
   "metadata": {
    "jp-MarkdownHeadingCollapsed": true,
    "tags": []
   },
   "source": [
    "#### Check Data Range"
   ]
  },
  {
   "cell_type": "code",
   "execution_count": 19,
   "metadata": {},
   "outputs": [
    {
     "data": {
      "text/html": [
       "<div>\n",
       "<style scoped>\n",
       "    .dataframe tbody tr th:only-of-type {\n",
       "        vertical-align: middle;\n",
       "    }\n",
       "\n",
       "    .dataframe tbody tr th {\n",
       "        vertical-align: top;\n",
       "    }\n",
       "\n",
       "    .dataframe thead th {\n",
       "        text-align: right;\n",
       "    }\n",
       "</style>\n",
       "<table border=\"1\" class=\"dataframe\">\n",
       "  <thead>\n",
       "    <tr style=\"text-align: right;\">\n",
       "      <th></th>\n",
       "      <th>TestTakers</th>\n",
       "      <th>Percent</th>\n",
       "      <th>Total</th>\n",
       "      <th>ReadingWriting</th>\n",
       "      <th>Math</th>\n",
       "    </tr>\n",
       "  </thead>\n",
       "  <tbody>\n",
       "    <tr>\n",
       "      <th>count</th>\n",
       "      <td>38.000000</td>\n",
       "      <td>38.000000</td>\n",
       "      <td>38.000000</td>\n",
       "      <td>38.000000</td>\n",
       "      <td>38.000000</td>\n",
       "    </tr>\n",
       "    <tr>\n",
       "      <th>mean</th>\n",
       "      <td>48394.500000</td>\n",
       "      <td>0.025789</td>\n",
       "      <td>1058.500000</td>\n",
       "      <td>535.500000</td>\n",
       "      <td>523.000000</td>\n",
       "    </tr>\n",
       "    <tr>\n",
       "      <th>std</th>\n",
       "      <td>72753.092558</td>\n",
       "      <td>0.039975</td>\n",
       "      <td>82.445969</td>\n",
       "      <td>41.362439</td>\n",
       "      <td>43.386385</td>\n",
       "    </tr>\n",
       "    <tr>\n",
       "      <th>min</th>\n",
       "      <td>283.000000</td>\n",
       "      <td>0.000000</td>\n",
       "      <td>916.000000</td>\n",
       "      <td>458.000000</td>\n",
       "      <td>456.000000</td>\n",
       "    </tr>\n",
       "    <tr>\n",
       "      <th>25%</th>\n",
       "      <td>6611.000000</td>\n",
       "      <td>0.000000</td>\n",
       "      <td>988.250000</td>\n",
       "      <td>501.250000</td>\n",
       "      <td>486.500000</td>\n",
       "    </tr>\n",
       "    <tr>\n",
       "      <th>50%</th>\n",
       "      <td>16370.500000</td>\n",
       "      <td>0.010000</td>\n",
       "      <td>1066.500000</td>\n",
       "      <td>537.000000</td>\n",
       "      <td>527.000000</td>\n",
       "    </tr>\n",
       "    <tr>\n",
       "      <th>75%</th>\n",
       "      <td>60215.750000</td>\n",
       "      <td>0.035000</td>\n",
       "      <td>1115.500000</td>\n",
       "      <td>569.750000</td>\n",
       "      <td>542.250000</td>\n",
       "    </tr>\n",
       "    <tr>\n",
       "      <th>max</th>\n",
       "      <td>331026.000000</td>\n",
       "      <td>0.180000</td>\n",
       "      <td>1242.000000</td>\n",
       "      <td>597.000000</td>\n",
       "      <td>646.000000</td>\n",
       "    </tr>\n",
       "  </tbody>\n",
       "</table>\n",
       "</div>"
      ],
      "text/plain": [
       "          TestTakers    Percent        Total  ReadingWriting        Math\n",
       "count      38.000000  38.000000    38.000000       38.000000   38.000000\n",
       "mean    48394.500000   0.025789  1058.500000      535.500000  523.000000\n",
       "std     72753.092558   0.039975    82.445969       41.362439   43.386385\n",
       "min       283.000000   0.000000   916.000000      458.000000  456.000000\n",
       "25%      6611.000000   0.000000   988.250000      501.250000  486.500000\n",
       "50%     16370.500000   0.010000  1066.500000      537.000000  527.000000\n",
       "75%     60215.750000   0.035000  1115.500000      569.750000  542.250000\n",
       "max    331026.000000   0.180000  1242.000000      597.000000  646.000000"
      ]
     },
     "execution_count": 19,
     "metadata": {},
     "output_type": "execute_result"
    }
   ],
   "source": [
    "#Check data range of sat_major\n",
    "sat_major.describe()"
   ]
  },
  {
   "cell_type": "code",
   "execution_count": 20,
   "metadata": {},
   "outputs": [
    {
     "data": {
      "text/html": [
       "<div>\n",
       "<style scoped>\n",
       "    .dataframe tbody tr th:only-of-type {\n",
       "        vertical-align: middle;\n",
       "    }\n",
       "\n",
       "    .dataframe tbody tr th {\n",
       "        vertical-align: top;\n",
       "    }\n",
       "\n",
       "    .dataframe thead th {\n",
       "        text-align: right;\n",
       "    }\n",
       "</style>\n",
       "<table border=\"1\" class=\"dataframe\">\n",
       "  <thead>\n",
       "    <tr style=\"text-align: right;\">\n",
       "      <th></th>\n",
       "      <th>Number of Applicants</th>\n",
       "      <th>Accept Rate</th>\n",
       "      <th>SAT 25th Percentile</th>\n",
       "      <th>SAT 75th Percentile</th>\n",
       "    </tr>\n",
       "  </thead>\n",
       "  <tbody>\n",
       "    <tr>\n",
       "      <th>count</th>\n",
       "      <td>416.000000</td>\n",
       "      <td>416.000000</td>\n",
       "      <td>410.000000</td>\n",
       "      <td>410.000000</td>\n",
       "    </tr>\n",
       "    <tr>\n",
       "      <th>mean</th>\n",
       "      <td>17481.759615</td>\n",
       "      <td>0.557034</td>\n",
       "      <td>1167.008537</td>\n",
       "      <td>1358.892683</td>\n",
       "    </tr>\n",
       "    <tr>\n",
       "      <th>std</th>\n",
       "      <td>17447.621897</td>\n",
       "      <td>0.242117</td>\n",
       "      <td>129.586121</td>\n",
       "      <td>111.431443</td>\n",
       "    </tr>\n",
       "    <tr>\n",
       "      <th>min</th>\n",
       "      <td>211.000000</td>\n",
       "      <td>0.043000</td>\n",
       "      <td>793.000000</td>\n",
       "      <td>1050.000000</td>\n",
       "    </tr>\n",
       "    <tr>\n",
       "      <th>25%</th>\n",
       "      <td>5313.000000</td>\n",
       "      <td>0.376250</td>\n",
       "      <td>1070.000000</td>\n",
       "      <td>1270.000000</td>\n",
       "    </tr>\n",
       "    <tr>\n",
       "      <th>50%</th>\n",
       "      <td>11622.000000</td>\n",
       "      <td>0.613000</td>\n",
       "      <td>1150.000000</td>\n",
       "      <td>1350.000000</td>\n",
       "    </tr>\n",
       "    <tr>\n",
       "      <th>75%</th>\n",
       "      <td>23599.750000</td>\n",
       "      <td>0.742250</td>\n",
       "      <td>1250.000000</td>\n",
       "      <td>1440.000000</td>\n",
       "    </tr>\n",
       "    <tr>\n",
       "      <th>max</th>\n",
       "      <td>111322.000000</td>\n",
       "      <td>0.999000</td>\n",
       "      <td>1530.000000</td>\n",
       "      <td>1580.000000</td>\n",
       "    </tr>\n",
       "  </tbody>\n",
       "</table>\n",
       "</div>"
      ],
      "text/plain": [
       "       Number of Applicants  Accept Rate  SAT 25th Percentile  \\\n",
       "count            416.000000   416.000000           410.000000   \n",
       "mean           17481.759615     0.557034          1167.008537   \n",
       "std            17447.621897     0.242117           129.586121   \n",
       "min              211.000000     0.043000           793.000000   \n",
       "25%             5313.000000     0.376250          1070.000000   \n",
       "50%            11622.000000     0.613000          1150.000000   \n",
       "75%            23599.750000     0.742250          1250.000000   \n",
       "max           111322.000000     0.999000          1530.000000   \n",
       "\n",
       "       SAT 75th Percentile  \n",
       "count           410.000000  \n",
       "mean           1358.892683  \n",
       "std             111.431443  \n",
       "min            1050.000000  \n",
       "25%            1270.000000  \n",
       "50%            1350.000000  \n",
       "75%            1440.000000  \n",
       "max            1580.000000  "
      ]
     },
     "execution_count": 20,
     "metadata": {},
     "output_type": "execute_result"
    }
   ],
   "source": [
    "#Check data range of sat_college\n",
    "sat_college.describe()"
   ]
  },
  {
   "cell_type": "markdown",
   "metadata": {},
   "source": [
    "Total SAT score is within 1600. \n",
    "Reading and writing score is within 800.\n",
    "Math score is within 800.\n",
    "These scores all fall within the reasonable range and there is no obvious data flaw in these values."
   ]
  },
  {
   "cell_type": "markdown",
   "metadata": {
    "jp-MarkdownHeadingCollapsed": true,
    "tags": []
   },
   "source": [
    "#### Rename Columns"
   ]
  },
  {
   "cell_type": "code",
   "execution_count": 21,
   "metadata": {},
   "outputs": [
    {
     "data": {
      "text/plain": [
       "Index(['IntendedCollegeMajor', 'TestTakers', 'Percent', 'Total',\n",
       "       'ReadingWriting', 'Math'],\n",
       "      dtype='object')"
      ]
     },
     "execution_count": 21,
     "metadata": {},
     "output_type": "execute_result"
    }
   ],
   "source": [
    "#sat_major: before renaming\n",
    "sat_major.columns"
   ]
  },
  {
   "cell_type": "code",
   "execution_count": 22,
   "metadata": {},
   "outputs": [
    {
     "data": {
      "text/plain": [
       "Index(['intended_college_major', 'test_takers', 'percent', 'total',\n",
       "       'reading_writing', 'math'],\n",
       "      dtype='object')"
      ]
     },
     "execution_count": 22,
     "metadata": {},
     "output_type": "execute_result"
    }
   ],
   "source": [
    "#sat_major: after renaming\n",
    "#Convert from Camel Cake to snake_case\n",
    "def camel2snake(name):\n",
    "    return name[0].lower() + re.sub(r'(?!^)[A-Z]', lambda x: '_' + x.group(0).lower(), name[1:])\n",
    "\n",
    "sat_major.columns = sat_major.columns.map(camel2snake)\n",
    "sat_major.columns"
   ]
  },
  {
   "cell_type": "code",
   "execution_count": 23,
   "metadata": {},
   "outputs": [
    {
     "data": {
      "text/plain": [
       "Index(['School', 'Test Optional?', 'Applies to Class Year(s)',\n",
       "       'Policy Details', 'Number of Applicants', 'Accept Rate',\n",
       "       'SAT Total 25th-75th Percentile', 'ACT Total 25th-75th Percentile',\n",
       "       'SAT 25th Percentile', 'SAT 75th Percentile'],\n",
       "      dtype='object')"
      ]
     },
     "execution_count": 23,
     "metadata": {},
     "output_type": "execute_result"
    }
   ],
   "source": [
    "#sat_college: before renaming\n",
    "sat_college.columns"
   ]
  },
  {
   "cell_type": "code",
   "execution_count": 24,
   "metadata": {},
   "outputs": [
    {
     "data": {
      "text/plain": [
       "Index(['school', 'test_optional?', 'applies_to_class_year(s)',\n",
       "       'policy_details', 'number_of_applicants', 'accept_rate',\n",
       "       'sat_total_25th-75th_percentile', 'act_total_25th-75th_percentile',\n",
       "       'sat_25th_percentile', 'sat_75th_percentile'],\n",
       "      dtype='object')"
      ]
     },
     "execution_count": 24,
     "metadata": {},
     "output_type": "execute_result"
    }
   ],
   "source": [
    "#sat_college: after renaming\n",
    "#lowercase all characters\n",
    "#replace space with _\n",
    "sat_college.columns = sat_college.columns.str.lower().str.replace(' ','_')\n",
    "sat_college.columns"
   ]
  },
  {
   "cell_type": "markdown",
   "metadata": {
    "jp-MarkdownHeadingCollapsed": true,
    "tags": []
   },
   "source": [
    "#### Additional Data Transformation"
   ]
  },
  {
   "cell_type": "code",
   "execution_count": 25,
   "metadata": {},
   "outputs": [],
   "source": [
    "#sat_major : add a column 'score_disparity'\n",
    "#score disparity = math - reading_writing\n",
    "sat_major['score_disparity'] = sat_major['math']-sat_major['reading_writing']"
   ]
  },
  {
   "cell_type": "code",
   "execution_count": 26,
   "metadata": {},
   "outputs": [],
   "source": [
    "#sat_college: add a column 'accepted_applicants' for each college\n",
    "#accepted applicants = number of applicants * acceptance rate\n",
    "#round to whole number\n",
    "sat_college['accepted_applicants'] = (sat_college['number_of_applicants']*sat_college['accept_rate']).apply(lambda x:round(x))"
   ]
  },
  {
   "cell_type": "markdown",
   "metadata": {
    "jp-MarkdownHeadingCollapsed": true,
    "tags": []
   },
   "source": [
    "#### Drop Columns/Rows"
   ]
  },
  {
   "cell_type": "code",
   "execution_count": 27,
   "metadata": {},
   "outputs": [
    {
     "name": "stdout",
     "output_type": "stream",
     "text": [
      "(410, 11)\n"
     ]
    }
   ],
   "source": [
    "#sat_college: remove rows with missing values\n",
    "sat_college.dropna(subset=['sat_total_25th-75th_percentile'], inplace=True)\n",
    "print(sat_college.shape)"
   ]
  },
  {
   "cell_type": "code",
   "execution_count": 28,
   "metadata": {},
   "outputs": [],
   "source": [
    "#sat_college: remove unused columns\n",
    "columns_exclude = ['test_optional?','applies_to_class_year(s)','policy_details','sat_total_25th-75th_percentile',\n",
    "                 'act_total_25th-75th_percentile','sat_75th_percentile']\n",
    "sat_college.drop(columns = columns_exclude,inplace=True)"
   ]
  },
  {
   "cell_type": "markdown",
   "metadata": {
    "jp-MarkdownHeadingCollapsed": true,
    "tags": []
   },
   "source": [
    "#### Save Cleaned DataFrame as csv files"
   ]
  },
  {
   "cell_type": "code",
   "execution_count": 29,
   "metadata": {},
   "outputs": [],
   "source": [
    "#Create a folder for output\n",
    "import os\n",
    "if not os.path.exists('output'):\n",
    "    os.makedirs('output')\n",
    "    \n",
    "#Save sat_major\n",
    "sat_major.to_csv('output/sat_major.csv')\n",
    "\n",
    "#Save sat_college\n",
    "sat_college.to_csv('output/sat_college.csv')"
   ]
  },
  {
   "cell_type": "markdown",
   "metadata": {
    "tags": []
   },
   "source": [
    "### Exploratory Data Analysis"
   ]
  },
  {
   "cell_type": "markdown",
   "metadata": {
    "tags": []
   },
   "source": [
    "#### Exploratory analysis for sat_major"
   ]
  },
  {
   "cell_type": "markdown",
   "metadata": {
    "jp-MarkdownHeadingCollapsed": true,
    "tags": []
   },
   "source": [
    "##### Summary statistics"
   ]
  },
  {
   "cell_type": "code",
   "execution_count": 30,
   "metadata": {
    "scrolled": true,
    "tags": []
   },
   "outputs": [
    {
     "data": {
      "text/html": [
       "<div>\n",
       "<style scoped>\n",
       "    .dataframe tbody tr th:only-of-type {\n",
       "        vertical-align: middle;\n",
       "    }\n",
       "\n",
       "    .dataframe tbody tr th {\n",
       "        vertical-align: top;\n",
       "    }\n",
       "\n",
       "    .dataframe thead th {\n",
       "        text-align: right;\n",
       "    }\n",
       "</style>\n",
       "<table border=\"1\" class=\"dataframe\">\n",
       "  <thead>\n",
       "    <tr style=\"text-align: right;\">\n",
       "      <th></th>\n",
       "      <th>test_takers</th>\n",
       "      <th>percent</th>\n",
       "      <th>total</th>\n",
       "      <th>reading_writing</th>\n",
       "      <th>math</th>\n",
       "      <th>score_disparity</th>\n",
       "    </tr>\n",
       "  </thead>\n",
       "  <tbody>\n",
       "    <tr>\n",
       "      <th>count</th>\n",
       "      <td>38.000000</td>\n",
       "      <td>38.000000</td>\n",
       "      <td>38.000000</td>\n",
       "      <td>38.000000</td>\n",
       "      <td>38.000000</td>\n",
       "      <td>38.000000</td>\n",
       "    </tr>\n",
       "    <tr>\n",
       "      <th>mean</th>\n",
       "      <td>48394.500000</td>\n",
       "      <td>0.025789</td>\n",
       "      <td>1058.500000</td>\n",
       "      <td>535.500000</td>\n",
       "      <td>523.000000</td>\n",
       "      <td>-12.500000</td>\n",
       "    </tr>\n",
       "    <tr>\n",
       "      <th>std</th>\n",
       "      <td>72753.092558</td>\n",
       "      <td>0.039975</td>\n",
       "      <td>82.445969</td>\n",
       "      <td>41.362439</td>\n",
       "      <td>43.386385</td>\n",
       "      <td>19.727536</td>\n",
       "    </tr>\n",
       "    <tr>\n",
       "      <th>min</th>\n",
       "      <td>283.000000</td>\n",
       "      <td>0.000000</td>\n",
       "      <td>916.000000</td>\n",
       "      <td>458.000000</td>\n",
       "      <td>456.000000</td>\n",
       "      <td>-52.000000</td>\n",
       "    </tr>\n",
       "    <tr>\n",
       "      <th>25%</th>\n",
       "      <td>6611.000000</td>\n",
       "      <td>0.000000</td>\n",
       "      <td>988.250000</td>\n",
       "      <td>501.250000</td>\n",
       "      <td>486.500000</td>\n",
       "      <td>-25.750000</td>\n",
       "    </tr>\n",
       "    <tr>\n",
       "      <th>50%</th>\n",
       "      <td>16370.500000</td>\n",
       "      <td>0.010000</td>\n",
       "      <td>1066.500000</td>\n",
       "      <td>537.000000</td>\n",
       "      <td>527.000000</td>\n",
       "      <td>-15.000000</td>\n",
       "    </tr>\n",
       "    <tr>\n",
       "      <th>75%</th>\n",
       "      <td>60215.750000</td>\n",
       "      <td>0.035000</td>\n",
       "      <td>1115.500000</td>\n",
       "      <td>569.750000</td>\n",
       "      <td>542.250000</td>\n",
       "      <td>-0.750000</td>\n",
       "    </tr>\n",
       "    <tr>\n",
       "      <th>max</th>\n",
       "      <td>331026.000000</td>\n",
       "      <td>0.180000</td>\n",
       "      <td>1242.000000</td>\n",
       "      <td>597.000000</td>\n",
       "      <td>646.000000</td>\n",
       "      <td>49.000000</td>\n",
       "    </tr>\n",
       "  </tbody>\n",
       "</table>\n",
       "</div>"
      ],
      "text/plain": [
       "         test_takers    percent        total  reading_writing        math  \\\n",
       "count      38.000000  38.000000    38.000000        38.000000   38.000000   \n",
       "mean    48394.500000   0.025789  1058.500000       535.500000  523.000000   \n",
       "std     72753.092558   0.039975    82.445969        41.362439   43.386385   \n",
       "min       283.000000   0.000000   916.000000       458.000000  456.000000   \n",
       "25%      6611.000000   0.000000   988.250000       501.250000  486.500000   \n",
       "50%     16370.500000   0.010000  1066.500000       537.000000  527.000000   \n",
       "75%     60215.750000   0.035000  1115.500000       569.750000  542.250000   \n",
       "max    331026.000000   0.180000  1242.000000       597.000000  646.000000   \n",
       "\n",
       "       score_disparity  \n",
       "count        38.000000  \n",
       "mean        -12.500000  \n",
       "std          19.727536  \n",
       "min         -52.000000  \n",
       "25%         -25.750000  \n",
       "50%         -15.000000  \n",
       "75%          -0.750000  \n",
       "max          49.000000  "
      ]
     },
     "execution_count": 30,
     "metadata": {},
     "output_type": "execute_result"
    }
   ],
   "source": [
    "#Summary statistics\n",
    "sat_major.describe()"
   ]
  },
  {
   "cell_type": "code",
   "execution_count": 31,
   "metadata": {},
   "outputs": [
    {
     "data": {
      "text/html": [
       "<div>\n",
       "<style scoped>\n",
       "    .dataframe tbody tr th:only-of-type {\n",
       "        vertical-align: middle;\n",
       "    }\n",
       "\n",
       "    .dataframe tbody tr th {\n",
       "        vertical-align: top;\n",
       "    }\n",
       "\n",
       "    .dataframe thead th {\n",
       "        text-align: right;\n",
       "    }\n",
       "</style>\n",
       "<table border=\"1\" class=\"dataframe\">\n",
       "  <thead>\n",
       "    <tr style=\"text-align: right;\">\n",
       "      <th></th>\n",
       "      <th>intended_college_major</th>\n",
       "      <th>test_takers</th>\n",
       "      <th>percent</th>\n",
       "      <th>total</th>\n",
       "      <th>reading_writing</th>\n",
       "      <th>math</th>\n",
       "      <th>score_disparity</th>\n",
       "    </tr>\n",
       "  </thead>\n",
       "  <tbody>\n",
       "    <tr>\n",
       "      <th>37</th>\n",
       "      <td>Undecided</td>\n",
       "      <td>126939.0</td>\n",
       "      <td>0.07</td>\n",
       "      <td>1069</td>\n",
       "      <td>538</td>\n",
       "      <td>532</td>\n",
       "      <td>-6</td>\n",
       "    </tr>\n",
       "  </tbody>\n",
       "</table>\n",
       "</div>"
      ],
      "text/plain": [
       "   intended_college_major  test_takers  percent  total  reading_writing  math  \\\n",
       "37              Undecided     126939.0     0.07   1069              538   532   \n",
       "\n",
       "    score_disparity  \n",
       "37               -6  "
      ]
     },
     "execution_count": 31,
     "metadata": {},
     "output_type": "execute_result"
    }
   ],
   "source": [
    "#Statistics of people with undecided major\n",
    "sat_major[sat_major['intended_college_major'] == 'Undecided']"
   ]
  },
  {
   "cell_type": "markdown",
   "metadata": {},
   "source": [
    "- 7% of test-takers have no clear preference on majors.\n",
    "- Test performance of students with no preference on majors looks about the same as the entire student sample."
   ]
  },
  {
   "cell_type": "markdown",
   "metadata": {
    "jp-MarkdownHeadingCollapsed": true,
    "tags": []
   },
   "source": [
    "##### 1. What majors are most and least **popular**?"
   ]
  },
  {
   "cell_type": "code",
   "execution_count": 32,
   "metadata": {},
   "outputs": [
    {
     "data": {
      "text/html": [
       "<div>\n",
       "<style scoped>\n",
       "    .dataframe tbody tr th:only-of-type {\n",
       "        vertical-align: middle;\n",
       "    }\n",
       "\n",
       "    .dataframe tbody tr th {\n",
       "        vertical-align: top;\n",
       "    }\n",
       "\n",
       "    .dataframe thead th {\n",
       "        text-align: right;\n",
       "    }\n",
       "</style>\n",
       "<table border=\"1\" class=\"dataframe\">\n",
       "  <thead>\n",
       "    <tr style=\"text-align: right;\">\n",
       "      <th></th>\n",
       "      <th>intended_college_major</th>\n",
       "      <th>test_takers</th>\n",
       "      <th>percent</th>\n",
       "    </tr>\n",
       "  </thead>\n",
       "  <tbody>\n",
       "    <tr>\n",
       "      <th>14</th>\n",
       "      <td>Health Professions and related Clinical Sciences</td>\n",
       "      <td>331026.0</td>\n",
       "      <td>0.18</td>\n",
       "    </tr>\n",
       "    <tr>\n",
       "      <th>4</th>\n",
       "      <td>Business, Management, Marketing, and Related S...</td>\n",
       "      <td>221523.0</td>\n",
       "      <td>0.12</td>\n",
       "    </tr>\n",
       "    <tr>\n",
       "      <th>9</th>\n",
       "      <td>Engineering</td>\n",
       "      <td>194127.0</td>\n",
       "      <td>0.11</td>\n",
       "    </tr>\n",
       "    <tr>\n",
       "      <th>3</th>\n",
       "      <td>Biological and Biomedical Sciences</td>\n",
       "      <td>155834.0</td>\n",
       "      <td>0.08</td>\n",
       "    </tr>\n",
       "    <tr>\n",
       "      <th>35</th>\n",
       "      <td>Visual and Performing Arts, General</td>\n",
       "      <td>130642.0</td>\n",
       "      <td>0.07</td>\n",
       "    </tr>\n",
       "  </tbody>\n",
       "</table>\n",
       "</div>"
      ],
      "text/plain": [
       "                               intended_college_major  test_takers  percent\n",
       "14   Health Professions and related Clinical Sciences     331026.0     0.18\n",
       "4   Business, Management, Marketing, and Related S...     221523.0     0.12\n",
       "9                                         Engineering     194127.0     0.11\n",
       "3                  Biological and Biomedical Sciences     155834.0     0.08\n",
       "35                Visual and Performing Arts, General     130642.0     0.07"
      ]
     },
     "execution_count": 32,
     "metadata": {},
     "output_type": "execute_result"
    }
   ],
   "source": [
    "#Top 5 in test_takers\n",
    "sat_major[['intended_college_major','test_takers','percent']].sort_values(by=['test_takers'], ascending=False).head()"
   ]
  },
  {
   "cell_type": "code",
   "execution_count": 33,
   "metadata": {},
   "outputs": [
    {
     "data": {
      "text/html": [
       "<div>\n",
       "<style scoped>\n",
       "    .dataframe tbody tr th:only-of-type {\n",
       "        vertical-align: middle;\n",
       "    }\n",
       "\n",
       "    .dataframe tbody tr th {\n",
       "        vertical-align: top;\n",
       "    }\n",
       "\n",
       "    .dataframe thead th {\n",
       "        text-align: right;\n",
       "    }\n",
       "</style>\n",
       "<table border=\"1\" class=\"dataframe\">\n",
       "  <thead>\n",
       "    <tr style=\"text-align: right;\">\n",
       "      <th></th>\n",
       "      <th>intended_college_major</th>\n",
       "      <th>test_takers</th>\n",
       "    </tr>\n",
       "  </thead>\n",
       "  <tbody>\n",
       "    <tr>\n",
       "      <th>18</th>\n",
       "      <td>Library Science/Librarianship</td>\n",
       "      <td>283.0</td>\n",
       "    </tr>\n",
       "    <tr>\n",
       "      <th>28</th>\n",
       "      <td>Precision Production</td>\n",
       "      <td>319.0</td>\n",
       "    </tr>\n",
       "    <tr>\n",
       "      <th>34</th>\n",
       "      <td>Transportation and Materials Moving</td>\n",
       "      <td>1105.0</td>\n",
       "    </tr>\n",
       "    <tr>\n",
       "      <th>33</th>\n",
       "      <td>Theology and Religious Vocations</td>\n",
       "      <td>1991.0</td>\n",
       "    </tr>\n",
       "    <tr>\n",
       "      <th>7</th>\n",
       "      <td>Construction Trades, General</td>\n",
       "      <td>2500.0</td>\n",
       "    </tr>\n",
       "  </tbody>\n",
       "</table>\n",
       "</div>"
      ],
      "text/plain": [
       "                 intended_college_major  test_takers\n",
       "18        Library Science/Librarianship        283.0\n",
       "28                 Precision Production        319.0\n",
       "34  Transportation and Materials Moving       1105.0\n",
       "33     Theology and Religious Vocations       1991.0\n",
       "7          Construction Trades, General       2500.0"
      ]
     },
     "execution_count": 33,
     "metadata": {},
     "output_type": "execute_result"
    }
   ],
   "source": [
    "#Bottom 5 in test_takers\n",
    "sat_major[['intended_college_major','test_takers']].sort_values(by=['test_takers'], ascending=True).head()"
   ]
  },
  {
   "cell_type": "code",
   "execution_count": 34,
   "metadata": {},
   "outputs": [
    {
     "data": {
      "text/plain": [
       "0.56"
      ]
     },
     "execution_count": 34,
     "metadata": {},
     "output_type": "execute_result"
    }
   ],
   "source": [
    "#Percentage of test takers among top 5 most popular majors\n",
    "sat_major.sort_values(by='test_takers', ascending=False).head()['percent'].sum()"
   ]
  },
  {
   "cell_type": "markdown",
   "metadata": {},
   "source": [
    "- The top 5 most popular majors are Health Professions, Business, Engineering, Biological and Biomedical Sciences, and Visual and Performing Arts. \n",
    "- The 5 majors are pursued after by 56% of test takers.\n",
    "- This may be a good reference for students who want to take up a popular major."
   ]
  },
  {
   "cell_type": "markdown",
   "metadata": {
    "jp-MarkdownHeadingCollapsed": true,
    "tags": []
   },
   "source": [
    "##### 2. What majors have the highest and lowest average total scores?"
   ]
  },
  {
   "cell_type": "code",
   "execution_count": 35,
   "metadata": {},
   "outputs": [
    {
     "data": {
      "text/html": [
       "<div>\n",
       "<style scoped>\n",
       "    .dataframe tbody tr th:only-of-type {\n",
       "        vertical-align: middle;\n",
       "    }\n",
       "\n",
       "    .dataframe tbody tr th {\n",
       "        vertical-align: top;\n",
       "    }\n",
       "\n",
       "    .dataframe thead th {\n",
       "        text-align: right;\n",
       "    }\n",
       "</style>\n",
       "<table border=\"1\" class=\"dataframe\">\n",
       "  <thead>\n",
       "    <tr style=\"text-align: right;\">\n",
       "      <th></th>\n",
       "      <th>intended_college_major</th>\n",
       "      <th>total</th>\n",
       "    </tr>\n",
       "  </thead>\n",
       "  <tbody>\n",
       "    <tr>\n",
       "      <th>19</th>\n",
       "      <td>Mathematics and Statistics</td>\n",
       "      <td>1242</td>\n",
       "    </tr>\n",
       "    <tr>\n",
       "      <th>27</th>\n",
       "      <td>Physical Sciences</td>\n",
       "      <td>1203</td>\n",
       "    </tr>\n",
       "    <tr>\n",
       "      <th>32</th>\n",
       "      <td>Social Sciences</td>\n",
       "      <td>1164</td>\n",
       "    </tr>\n",
       "    <tr>\n",
       "      <th>6</th>\n",
       "      <td>Computer and Information Sciences and Support ...</td>\n",
       "      <td>1156</td>\n",
       "    </tr>\n",
       "    <tr>\n",
       "      <th>22</th>\n",
       "      <td>Multi/Interdisciplinary Studies</td>\n",
       "      <td>1155</td>\n",
       "    </tr>\n",
       "  </tbody>\n",
       "</table>\n",
       "</div>"
      ],
      "text/plain": [
       "                               intended_college_major  total\n",
       "19                         Mathematics and Statistics   1242\n",
       "27                                  Physical Sciences   1203\n",
       "32                                    Social Sciences   1164\n",
       "6   Computer and Information Sciences and Support ...   1156\n",
       "22                    Multi/Interdisciplinary Studies   1155"
      ]
     },
     "execution_count": 35,
     "metadata": {},
     "output_type": "execute_result"
    }
   ],
   "source": [
    "#Top 5 in total scores\n",
    "sat_major[['intended_college_major','total']].sort_values(by=['total'], ascending=False).head()"
   ]
  },
  {
   "cell_type": "code",
   "execution_count": 36,
   "metadata": {},
   "outputs": [
    {
     "data": {
      "text/html": [
       "<div>\n",
       "<style scoped>\n",
       "    .dataframe tbody tr th:only-of-type {\n",
       "        vertical-align: middle;\n",
       "    }\n",
       "\n",
       "    .dataframe tbody tr th {\n",
       "        vertical-align: top;\n",
       "    }\n",
       "\n",
       "    .dataframe thead th {\n",
       "        text-align: right;\n",
       "    }\n",
       "</style>\n",
       "<table border=\"1\" class=\"dataframe\">\n",
       "  <thead>\n",
       "    <tr style=\"text-align: right;\">\n",
       "      <th></th>\n",
       "      <th>intended_college_major</th>\n",
       "      <th>total</th>\n",
       "    </tr>\n",
       "  </thead>\n",
       "  <tbody>\n",
       "    <tr>\n",
       "      <th>20</th>\n",
       "      <td>Mechanic and Repair Technologies/Technicians</td>\n",
       "      <td>916</td>\n",
       "    </tr>\n",
       "    <tr>\n",
       "      <th>7</th>\n",
       "      <td>Construction Trades, General</td>\n",
       "      <td>919</td>\n",
       "    </tr>\n",
       "    <tr>\n",
       "      <th>25</th>\n",
       "      <td>Personal and Culinary Services, General</td>\n",
       "      <td>929</td>\n",
       "    </tr>\n",
       "    <tr>\n",
       "      <th>28</th>\n",
       "      <td>Precision Production</td>\n",
       "      <td>932</td>\n",
       "    </tr>\n",
       "    <tr>\n",
       "      <th>12</th>\n",
       "      <td>Family and Consumer Sciences/Human Sciences</td>\n",
       "      <td>953</td>\n",
       "    </tr>\n",
       "  </tbody>\n",
       "</table>\n",
       "</div>"
      ],
      "text/plain": [
       "                          intended_college_major  total\n",
       "20  Mechanic and Repair Technologies/Technicians    916\n",
       "7                   Construction Trades, General    919\n",
       "25       Personal and Culinary Services, General    929\n",
       "28                          Precision Production    932\n",
       "12   Family and Consumer Sciences/Human Sciences    953"
      ]
     },
     "execution_count": 36,
     "metadata": {},
     "output_type": "execute_result"
    }
   ],
   "source": [
    "#Bottom 5 in total scores\n",
    "sat_major[['intended_college_major','total']].sort_values(by=['total'], ascending=True).head()"
   ]
  },
  {
   "cell_type": "markdown",
   "metadata": {},
   "source": [
    "- The top 5 most competitive majors have an average SAT scores between 1150 and 1250.\n",
    "- Students may be able to consider these majors only if they manage to score within this range, minimally."
   ]
  },
  {
   "cell_type": "markdown",
   "metadata": {
    "jp-MarkdownHeadingCollapsed": true,
    "tags": []
   },
   "source": [
    "##### 3. What majors have the highest disparity in section scores (math vs reading and writing)"
   ]
  },
  {
   "cell_type": "code",
   "execution_count": 37,
   "metadata": {},
   "outputs": [
    {
     "data": {
      "text/html": [
       "<div>\n",
       "<style scoped>\n",
       "    .dataframe tbody tr th:only-of-type {\n",
       "        vertical-align: middle;\n",
       "    }\n",
       "\n",
       "    .dataframe tbody tr th {\n",
       "        vertical-align: top;\n",
       "    }\n",
       "\n",
       "    .dataframe thead th {\n",
       "        text-align: right;\n",
       "    }\n",
       "</style>\n",
       "<table border=\"1\" class=\"dataframe\">\n",
       "  <thead>\n",
       "    <tr style=\"text-align: right;\">\n",
       "      <th></th>\n",
       "      <th>intended_college_major</th>\n",
       "      <th>score_disparity</th>\n",
       "    </tr>\n",
       "  </thead>\n",
       "  <tbody>\n",
       "    <tr>\n",
       "      <th>19</th>\n",
       "      <td>Mathematics and Statistics</td>\n",
       "      <td>49</td>\n",
       "    </tr>\n",
       "    <tr>\n",
       "      <th>9</th>\n",
       "      <td>Engineering</td>\n",
       "      <td>22</td>\n",
       "    </tr>\n",
       "    <tr>\n",
       "      <th>10</th>\n",
       "      <td>Engineering Technologies/Technicians</td>\n",
       "      <td>16</td>\n",
       "    </tr>\n",
       "    <tr>\n",
       "      <th>6</th>\n",
       "      <td>Computer and Information Sciences and Support ...</td>\n",
       "      <td>14</td>\n",
       "    </tr>\n",
       "    <tr>\n",
       "      <th>27</th>\n",
       "      <td>Physical Sciences</td>\n",
       "      <td>9</td>\n",
       "    </tr>\n",
       "  </tbody>\n",
       "</table>\n",
       "</div>"
      ],
      "text/plain": [
       "                               intended_college_major  score_disparity\n",
       "19                         Mathematics and Statistics               49\n",
       "9                                         Engineering               22\n",
       "10               Engineering Technologies/Technicians               16\n",
       "6   Computer and Information Sciences and Support ...               14\n",
       "27                                  Physical Sciences                9"
      ]
     },
     "execution_count": 37,
     "metadata": {},
     "output_type": "execute_result"
    }
   ],
   "source": [
    "#Top 5 majors where math score is higher than reading and writing\n",
    "sat_major[['intended_college_major','score_disparity']].sort_values(by=['score_disparity'], ascending=False).head()"
   ]
  },
  {
   "cell_type": "code",
   "execution_count": 38,
   "metadata": {},
   "outputs": [
    {
     "data": {
      "text/html": [
       "<div>\n",
       "<style scoped>\n",
       "    .dataframe tbody tr th:only-of-type {\n",
       "        vertical-align: middle;\n",
       "    }\n",
       "\n",
       "    .dataframe tbody tr th {\n",
       "        vertical-align: top;\n",
       "    }\n",
       "\n",
       "    .dataframe thead th {\n",
       "        text-align: right;\n",
       "    }\n",
       "</style>\n",
       "<table border=\"1\" class=\"dataframe\">\n",
       "  <thead>\n",
       "    <tr style=\"text-align: right;\">\n",
       "      <th></th>\n",
       "      <th>intended_college_major</th>\n",
       "      <th>score_disparity</th>\n",
       "    </tr>\n",
       "  </thead>\n",
       "  <tbody>\n",
       "    <tr>\n",
       "      <th>11</th>\n",
       "      <td>English Language and Literature/Letters</td>\n",
       "      <td>-52</td>\n",
       "    </tr>\n",
       "    <tr>\n",
       "      <th>18</th>\n",
       "      <td>Library Science/Librarianship</td>\n",
       "      <td>-50</td>\n",
       "    </tr>\n",
       "    <tr>\n",
       "      <th>15</th>\n",
       "      <td>History, General</td>\n",
       "      <td>-36</td>\n",
       "    </tr>\n",
       "    <tr>\n",
       "      <th>2</th>\n",
       "      <td>Area, Ethnic, Cultural, and Gender Studies</td>\n",
       "      <td>-32</td>\n",
       "    </tr>\n",
       "    <tr>\n",
       "      <th>5</th>\n",
       "      <td>Communication, Journalism, and Related Programs</td>\n",
       "      <td>-31</td>\n",
       "    </tr>\n",
       "  </tbody>\n",
       "</table>\n",
       "</div>"
      ],
      "text/plain": [
       "                             intended_college_major  score_disparity\n",
       "11          English Language and Literature/Letters              -52\n",
       "18                    Library Science/Librarianship              -50\n",
       "15                                 History, General              -36\n",
       "2        Area, Ethnic, Cultural, and Gender Studies              -32\n",
       "5   Communication, Journalism, and Related Programs              -31"
      ]
     },
     "execution_count": 38,
     "metadata": {},
     "output_type": "execute_result"
    }
   ],
   "source": [
    "#Top 5 majors where reading and writing score is higher than math\n",
    "sat_major[['intended_college_major','score_disparity']].sort_values(by=['score_disparity'], ascending=True).head()"
   ]
  },
  {
   "cell_type": "markdown",
   "metadata": {},
   "source": [
    "- Generally, applicants strong in math tend to apply for Science majors, and applicants strong in reading and writing tend to apply for Arts majors."
   ]
  },
  {
   "cell_type": "markdown",
   "metadata": {
    "jp-MarkdownHeadingCollapsed": true,
    "tags": []
   },
   "source": [
    "##### Summary of Findings"
   ]
  },
  {
   "cell_type": "markdown",
   "metadata": {},
   "source": [
    "**Insights**\n",
    "- 7% of students do not have a preferred major. Average test performance of student without preferred major is the same as the rest.\n",
    "- For students who want to go for popular majors, the top 5 most popular majors are Health Professions, Business, Engineering, Biological and Biomedical Sciences, and Visual and Performing Arts. The 5 majors are pursued after by 56% of test takers.\n",
    "- The most competitive majors have an average SAT scores between 1150 and 1250 (such as Mathematics and Statistics). Students may be able to consider these majors only if they manage to score within this range, minimally.\n",
    "- For students who have shown strength in either math or reading and writing, they can consider majors that suit their strength. Generally, applicants strong in math tend to apply for Science majors, and applicants strong in reading and writing tend to apply for Arts majors.\n"
   ]
  },
  {
   "cell_type": "markdown",
   "metadata": {
    "tags": []
   },
   "source": [
    "#### Exploratory analysis for sat_college"
   ]
  },
  {
   "cell_type": "markdown",
   "metadata": {
    "jp-MarkdownHeadingCollapsed": true,
    "tags": []
   },
   "source": [
    "##### Summary statistics"
   ]
  },
  {
   "cell_type": "code",
   "execution_count": 39,
   "metadata": {},
   "outputs": [
    {
     "data": {
      "text/html": [
       "<div>\n",
       "<style scoped>\n",
       "    .dataframe tbody tr th:only-of-type {\n",
       "        vertical-align: middle;\n",
       "    }\n",
       "\n",
       "    .dataframe tbody tr th {\n",
       "        vertical-align: top;\n",
       "    }\n",
       "\n",
       "    .dataframe thead th {\n",
       "        text-align: right;\n",
       "    }\n",
       "</style>\n",
       "<table border=\"1\" class=\"dataframe\">\n",
       "  <thead>\n",
       "    <tr style=\"text-align: right;\">\n",
       "      <th></th>\n",
       "      <th>number_of_applicants</th>\n",
       "      <th>accept_rate</th>\n",
       "      <th>sat_25th_percentile</th>\n",
       "      <th>accepted_applicants</th>\n",
       "    </tr>\n",
       "  </thead>\n",
       "  <tbody>\n",
       "    <tr>\n",
       "      <th>count</th>\n",
       "      <td>410.000000</td>\n",
       "      <td>410.000000</td>\n",
       "      <td>410.000000</td>\n",
       "      <td>410.000000</td>\n",
       "    </tr>\n",
       "    <tr>\n",
       "      <th>mean</th>\n",
       "      <td>17586.614634</td>\n",
       "      <td>0.553344</td>\n",
       "      <td>1167.008537</td>\n",
       "      <td>8391.990244</td>\n",
       "    </tr>\n",
       "    <tr>\n",
       "      <th>std</th>\n",
       "      <td>17533.678784</td>\n",
       "      <td>0.241454</td>\n",
       "      <td>129.586121</td>\n",
       "      <td>7739.711871</td>\n",
       "    </tr>\n",
       "    <tr>\n",
       "      <th>min</th>\n",
       "      <td>211.000000</td>\n",
       "      <td>0.043000</td>\n",
       "      <td>793.000000</td>\n",
       "      <td>164.000000</td>\n",
       "    </tr>\n",
       "    <tr>\n",
       "      <th>25%</th>\n",
       "      <td>5374.500000</td>\n",
       "      <td>0.368750</td>\n",
       "      <td>1070.000000</td>\n",
       "      <td>2369.500000</td>\n",
       "    </tr>\n",
       "    <tr>\n",
       "      <th>50%</th>\n",
       "      <td>11715.500000</td>\n",
       "      <td>0.609500</td>\n",
       "      <td>1150.000000</td>\n",
       "      <td>5215.000000</td>\n",
       "    </tr>\n",
       "    <tr>\n",
       "      <th>75%</th>\n",
       "      <td>24046.750000</td>\n",
       "      <td>0.741000</td>\n",
       "      <td>1250.000000</td>\n",
       "      <td>13072.250000</td>\n",
       "    </tr>\n",
       "    <tr>\n",
       "      <th>max</th>\n",
       "      <td>111322.000000</td>\n",
       "      <td>0.999000</td>\n",
       "      <td>1530.000000</td>\n",
       "      <td>35304.000000</td>\n",
       "    </tr>\n",
       "  </tbody>\n",
       "</table>\n",
       "</div>"
      ],
      "text/plain": [
       "       number_of_applicants  accept_rate  sat_25th_percentile  \\\n",
       "count            410.000000   410.000000           410.000000   \n",
       "mean           17586.614634     0.553344          1167.008537   \n",
       "std            17533.678784     0.241454           129.586121   \n",
       "min              211.000000     0.043000           793.000000   \n",
       "25%             5374.500000     0.368750          1070.000000   \n",
       "50%            11715.500000     0.609500          1150.000000   \n",
       "75%            24046.750000     0.741000          1250.000000   \n",
       "max           111322.000000     0.999000          1530.000000   \n",
       "\n",
       "       accepted_applicants  \n",
       "count           410.000000  \n",
       "mean           8391.990244  \n",
       "std            7739.711871  \n",
       "min             164.000000  \n",
       "25%            2369.500000  \n",
       "50%            5215.000000  \n",
       "75%           13072.250000  \n",
       "max           35304.000000  "
      ]
     },
     "execution_count": 39,
     "metadata": {},
     "output_type": "execute_result"
    }
   ],
   "source": [
    "#Overall summary statistics\n",
    "sat_college.describe()"
   ]
  },
  {
   "cell_type": "code",
   "execution_count": 40,
   "metadata": {},
   "outputs": [
    {
     "data": {
      "text/plain": [
       "number_of_applicants    11715.5000\n",
       "accept_rate                 0.6095\n",
       "sat_25th_percentile      1150.0000\n",
       "accepted_applicants      5215.0000\n",
       "dtype: float64"
      ]
     },
     "execution_count": 40,
     "metadata": {},
     "output_type": "execute_result"
    }
   ],
   "source": [
    "#Median\n",
    "sat_college.median(axis = 0, numeric_only=True)"
   ]
  },
  {
   "cell_type": "code",
   "execution_count": 41,
   "metadata": {},
   "outputs": [
    {
     "data": {
      "text/plain": [
       "{'number_of_applicants': 17512.283194814878,\n",
       " 'accept_rate': 0.2411598625229498,\n",
       " 'sat_25th_percentile': 129.42799316582017,\n",
       " 'accepted_applicants': 7730.267435496334}"
      ]
     },
     "execution_count": 41,
     "metadata": {},
     "output_type": "execute_result"
    }
   ],
   "source": [
    "#Standard Deviation Using Custom Functions\n",
    "def std (column):\n",
    "    standard_deviation = (np.mean([(item - np.mean(column)) ** 2 for item in column])**0.5)\n",
    "    return standard_deviation\n",
    "\n",
    "sat_college_std = {column:std(sat_college[column]) for column in sat_college.select_dtypes(exclude = 'object')}\n",
    "sat_college_std"
   ]
  },
  {
   "cell_type": "markdown",
   "metadata": {},
   "source": [
    "- 25th percentile can be used as the rough gauge of entry requirement. The average and median of entry requirement is 1167 and 1150 respectively.\n",
    "- This means that students with a score of 1150 or above can apply for at leat half of the schools listed."
   ]
  },
  {
   "cell_type": "markdown",
   "metadata": {
    "jp-MarkdownHeadingCollapsed": true,
    "tags": []
   },
   "source": [
    "##### 1. Which colleges are most and least popular, as measured by **number of applicants**?"
   ]
  },
  {
   "cell_type": "code",
   "execution_count": 42,
   "metadata": {},
   "outputs": [
    {
     "data": {
      "text/html": [
       "<div>\n",
       "<style scoped>\n",
       "    .dataframe tbody tr th:only-of-type {\n",
       "        vertical-align: middle;\n",
       "    }\n",
       "\n",
       "    .dataframe tbody tr th {\n",
       "        vertical-align: top;\n",
       "    }\n",
       "\n",
       "    .dataframe thead th {\n",
       "        text-align: right;\n",
       "    }\n",
       "</style>\n",
       "<table border=\"1\" class=\"dataframe\">\n",
       "  <thead>\n",
       "    <tr style=\"text-align: right;\">\n",
       "      <th></th>\n",
       "      <th>school</th>\n",
       "      <th>number_of_applicants</th>\n",
       "    </tr>\n",
       "  </thead>\n",
       "  <tbody>\n",
       "    <tr>\n",
       "      <th>24</th>\n",
       "      <td>University of California—​Los Angeles</td>\n",
       "      <td>111322</td>\n",
       "    </tr>\n",
       "    <tr>\n",
       "      <th>72</th>\n",
       "      <td>University of California—​San Diego</td>\n",
       "      <td>97901</td>\n",
       "    </tr>\n",
       "    <tr>\n",
       "      <th>60</th>\n",
       "      <td>University of California—​Irvine</td>\n",
       "      <td>95568</td>\n",
       "    </tr>\n",
       "    <tr>\n",
       "      <th>69</th>\n",
       "      <td>University of California—​Santa Barbara</td>\n",
       "      <td>93457</td>\n",
       "    </tr>\n",
       "    <tr>\n",
       "      <th>33</th>\n",
       "      <td>University of California—​Berkeley</td>\n",
       "      <td>89621</td>\n",
       "    </tr>\n",
       "  </tbody>\n",
       "</table>\n",
       "</div>"
      ],
      "text/plain": [
       "                                     school  number_of_applicants\n",
       "24    University of California—​Los Angeles                111322\n",
       "72      University of California—​San Diego                 97901\n",
       "60         University of California—​Irvine                 95568\n",
       "69  University of California—​Santa Barbara                 93457\n",
       "33       University of California—​Berkeley                 89621"
      ]
     },
     "execution_count": 42,
     "metadata": {},
     "output_type": "execute_result"
    }
   ],
   "source": [
    "#Top 5 in number of applicants\n",
    "top_5_num_of_applicants = sat_college[['school','number_of_applicants']].sort_values(by=['number_of_applicants'], ascending=False).head()\n",
    "top_5_num_of_applicants\n",
    "#Alternatively\n",
    "#sat_college.nlargest(5, columns = 'accepted_applicants')"
   ]
  },
  {
   "cell_type": "code",
   "execution_count": 43,
   "metadata": {},
   "outputs": [
    {
     "data": {
      "text/html": [
       "<div>\n",
       "<style scoped>\n",
       "    .dataframe tbody tr th:only-of-type {\n",
       "        vertical-align: middle;\n",
       "    }\n",
       "\n",
       "    .dataframe tbody tr th {\n",
       "        vertical-align: top;\n",
       "    }\n",
       "\n",
       "    .dataframe thead th {\n",
       "        text-align: right;\n",
       "    }\n",
       "</style>\n",
       "<table border=\"1\" class=\"dataframe\">\n",
       "  <thead>\n",
       "    <tr style=\"text-align: right;\">\n",
       "      <th></th>\n",
       "      <th>school</th>\n",
       "      <th>number_of_applicants</th>\n",
       "    </tr>\n",
       "  </thead>\n",
       "  <tbody>\n",
       "    <tr>\n",
       "      <th>410</th>\n",
       "      <td>Thomas Aquinas College</td>\n",
       "      <td>211</td>\n",
       "    </tr>\n",
       "    <tr>\n",
       "      <th>100</th>\n",
       "      <td>Soka University of America</td>\n",
       "      <td>464</td>\n",
       "    </tr>\n",
       "    <tr>\n",
       "      <th>401</th>\n",
       "      <td>Gallaudet University</td>\n",
       "      <td>496</td>\n",
       "    </tr>\n",
       "    <tr>\n",
       "      <th>170</th>\n",
       "      <td>St. John's College Annapolis</td>\n",
       "      <td>913</td>\n",
       "    </tr>\n",
       "    <tr>\n",
       "      <th>367</th>\n",
       "      <td>Mills College</td>\n",
       "      <td>1003</td>\n",
       "    </tr>\n",
       "  </tbody>\n",
       "</table>\n",
       "</div>"
      ],
      "text/plain": [
       "                           school  number_of_applicants\n",
       "410        Thomas Aquinas College                   211\n",
       "100    Soka University of America                   464\n",
       "401          Gallaudet University                   496\n",
       "170  St. John's College Annapolis                   913\n",
       "367                 Mills College                  1003"
      ]
     },
     "execution_count": 43,
     "metadata": {},
     "output_type": "execute_result"
    }
   ],
   "source": [
    "#Bottom 5 in number of applicants\n",
    "sat_college[['school','number_of_applicants']].sort_values(by=['number_of_applicants'], ascending=True).head()"
   ]
  },
  {
   "cell_type": "markdown",
   "metadata": {},
   "source": [
    "- University of California is popular among students. The 5 campuses topped in number of applicants.\n",
    "- This can be a reference for students who make decisions based on what is popular among other applicants."
   ]
  },
  {
   "cell_type": "markdown",
   "metadata": {
    "jp-MarkdownHeadingCollapsed": true,
    "tags": []
   },
   "source": [
    "##### 2. Which colleges accept the most and least number of applicants?"
   ]
  },
  {
   "cell_type": "code",
   "execution_count": 44,
   "metadata": {},
   "outputs": [
    {
     "data": {
      "text/html": [
       "<div>\n",
       "<style scoped>\n",
       "    .dataframe tbody tr th:only-of-type {\n",
       "        vertical-align: middle;\n",
       "    }\n",
       "\n",
       "    .dataframe tbody tr th {\n",
       "        vertical-align: top;\n",
       "    }\n",
       "\n",
       "    .dataframe thead th {\n",
       "        text-align: right;\n",
       "    }\n",
       "</style>\n",
       "<table border=\"1\" class=\"dataframe\">\n",
       "  <thead>\n",
       "    <tr style=\"text-align: right;\">\n",
       "      <th></th>\n",
       "      <th>school</th>\n",
       "      <th>accepted_applicants</th>\n",
       "    </tr>\n",
       "  </thead>\n",
       "  <tbody>\n",
       "    <tr>\n",
       "      <th>135</th>\n",
       "      <td>Pennsylvania State University—​University Park</td>\n",
       "      <td>35304</td>\n",
       "    </tr>\n",
       "    <tr>\n",
       "      <th>360</th>\n",
       "      <td>University of Arizona</td>\n",
       "      <td>34562</td>\n",
       "    </tr>\n",
       "    <tr>\n",
       "      <th>308</th>\n",
       "      <td>Indiana University—​Bloomington</td>\n",
       "      <td>33966</td>\n",
       "    </tr>\n",
       "    <tr>\n",
       "      <th>184</th>\n",
       "      <td>Purdue University—​West Lafayette</td>\n",
       "      <td>32837</td>\n",
       "    </tr>\n",
       "    <tr>\n",
       "      <th>319</th>\n",
       "      <td>University of Colorado—​Boulder</td>\n",
       "      <td>31940</td>\n",
       "    </tr>\n",
       "  </tbody>\n",
       "</table>\n",
       "</div>"
      ],
      "text/plain": [
       "                                             school  accepted_applicants\n",
       "135  Pennsylvania State University—​University Park                35304\n",
       "360                           University of Arizona                34562\n",
       "308                 Indiana University—​Bloomington                33966\n",
       "184               Purdue University—​West Lafayette                32837\n",
       "319                 University of Colorado—​Boulder                31940"
      ]
     },
     "execution_count": 44,
     "metadata": {},
     "output_type": "execute_result"
    }
   ],
   "source": [
    "#Top 5 in accepted applicants\n",
    "sat_college[['school','accepted_applicants']].sort_values(by=['accepted_applicants'], ascending=False).head()"
   ]
  },
  {
   "cell_type": "code",
   "execution_count": 45,
   "metadata": {},
   "outputs": [
    {
     "data": {
      "text/html": [
       "<div>\n",
       "<style scoped>\n",
       "    .dataframe tbody tr th:only-of-type {\n",
       "        vertical-align: middle;\n",
       "    }\n",
       "\n",
       "    .dataframe tbody tr th {\n",
       "        vertical-align: top;\n",
       "    }\n",
       "\n",
       "    .dataframe thead th {\n",
       "        text-align: right;\n",
       "    }\n",
       "</style>\n",
       "<table border=\"1\" class=\"dataframe\">\n",
       "  <thead>\n",
       "    <tr style=\"text-align: right;\">\n",
       "      <th></th>\n",
       "      <th>school</th>\n",
       "      <th>accepted_applicants</th>\n",
       "    </tr>\n",
       "  </thead>\n",
       "  <tbody>\n",
       "    <tr>\n",
       "      <th>410</th>\n",
       "      <td>Thomas Aquinas College</td>\n",
       "      <td>164</td>\n",
       "    </tr>\n",
       "    <tr>\n",
       "      <th>100</th>\n",
       "      <td>Soka University of America</td>\n",
       "      <td>180</td>\n",
       "    </tr>\n",
       "    <tr>\n",
       "      <th>401</th>\n",
       "      <td>Gallaudet University</td>\n",
       "      <td>283</td>\n",
       "    </tr>\n",
       "    <tr>\n",
       "      <th>393</th>\n",
       "      <td>United States Coast Guard Academy</td>\n",
       "      <td>291</td>\n",
       "    </tr>\n",
       "    <tr>\n",
       "      <th>39</th>\n",
       "      <td>The Cooper Union</td>\n",
       "      <td>392</td>\n",
       "    </tr>\n",
       "  </tbody>\n",
       "</table>\n",
       "</div>"
      ],
      "text/plain": [
       "                                school  accepted_applicants\n",
       "410             Thomas Aquinas College                  164\n",
       "100         Soka University of America                  180\n",
       "401               Gallaudet University                  283\n",
       "393  United States Coast Guard Academy                  291\n",
       "39                    The Cooper Union                  392"
      ]
     },
     "execution_count": 45,
     "metadata": {},
     "output_type": "execute_result"
    }
   ],
   "source": [
    "#Bottom 5 in accepted applicants\n",
    "sat_college[['school','accepted_applicants']].sort_values(by=['accepted_applicants'], ascending=True).head()"
   ]
  },
  {
   "cell_type": "code",
   "execution_count": 46,
   "metadata": {},
   "outputs": [
    {
     "data": {
      "text/plain": [
       "4.206868570378956"
      ]
     },
     "execution_count": 46,
     "metadata": {},
     "output_type": "execute_result"
    }
   ],
   "source": [
    "#Max number of accepted applicants/average number of accepted applicants\n",
    "sat_college['accepted_applicants'].max()/sat_college['accepted_applicants'].mean()"
   ]
  },
  {
   "cell_type": "markdown",
   "metadata": {},
   "source": [
    "- The largest schools take in more than 30000 applicants per year, which is more than 4 times the average intake. These may be suited for students who look out for larger schools."
   ]
  },
  {
   "cell_type": "markdown",
   "metadata": {
    "jp-MarkdownHeadingCollapsed": true,
    "tags": []
   },
   "source": [
    "##### Summary of Findings"
   ]
  },
  {
   "cell_type": "markdown",
   "metadata": {},
   "source": [
    "**Insights**\n",
    "- The median of entry requirement, as estimated from the 25th percentile, is 1150. Students with a score of 1150 or above can rest assured that they are eligible to apply for at least half of the schools listed.\n",
    "- For students who make decisions with reference to what is popular among other applicants, University of California is a popular choice. The 5 different University of California campuses topped in number of applicants across all colleges.\n",
    "- The largest schools take in more than 30000 applicants per year, which is more than 4 times the average intake. These may be suited for students who look out for larger schools.\n",
    "- Generally, schools with higher entry requirement also have greater number of applicants and lower accpetance rate. Hence, students can gauge the competitiveness of their applications based on their score range.\n"
   ]
  },
  {
   "cell_type": "markdown",
   "metadata": {
    "tags": []
   },
   "source": [
    "### Visualize the Data"
   ]
  },
  {
   "cell_type": "markdown",
   "metadata": {
    "tags": []
   },
   "source": [
    "#### Visualisation for sat_major"
   ]
  },
  {
   "cell_type": "markdown",
   "metadata": {
    "jp-MarkdownHeadingCollapsed": true,
    "tags": []
   },
   "source": [
    "##### Correlation of SAT scores (Heatmap, scatterplot)"
   ]
  },
  {
   "cell_type": "code",
   "execution_count": 47,
   "metadata": {},
   "outputs": [
    {
     "data": {
      "text/html": [
       "<div>\n",
       "<style scoped>\n",
       "    .dataframe tbody tr th:only-of-type {\n",
       "        vertical-align: middle;\n",
       "    }\n",
       "\n",
       "    .dataframe tbody tr th {\n",
       "        vertical-align: top;\n",
       "    }\n",
       "\n",
       "    .dataframe thead th {\n",
       "        text-align: right;\n",
       "    }\n",
       "</style>\n",
       "<table border=\"1\" class=\"dataframe\">\n",
       "  <thead>\n",
       "    <tr style=\"text-align: right;\">\n",
       "      <th></th>\n",
       "      <th>total</th>\n",
       "      <th>math</th>\n",
       "      <th>reading_writing</th>\n",
       "    </tr>\n",
       "  </thead>\n",
       "  <tbody>\n",
       "    <tr>\n",
       "      <th>total</th>\n",
       "      <td>1.000000</td>\n",
       "      <td>0.973682</td>\n",
       "      <td>0.971867</td>\n",
       "    </tr>\n",
       "    <tr>\n",
       "      <th>math</th>\n",
       "      <td>0.973682</td>\n",
       "      <td>1.000000</td>\n",
       "      <td>0.892710</td>\n",
       "    </tr>\n",
       "    <tr>\n",
       "      <th>reading_writing</th>\n",
       "      <td>0.971867</td>\n",
       "      <td>0.892710</td>\n",
       "      <td>1.000000</td>\n",
       "    </tr>\n",
       "  </tbody>\n",
       "</table>\n",
       "</div>"
      ],
      "text/plain": [
       "                    total      math  reading_writing\n",
       "total            1.000000  0.973682         0.971867\n",
       "math             0.973682  1.000000         0.892710\n",
       "reading_writing  0.971867  0.892710         1.000000"
      ]
     },
     "execution_count": 47,
     "metadata": {},
     "output_type": "execute_result"
    }
   ],
   "source": [
    "#Correlation Table\n",
    "corr_table_sat_major = sat_major[['total','math','reading_writing']].corr()\n",
    "corr_table_sat_major"
   ]
  },
  {
   "cell_type": "code",
   "execution_count": 48,
   "metadata": {},
   "outputs": [
    {
     "data": {
      "image/png": "[encoded data removed]",
      "text/plain": [
       "<Figure size 720x648 with 2 Axes>"
      ]
     },
     "metadata": {
      "needs_background": "light"
     },
     "output_type": "display_data"
    }
   ],
   "source": [
    "#Heatmap\n",
    "plt.figure(figsize= (10, 9))\n",
    "mask = np.zeros_like(corr_table_sat_major)\n",
    "mask[np.triu_indices_from(mask)] = True\n",
    "with sns.axes_style(\"white\"):\n",
    "    sns.heatmap(corr_table_sat_major, mask = mask, square = True, annot = True,\n",
    "                annot_kws={'fontsize':15},vmin = 0, vmax = 1, linewidths = .5)\n",
    "\n",
    "plt.title ('Correlation Matrix for SAT Scores by Intended Major', fontsize = 20);\n",
    "plt.xlabel('SAT scores',fontsize=20)\n",
    "plt.ylabel('SAT scores',fontsize=20)\n",
    "plt.xticks(fontsize = 15)\n",
    "plt.yticks(fontsize = 15)\n",
    "sns.set(font_scale=2);"
   ]
  },
  {
   "cell_type": "code",
   "execution_count": 49,
   "metadata": {},
   "outputs": [
    {
     "data": {
      "image/png": "[encoded data removed]",
      "text/plain": [
       "<Figure size 432x288 with 1 Axes>"
      ]
     },
     "metadata": {},
     "output_type": "display_data"
    }
   ],
   "source": [
    "#Math Scores vs Total Scores\n",
    "plt.scatter(x=sat_major['math'], y=sat_major['total'])\n",
    "plt.title('Math Scores vs Total Scores',fontsize=20)\n",
    "plt.xlabel('Math Scores',fontsize=12)\n",
    "plt.ylabel('Total SAT Scores',fontsize=12)\n",
    "plt.xticks(fontsize=12)\n",
    "plt.yticks(fontsize=12);"
   ]
  },
  {
   "cell_type": "code",
   "execution_count": 50,
   "metadata": {},
   "outputs": [
    {
     "data": {
      "image/png": "[encoded data removed]",
      "text/plain": [
       "<Figure size 432x288 with 1 Axes>"
      ]
     },
     "metadata": {},
     "output_type": "display_data"
    }
   ],
   "source": [
    "#Reading and Writing vs Total Scores\n",
    "plt.scatter(x=sat_major['reading_writing'], y=sat_major['total'])\n",
    "plt.title('Reading and Writing vs Total Scores',fontsize=20)\n",
    "plt.xlabel('Reading and Writing Scores',fontsize=12)\n",
    "plt.ylabel('Total SAT Scores',fontsize=12)\n",
    "plt.xticks(fontsize=12)\n",
    "plt.yticks(fontsize=12);"
   ]
  },
  {
   "cell_type": "markdown",
   "metadata": {},
   "source": [
    "Based on observations from both heatmaps and scatter plots:\n",
    "- Total score is highly correlated with both math scores, and reading and writing scores.\n",
    "- Performances on subsections are highly correlated, as math scores is correlated with reading and writing scores with r=0.89"
   ]
  },
  {
   "cell_type": "markdown",
   "metadata": {
    "jp-MarkdownHeadingCollapsed": true,
    "tags": []
   },
   "source": [
    "##### Distribution of SAT scores (Histograms, Bar plot)"
   ]
  },
  {
   "cell_type": "code",
   "execution_count": 51,
   "metadata": {},
   "outputs": [
    {
     "data": {
      "image/png": "[encoded data removed]",
      "text/plain": [
       "<Figure size 720x576 with 3 Axes>"
      ]
     },
     "metadata": {},
     "output_type": "display_data"
    }
   ],
   "source": [
    "#Histograms of total scores, reading_writing scores, math scores\n",
    "plt.figure(figsize = (10,8))\n",
    "\n",
    "# total scores\n",
    "ax1 = plt.subplot(3,1,1)\n",
    "ax1.set_title('Distribution of Total Scores', fontsize=20)\n",
    "plt.hist(sat_major['total']);\n",
    "ymin1, ymax1 = ax1.get_ylim()\n",
    "ax1.vlines(x = sat_major['total'].mean(), ymin = ymin1, ymax = ymax1, color = 'orange')\n",
    "plt.xticks(fontsize=15)\n",
    "plt.yticks(fontsize=15)\n",
    "\n",
    "# reading_writing\n",
    "ax2 = plt.subplot(3,1,2)\n",
    "ax2.set_title('Distribution of Reading and Writing Scores', fontsize=20)\n",
    "plt.hist(sat_major['reading_writing']);\n",
    "ymin2, ymax2 = ax2.get_ylim()\n",
    "ax2.vlines(x = sat_major['reading_writing'].mean(), ymin = ymin2, ymax = ymax2, color = 'orange')\n",
    "plt.xticks(fontsize=15)\n",
    "plt.yticks(fontsize=15)\n",
    "\n",
    "# math\n",
    "ax3 = plt.subplot(3,1,3, sharex =ax2)\n",
    "ax3.set_title('Distribution of Math Scores',fontsize=20)\n",
    "plt.hist(sat_major['math']);\n",
    "ymin3, ymax3 = ax3.get_ylim()\n",
    "ax3.vlines(x = sat_major['math'].mean(), ymin = ymin3, ymax = ymax3, color = 'orange')\n",
    "\n",
    "plt.xlabel('Scores', fontsize=20)\n",
    "plt.ylabel('Count', fontsize=20)\n",
    "plt.xticks(fontsize=15)\n",
    "plt.yticks(fontsize=15)\n",
    "plt.tight_layout();"
   ]
  },
  {
   "cell_type": "code",
   "execution_count": 52,
   "metadata": {},
   "outputs": [
    {
     "name": "stdout",
     "output_type": "stream",
     "text": [
      "0.001720181362417322\n",
      "-0.7081307082402177\n",
      "-0.29941902921375285\n",
      "-1.0648587970766612\n",
      "0.5428624774046591\n",
      "0.2261234221730999\n"
     ]
    }
   ],
   "source": [
    "#Total Scores - Skew and Kurtosis\n",
    "print(skew(sat_major['total'], axis=0, bias=True))\n",
    "print(kurtosis(sat_major['total'], axis=0, bias=True))\n",
    "\n",
    "#Reading and Writing Scores - Skew and Kurtosis\n",
    "print(skew(sat_major['reading_writing'], axis=0, bias=True))\n",
    "print(kurtosis(sat_major['reading_writing'], axis=0, bias=True))\n",
    "\n",
    "#Math Scores - Skew and Kurtosis\n",
    "print(skew(sat_major['math'], axis=0, bias=True))\n",
    "print(kurtosis(sat_major['math'], axis=0, bias=True))"
   ]
  },
  {
   "cell_type": "code",
   "execution_count": 53,
   "metadata": {},
   "outputs": [
    {
     "data": {
      "image/png": "[encoded data removed]",
      "text/plain": [
       "<Figure size 720x432 with 1 Axes>"
      ]
     },
     "metadata": {},
     "output_type": "display_data"
    }
   ],
   "source": [
    "#Box Plots for Math vs Reading_Writing\n",
    "plt.figure(figsize=(10,6))\n",
    "sns.boxplot(data=sat_major[['math','reading_writing']],width=0.4);\n",
    "\n",
    "plt.title('SAT Scores by Sections',fontsize=20)\n",
    "plt.ylabel('Scores', fontsize=12)\n",
    "plt.xlabel('Sections', fontsize=12)\n",
    "plt.xticks(fontsize = 12)\n",
    "plt.yticks(fontsize = 12);"
   ]
  },
  {
   "cell_type": "code",
   "execution_count": 54,
   "metadata": {},
   "outputs": [
    {
     "data": {
      "text/html": [
       "<div>\n",
       "<style scoped>\n",
       "    .dataframe tbody tr th:only-of-type {\n",
       "        vertical-align: middle;\n",
       "    }\n",
       "\n",
       "    .dataframe tbody tr th {\n",
       "        vertical-align: top;\n",
       "    }\n",
       "\n",
       "    .dataframe thead th {\n",
       "        text-align: right;\n",
       "    }\n",
       "</style>\n",
       "<table border=\"1\" class=\"dataframe\">\n",
       "  <thead>\n",
       "    <tr style=\"text-align: right;\">\n",
       "      <th></th>\n",
       "      <th>intended_college_major</th>\n",
       "      <th>test_takers</th>\n",
       "      <th>percent</th>\n",
       "      <th>total</th>\n",
       "      <th>reading_writing</th>\n",
       "      <th>math</th>\n",
       "      <th>score_disparity</th>\n",
       "    </tr>\n",
       "  </thead>\n",
       "  <tbody>\n",
       "    <tr>\n",
       "      <th>19</th>\n",
       "      <td>Mathematics and Statistics</td>\n",
       "      <td>16508.0</td>\n",
       "      <td>0.01</td>\n",
       "      <td>1242</td>\n",
       "      <td>597</td>\n",
       "      <td>646</td>\n",
       "      <td>49</td>\n",
       "    </tr>\n",
       "  </tbody>\n",
       "</table>\n",
       "</div>"
      ],
      "text/plain": [
       "        intended_college_major  test_takers  percent  total  reading_writing  \\\n",
       "19  Mathematics and Statistics      16508.0     0.01   1242              597   \n",
       "\n",
       "    math  score_disparity  \n",
       "19   646               49  "
      ]
     },
     "execution_count": 54,
     "metadata": {},
     "output_type": "execute_result"
    }
   ],
   "source": [
    "#Find the outlier in math score\n",
    "sat_major.sort_values(by='math', ascending=False).head(1)"
   ]
  },
  {
   "cell_type": "markdown",
   "metadata": {},
   "source": [
    "- The distribution of test scores can be said to be approximately normal, as kurtosis and skew were all within 3 and -3.\n",
    "- An outlier is observed for math scores based on box plot. The outlier is Mathematics and Statistics Major for which students had extremely high score in the math section. Presence of this outlier may pull up the average math scores slightly."
   ]
  },
  {
   "cell_type": "markdown",
   "metadata": {
    "jp-MarkdownHeadingCollapsed": true,
    "tags": []
   },
   "source": [
    "##### 1. What major is most popular?"
   ]
  },
  {
   "cell_type": "code",
   "execution_count": 55,
   "metadata": {},
   "outputs": [
    {
     "data": {
      "image/png": "[encoded data removed]",
      "text/plain": [
       "<Figure size 576x216 with 1 Axes>"
      ]
     },
     "metadata": {},
     "output_type": "display_data"
    }
   ],
   "source": [
    "#Bar plot of number of test_takers, subset the top 5\n",
    "plt.figure(figsize = (8,3))\n",
    "sat_major = sat_major.sort_values('test_takers', ascending=False)\n",
    "\n",
    "sns.barplot(x= sat_major['test_takers'].head(),\n",
    "            y= sat_major['intended_college_major'].head(),\n",
    "            palette = \"flare\")\n",
    "\n",
    "plt.title('Top 5 Most Popular Majors',fontsize=20)\n",
    "plt.xlabel('Number of Test Takers',fontsize=18)\n",
    "plt.ylabel('Intended Majors',fontsize=18)\n",
    "plt.yticks(fontsize=18)\n",
    "plt.xticks(fontsize=18);"
   ]
  },
  {
   "cell_type": "markdown",
   "metadata": {},
   "source": [
    "- The top 5 most popular majors all have more than 100000 test takers."
   ]
  },
  {
   "cell_type": "markdown",
   "metadata": {
    "jp-MarkdownHeadingCollapsed": true,
    "tags": []
   },
   "source": [
    "##### 2. What major has the highest average total scores?"
   ]
  },
  {
   "cell_type": "code",
   "execution_count": 56,
   "metadata": {},
   "outputs": [
    {
     "data": {
      "image/png": "[encoded data removed]",
      "text/plain": [
       "<Figure size 576x216 with 1 Axes>"
      ]
     },
     "metadata": {},
     "output_type": "display_data"
    }
   ],
   "source": [
    "# Bar plot of total scores, subset the top 5\n",
    "plt.figure(figsize = (8, 3))\n",
    "\n",
    "sat_major = sat_major.sort_values('total', ascending=False)\n",
    "\n",
    "sns.barplot(x= sat_major['total'].head(),\n",
    "            y= sat_major['intended_college_major'].head(),\n",
    "            palette = \"flare\")\n",
    "\n",
    "plt.title('Top 5 SAT Scores by Intended Major',fontsize=20)\n",
    "plt.xlabel('Total SAT Scores',fontsize=18)\n",
    "plt.ylabel('Intended Majors',fontsize=18)\n",
    "plt.yticks(fontsize=18)\n",
    "plt.xticks(fontsize=18);"
   ]
  },
  {
   "cell_type": "markdown",
   "metadata": {},
   "source": [
    "- The top 5 most competitive majors were identified as above."
   ]
  },
  {
   "cell_type": "markdown",
   "metadata": {
    "jp-MarkdownHeadingCollapsed": true,
    "tags": []
   },
   "source": [
    "##### 3. What majors have the highest disparity in section scores (math vs reading and writing)?"
   ]
  },
  {
   "cell_type": "code",
   "execution_count": 57,
   "metadata": {},
   "outputs": [
    {
     "data": {
      "image/png": "[encoded data removed]",
      "text/plain": [
       "<Figure size 576x360 with 1 Axes>"
      ]
     },
     "metadata": {},
     "output_type": "display_data"
    }
   ],
   "source": [
    "#Bar plots of score disparity, subset only the top 5 and bottom 5\n",
    "plt.figure(figsize = (8, 5))\n",
    "\n",
    "sort_by_score_disparity = sat_major.sort_values('score_disparity', ascending=False)\n",
    "top_and_bottom_5 = pd.concat([sort_by_score_disparity.head(), sort_by_score_disparity.tail()])\n",
    "\n",
    "sns.barplot(x= top_and_bottom_5['score_disparity'],\n",
    "            y= top_and_bottom_5['intended_college_major'],\n",
    "            palette = \"flare\")\n",
    "\n",
    "plt.title('Score Disparity by Intended Major',fontsize=20)\n",
    "plt.xlabel('Math Score - Reading and Wring Score',fontsize=20)\n",
    "plt.ylabel('Intended Majors',fontsize=20)\n",
    "plt.yticks(fontsize=15)\n",
    "plt.xticks(fontsize=15);"
   ]
  },
  {
   "cell_type": "markdown",
   "metadata": {},
   "source": [
    "- Huge disparity is observed in performance in the two sections of SAT.\n",
    "- Students performed much higher on math than reading and writing for the 5 Science subjects.\n",
    "- On the other hands, students performed much higher on reading and writing than math for the 5 Arts subjects."
   ]
  },
  {
   "cell_type": "markdown",
   "metadata": {
    "tags": []
   },
   "source": [
    "#### Visualisation for sat_college"
   ]
  },
  {
   "cell_type": "markdown",
   "metadata": {
    "jp-MarkdownHeadingCollapsed": true,
    "tags": []
   },
   "source": [
    "##### Correlation"
   ]
  },
  {
   "cell_type": "code",
   "execution_count": 58,
   "metadata": {},
   "outputs": [
    {
     "data": {
      "text/html": [
       "<div>\n",
       "<style scoped>\n",
       "    .dataframe tbody tr th:only-of-type {\n",
       "        vertical-align: middle;\n",
       "    }\n",
       "\n",
       "    .dataframe tbody tr th {\n",
       "        vertical-align: top;\n",
       "    }\n",
       "\n",
       "    .dataframe thead th {\n",
       "        text-align: right;\n",
       "    }\n",
       "</style>\n",
       "<table border=\"1\" class=\"dataframe\">\n",
       "  <thead>\n",
       "    <tr style=\"text-align: right;\">\n",
       "      <th></th>\n",
       "      <th>number_of_applicants</th>\n",
       "      <th>accept_rate</th>\n",
       "      <th>sat_25th_percentile</th>\n",
       "      <th>accepted_applicants</th>\n",
       "    </tr>\n",
       "  </thead>\n",
       "  <tbody>\n",
       "    <tr>\n",
       "      <th>number_of_applicants</th>\n",
       "      <td>1.000000</td>\n",
       "      <td>-0.317165</td>\n",
       "      <td>0.252431</td>\n",
       "      <td>0.716756</td>\n",
       "    </tr>\n",
       "    <tr>\n",
       "      <th>accept_rate</th>\n",
       "      <td>-0.317165</td>\n",
       "      <td>1.000000</td>\n",
       "      <td>-0.798352</td>\n",
       "      <td>0.244406</td>\n",
       "    </tr>\n",
       "    <tr>\n",
       "      <th>sat_25th_percentile</th>\n",
       "      <td>0.252431</td>\n",
       "      <td>-0.798352</td>\n",
       "      <td>1.000000</td>\n",
       "      <td>-0.210035</td>\n",
       "    </tr>\n",
       "    <tr>\n",
       "      <th>accepted_applicants</th>\n",
       "      <td>0.716756</td>\n",
       "      <td>0.244406</td>\n",
       "      <td>-0.210035</td>\n",
       "      <td>1.000000</td>\n",
       "    </tr>\n",
       "  </tbody>\n",
       "</table>\n",
       "</div>"
      ],
      "text/plain": [
       "                      number_of_applicants  accept_rate  sat_25th_percentile  \\\n",
       "number_of_applicants              1.000000    -0.317165             0.252431   \n",
       "accept_rate                      -0.317165     1.000000            -0.798352   \n",
       "sat_25th_percentile               0.252431    -0.798352             1.000000   \n",
       "accepted_applicants               0.716756     0.244406            -0.210035   \n",
       "\n",
       "                      accepted_applicants  \n",
       "number_of_applicants             0.716756  \n",
       "accept_rate                      0.244406  \n",
       "sat_25th_percentile             -0.210035  \n",
       "accepted_applicants              1.000000  "
      ]
     },
     "execution_count": 58,
     "metadata": {},
     "output_type": "execute_result"
    }
   ],
   "source": [
    "#Correlation Table\n",
    "corr_table_sat_college = sat_college[['number_of_applicants','accept_rate','sat_25th_percentile','accepted_applicants']].corr()\n",
    "corr_table_sat_college"
   ]
  },
  {
   "cell_type": "code",
   "execution_count": 59,
   "metadata": {},
   "outputs": [
    {
     "data": {
      "image/png": "[encoded data removed]",
      "text/plain": [
       "<Figure size 720x648 with 2 Axes>"
      ]
     },
     "metadata": {},
     "output_type": "display_data"
    }
   ],
   "source": [
    "#Heatmap\n",
    "plt.figure(figsize= (10, 9))\n",
    "mask = np.zeros_like(corr_table_sat_college)\n",
    "mask[np.triu_indices_from(mask)] = True\n",
    "with sns.axes_style(\"white\"):\n",
    "    sns.heatmap(corr_table_sat_college, mask = mask, square = True, annot = True,\n",
    "                annot_kws={'fontsize':15},vmin = 0, vmax = 1, linewidths = .5)\n",
    "\n",
    "plt.title ('Correlation Matrix for SAT Scores by College', fontsize = 20);\n",
    "plt.xlabel('Admission Data',fontsize=20)\n",
    "plt.ylabel('Admission Data',fontsize=20)\n",
    "plt.xticks(fontsize = 15)\n",
    "plt.yticks(fontsize = 15);"
   ]
  },
  {
   "cell_type": "markdown",
   "metadata": {},
   "source": [
    "- Higher entry requirement (25th percentile) is negatively associated with acceptance rate with r = -0.8. The higher the entry requirement is, the lower the acceptance rate.\n",
    "- Number of applicants is positively associated with number of accepted applicants with r=0.72. The more popular schools with higher number of applicants tend to take in more applicants as well."
   ]
  },
  {
   "cell_type": "markdown",
   "metadata": {
    "jp-MarkdownHeadingCollapsed": true,
    "tags": []
   },
   "source": [
    "##### 1. Which colleges are the most popular?"
   ]
  },
  {
   "cell_type": "code",
   "execution_count": 60,
   "metadata": {},
   "outputs": [
    {
     "data": {
      "image/png": "[encoded data removed]",
      "text/plain": [
       "<Figure size 432x216 with 1 Axes>"
      ]
     },
     "metadata": {},
     "output_type": "display_data"
    }
   ],
   "source": [
    "# Bar plot of number of applicants, subset the top 5\n",
    "plt.figure(figsize = (6,3))\n",
    "sat_college = sat_college.sort_values('number_of_applicants', ascending=False)\n",
    "sns.barplot(x= sat_college['number_of_applicants'].head(),\n",
    "            y= sat_college['school'].head(),\n",
    "            palette = \"flare\")\n",
    "\n",
    "plt.title('Top 5 Most Popular Colleges',fontsize=20)\n",
    "plt.xlabel('Number of Applicants',fontsize=18)\n",
    "plt.ylabel('Schools',fontsize=18)\n",
    "plt.yticks(fontsize=18)\n",
    "plt.xticks(fontsize=18);"
   ]
  },
  {
   "cell_type": "markdown",
   "metadata": {},
   "source": [
    "- The top 5 most popular schools are all within the University of California school system."
   ]
  },
  {
   "cell_type": "markdown",
   "metadata": {
    "jp-MarkdownHeadingCollapsed": true,
    "tags": []
   },
   "source": [
    "##### 2. Which colleges accept the most applicants?"
   ]
  },
  {
   "cell_type": "code",
   "execution_count": 61,
   "metadata": {},
   "outputs": [
    {
     "data": {
      "image/png": "[encoded data removed]",
      "text/plain": [
       "<Figure size 432x216 with 1 Axes>"
      ]
     },
     "metadata": {},
     "output_type": "display_data"
    }
   ],
   "source": [
    "# Bar plot of number of accepted applicants, subset the top 5\n",
    "plt.figure(figsize = (6,3))\n",
    "sat_college = sat_college.sort_values('accepted_applicants', ascending=False)\n",
    "sns.barplot(x= sat_college['accepted_applicants'].head(),\n",
    "            y= sat_college['school'].head(),\n",
    "            palette = \"flare\")\n",
    "\n",
    "plt.title('Top 5 Colleges with the Highest Intake',fontsize=20)\n",
    "plt.xlabel('Number of Accepted Applicants',fontsize=18)\n",
    "plt.ylabel('Schools',fontsize=18)\n",
    "plt.yticks(fontsize=18)\n",
    "plt.xticks(fontsize=18);"
   ]
  },
  {
   "cell_type": "markdown",
   "metadata": {
    "tags": []
   },
   "source": [
    "## Conclusions and Recommendations"
   ]
  },
  {
   "cell_type": "markdown",
   "metadata": {},
   "source": [
    "**Recommendations on Majors**\n",
    "- 7% of students do not have a preferred major. Average test performance of student without preferred major is the same as the rest.\n",
    "- For students who want to go for popular majors, the top 5 most popular majors are Health Professions, Business, Engineering, Biological and Biomedical Sciences, and Visual and Performing Arts. The 5 majors are pursued after by 56% of test takers.\n",
    "- The most competitive majors have an average SAT scores between 1150 and 1250 (such as Mathematics and Statistics). Students may be able to consider these majors only if they manage to score within this range, minimally.\n",
    "- For students who have shown strength in either math or reading and writing, they can consider majors that suit their strength. Generally, applicants strong in math tend to apply for Science majors, and applicants strong in reading and writing tend to apply for Arts majors."
   ]
  },
  {
   "cell_type": "markdown",
   "metadata": {},
   "source": [
    "**Recommendations on Colleges**\n",
    "- The median of entry requirement, as estimated from the 25th percentile, is 1150. Students with a score of 1150 or above can rest assured that they are eligible to apply for at least half of the schools listed.\n",
    "- For students who want to go for popular colleges, University of California is a popular choice. The 5 different University of California campuses topped in number of applicants across all colleges.\n",
    "- The largest schools take in more than 30000 applicants per year, which is more than 4 times the average intake. Students who look out for larger schools can consider schools with greater intake.\n",
    "- Generally, schools with higher entry requirement also have greater number of applicants and lower accpetance rate. Hence, students can gauge the competitiveness of their applications based on their score range.\n"
   ]
  }
 ],
 "metadata": {
  "anaconda-cloud": {},
  "kernelspec": {
   "display_name": "Python 3 (ipykernel)",
   "language": "python",
   "name": "python3"
  },
  "language_info": {
   "codemirror_mode": {
    "name": "ipython",
    "version": 3
   },
   "file_extension": ".py",
   "mimetype": "text/x-python",
   "name": "python",
   "nbconvert_exporter": "python",
   "pygments_lexer": "ipython3",
   "version": "3.8.13"
  }
 },
 "nbformat": 4,
 "nbformat_minor": 4
}
